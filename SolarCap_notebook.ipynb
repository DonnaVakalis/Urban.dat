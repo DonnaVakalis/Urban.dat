{
  "nbformat": 4,
  "nbformat_minor": 0,
  "metadata": {
    "kernelspec": {
      "display_name": "Python 3",
      "language": "python",
      "name": "python3"
    },
    "language_info": {
      "codemirror_mode": {
        "name": "ipython",
        "version": 3
      },
      "file_extension": ".py",
      "mimetype": "text/x-python",
      "name": "python",
      "nbconvert_exporter": "python",
      "pygments_lexer": "ipython3",
      "version": "3.6.3"
    },
    "colab": {
      "name": "Toronto_SolarCap_notebook.ipynb",
      "provenance": [],
      "collapsed_sections": [
        "mKD2Hy5f8BWX"
      ],
      "include_colab_link": true
    }
  },
  "cells": [
    {
      "cell_type": "markdown",
      "metadata": {
        "id": "view-in-github",
        "colab_type": "text"
      },
      "source": [
        "<a href=\"https://colab.research.google.com/github/DonnaVakalis/Urban.dat/blob/master/SolarCap_notebook.ipynb\" target=\"_parent\"><img src=\"https://colab.research.google.com/assets/colab-badge.svg\" alt=\"Open In Colab\"/></a>"
      ]
    },
    {
      "cell_type": "markdown",
      "metadata": {
        "id": "aIq2MoYCwKQZ"
      },
      "source": [
        "## Analyze Toronto's Rooftop Solar Capacity\n",
        "\n",
        " \n",
        "\n",
        "## Table of Contents\n",
        "- [Introduction](#intro)\n",
        "- [Part I - Setup ](#partone)\n",
        "- [Part II - Calculations from scratch ](#parttwo)\n",
        "- [Part III - Comparison with Google EIE](#partthree)\n",
        "\n",
        "\n",
        "<a id='intro'></a>\n",
        "### Introduction\n",
        " \n"
      ]
    },
    {
      "cell_type": "markdown",
      "metadata": {
        "id": "mKD2Hy5f8BWX"
      },
      "source": [
        "<a id='partone'></a>\n",
        "### Part I - Setup"
      ]
    },
    {
      "cell_type": "code",
      "metadata": {
        "id": "8ejm2eFHwKQc",
        "outputId": "3daf1c44-18f7-4a39-db1e-3b1fd42c8be9",
        "colab": {
          "base_uri": "https://localhost:8080/"
        }
      },
      "source": [
        "# import libraries\n",
        "\n",
        "!pip install statsmodels\n",
        "\n",
        "import pandas as pd\n",
        "import numpy as np\n",
        "import random\n",
        "import matplotlib.pyplot as plt\n",
        "import os\n",
        "from google.colab import drive\n",
        "import statsmodels as sm\n",
        "\n",
        "%matplotlib inline\n",
        " "
      ],
      "execution_count": 1,
      "outputs": [
        {
          "output_type": "stream",
          "text": [
            "Requirement already satisfied: statsmodels in /usr/local/lib/python3.6/dist-packages (0.10.2)\n",
            "Requirement already satisfied: scipy>=0.18 in /usr/local/lib/python3.6/dist-packages (from statsmodels) (1.4.1)\n",
            "Requirement already satisfied: numpy>=1.11 in /usr/local/lib/python3.6/dist-packages (from statsmodels) (1.18.5)\n",
            "Requirement already satisfied: patsy>=0.4.0 in /usr/local/lib/python3.6/dist-packages (from statsmodels) (0.5.1)\n",
            "Requirement already satisfied: pandas>=0.19 in /usr/local/lib/python3.6/dist-packages (from statsmodels) (1.1.4)\n",
            "Requirement already satisfied: six in /usr/local/lib/python3.6/dist-packages (from patsy>=0.4.0->statsmodels) (1.15.0)\n",
            "Requirement already satisfied: pytz>=2017.2 in /usr/local/lib/python3.6/dist-packages (from pandas>=0.19->statsmodels) (2018.9)\n",
            "Requirement already satisfied: python-dateutil>=2.7.3 in /usr/local/lib/python3.6/dist-packages (from pandas>=0.19->statsmodels) (2.8.1)\n"
          ],
          "name": "stdout"
        }
      ]
    },
    {
      "cell_type": "code",
      "metadata": {
        "id": "vb6vvGaCCxFc",
        "outputId": "52bc534c-af97-4a12-d024-7456bc3bde1f",
        "colab": {
          "base_uri": "https://localhost:8080/"
        }
      },
      "source": [
        "# Mount Google Drive\n",
        "drive.mount('/content/gdrive')\n",
        "os.chdir(\"/content/gdrive/My Drive/\")"
      ],
      "execution_count": 2,
      "outputs": [
        {
          "output_type": "stream",
          "text": [
            "Mounted at /content/gdrive\n"
          ],
          "name": "stdout"
        }
      ]
    },
    {
      "cell_type": "code",
      "metadata": {
        "id": "Vzgd2STYwKQi"
      },
      "source": [
        "# Load csv files\n",
        "base_dir =  \"/content/gdrive/My Drive/Colab Notebooks/SSG/SolarPV_capacity/\"\n",
        "\n",
        "# all non-residential buildings\n",
        "file = base_dir + \"df_nonRes_footprint.csv\"\n",
        "df1 = pd.read_csv(file)\n",
        "\n",
        "# load all residential buildings\n",
        "file = base_dir + \"df_all_footprint.csv\"\n",
        "df2= pd.read_csv(file) "
      ],
      "execution_count": 3,
      "outputs": []
    },
    {
      "cell_type": "code",
      "metadata": {
        "id": "ExMALTIH-R2T",
        "outputId": "e38caf6c-f4da-47ca-e0eb-5f47c4129459",
        "colab": {
          "base_uri": "https://localhost:8080/",
          "height": 433
        }
      },
      "source": [
        "# Look at dfs, document what needs cleaning & tidying (non-residential)\n",
        "# Do any of the rows have missing values?\n",
        "df1.info()\n",
        "\n",
        "# Look at footprints distribution \n",
        "data= df1['footprint_sf']\n",
        "nbins= 500\n",
        "xmin = 0\n",
        "xmax = 800000\n",
        "plt.hist(data, bins=nbins,range=[xmin,xmax]);"
      ],
      "execution_count": 19,
      "outputs": [
        {
          "output_type": "stream",
          "text": [
            "<class 'pandas.core.frame.DataFrame'>\n",
            "RangeIndex: 4320 entries, 0 to 4319\n",
            "Data columns (total 3 columns):\n",
            " #   Column           Non-Null Count  Dtype  \n",
            "---  ------           --------------  -----  \n",
            " 0   ID_TAZ           4320 non-null   int64  \n",
            " 1   buildingEmpType  4320 non-null   object \n",
            " 2   footprint_sf     4320 non-null   float64\n",
            "dtypes: float64(1), int64(1), object(1)\n",
            "memory usage: 101.4+ KB\n"
          ],
          "name": "stdout"
        },
        {
          "output_type": "display_data",
          "data": {
            "image/png": "[encoded data removed]",
            "text/plain": [
              "<Figure size 432x288 with 1 Axes>"
            ]
          },
          "metadata": {
            "tags": [],
            "needs_background": "light"
          }
        }
      ]
    },
    {
      "cell_type": "code",
      "metadata": {
        "id": "04boPilnHLRU",
        "outputId": "f8858234-c35c-416d-e234-aced18992cd5",
        "colab": {
          "base_uri": "https://localhost:8080/",
          "height": 466
        }
      },
      "source": [
        "# Look at dfs, document what needs cleaning & tidying (residential)\n",
        "df2.info()\n",
        "\n",
        "# Look at footprints distribution \n",
        "data= df2['bsmtArea_sf']\n",
        "nbins= 500\n",
        "xmin = 0\n",
        "xmax = 800000\n",
        "plt.hist(data, bins=nbins,range=[xmin,xmax]);\n",
        "\n",
        "# Mean estimated roof area (using bsmtArea_sf)\n",
        "mu_res = df1['footprint_sf'].mean()\n",
        "print('Mean estimated roof area of residence is ',mu_res,'.')"
      ],
      "execution_count": 27,
      "outputs": [
        {
          "output_type": "stream",
          "text": [
            "<class 'pandas.core.frame.DataFrame'>\n",
            "RangeIndex: 16934 entries, 0 to 16933\n",
            "Data columns (total 4 columns):\n",
            " #   Column          Non-Null Count  Dtype  \n",
            "---  ------          --------------  -----  \n",
            " 0   ID_TAZ          16934 non-null  int64  \n",
            " 1   buildingClass   16934 non-null  object \n",
            " 2   yearbuiltClass  16934 non-null  int64  \n",
            " 3   bsmtArea_sf     16934 non-null  float64\n",
            "dtypes: float64(1), int64(2), object(1)\n",
            "memory usage: 529.3+ KB\n",
            "Mean estimated roof area of residence is  97735.65820047107 .\n"
          ],
          "name": "stdout"
        },
        {
          "output_type": "display_data",
          "data": {
            "image/png": "[encoded data removed]",
            "text/plain": [
              "<Figure size 432x288 with 1 Axes>"
            ]
          },
          "metadata": {
            "tags": [],
            "needs_background": "light"
          }
        }
      ]
    },
    {
      "cell_type": "markdown",
      "metadata": {
        "id": "JgsDLKpNez8u"
      },
      "source": [
        "Cleaning Notes:\n",
        "- Pretty clean (not surprising given it was output from model)\n",
        "- Based on the magnitude of the floor areas 'bsmtArea_sf' column , these are not individual buildings and for now don't know the underlying count of buildings that have been aggregated into the number in ... e.g., so can't subtract the perimeter or check for minimum indivisual size as per EIE method\n"
      ]
    },
    {
      "cell_type": "markdown",
      "metadata": {
        "id": "Be83QEaByEna"
      },
      "source": [
        "<a id='parttwo></a>\n",
        "### Part II - SSG Calculations\n",
        "\n",
        "Assumptions:\n",
        "- Residential 8% of rooftops are flat/ 92% pitched\n",
        "- Commerical 63% of rooftops are flat / 37% pitched\n",
        "- For pitched: still use basement/footprint as raw 'area' of roof surface \n",
        "- Don't have numbers of buildings, so no median\n",
        "\n",
        "Space & obstacles:\n",
        "- Flat roofs 65% are unshaded \n",
        "- Pitched roofs are 58.5% unshaded \n",
        "\n",
        "Installation size: \n",
        "- no constraints\n",
        "\n",
        "Sunlight: \n",
        "- 110 W/m2 for flat  \n",
        "- 135 W/m2 for pitched \n",
        "\n",
        "Annual Potential:\n",
        "-  1153 kwH / kW PV installed (data point for south-facing, tilt= latitutde -15deg but applied to all)\n",
        "\n",
        "Other:\n",
        "- Use an efficiency performance factor of 75% to account for losses (e.g., climatic factors, inverter, conversion losses...)\n"
      ]
    },
    {
      "cell_type": "code",
      "metadata": {
        "id": "VV4ypMOT0--Z"
      },
      "source": [
        "# Set Assumptions as named variables\n",
        "RES_PRCT_FLAT = 0.08\n",
        "RES_PRCT_PITCH = 1-RES_PRCT_FLAT \n",
        "\n",
        "COMM_PRCT_FLAT = 0.63\n",
        "COMM_PRCT_PITCH = 1 - COMM_PRCT_FLAT\n",
        "\n",
        "FLAT_PRCT_UNSHADED = 0.65\n",
        "PITCH_PRCT_UNSHADED = 0.585\n",
        "\n",
        "FLAT_CAP = 110\n",
        "PITCH_CAP =135\n",
        "\n",
        "EFF_FACTOR = 0.75"
      ],
      "execution_count": 37,
      "outputs": []
    },
    {
      "cell_type": "markdown",
      "metadata": {
        "id": "J_C1RddcuQhi"
      },
      "source": [
        "PART IIA - SSG RESIDENTIAL"
      ]
    },
    {
      "cell_type": "code",
      "metadata": {
        "id": "Ms-ENuUmwKQx",
        "outputId": "9efe5cd4-71f4-4958-e887-e34a98c19e05",
        "colab": {
          "base_uri": "https://localhost:8080/"
        }
      },
      "source": [
        "# Total Residential Roof Space (in square meters)\n",
        "res_total = df1['footprint_sf'].sum()/10.763910417  #convert square feet to square meters\n",
        "res_flat = res_total*RES_PRCT_FLAT  # see assumptions about percent of residential that are flat versus pitched\n",
        "res_pitched = res_total*RES_PRCT_PITCH\n",
        "\n",
        "# Total Residential Roof Unshaded\n",
        "res_unshaded =  res_flat*FLAT_PRCT_UNSHADED + res_pitched*PITCH_PRCT_UNSHADED #see assumptions about unshaded area for flat versus pitched\n",
        "\n",
        "# Total Residential Capacity (in Watts)\n",
        "res_capacity = res_flat*FLAT_PRCT_UNSHADED*FLAT_CAP + res_pitched*PITCH_PRCT_UNSHADED*PITCH_CAP  # 110 Watts/m2 eligible flat and 135 W/m2 pitched\n",
        "\n",
        "# Total Residential Annual Generation (in kWh)\n",
        "res_gen = res_capacity*EFF_FACTOR*1153 #1153 kWh per KW installed PV)\n",
        "\n",
        "print('Total Residential Annual Generation Potential is',round(res_gen/(10e3)),'MegaWatt-hours') "
      ],
      "execution_count": 46,
      "outputs": [
        {
          "output_type": "stream",
          "text": [
            "Total Residential Annual Generation Potential is 265855666.0 MegaWatt-hours\n"
          ],
          "name": "stdout"
        }
      ]
    },
    {
      "cell_type": "markdown",
      "metadata": {
        "id": "BKgHJ5Zv50mL"
      },
      "source": [
        "PART IIB - SSG NON-RES or COMMERCIAL"
      ]
    },
    {
      "cell_type": "code",
      "metadata": {
        "id": "xiOdySpF5qeA",
        "outputId": "5db2d447-1a43-4f61-cc90-215b0a98d89d",
        "colab": {
          "base_uri": "https://localhost:8080/"
        }
      },
      "source": [
        "# Total Commercial Roof Space (in square meters)\n",
        "comm_total = df2['bsmtArea_sf'].sum()/10.763910417  #convert square feet to square meters\n",
        "comm_flat = comm_total*COMM_PRCT_FLAT  # see assumptions about percent of residential that are flat versus pitched\n",
        "comm_pitched = comm_total*COMM_PRCT_PITCH\n",
        "\n",
        "# Total Residential Roof Unshaded\n",
        "comm_unshaded =  comm_flat*FLAT_PRCT_UNSHADED + comm_pitched*PITCH_PRCT_UNSHADED #see assumptions about unshaded area for flat versus pitched\n",
        "\n",
        "# Total Residential Capacity (in Watts)\n",
        "comm_capacity = comm_flat*FLAT_PRCT_UNSHADED*FLAT_CAP + comm_pitched*PITCH_PRCT_UNSHADED*PITCH_CAP  # 110 Watts/m2 eligible flat and 135 W/m2 pitched\n",
        "\n",
        "# Total Residential Annual Generation (in kWh)\n",
        "comm_gen = comm_capacity*EFF_FACTOR*1153 #1153 kWh per KW installed PV)\n",
        "\n",
        "print('Total Commerical Annual Generation Potential is',round(comm_gen/(10e3)),'MegaWatt-hours') "
      ],
      "execution_count": 47,
      "outputs": [
        {
          "output_type": "stream",
          "text": [
            "Total Commerical Annual Generation Potential is 317733755.0 MegaWatt-hours\n"
          ],
          "name": "stdout"
        }
      ]
    },
    {
      "cell_type": "markdown",
      "metadata": {
        "id": "5Qh2n-Gr6YJz"
      },
      "source": [
        "TOTAL"
      ]
    },
    {
      "cell_type": "code",
      "metadata": {
        "id": "pwSjK3tV6Xl0",
        "outputId": "5b3d9988-10c6-428a-93f4-3ba2148b8f96",
        "colab": {
          "base_uri": "https://localhost:8080/"
        }
      },
      "source": [
        "total_gen = res_gen + comm_gen\n",
        "print('Total Annual Generation Potential is',round(total_gen/(10e3)),'MegaWatt-hours')"
      ],
      "execution_count": 48,
      "outputs": [
        {
          "output_type": "stream",
          "text": [
            "Total Annual Generation Potential is 583589421.0 MegaWatt-hours\n"
          ],
          "name": "stdout"
        }
      ]
    },
    {
      "cell_type": "markdown",
      "metadata": {
        "id": "gBgcoPFuyO7y"
      },
      "source": [
        "<a id='partthree'></a>\n",
        "### Part III - Google EIE Comparison\n",
        "\n",
        "1) What are the results from Google EIE for Toronto?\n",
        "\n",
        "2) What would be the results from the SSG-Julia method using Google's estimate of building footprint totals \n",
        "\n",
        "3) What are the deltas between #1 and #2 and the SSG method from Part II? "
      ]
    },
    {
      "cell_type": "markdown",
      "metadata": {
        "id": "9h_f6R77eWDF"
      },
      "source": [
        "EIE Assumptions:\n",
        "\n",
        "Sunlight: Every included panel receives at least 75 percent of the maximum annual sun in the county. In cases where a building is not in a county, the maximum sun is determined by the max sun received in the city.\n",
        "\n",
        "Installation size: Each panel is assumed to be 250 Watts with an efficiency of 15.3 percent, a DC to AC derate factor of 85 percent and industry-standard assumptions about other factors. Every included roof has a total potential installation size of at least 2kW and fewer than 1,000kW.\n",
        "\n",
        "Space & obstacles: Only areas of the roof with enough space to install four adjacent solar panels are included. Obstacles like chimneys are taken into account. Panels are assumed to be mounted flush with the roof, including on flat surfaces. Only solar arrays on buildings are considered, not other spaces such as parking lots or fields."
      ]
    },
    {
      "cell_type": "markdown",
      "metadata": {
        "id": "zQqYmdSn8q6l"
      },
      "source": [
        "Part III A: What are the results from Google EIE for Toronto?"
      ]
    },
    {
      "cell_type": "code",
      "metadata": {
        "id": "2YXI_u5U8wAH"
      },
      "source": [
        "#From Google EIE for Toronto\n",
        "total_gen_EIE = 8200000 #MWH per year"
      ],
      "execution_count": null,
      "outputs": []
    },
    {
      "cell_type": "markdown",
      "metadata": {
        "id": "favG12f_89VI"
      },
      "source": [
        "Part III B: What are the results from Google EIE for Toronto, if we use SSG building footprints and/or swap some other assumptions?\n",
        "\n",
        "\n"
      ]
    },
    {
      "cell_type": "code",
      "metadata": {
        "id": "gPAkRrgJ9Gh7",
        "outputId": "00a9e021-c149-4930-c37b-fabbbf22e372",
        "colab": {
          "base_uri": "https://localhost:8080/"
        }
      },
      "source": [
        "# Compare assumptions about 'useable' roof area\n",
        "EIE_useable = 48100000\n",
        "print('EIE Total Roofspace is', round(EIE_useable),'m2')\n",
        "print ('SSG Total Roofsapce is', round(res_unshaded + comm_unshaded), 'm2') \n",
        "\n",
        "# If SSG used EIE's total useable roofspace...then what would the SSG solar capacity number be?\n",
        "# We don't know the res/comm split of roof area for the EIE numbers (it is not given or derivable from what is given), but keeping it consistent with SSG split\n",
        "PRCT_RES = res_total/(res_total + comm_total) \n",
        "\n"
      ],
      "execution_count": 56,
      "outputs": [
        {
          "output_type": "stream",
          "text": [
            "EIE Total Roofspace is 48100000 m2\n",
            "SSG Total Roofsapce is 54119558.0 m2\n"
          ],
          "name": "stdout"
        }
      ]
    },
    {
      "cell_type": "markdown",
      "metadata": {
        "id": "o2u8pqhYDvE7"
      },
      "source": [
        "What conversion factors would align our estimates? I.e., make 1153 into a variable and holding all other things constant what would the average be?\n",
        "Or what about a slightly lower total roofspace (check assumptions from Paidipati)"
      ]
    }
  ]
}