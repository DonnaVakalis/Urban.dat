{
  "nbformat": 4,
  "nbformat_minor": 0,
  "metadata": {
    "kernelspec": {
      "display_name": "Python 3",
      "language": "python",
      "name": "python3"
    },
    "language_info": {
      "codemirror_mode": {
        "name": "ipython",
        "version": 3
      },
      "file_extension": ".py",
      "mimetype": "text/x-python",
      "name": "python",
      "nbconvert_exporter": "python",
      "pygments_lexer": "ipython3",
      "version": "3.6.6"
    },
    "colab": {
      "name": "Copy of 03 Types, type conversions and floating point arithmetic.ipynb",
      "provenance": []
    }
  },
  "cells": [
    {
      "cell_type": "markdown",
      "metadata": {
        "id": "WSB7xKdscUYF",
        "colab_type": "text"
      },
      "source": [
        "# Introduction\n",
        "\n",
        "We have thus far avoided discussing directly *types*. The '*type*' is the type of object that a variable is associated with. This affects how a computer stores the object in memory, and how operations, such as multiplication and division, are performed.\n",
        "\n",
        "In *statically typed* languages, like C and C++, types come up from the very beginning because \n",
        "you usually need to specify types explicitly in your programs. Python is a *dynamically typed* language, which means types are deduced when a program is run. This is why we have been able to postpone the discussion until now.\n",
        "It is important to have a basic understanding of types, and how types can affect how your programs behave. One can go very deep into this topic, especially for numerical computations, but we will cover the general concept from a high level, \n",
        "show some examples, and highlight some potential pitfalls for engineering computations. \n",
        "\n",
        "This is a dry topic - it contains important background information that you need to know for later, so hang in there. The below account highlights what can go wrong without an awareness of types and how computers process numbers."
      ]
    },
    {
      "cell_type": "markdown",
      "metadata": {
        "id": "C9okpKCqcUYH",
        "colab_type": "text"
      },
      "source": [
        "## Patriot Missile failure and the Ariane 5 explosion\n",
        "\n",
        "There have been numerous accidents due to programs not correctly handling types, type conversions and floating point arithmetic. Here are two examples: \n",
        "\n",
        "1. In 1991, a US Patriot missile failed to intercept an Iraqi Scud missile at Dhahran in Saudi Arabi, leading to \n",
        "   a loss of life. The subsequent investigation found that the Patriot missile failed to intercept the Scud   \n",
        "   missile due to a software flaw. The software developers did not account for the effects of 'floating point \n",
        "   arithmetic'. \n",
        "   This led to a small error in computing the time, which in turn caused the Patriot to miss the incoming Scud \n",
        "   missile. \n",
        "\n",
        "   <img src=\"https://upload.wikimedia.org/wikipedia/commons/e/eb/Patriot_System_2.jpg\" width=\"300\" />\n",
        "\n",
        "   We will reproduce the precise mistake the developers of the Patriot Missile software made. See\n",
        "   https://en.wikipedia.org/wiki/MIM-104_Patriot#Failure_at_Dhahran for more background on the interception \n",
        "   failure.\n",
        "   \n",
        "\n",
        "1. Poor programming related to how computers store numbers led in 1996 to a European Space Agency *Ariane 5* \n",
        "   unmanned rocket exploding shortly after lift-off. The rocket payload, worth US\\$500 M, \n",
        "   was destroyed. You can find background at https://en.wikipedia.org/wiki/Cluster_(spacecraft)#Launch_failure. \n",
        "   We will reproduce their mistake, and show how a few lines code would have saved over US\\$500 M. \n",
        "   \n",
        "   <img src=\"https://upload.wikimedia.org/wikipedia/commons/thumb/3/3c/Ariane_5ES_with_ATV_4_on_its_way_to_ELA-3.jpg/320px-Ariane_5ES_with_ATV_4_on_its_way_to_ELA-3.jpg\" width=\"200\" />"
      ]
    },
    {
      "cell_type": "markdown",
      "metadata": {
        "id": "e1H0iiZOcUYH",
        "colab_type": "text"
      },
      "source": [
        "## Background: bits and bytes\n",
        "\n",
        "An important part of understanding types is appreciating how computer storage works. Computer memory is made up of *bits*, and each bit can take on one of two \n",
        "values - 0 or 1. A bit is the smallest building block of memory.\n",
        "Bits are very fine-grained, so for many computer architectures the smallest 'block' we can normally work with is a *byte*. One byte is made up of 8 bits. This why when we talk about bits, e.g. a 64-bit operating system, the number of bits will almost always be a multiple of 8 (one byte).\n",
        "\n",
        "The 'bigger' a thing we want to store, the more bytes we need. This is important for engineering computations since the the number of bytes used to store a number determines the accuracy with which the number can be stored,\n",
        "and how big or small the number can be. The more bytes the greater the accuracy, but the price to be paid is higher memory usage. Also, it can be more expensive to perform operations like multiplication and division when using more bytes."
      ]
    },
    {
      "cell_type": "markdown",
      "metadata": {
        "id": "cZH4IT5KcUYI",
        "colab_type": "text"
      },
      "source": [
        "## Objectives\n",
        "\n",
        "- Introduce primitive data types (booleans, strings and numerical types)\n",
        "- Type inspection\n",
        "- Basic type conversion\n",
        "- Introduction to pitfalls of floating point arithmetic "
      ]
    },
    {
      "cell_type": "markdown",
      "metadata": {
        "id": "qrpxvgc0cUYI",
        "colab_type": "text"
      },
      "source": [
        "# What is type?\n",
        "\n",
        "All variables have a 'type', which indicates what the variable is, e.g. a number, a string of characters, etc. In 'statically typed' languages we usually need to be explicit in declaring the type of a variable in a program. In a dynamically typed language, such as Python, variables still have types but the interpreter can determine types dynamically.\n",
        "\n",
        "Type is important because it determines how a variable is stored, how it behaves when we perform operations on it, and how it interacts with other variables. For example, multiplication of two real numbers is different from multiplication of two complex numbers."
      ]
    },
    {
      "cell_type": "markdown",
      "metadata": {
        "id": "KlnbQ-sPcUYJ",
        "colab_type": "text"
      },
      "source": [
        "# Introspection \n",
        "\n",
        "Before getting into types, we look at how we can check the type in Python. A powerful feature of Python is *introspection*. This means that we can probe a program to ask about the type of a variable. To check \n",
        "the type of a variable we use the function `type`:"
      ]
    },
    {
      "cell_type": "code",
      "metadata": {
        "id": "dsD5gND9cUYK",
        "colab_type": "code",
        "outputId": "f74b7385-25ca-4ace-85b2-371304611202",
        "colab": {}
      },
      "source": [
        "x = True\n",
        "print(type(x))\n",
        "\n",
        "a = 1\n",
        "print(type(a))\n",
        "\n",
        "a = 1.0\n",
        "print(type(a))"
      ],
      "execution_count": 0,
      "outputs": [
        {
          "output_type": "stream",
          "text": [
            "<class 'bool'>\n",
            "<class 'int'>\n",
            "<class 'float'>\n"
          ],
          "name": "stdout"
        }
      ]
    },
    {
      "cell_type": "markdown",
      "metadata": {
        "id": "f0nltjdacUYO",
        "colab_type": "text"
      },
      "source": [
        "Note that `a = 1` and `a = 1.0` are different types! This distinction is very important for numerical computations.\n",
        "More on this further down.\n",
        "\n",
        "Use `type` freely when exploring and testing, to develop an understanding for what your program is doing."
      ]
    },
    {
      "cell_type": "markdown",
      "metadata": {
        "id": "pFi5pv4hcUYP",
        "colab_type": "text"
      },
      "source": [
        "# Booleans\n",
        "\n",
        "You have already seen the 'Boolean' type that can take on one of two values - true or false. This is the simplest type."
      ]
    },
    {
      "cell_type": "code",
      "metadata": {
        "id": "ZDhiNoa0cUYP",
        "colab_type": "code",
        "outputId": "74c2e055-d491-4ef7-8674-eae497f09eee",
        "colab": {}
      },
      "source": [
        "a = True\n",
        "b = False\n",
        "test = a or b  # test will be True if a or b are True\n",
        "print(test, type(test))"
      ],
      "execution_count": 0,
      "outputs": [
        {
          "output_type": "stream",
          "text": [
            "True <class 'bool'>\n"
          ],
          "name": "stdout"
        }
      ]
    },
    {
      "cell_type": "markdown",
      "metadata": {
        "id": "8XcxyLBMcUYS",
        "colab_type": "text"
      },
      "source": [
        "In principle, we could represent a boolean with just one bit (0 or 1 switch)."
      ]
    },
    {
      "cell_type": "markdown",
      "metadata": {
        "id": "VTo2B9Z7cUYT",
        "colab_type": "text"
      },
      "source": [
        "# Strings\n",
        "\n",
        "A string is a collection of characters. We have been using strings in previous activities for printing informative messages. In Python we create a string using single or double quotes (the choice is personal preference), e.g.\n",
        "\n",
        "    my_string = 'This is a string.'\n",
        "    \n",
        "or\n",
        "\n",
        "    my_string = \"This is a string.\"\n",
        "    \n",
        "Below we assign a string to a variable, display the string, and then check its type:"
      ]
    },
    {
      "cell_type": "code",
      "metadata": {
        "id": "KSX6IYzEcUYT",
        "colab_type": "code",
        "outputId": "3f39e054-9d42-4ed0-f96d-8a060a036997",
        "colab": {}
      },
      "source": [
        "my_string = \"This is a string.\"\n",
        "print(my_string)\n",
        "print(type(my_string))"
      ],
      "execution_count": 0,
      "outputs": [
        {
          "output_type": "stream",
          "text": [
            "This is a string.\n",
            "<class 'str'>\n"
          ],
          "name": "stdout"
        }
      ]
    },
    {
      "cell_type": "markdown",
      "metadata": {
        "id": "EEHajfoFcUYW",
        "colab_type": "text"
      },
      "source": [
        "We can perform many different operations on strings. We can extract a particular character as a new string:"
      ]
    },
    {
      "cell_type": "code",
      "metadata": {
        "id": "U5TC1Su_cUYX",
        "colab_type": "code",
        "outputId": "0a08cd5d-e0ab-4f50-9e2d-94c753b017a1",
        "colab": {}
      },
      "source": [
        "# Get 3rd character (Python counts from zero)\n",
        "s2 = my_string[2]\n",
        "print(s2)\n",
        "print(type(s2))"
      ],
      "execution_count": 0,
      "outputs": [
        {
          "output_type": "stream",
          "text": [
            "i\n",
            "<class 'str'>\n"
          ],
          "name": "stdout"
        }
      ]
    },
    {
      "cell_type": "markdown",
      "metadata": {
        "id": "ekIJBmAYcUYb",
        "colab_type": "text"
      },
      "source": [
        "or extract a range of characters:"
      ]
    },
    {
      "cell_type": "code",
      "metadata": {
        "id": "S4ph8WFEcUYc",
        "colab_type": "code",
        "outputId": "6025fccc-0f87-4f25-ca7a-cd02479ea742",
        "colab": {}
      },
      "source": [
        "# Get first six characters, print and check type\n",
        "s3 = my_string[0:6]\n",
        "print(s3)\n",
        "print(type(s3))\n",
        "\n",
        "# Get last four characters and print\n",
        "s4 = my_string[-4:]\n",
        "print(s4)"
      ],
      "execution_count": 0,
      "outputs": [
        {
          "output_type": "stream",
          "text": [
            "This i\n",
            "<class 'str'>\n",
            "ing.\n"
          ],
          "name": "stdout"
        }
      ]
    },
    {
      "cell_type": "markdown",
      "metadata": {
        "id": "MqFNylbxcUYg",
        "colab_type": "text"
      },
      "source": [
        "We can add strings together:"
      ]
    },
    {
      "cell_type": "code",
      "metadata": {
        "id": "jbkdmTqicUYh",
        "colab_type": "code",
        "outputId": "badf21f5-1a4f-41b8-da0a-2f6accc4bc01",
        "colab": {}
      },
      "source": [
        "introduction = \"My name is:\"\n",
        "name = \"Joe\"\n",
        "\n",
        "personal_introduction = introduction + \" \" + name\n",
        "print(personal_introduction)"
      ],
      "execution_count": 0,
      "outputs": [
        {
          "output_type": "stream",
          "text": [
            "My name is: Joe\n"
          ],
          "name": "stdout"
        }
      ]
    },
    {
      "cell_type": "markdown",
      "metadata": {
        "id": "2D7u9T6ycUYk",
        "colab_type": "text"
      },
      "source": [
        "We can also check the length (number of characters) of a string using `len`:"
      ]
    },
    {
      "cell_type": "code",
      "metadata": {
        "id": "BRIE8bHFcUYk",
        "colab_type": "code",
        "outputId": "4bb32689-3854-47f4-d304-0213185c19e2",
        "colab": {}
      },
      "source": [
        "print(len(personal_introduction))"
      ],
      "execution_count": 0,
      "outputs": [
        {
          "output_type": "stream",
          "text": [
            "15\n"
          ],
          "name": "stdout"
        }
      ]
    },
    {
      "cell_type": "markdown",
      "metadata": {
        "id": "0_wtt6m5cUYn",
        "colab_type": "text"
      },
      "source": [
        "There are *many* more operations that can be performed on strings. We will see more in later activities."
      ]
    },
    {
      "cell_type": "markdown",
      "metadata": {
        "collapsed": true,
        "id": "Zbp-SB76cUYo",
        "colab_type": "text"
      },
      "source": [
        "# Numeric types\n",
        "\n",
        "Numeric types are important in many computing applications, and particularly in scientific and engineering programs. Python 3 has three native numerical types:\n",
        "\n",
        "- integers (`int`)\n",
        "- floating point numbers (`float`)\n",
        "- complex numbers (`complex`)\n",
        "\n",
        "This is typical for most programming languages, although there can be some subtle differences."
      ]
    },
    {
      "cell_type": "markdown",
      "metadata": {
        "id": "qigHKQNscUYo",
        "colab_type": "text"
      },
      "source": [
        "## Integers\n",
        "\n",
        "Integers (`int`) are whole numbers, and can be postive or negative. Integers should be used when a value can only take on a whole number, e.g. the year, or the number of students following this course. Python infers the type of a number from the way we input it. It will infer an `int` if we assign a number with no decimal place:"
      ]
    },
    {
      "cell_type": "code",
      "metadata": {
        "id": "s5Ph0z5AcUYp",
        "colab_type": "code",
        "outputId": "fd995d77-ae46-4653-892c-548c046e9d76",
        "colab": {}
      },
      "source": [
        "a = 2\n",
        "print(type(a))"
      ],
      "execution_count": 0,
      "outputs": [
        {
          "output_type": "stream",
          "text": [
            "<class 'int'>\n"
          ],
          "name": "stdout"
        }
      ]
    },
    {
      "cell_type": "markdown",
      "metadata": {
        "id": "TJqFYv_scUYr",
        "colab_type": "text"
      },
      "source": [
        "If we add a decimal point, the variable type becomes a `float` (more on this later)"
      ]
    },
    {
      "cell_type": "code",
      "metadata": {
        "id": "Vh7bbklzcUYs",
        "colab_type": "code",
        "outputId": "915ac333-8c28-4d0e-cb5c-633312b1bc98",
        "colab": {}
      },
      "source": [
        "a = 2.0\n",
        "print(type(a))"
      ],
      "execution_count": 0,
      "outputs": [
        {
          "output_type": "stream",
          "text": [
            "<class 'float'>\n"
          ],
          "name": "stdout"
        }
      ]
    },
    {
      "cell_type": "markdown",
      "metadata": {
        "id": "Ai5Tj23OcUYu",
        "colab_type": "text"
      },
      "source": [
        "Integer operations that result in an integer, such as multiplying or adding two integers, are performed exactly (there is no error). This does however depend on a variable having enough memory (sufficient bytes) to represent the result."
      ]
    },
    {
      "cell_type": "markdown",
      "metadata": {
        "id": "rMpqyw0FcUYv",
        "colab_type": "text"
      },
      "source": [
        "### Integer storage and overflow\n",
        "\n",
        "In most languages, a fixed number of bits are used to store a given type of integer. In C and C++ a standard integer (`int`) is usually stored using 32 bits (it is possible to declare shorter and longer integer types). \n",
        "The largest integer that can be stored using 32 bits is $2^{31} - 1 = 2,147,483,647$.\n",
        "We explain later where this comes from. The message for now is that for a fixed number of bits, there is a bound on the largest number that can be represented/stored.\n",
        "\n",
        "####  Integer overflow\n",
        "\n",
        "Integer overflow is when an operation creates an integer that is too big to be represented by the given integer type. For example, attempting to assign $2^{31} + 1$ to a 32-bit integer will cause an overflow and potentially unpredictable program response. This would usually be a *bug*.\n",
        "\n",
        "The Ariane 5 rocket explosion in 1996 was caused by integer overflow. The rocket navigation software was taken from the older, slower Ariane 4 rocket. The program assigned the rocket speed to a 16-bit integer (the largest number a 16-bit integer can store is $2^{15} - 1 = 32767$), but the Ariane 5 could travel faster than the older generation of rocket and the speed value exceeded $32767$. The resulting integer overflow led to \n",
        "failure of the rocket's navigation system and\n",
        "explosion of the rocket; a very costly rocket and a very expensive payload were destroyed.\n",
        "We will reproduce the error that caused this failure when we look at *type conversions*.\n",
        "\n",
        "Python avoids integer overflows by dynamically changing the number of bits used to represent an integer. You can inspect the number of bits required to store an integer in binary (not including the bit for the sign) using the function [bit_length](https://docs.python.org/3/library/stdtypes.html#int.bit_length):"
      ]
    },
    {
      "cell_type": "code",
      "metadata": {
        "id": "WyecfqZbcUYv",
        "colab_type": "code",
        "colab": {}
      },
      "source": [
        "a = 8\n",
        "print(type(a))\n",
        " \n",
        "a.bit_length()"
      ],
      "execution_count": 0,
      "outputs": []
    },
    {
      "cell_type": "markdown",
      "metadata": {
        "id": "f4dZAQlocUYy",
        "colab_type": "text"
      },
      "source": [
        "We see that 4 bits are necessary to represent the number 8. If we increase the size of the number dramatically by raising it to the power of 12:"
      ]
    },
    {
      "cell_type": "code",
      "metadata": {
        "id": "BR_o9zlKcUYz",
        "colab_type": "code",
        "outputId": "618c5bc9-0ab0-445e-ad6a-f7ebc53dd4cc",
        "colab": {
          "base_uri": "https://localhost:8080/",
          "height": 52
        }
      },
      "source": [
        "b = a**12\n",
        "print(type(b))\n",
        "print(b.bit_length())"
      ],
      "execution_count": 7,
      "outputs": [
        {
          "output_type": "stream",
          "text": [
            "<class 'int'>\n",
            "37\n"
          ],
          "name": "stdout"
        }
      ]
    },
    {
      "cell_type": "markdown",
      "metadata": {
        "id": "iCKVtdG_cUY2",
        "colab_type": "text"
      },
      "source": [
        "We see that 37 bits are required to represent the number. If the `int` type was limited to 32 bits for storing the value, this operation would have caused an overflow."
      ]
    },
    {
      "cell_type": "markdown",
      "metadata": {
        "id": "LyxQcQv3cUY2",
        "colab_type": "text"
      },
      "source": [
        "#### Gangnam Style\n",
        "\n",
        "In 2014, Google switched from 32-bit integers to 64-bit integers to count views when the video \"Gangnam Style\" was viewed more than 2,147,483,647 times, which is the limit of 32-bit integers (see https://plus.google.com/+YouTube/posts/BUXfdWqu86Q)."
      ]
    },
    {
      "cell_type": "markdown",
      "metadata": {
        "id": "x8tDfuNLcUY3",
        "colab_type": "text"
      },
      "source": [
        "#### Boeing 787 Dreamliner bug\n",
        "\n",
        "Due to an integer overflow bug, the electricity generators on a Boeing 787 will shut down if the plane is\n",
        "powered continuously for 248 days, due to an overflow. The 'quick fix' was to make sure that \n",
        "generator control units do not operate for more than 248 days.\n",
        "See \n",
        "https://www.theguardian.com/business/2015/may/01/us-aviation-authority-boeing-787-dreamliner-bug-could-cause-loss-of-control and \n",
        "https://s3.amazonaws.com/public-inspection.federalregister.gov/2015-10066.pdf for background."
      ]
    },
    {
      "cell_type": "markdown",
      "metadata": {
        "id": "QUv4CuebcUY3",
        "colab_type": "text"
      },
      "source": [
        "##  Floating point storage\n",
        "\n",
        "Most engineering calculations involve numbers that cannot be represented as integers. Numbers that have a \n",
        "decimal point are stored using the `float` type. Computers store floating point numbers by storing the sign, the significand (also known as the mantissa) and the exponent, e.g.: for $10.45$\n",
        "\n",
        "$$\n",
        "10.45 = \\underbrace{+}_{\\text{sign}} \\underbrace{1045}_{\\text{significand}} \\times \\underbrace{10^{-2}}_{\\text{exponent} = -2}\n",
        "$$\n",
        "\n",
        "Python uses 64 bits to store a `float` (in C and C++ this is known as a `double`). The sign requires one bit, and there are standards that specify how many bits should be used for the significand and how many for the exponent.\n",
        "\n",
        "Since a finite number of bits are used to store a number, the precision with which numbers can be represented is limited. As a guide, using 64 bits a floating point number is precise to 15 to 17 significant figures.\n",
        "More on this, and why the Patriot missile failed, later."
      ]
    },
    {
      "cell_type": "markdown",
      "metadata": {
        "id": "a53PZYArcUY4",
        "colab_type": "text"
      },
      "source": [
        "### Floats\n",
        "\n",
        "We can declare a float by adding a decimal point:"
      ]
    },
    {
      "cell_type": "code",
      "metadata": {
        "id": "SWtMbTHDcUY5",
        "colab_type": "code",
        "outputId": "36a86696-cd73-4a94-9de1-226c936a29d0",
        "colab": {
          "base_uri": "https://localhost:8080/",
          "height": 273
        }
      },
      "source": [
        "a = 2.0\n",
        "print(a)\n",
        "print(type(a))\n",
        "\n",
        "b = 3.\n",
        "print(b)\n",
        "print(type(b))"
      ],
      "execution_count": 8,
      "outputs": [
        {
          "output_type": "stream",
          "text": [
            "2.0\n",
            "<class 'float'>\n",
            "3.0\n",
            "<class 'float'>\n"
          ],
          "name": "stdout"
        },
        {
          "output_type": "error",
          "ename": "AttributeError",
          "evalue": "ignored",
          "traceback": [
            "\u001b[0;31m---------------------------------------------------------------------------\u001b[0m",
            "\u001b[0;31mAttributeError\u001b[0m                            Traceback (most recent call last)",
            "\u001b[0;32m<ipython-input-8-7a771ec5b6d6>\u001b[0m in \u001b[0;36m<module>\u001b[0;34m()\u001b[0m\n\u001b[1;32m      6\u001b[0m \u001b[0mprint\u001b[0m\u001b[0;34m(\u001b[0m\u001b[0mb\u001b[0m\u001b[0;34m)\u001b[0m\u001b[0;34m\u001b[0m\u001b[0;34m\u001b[0m\u001b[0m\n\u001b[1;32m      7\u001b[0m \u001b[0mprint\u001b[0m\u001b[0;34m(\u001b[0m\u001b[0mtype\u001b[0m\u001b[0;34m(\u001b[0m\u001b[0mb\u001b[0m\u001b[0;34m)\u001b[0m\u001b[0;34m)\u001b[0m\u001b[0;34m\u001b[0m\u001b[0;34m\u001b[0m\u001b[0m\n\u001b[0;32m----> 8\u001b[0;31m \u001b[0mb\u001b[0m\u001b[0;34m.\u001b[0m\u001b[0mbit_length\u001b[0m\u001b[0;34m(\u001b[0m\u001b[0;34m)\u001b[0m\u001b[0;34m\u001b[0m\u001b[0;34m\u001b[0m\u001b[0m\n\u001b[0m",
            "\u001b[0;31mAttributeError\u001b[0m: 'float' object has no attribute 'bit_length'"
          ]
        }
      ]
    },
    {
      "cell_type": "markdown",
      "metadata": {
        "id": "EslAMBDKcUY9",
        "colab_type": "text"
      },
      "source": [
        "or by using `e` or `E` (the choice between `e` and `E` is just a matter of taste):"
      ]
    },
    {
      "cell_type": "code",
      "metadata": {
        "id": "WZPH44vFcUY-",
        "colab_type": "code",
        "outputId": "931e24e4-98e7-419f-d8da-c59f4fba78a7",
        "colab": {}
      },
      "source": [
        "a = 2e0\n",
        "print(a, type(a))\n",
        "\n",
        "b = 2e3\n",
        "print(b, type(b))\n",
        "\n",
        "c = 2.1E3\n",
        "print(c, type(c))"
      ],
      "execution_count": 0,
      "outputs": [
        {
          "output_type": "stream",
          "text": [
            "2.0 <class 'float'>\n",
            "2000.0 <class 'float'>\n",
            "2100.0 <class 'float'>\n"
          ],
          "name": "stdout"
        }
      ]
    },
    {
      "cell_type": "markdown",
      "metadata": {
        "id": "L7ykyHpMcUZB",
        "colab_type": "text"
      },
      "source": [
        "### Complex numbers\n",
        "\n",
        "A complex number is a more elaborate float with two parts - the real and imaginary components. We can declare a complex number in Python by adding `j` or `J` after the complex part of the number:"
      ]
    },
    {
      "cell_type": "code",
      "metadata": {
        "id": "4g9BEVNocUZB",
        "colab_type": "code",
        "outputId": "672a5a09-c20d-40b6-cf3e-0911c7593d89",
        "colab": {}
      },
      "source": [
        "a = 2j\n",
        "print(a, type(a))\n",
        "\n",
        "b = 4 - 3j\n",
        "print(b, type(b))"
      ],
      "execution_count": 0,
      "outputs": [
        {
          "output_type": "stream",
          "text": [
            "2j <class 'complex'>\n",
            "(4-3j) <class 'complex'>\n"
          ],
          "name": "stdout"
        }
      ]
    },
    {
      "cell_type": "markdown",
      "metadata": {
        "id": "rpicZNlJcUZE",
        "colab_type": "text"
      },
      "source": [
        "The usual addition, subtraction, multiplication and division operations can all be performed on complex numbers. The real and imaginary parts can be extracted:"
      ]
    },
    {
      "cell_type": "code",
      "metadata": {
        "id": "entgryu2cUZE",
        "colab_type": "code",
        "outputId": "8f503958-57c8-4320-83de-394a67857668",
        "colab": {
          "base_uri": "https://localhost:8080/",
          "height": 70
        }
      },
      "source": [
        "print(a.real,\"+\",a.imag,\"j\")\n",
        "\n",
        "print(b.imag)\n",
        "print(b.real)\n"
      ],
      "execution_count": 10,
      "outputs": [
        {
          "output_type": "stream",
          "text": [
            "2.0 + 0.0 j\n",
            "0.0\n",
            "3.0\n"
          ],
          "name": "stdout"
        }
      ]
    },
    {
      "cell_type": "markdown",
      "metadata": {
        "id": "4WmpmIJ6cUZH",
        "colab_type": "text"
      },
      "source": [
        "and the complex conjugate can be taken:"
      ]
    },
    {
      "cell_type": "code",
      "metadata": {
        "id": "Y6HeCD31cUZI",
        "colab_type": "code",
        "outputId": "acc002d8-d357-4f45-c17a-8a28daf776c5",
        "colab": {}
      },
      "source": [
        "print(b.conjugate())"
      ],
      "execution_count": 0,
      "outputs": [
        {
          "output_type": "stream",
          "text": [
            "(4+3j)\n"
          ],
          "name": "stdout"
        }
      ]
    },
    {
      "cell_type": "markdown",
      "metadata": {
        "id": "OykvKAg-cUZK",
        "colab_type": "text"
      },
      "source": [
        "We can compute the modulus of a complex number using `abs`:"
      ]
    },
    {
      "cell_type": "code",
      "metadata": {
        "id": "n5EBnTSScUZL",
        "colab_type": "code",
        "outputId": "a0082351-ae71-4577-f352-7dadfc64abfe",
        "colab": {}
      },
      "source": [
        "print(abs(b))"
      ],
      "execution_count": 0,
      "outputs": [
        {
          "output_type": "stream",
          "text": [
            "5.0\n"
          ],
          "name": "stdout"
        }
      ]
    },
    {
      "cell_type": "markdown",
      "metadata": {
        "id": "ArdFxqYhcUZN",
        "colab_type": "text"
      },
      "source": [
        "More generally, `abs` returns the absolute value, e.g.:"
      ]
    },
    {
      "cell_type": "code",
      "metadata": {
        "id": "l38GAlJTcUZO",
        "colab_type": "code",
        "outputId": "a3513d6a-4a10-4377-f447-3ff1723f3e82",
        "colab": {}
      },
      "source": [
        "a = -21.6\n",
        "a = abs(a)\n",
        "print(a)"
      ],
      "execution_count": 0,
      "outputs": [
        {
          "output_type": "stream",
          "text": [
            "21.6\n"
          ],
          "name": "stdout"
        }
      ]
    },
    {
      "cell_type": "markdown",
      "metadata": {
        "id": "j-4XbGhEcUZS",
        "colab_type": "text"
      },
      "source": [
        "# Type conversions (casting)\n",
        "\n",
        "We can often change between types. This is called *type conversion* or *type casting*. In some cases it happens implicitly, and in other cases we can instruct our program to change the type.\n",
        "\n",
        "If we add two integers, the results will be an integer:"
      ]
    },
    {
      "cell_type": "code",
      "metadata": {
        "id": "4nE1uq_fcUZT",
        "colab_type": "code",
        "outputId": "f81f72ba-5477-4352-e741-d1a437883131",
        "colab": {}
      },
      "source": [
        "a = 4\n",
        "b = 15\n",
        "c = a + b\n",
        "print(c, type(c))"
      ],
      "execution_count": 0,
      "outputs": [
        {
          "output_type": "stream",
          "text": [
            "19 <class 'int'>\n"
          ],
          "name": "stdout"
        }
      ]
    },
    {
      "cell_type": "markdown",
      "metadata": {
        "id": "r1hrQ9wRcUZV",
        "colab_type": "text"
      },
      "source": [
        "However, if we add an `int` and a `float`, the result will be a float:"
      ]
    },
    {
      "cell_type": "code",
      "metadata": {
        "id": "DNkPODGicUZW",
        "colab_type": "code",
        "outputId": "db3db619-b3c7-4ccd-f620-ce7a31a61bc6",
        "colab": {}
      },
      "source": [
        "a = 4\n",
        "b = 15.0  # Adding the '.0' tells Python that it is a float\n",
        "c = a + b\n",
        "print(c, type(c))"
      ],
      "execution_count": 0,
      "outputs": [
        {
          "output_type": "stream",
          "text": [
            "19.0 <class 'float'>\n"
          ],
          "name": "stdout"
        }
      ]
    },
    {
      "cell_type": "markdown",
      "metadata": {
        "id": "pXh0dcvCcUZZ",
        "colab_type": "text"
      },
      "source": [
        "If we divide two integers, the result will be a `float`:"
      ]
    },
    {
      "cell_type": "code",
      "metadata": {
        "id": "mDQqGYGPcUZa",
        "colab_type": "code",
        "outputId": "922841ca-1839-41c8-9a62-86a02289a361",
        "colab": {}
      },
      "source": [
        "a = 16\n",
        "b = 4\n",
        "c = a/b\n",
        "print(c, type(c))"
      ],
      "execution_count": 0,
      "outputs": [
        {
          "output_type": "stream",
          "text": [
            "4.0 <class 'float'>\n"
          ],
          "name": "stdout"
        }
      ]
    },
    {
      "cell_type": "markdown",
      "metadata": {
        "id": "dImJfpJNcUZc",
        "colab_type": "text"
      },
      "source": [
        "When dividing two integers, we can do 'integer division' using `//`, e.g."
      ]
    },
    {
      "cell_type": "code",
      "metadata": {
        "id": "igLQa8A9cUZd",
        "colab_type": "code",
        "outputId": "d885fb88-bbf8-416e-8255-5c7096b3d0f0",
        "colab": {}
      },
      "source": [
        "a = 16\n",
        "b = 3\n",
        "c = a//b\n",
        "print(c, type(c))"
      ],
      "execution_count": 0,
      "outputs": [
        {
          "output_type": "stream",
          "text": [
            "5 <class 'int'>\n"
          ],
          "name": "stdout"
        }
      ]
    },
    {
      "cell_type": "markdown",
      "metadata": {
        "id": "ezwQBcWXcUZf",
        "colab_type": "text"
      },
      "source": [
        "in which case the result is an `int`.\n",
        "\n",
        "In general, operations that mix an `int` and `float` will generate a `float`, and operations that mix an `int` or a `float` with `complex` will return a `complex` type. If in doubt, use `type` to experiment and check.  "
      ]
    },
    {
      "cell_type": "markdown",
      "metadata": {
        "id": "Qsf1CK2xcUZg",
        "colab_type": "text"
      },
      "source": [
        "## Explicit type conversion\n",
        "\n",
        "We can explicitly change the type (perform a cast), e.g. cast from an `int` to a `float`:"
      ]
    },
    {
      "cell_type": "code",
      "metadata": {
        "id": "YMFu5gZLcUZg",
        "colab_type": "code",
        "outputId": "bbc2eed7-1186-4e89-8168-eea2f2e2d354",
        "colab": {}
      },
      "source": [
        "a = 1\n",
        "print(a, type(a))\n",
        "\n",
        "a = float(a)  # This converts the int associated with 'a' to a float, and assigns the result to the variable 'a'\n",
        "print(a, type(a))"
      ],
      "execution_count": 0,
      "outputs": [
        {
          "output_type": "stream",
          "text": [
            "1 <class 'int'>\n",
            "1.0 <class 'float'>\n"
          ],
          "name": "stdout"
        }
      ]
    },
    {
      "cell_type": "markdown",
      "metadata": {
        "id": "Y-3eeeEscUZj",
        "colab_type": "text"
      },
      "source": [
        "Going the other way,"
      ]
    },
    {
      "cell_type": "code",
      "metadata": {
        "id": "0hNpQGZJcUZk",
        "colab_type": "code",
        "outputId": "0135839c-fa32-4739-ef55-3032b0ded71d",
        "colab": {}
      },
      "source": [
        "y = 1.99\n",
        "print(y, type(y))\n",
        "\n",
        "z = int(y)\n",
        "print(z, type(z))"
      ],
      "execution_count": 0,
      "outputs": [
        {
          "output_type": "stream",
          "text": [
            "1.99 <class 'float'>\n",
            "1 <class 'int'>\n"
          ],
          "name": "stdout"
        }
      ]
    },
    {
      "cell_type": "markdown",
      "metadata": {
        "id": "ku0ahPWacUZm",
        "colab_type": "text"
      },
      "source": [
        "Note that rounding is applied when converting from a `float` to an `int`; the values after the decimal point are discarded. This type of rounding is called 'round towards zero' or 'truncation'.\n",
        "\n",
        "A common task is converting numerical types to-and-from strings. We might read a number from a file as a string, or a user might input a value which Python reads in as a string. Converting a float to a string:"
      ]
    },
    {
      "cell_type": "code",
      "metadata": {
        "id": "Hhi0kQ32cUZm",
        "colab_type": "code",
        "outputId": "51835089-8388-412e-9c99-89d574d003e1",
        "colab": {}
      },
      "source": [
        "a = 1.023\n",
        "b = str(a)\n",
        "print(b, type(b))"
      ],
      "execution_count": 0,
      "outputs": [
        {
          "output_type": "stream",
          "text": [
            "1.023 <class 'str'>\n"
          ],
          "name": "stdout"
        }
      ]
    },
    {
      "cell_type": "markdown",
      "metadata": {
        "id": "6zE29bACcUZq",
        "colab_type": "text"
      },
      "source": [
        "and in the other direction:"
      ]
    },
    {
      "cell_type": "code",
      "metadata": {
        "id": "nG2fs3fYcUZq",
        "colab_type": "code",
        "outputId": "ca8c0d96-7151-40de-dcc5-bd8b3a8f4eea",
        "colab": {
          "base_uri": "https://localhost:8080/",
          "height": 52
        }
      },
      "source": [
        "a = \"15.07\"\n",
        "b = \"18.07\"\n",
        "\n",
        "print(a + b)\n",
        "print(float(a) + float(b))"
      ],
      "execution_count": 11,
      "outputs": [
        {
          "output_type": "stream",
          "text": [
            "15.0718.07\n",
            "33.14\n"
          ],
          "name": "stdout"
        }
      ]
    },
    {
      "cell_type": "markdown",
      "metadata": {
        "id": "r8olOSoQcUZs",
        "colab_type": "text"
      },
      "source": [
        "If we tried \n",
        "```python\n",
        "print(int(a) + int(b))\n",
        "```\n",
        "we could get an error that the strings could not be converted to `int`. It works in the case:"
      ]
    },
    {
      "cell_type": "code",
      "metadata": {
        "id": "v8JbBWONcUZt",
        "colab_type": "code",
        "outputId": "76196d29-e39a-4d4c-d2d7-dfdcddacac1c",
        "colab": {}
      },
      "source": [
        "a = \"15\"\n",
        "b = \"18\"\n",
        "print(int(a) + int(b))"
      ],
      "execution_count": 0,
      "outputs": [
        {
          "output_type": "stream",
          "text": [
            "33\n"
          ],
          "name": "stdout"
        }
      ]
    },
    {
      "cell_type": "markdown",
      "metadata": {
        "id": "XR2V4VmIcUZw",
        "colab_type": "text"
      },
      "source": [
        "since these strings can be correctly cast to integers."
      ]
    },
    {
      "cell_type": "markdown",
      "metadata": {
        "id": "4qxgiHrKcUZx",
        "colab_type": "text"
      },
      "source": [
        "## Ariane 5 rocket explosion and type conversion\n",
        "\n",
        "The Ariane 5 rocket explosion was caused by an integer overflow. The speed of the rocket was stored as a 64-bit float, and this was converted in the navigation software to a 16-bit integer. However, the value of the float was greater than $32767$, the largest number a 16-bit integer can represent, and this led to an overflow that in turn caused the navigation system to fail and the rocket to explode.\n",
        "\n",
        "We can demonstrate what happened in the rocket program. We consider a speed of $40000.54$ (units are not relevant to what is being demonstrated), stored as a `float` (64 bits):"
      ]
    },
    {
      "cell_type": "code",
      "metadata": {
        "id": "qzhMkF-zcUZx",
        "colab_type": "code",
        "colab": {}
      },
      "source": [
        "speed_float = 40000.54"
      ],
      "execution_count": 0,
      "outputs": []
    },
    {
      "cell_type": "markdown",
      "metadata": {
        "id": "CxdIkpXfcUZ0",
        "colab_type": "text"
      },
      "source": [
        "If we first convert the float to a 32-bit `int` (we use NumPy to get integers with a fixed number of bits, more on NumPy in a later notebook):"
      ]
    },
    {
      "cell_type": "code",
      "metadata": {
        "id": "qaqSO8WrcUZ0",
        "colab_type": "code",
        "outputId": "1b3132da-eb11-4d27-e492-bca03b57d6e5",
        "colab": {}
      },
      "source": [
        "import numpy as np\n",
        "speed_int = np.int32(speed_float)  # Convert the speed to a 32-bit int\n",
        "print(speed_int)"
      ],
      "execution_count": 0,
      "outputs": [
        {
          "output_type": "stream",
          "text": [
            "40000\n"
          ],
          "name": "stdout"
        }
      ]
    },
    {
      "cell_type": "markdown",
      "metadata": {
        "id": "fqtOK38VcUZ3",
        "colab_type": "text"
      },
      "source": [
        "The conversion behaves as we would expect. Now, if we convert the speed from the `float` to a 16-bit integer:"
      ]
    },
    {
      "cell_type": "code",
      "metadata": {
        "id": "DbwK4bWZcUZ3",
        "colab_type": "code",
        "outputId": "4c5f2a58-07c8-4a84-c7f9-06b1eb0f25ff",
        "colab": {}
      },
      "source": [
        "speed_int = np.int16(speed_float)\n",
        "print(speed_int)"
      ],
      "execution_count": 0,
      "outputs": [
        {
          "output_type": "stream",
          "text": [
            "-25536\n"
          ],
          "name": "stdout"
        }
      ]
    },
    {
      "cell_type": "markdown",
      "metadata": {
        "id": "bZWvXq1rcUZ7",
        "colab_type": "text"
      },
      "source": [
        "We see clearly the result of an integer overflow since the 16-bit integer has too few bits to represent the number \n",
        "40000.\n",
        "\n",
        "The Ariane 5 failure would have been averted with pre-launch testing and the following few lines:"
      ]
    },
    {
      "cell_type": "code",
      "metadata": {
        "id": "9wcIGMo7cUZ8",
        "colab_type": "code",
        "outputId": "4742f8e0-5fb5-41a7-f4e8-0c6324c7521a",
        "colab": {}
      },
      "source": [
        "if abs(speed_float) > np.iinfo(np.int16).max:\n",
        "    print(\"***Error, cannot assign speed to 16-bit int. Will cause overflow.\")\n",
        "    # Call command here to exit program\n",
        "else:\n",
        "    speed_int = np.int16(speed_float)"
      ],
      "execution_count": 0,
      "outputs": [
        {
          "output_type": "stream",
          "text": [
            "***Error, cannot assign speed to 16-bit int. Will cause overflow.\n"
          ],
          "name": "stdout"
        }
      ]
    },
    {
      "cell_type": "markdown",
      "metadata": {
        "id": "fSk2ox-YcUaC",
        "colab_type": "text"
      },
      "source": [
        "These few lines and careful testing would have saved the $500M payload and the cost of the rocket.\n",
        "\n",
        "The Ariane 5 incident is an example not only of a poor piece of programming, but also very poor testing and software engineering. Careful pre-launch testing of the software would have detected this problem. The program should have checked the value of the velocity before performing the conversion, and triggered an error message that the type conversion would cause an overflow."
      ]
    },
    {
      "cell_type": "markdown",
      "metadata": {
        "id": "ABfppmx2cUaD",
        "colab_type": "text"
      },
      "source": [
        "# Binary representation and floating point arithmetic\n",
        "\n",
        "## Binary (base 2) representation\n",
        "\n",
        "Computers store data using 'bits', and a bit is a switch that can have a value of 0 or 1. This means that computers store numbers in binary (base 2), whereas we almost always work with decimal numbers (base 10).\n",
        "For example, the binary number $110$ is equal to $0 \\times 2^{0} + 1 \\times 2^{1} + 1 \\times 2^{2} = 6$\n",
        "(read $110$ right-to-left).\n",
        "Below is a table with decimal (base 10) and the corresponding binary (base 2) representation of some numbers. See <https://en.wikipedia.org/wiki/Binary_number> if you want to learn more.\n",
        "\n",
        "|Decimal | Binary  |\n",
        "| ------ |-------- |\n",
        "|0       |\t   0   | \n",
        "|1       |\t1      | \n",
        "|2       |\t10     |\n",
        "|3       |\t11     |\n",
        "|4       |\t100    |\n",
        "|5       |\t101    |\n",
        "|6       |\t110    |\n",
        "|7       |\t111    |\n",
        "|8       |\t1000   |\n",
        "|9       |\t1001   |\n",
        "|10      |\t1010   |\n",
        "|11\t     |  1011   |\n",
        "|12\t     |  1100   |\n",
        "|13      |\t1101   |\n",
        "|14      |\t1110   |\n",
        "|15      |\t1111   |\n",
        "\n",
        "To represent any integer, all we need are enough bits to store the binary representation. If we have $n$ bits, the largest number we can store is $2^{n -1} - 1$ (the power is $n - 1$ because we use one bit to store the sign of the integer).\n",
        "\n",
        "We can display the binary representation of an integer in Python using the function `bin`:"
      ]
    },
    {
      "cell_type": "code",
      "metadata": {
        "id": "mW2SO892cUaD",
        "colab_type": "code",
        "outputId": "c40a2fba-48d5-45f2-c4d9-8b2362386cd6",
        "colab": {}
      },
      "source": [
        "print(bin(2))\n",
        "print(bin(6))\n",
        "print(bin(110))"
      ],
      "execution_count": 0,
      "outputs": [
        {
          "output_type": "stream",
          "text": [
            "0b10\n",
            "0b110\n",
            "0b1101110\n"
          ],
          "name": "stdout"
        }
      ]
    },
    {
      "cell_type": "markdown",
      "metadata": {
        "id": "vKAr04YIcUaK",
        "colab_type": "text"
      },
      "source": [
        "The prefix `0b` is to denote that the representation is binary."
      ]
    },
    {
      "cell_type": "markdown",
      "metadata": {
        "collapsed": true,
        "id": "gqGIpdNLcUaL",
        "colab_type": "text"
      },
      "source": [
        "## Floating point numbers\n",
        "\n",
        "We introduced the representation\n",
        "\n",
        "$$\n",
        "10.45 = \\underbrace{+}_{\\text{sign}} \\underbrace{1045}_{\\text{significand}} \\times \\underbrace{10^{-2}}_{\\text{exponent}}\n",
        "$$\n",
        "\n",
        "earlier. However, this was a little misleading because computers do not use base 10\n",
        "to store the significand and the exponent, but base 2. \n",
        "\n",
        "When using the familiar base 10, we cannot represent $1/3$ exactly as a decimal. If we liked using base 3 (ternary numeral system) for our mental arithmetic (which we really don't), we could represent $1/3$ exactly. However, fractions that are simple to represent exactly in base 10 might not be representable in another base.\n",
        "A consequence is that fractions that are simple in base 10 cannot necessarily be represented exactly by computers using binary.\n",
        "\n",
        "A classic example is $1/10 = 0.1$. This simple number cannot be represented exactly in\n",
        "binary. On the contrary, $1/2 = 0.5$ can be represented exactly. To explore this, let's assign the number 0.1 to the variable `x` and print the result:"
      ]
    },
    {
      "cell_type": "code",
      "metadata": {
        "id": "HWX1tS2qcUaN",
        "colab_type": "code",
        "outputId": "f6f1dc38-ae1e-428d-dca3-8a26051850e8",
        "colab": {}
      },
      "source": [
        "x = 0.1\n",
        "print(x)"
      ],
      "execution_count": 0,
      "outputs": [
        {
          "output_type": "stream",
          "text": [
            "0.1\n"
          ],
          "name": "stdout"
        }
      ]
    },
    {
      "cell_type": "markdown",
      "metadata": {
        "id": "5gWPtJdxcUaQ",
        "colab_type": "text"
      },
      "source": [
        "This looks fine, but the `print` statement is hiding some details. Asking the `print` statement to use 30 characters we see that `x` is not exactly 0.1:"
      ]
    },
    {
      "cell_type": "code",
      "metadata": {
        "id": "X05iNhk-cUaR",
        "colab_type": "code",
        "outputId": "f6dd7439-9d6f-4c71-9817-90038444e390",
        "colab": {}
      },
      "source": [
        "print('{0:.30f}'.format(x))"
      ],
      "execution_count": 0,
      "outputs": [
        {
          "output_type": "stream",
          "text": [
            "0.100000000000000005551115123126\n"
          ],
          "name": "stdout"
        }
      ]
    },
    {
      "cell_type": "markdown",
      "metadata": {
        "id": "fmw2McB0cUaT",
        "colab_type": "text"
      },
      "source": [
        "The difference between 0.1 and the binary representation is the *roundoff error* (we'll look at print formatting syntax in a later activity). From the above, we can see that the representation is accurate to about 17 significant figures.\n",
        "\n",
        "Checking for 0.5, we see that it appears to be represented exactly:"
      ]
    },
    {
      "cell_type": "code",
      "metadata": {
        "id": "-eyQae_icUaT",
        "colab_type": "code",
        "outputId": "4e852a75-970a-4e54-ed42-8c46da15ce24",
        "colab": {}
      },
      "source": [
        "print('{0:.30f}'.format(0.5))"
      ],
      "execution_count": 0,
      "outputs": [
        {
          "output_type": "stream",
          "text": [
            "0.500000000000000000000000000000\n"
          ],
          "name": "stdout"
        }
      ]
    },
    {
      "cell_type": "markdown",
      "metadata": {
        "id": "AtiE6PGncUaW",
        "colab_type": "text"
      },
      "source": [
        "The round-off error for the 0.1 case is small, and in many cases will not present a problem. However, sometimes round-off errors can accumulate and destroy accuracy."
      ]
    },
    {
      "cell_type": "markdown",
      "metadata": {
        "id": "H9599rg5cUaX",
        "colab_type": "text"
      },
      "source": [
        "### Example: inexact representation\n",
        "\n",
        "It is trivial that\n",
        "\n",
        "$$\n",
        "x = 11x - 10x\n",
        "$$\n",
        "\n",
        "If $x = 0.1$, we can  write\n",
        "\n",
        "$$\n",
        "x = 11x - 1\n",
        "$$\n",
        "\n",
        "Now, starting with $x = 0.1$ we evaluate the right-hand side to get a 'new' $x$, and use this new $x$ to then evaluate the right-hand side again. The arithmetic is trivial: $x$ should remain equal to $0.1$.\n",
        "We test this in a program that repeats this process 20 times: "
      ]
    },
    {
      "cell_type": "code",
      "metadata": {
        "id": "t23lRRo7cUaX",
        "colab_type": "code",
        "outputId": "3027ccf7-bd15-4383-ffd1-e63079732945",
        "colab": {}
      },
      "source": [
        "x = 0.1\n",
        "for i in range(20):\n",
        "    x = x*11 - 1\n",
        "    print(x)"
      ],
      "execution_count": 0,
      "outputs": [
        {
          "output_type": "stream",
          "text": [
            "0.10000000000000009\n",
            "0.10000000000000098\n",
            "0.10000000000001075\n",
            "0.10000000000011822\n",
            "0.10000000000130038\n",
            "0.1000000000143042\n",
            "0.10000000015734622\n",
            "0.10000000173080847\n",
            "0.10000001903889322\n",
            "0.10000020942782539\n",
            "0.10000230370607932\n",
            "0.10002534076687253\n",
            "0.10027874843559781\n",
            "0.1030662327915759\n",
            "0.13372856070733485\n",
            "0.4710141677806834\n",
            "4.181155845587517\n",
            "44.992714301462684\n",
            "493.9198573160895\n",
            "5432.118430476985\n"
          ],
          "name": "stdout"
        }
      ]
    },
    {
      "cell_type": "markdown",
      "metadata": {
        "id": "1jvhTF_YcUab",
        "colab_type": "text"
      },
      "source": [
        "The solution blows up and deviates widely from $x = 0.1$. Round-off errors are amplified at each step, leading to a completely wrong answer. The computer representation of $0.1$ is not exact, and every time we multiply $0.1$ by $11$, we increase the error by around a factor of 10 (we can see above that we lose a digit of accuracy in each step). \n",
        "You can observe the same issue using spreadsheet programs."
      ]
    },
    {
      "cell_type": "markdown",
      "metadata": {
        "id": "lI_Y67v7cUab",
        "colab_type": "text"
      },
      "source": [
        "If we use $x = 0.5$, which can be represented exactly in binary:"
      ]
    },
    {
      "cell_type": "code",
      "metadata": {
        "id": "KUBR2_ZVcUac",
        "colab_type": "code",
        "outputId": "9900eeb2-7b79-4230-e0ef-5103c4f96e1f",
        "colab": {}
      },
      "source": [
        "x = 0.5\n",
        "for i in range(20):\n",
        "    x = x*11 - 5\n",
        "    print(x)"
      ],
      "execution_count": 0,
      "outputs": [
        {
          "output_type": "stream",
          "text": [
            "0.5\n",
            "0.5\n",
            "0.5\n",
            "0.5\n",
            "0.5\n",
            "0.5\n",
            "0.5\n",
            "0.5\n",
            "0.5\n",
            "0.5\n",
            "0.5\n",
            "0.5\n",
            "0.5\n",
            "0.5\n",
            "0.5\n",
            "0.5\n",
            "0.5\n",
            "0.5\n",
            "0.5\n",
            "0.5\n"
          ],
          "name": "stdout"
        }
      ]
    },
    {
      "cell_type": "markdown",
      "metadata": {
        "id": "vP26po-jcUad",
        "colab_type": "text"
      },
      "source": [
        "The result is exact in this case.\n",
        "\n",
        "By default, Python uses 64 bits to store a float. We can use the module NumPy to create a \n",
        "float that uses only 32 bits. Testing this for the $x = 0.1$ case:"
      ]
    },
    {
      "cell_type": "code",
      "metadata": {
        "id": "qLr3VXPhcUae",
        "colab_type": "code",
        "outputId": "68b17392-1078-4454-d9b1-d91add0d334f",
        "colab": {}
      },
      "source": [
        "x = np.float32(0.1)\n",
        "for i in range(20):\n",
        "    x = x*11 - 1\n",
        "    print(x)"
      ],
      "execution_count": 0,
      "outputs": [
        {
          "output_type": "stream",
          "text": [
            "0.10000001639127731\n",
            "0.10000018030405045\n",
            "0.1000019833445549\n",
            "0.10002181679010391\n",
            "0.10023998469114304\n",
            "0.1026398316025734\n",
            "0.12903814762830734\n",
            "0.41941962391138077\n",
            "3.6136158630251884\n",
            "38.74977449327707\n",
            "425.2475194260478\n",
            "4676.722713686526\n",
            "51442.949850551784\n",
            "565871.4483560696\n",
            "6224584.931916766\n",
            "68470433.25108442\n",
            "753174764.7619286\n",
            "8284922411.381214\n",
            "91134146524.19336\n",
            "1002475611765.127\n"
          ],
          "name": "stdout"
        }
      ]
    },
    {
      "cell_type": "markdown",
      "metadata": {
        "id": "i0h6xTgLcUag",
        "colab_type": "text"
      },
      "source": [
        "The error blows up faster in this case compared to the 64 bit case - using 32 bits leads to a poorer approximation of $0.1$ than when using 64 bits.\n",
        "\n",
        "*Note:* Some languages have special tools for performing decimal (base 10) arithmetic (e.g., https://docs.python.org/3/library/decimal.html). This would, for example, allow $0.1$ to be represented exactly. However, decimal is not the 'natural' arithmetic of computers so operations in decimal could be expected to be much slower."
      ]
    },
    {
      "cell_type": "markdown",
      "metadata": {
        "id": "BqqWPAopcUag",
        "colab_type": "text"
      },
      "source": [
        "## Patriot Missile Failure\n",
        "\n",
        "The inexact representation of $0.1$ was the cause of the software error in the Patriot missile system (see preamble to this notebook). \n",
        "The missile system tracked time from boot (system start) using an integer counter that was incremented every $1/10$ of a second. To\n",
        "get the time in seconds, the missile software multiplied the counter by the float representation of $0.1$. \n",
        "The control software used 24 bits to store floats. The round-off error due to the inexact representation of $0.1$ lead to an error of $0.32$ s after 100 hours of operation (time since boot), which due to the high velocity of the missile was enough to cause failure to intercept the incoming Scud.\n",
        "\n",
        "We don't have 24-bit floats in Python, but we can test with 16, 32 and 64 bit floats.\n",
        "We first compute what the system counter (an integer) would be after 100 hours:"
      ]
    },
    {
      "cell_type": "code",
      "metadata": {
        "id": "tBPVNHeucUag",
        "colab_type": "code",
        "colab": {}
      },
      "source": [
        "# Compute internal system counter after 100 hours (counter increments every 1/10 s)\n",
        "num_hours = 100\n",
        "num_seconds = num_hours*60*60\n",
        "system_counter = num_seconds*10  # system clock counter"
      ],
      "execution_count": 0,
      "outputs": []
    },
    {
      "cell_type": "markdown",
      "metadata": {
        "id": "c6CLnhwycUaj",
        "colab_type": "text"
      },
      "source": [
        "Converting the system counter to seconds using different representations of 0.1:"
      ]
    },
    {
      "cell_type": "code",
      "metadata": {
        "id": "DF2_GYMOcUaj",
        "colab_type": "code",
        "outputId": "db564e0f-f824-451f-c871-1144bb60983c",
        "colab": {}
      },
      "source": [
        "# Test with 16 bit float\n",
        "dt = np.float16(0.1)\n",
        "time = dt*system_counter\n",
        "print(\"Time error after 100 hours using 16 bit float (s):\", abs(time - num_seconds))\n",
        "\n",
        "# Test with 32 bit float\n",
        "dt = np.float32(0.1)\n",
        "time = dt*system_counter\n",
        "print(\"Time error after 100 hours using 32 bit float (s):\", abs(time - num_seconds))\n",
        "\n",
        "# Test with 64 bit float\n",
        "dt = np.float64(0.1)\n",
        "time = dt*system_counter\n",
        "print(\"Time error after 100 hours using 64 bit float (s):\", abs(time - num_seconds))"
      ],
      "execution_count": 0,
      "outputs": [
        {
          "output_type": "stream",
          "text": [
            "Time error after 100 hours using 16 bit float (s): 87.890625\n",
            "Time error after 100 hours using 32 bit float (s): 0.005364418029785156\n",
            "Time error after 100 hours using 64 bit float (s): 0.0\n"
          ],
          "name": "stdout"
        }
      ]
    },
    {
      "cell_type": "markdown",
      "metadata": {
        "id": "c_Hj0B6tcUam",
        "colab_type": "text"
      },
      "source": [
        "The time computation with 16-bit floats is more than a minute off after 100 hours! The stop-gap measure \n",
        "for the Patriot missiles at the time was to reboot the missile systems frequently, thereby resetting the system counter and reducing the time error."
      ]
    },
    {
      "cell_type": "markdown",
      "metadata": {
        "id": "5vvNqme-cUan",
        "colab_type": "text"
      },
      "source": [
        "# Summary\n",
        "\n",
        "The key points from this activity are:\n",
        "\n",
        "- The size of an integer that a computer can store is determined by the number of bits used to represent the \n",
        "  integer.\n",
        "- Computers do not perform exact arithmetic with non-integer numbers. This does not usually cause a problem, but \n",
        "  it can in cases. Problems can often be avoided with careful programming.\n",
        "- Be thoughtful when converting between types - undesirable consequences can follow when careless with \n",
        "  conversions."
      ]
    },
    {
      "cell_type": "markdown",
      "metadata": {
        "id": "x-TkSqKBcUao",
        "colab_type": "text"
      },
      "source": [
        "# Exercises\n",
        "\n",
        "Complete now the [03 Exercises](Exercises/03%20Exercises.ipynb) notebook."
      ]
    }
  ]
}