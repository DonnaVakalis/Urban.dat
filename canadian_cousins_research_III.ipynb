{
  "nbformat": 4,
  "nbformat_minor": 0,
  "metadata": {
    "colab": {
      "name": "canadian_cousins_research_III.ipynb",
      "provenance": [],
      "collapsed_sections": [],
      "toc_visible": true,
      "include_colab_link": true
    },
    "kernelspec": {
      "display_name": "Python 3",
      "name": "python3"
    }
  },
  "cells": [
    {
      "cell_type": "markdown",
      "metadata": {
        "id": "view-in-github",
        "colab_type": "text"
      },
      "source": [
        "<a href=\"https://colab.research.google.com/github/DonnaVakalis/Urban.dat/blob/master/canadian_cousins_research_III.ipynb\" target=\"_parent\"><img src=\"https://colab.research.google.com/assets/colab-badge.svg\" alt=\"Open In Colab\"/></a>"
      ]
    },
    {
      "cell_type": "markdown",
      "metadata": {
        "id": "B_CL3K5VJ2Hb"
      },
      "source": [
        "# <h1><center>Cousin Cities</center></h1>\n",
        "\n",
        "> A cluster analysis of Canadian municipalities by climate, demographics and urban patterns\n",
        "\n"
      ]
    },
    {
      "cell_type": "markdown",
      "metadata": {
        "id": "aJN4SVv0yjSH"
      },
      "source": [
        "in case it's useful: reference 'how to launch a dash app' in colab: https://stackoverflow.com/questions/53622518/launch-a-dash-app-in-a-google-colab-notebook\n",
        "\n",
        "as well as here https://community.plotly.com/t/colab-and-easy-dash-sample/26799\n",
        "\n",
        "and then quick example with iris dataset: https://plotly.com/python/line-and-scatter/\n",
        "\n",
        "some inspiration:\n",
        "\n",
        "https://groundrush.pythonanywhere.com/\n"
      ]
    },
    {
      "cell_type": "markdown",
      "metadata": {
        "id": "4TtreOn3M2KU"
      },
      "source": [
        "## 0. Preamble (installs)"
      ]
    },
    {
      "cell_type": "code",
      "metadata": {
        "colab": {
          "base_uri": "https://localhost:8080/"
        },
        "id": "IeR8l1Vs8b_0",
        "outputId": "e44622a7-eeca-4c2f-9b1e-48a799ee2abe"
      },
      "source": [
        "%%time \n",
        "\n",
        "# Important library for many geopython libraries\n",
        "!apt install gdal-bin python-gdal python3-gdal \n",
        "# Install rtree - Geopandas requirment\n",
        "!apt install python3-rtree \n",
        "# Install Geopandas\n",
        "!pip install git+git://github.com/geopandas/geopandas.git\n",
        "# Install descartes - Geopandas requirment\n",
        "!pip install descartes \n",
        "\n",
        "# Install plotlyExpress\n",
        "!pip install plotly_express\n",
        "\n",
        "!pip install geopandas\n"
      ],
      "execution_count": 2,
      "outputs": [
        {
          "output_type": "stream",
          "text": [
            "Reading package lists... Done\n",
            "Building dependency tree       \n",
            "Reading state information... Done\n",
            "gdal-bin is already the newest version (2.2.3+dfsg-2).\n",
            "python-gdal is already the newest version (2.2.3+dfsg-2).\n",
            "The following package was automatically installed and is no longer required:\n",
            "  libnvidia-common-460\n",
            "Use 'apt autoremove' to remove it.\n",
            "The following additional packages will be installed:\n",
            "  python3-numpy\n",
            "Suggested packages:\n",
            "  python-numpy-doc python3-nose python3-numpy-dbg\n",
            "The following NEW packages will be installed:\n",
            "  python3-gdal python3-numpy\n",
            "0 upgraded, 2 newly installed, 0 to remove and 34 not upgraded.\n",
            "Need to get 2,288 kB of archives.\n",
            "After this operation, 13.2 MB of additional disk space will be used.\n",
            "Get:1 http://archive.ubuntu.com/ubuntu bionic/main amd64 python3-numpy amd64 1:1.13.3-2ubuntu1 [1,943 kB]\n",
            "Get:2 http://archive.ubuntu.com/ubuntu bionic/universe amd64 python3-gdal amd64 2.2.3+dfsg-2 [346 kB]\n",
            "Fetched 2,288 kB in 1s (2,185 kB/s)\n",
            "Selecting previously unselected package python3-numpy.\n",
            "(Reading database ... 160706 files and directories currently installed.)\n",
            "Preparing to unpack .../python3-numpy_1%3a1.13.3-2ubuntu1_amd64.deb ...\n",
            "Unpacking python3-numpy (1:1.13.3-2ubuntu1) ...\n",
            "Selecting previously unselected package python3-gdal.\n",
            "Preparing to unpack .../python3-gdal_2.2.3+dfsg-2_amd64.deb ...\n",
            "Unpacking python3-gdal (2.2.3+dfsg-2) ...\n",
            "Setting up python3-numpy (1:1.13.3-2ubuntu1) ...\n",
            "Setting up python3-gdal (2.2.3+dfsg-2) ...\n",
            "Processing triggers for man-db (2.8.3-2ubuntu0.1) ...\n",
            "Reading package lists... Done\n",
            "Building dependency tree       \n",
            "Reading state information... Done\n",
            "The following package was automatically installed and is no longer required:\n",
            "  libnvidia-common-460\n",
            "Use 'apt autoremove' to remove it.\n",
            "The following additional packages will be installed:\n",
            "  libspatialindex-c4v5 libspatialindex-dev libspatialindex4v5\n",
            "  python3-pkg-resources\n",
            "Suggested packages:\n",
            "  python3-setuptools\n",
            "The following NEW packages will be installed:\n",
            "  libspatialindex-c4v5 libspatialindex-dev libspatialindex4v5\n",
            "  python3-pkg-resources python3-rtree\n",
            "0 upgraded, 5 newly installed, 0 to remove and 34 not upgraded.\n",
            "Need to get 671 kB of archives.\n",
            "After this operation, 3,948 kB of additional disk space will be used.\n",
            "Get:1 http://archive.ubuntu.com/ubuntu bionic/universe amd64 libspatialindex4v5 amd64 1.8.5-5 [219 kB]\n",
            "Get:2 http://archive.ubuntu.com/ubuntu bionic/universe amd64 libspatialindex-c4v5 amd64 1.8.5-5 [51.7 kB]\n",
            "Get:3 http://archive.ubuntu.com/ubuntu bionic/main amd64 python3-pkg-resources all 39.0.1-2 [98.8 kB]\n",
            "Get:4 http://archive.ubuntu.com/ubuntu bionic/universe amd64 libspatialindex-dev amd64 1.8.5-5 [285 kB]\n",
            "Get:5 http://archive.ubuntu.com/ubuntu bionic/universe amd64 python3-rtree all 0.8.3+ds-1 [16.9 kB]\n",
            "Fetched 671 kB in 1s (747 kB/s)\n",
            "Selecting previously unselected package libspatialindex4v5:amd64.\n",
            "(Reading database ... 161116 files and directories currently installed.)\n",
            "Preparing to unpack .../libspatialindex4v5_1.8.5-5_amd64.deb ...\n",
            "Unpacking libspatialindex4v5:amd64 (1.8.5-5) ...\n",
            "Selecting previously unselected package libspatialindex-c4v5:amd64.\n",
            "Preparing to unpack .../libspatialindex-c4v5_1.8.5-5_amd64.deb ...\n",
            "Unpacking libspatialindex-c4v5:amd64 (1.8.5-5) ...\n",
            "Selecting previously unselected package python3-pkg-resources.\n",
            "Preparing to unpack .../python3-pkg-resources_39.0.1-2_all.deb ...\n",
            "Unpacking python3-pkg-resources (39.0.1-2) ...\n",
            "Selecting previously unselected package libspatialindex-dev:amd64.\n",
            "Preparing to unpack .../libspatialindex-dev_1.8.5-5_amd64.deb ...\n",
            "Unpacking libspatialindex-dev:amd64 (1.8.5-5) ...\n",
            "Selecting previously unselected package python3-rtree.\n",
            "Preparing to unpack .../python3-rtree_0.8.3+ds-1_all.deb ...\n",
            "Unpacking python3-rtree (0.8.3+ds-1) ...\n",
            "Setting up libspatialindex4v5:amd64 (1.8.5-5) ...\n",
            "Setting up python3-pkg-resources (39.0.1-2) ...\n",
            "Setting up libspatialindex-c4v5:amd64 (1.8.5-5) ...\n",
            "Setting up libspatialindex-dev:amd64 (1.8.5-5) ...\n",
            "Setting up python3-rtree (0.8.3+ds-1) ...\n",
            "Processing triggers for libc-bin (2.27-3ubuntu1.2) ...\n",
            "/sbin/ldconfig.real: /usr/local/lib/python3.7/dist-packages/ideep4py/lib/libmkldnn.so.0 is not a symbolic link\n",
            "\n",
            "Collecting git+git://github.com/geopandas/geopandas.git\n",
            "  Cloning git://github.com/geopandas/geopandas.git to /tmp/pip-req-build-45vh9uox\n",
            "  Running command git clone -q git://github.com/geopandas/geopandas.git /tmp/pip-req-build-45vh9uox\n",
            "Requirement already satisfied: pandas>=0.24.0 in /usr/local/lib/python3.7/dist-packages (from geopandas==0.9.0+24.ga26bde2) (1.1.5)\n",
            "Requirement already satisfied: shapely>=1.6 in /usr/local/lib/python3.7/dist-packages (from geopandas==0.9.0+24.ga26bde2) (1.7.1)\n",
            "Collecting fiona>=1.8\n",
            "\u001b[?25l  Downloading https://files.pythonhosted.org/packages/ea/2a/404b22883298a3efe9c6ef8d67acbf2c38443fa366ee9cd4cd34e17626ea/Fiona-1.8.19-cp37-cp37m-manylinux1_x86_64.whl (15.3MB)\n",
            "\u001b[K     |████████████████████████████████| 15.3MB 271kB/s \n",
            "\u001b[?25hCollecting pyproj>=2.2.0\n",
            "\u001b[?25l  Downloading https://files.pythonhosted.org/packages/b1/72/d52e9ca81caef056062d71991b0e9b1d16af042245627c5d0e4916a36c4f/pyproj-3.0.1-cp37-cp37m-manylinux2010_x86_64.whl (6.5MB)\n",
            "\u001b[K     |████████████████████████████████| 6.5MB 27.3MB/s \n",
            "\u001b[?25hRequirement already satisfied: python-dateutil>=2.7.3 in /usr/local/lib/python3.7/dist-packages (from pandas>=0.24.0->geopandas==0.9.0+24.ga26bde2) (2.8.1)\n",
            "Requirement already satisfied: pytz>=2017.2 in /usr/local/lib/python3.7/dist-packages (from pandas>=0.24.0->geopandas==0.9.0+24.ga26bde2) (2018.9)\n",
            "Requirement already satisfied: numpy>=1.15.4 in /usr/local/lib/python3.7/dist-packages (from pandas>=0.24.0->geopandas==0.9.0+24.ga26bde2) (1.19.5)\n",
            "Collecting cligj>=0.5\n",
            "  Downloading https://files.pythonhosted.org/packages/42/1e/947eadf10d6804bf276eb8a038bd5307996dceaaa41cfd21b7a15ec62f5d/cligj-0.7.1-py3-none-any.whl\n",
            "Collecting munch\n",
            "  Downloading https://files.pythonhosted.org/packages/cc/ab/85d8da5c9a45e072301beb37ad7f833cd344e04c817d97e0cc75681d248f/munch-2.5.0-py2.py3-none-any.whl\n",
            "Requirement already satisfied: six>=1.7 in /usr/local/lib/python3.7/dist-packages (from fiona>=1.8->geopandas==0.9.0+24.ga26bde2) (1.15.0)\n",
            "Collecting click<8,>=4.0\n",
            "\u001b[?25l  Downloading https://files.pythonhosted.org/packages/d2/3d/fa76db83bf75c4f8d338c2fd15c8d33fdd7ad23a9b5e57eb6c5de26b430e/click-7.1.2-py2.py3-none-any.whl (82kB)\n",
            "\u001b[K     |████████████████████████████████| 92kB 8.1MB/s \n",
            "\u001b[?25hRequirement already satisfied: certifi in /usr/local/lib/python3.7/dist-packages (from fiona>=1.8->geopandas==0.9.0+24.ga26bde2) (2020.12.5)\n",
            "Requirement already satisfied: attrs>=17 in /usr/local/lib/python3.7/dist-packages (from fiona>=1.8->geopandas==0.9.0+24.ga26bde2) (21.2.0)\n",
            "Collecting click-plugins>=1.0\n",
            "  Downloading https://files.pythonhosted.org/packages/e9/da/824b92d9942f4e472702488857914bdd50f73021efea15b4cad9aca8ecef/click_plugins-1.1.1-py2.py3-none-any.whl\n",
            "Building wheels for collected packages: geopandas\n",
            "  Building wheel for geopandas (setup.py) ... \u001b[?25l\u001b[?25hdone\n",
            "  Created wheel for geopandas: filename=geopandas-0.9.0+24.ga26bde2-py2.py3-none-any.whl size=995296 sha256=d6852544f84ce3d16e8eae98f5d540456414fb84a0194031d4c09d19801ad1b9\n",
            "  Stored in directory: /tmp/pip-ephem-wheel-cache-5l0lu5vo/wheels/91/24/71/376c9c67192694168352afcccc2d264248f7e2cc6192997186\n",
            "Successfully built geopandas\n",
            "Installing collected packages: click, cligj, munch, click-plugins, fiona, pyproj, geopandas\n",
            "  Found existing installation: click 8.0.0\n",
            "    Uninstalling click-8.0.0:\n",
            "      Successfully uninstalled click-8.0.0\n",
            "Successfully installed click-7.1.2 click-plugins-1.1.1 cligj-0.7.1 fiona-1.8.19 geopandas-0.9.0+24.ga26bde2 munch-2.5.0 pyproj-3.0.1\n",
            "Requirement already satisfied: descartes in /usr/local/lib/python3.7/dist-packages (1.1.0)\n",
            "Requirement already satisfied: matplotlib in /usr/local/lib/python3.7/dist-packages (from descartes) (3.2.2)\n",
            "Requirement already satisfied: python-dateutil>=2.1 in /usr/local/lib/python3.7/dist-packages (from matplotlib->descartes) (2.8.1)\n",
            "Requirement already satisfied: kiwisolver>=1.0.1 in /usr/local/lib/python3.7/dist-packages (from matplotlib->descartes) (1.3.1)\n",
            "Requirement already satisfied: pyparsing!=2.0.4,!=2.1.2,!=2.1.6,>=2.0.1 in /usr/local/lib/python3.7/dist-packages (from matplotlib->descartes) (2.4.7)\n",
            "Requirement already satisfied: numpy>=1.11 in /usr/local/lib/python3.7/dist-packages (from matplotlib->descartes) (1.19.5)\n",
            "Requirement already satisfied: cycler>=0.10 in /usr/local/lib/python3.7/dist-packages (from matplotlib->descartes) (0.10.0)\n",
            "Requirement already satisfied: six>=1.5 in /usr/local/lib/python3.7/dist-packages (from python-dateutil>=2.1->matplotlib->descartes) (1.15.0)\n",
            "Collecting plotly_express\n",
            "  Downloading https://files.pythonhosted.org/packages/d4/d6/8a2906f51e073a4be80cab35cfa10e7a34853e60f3ed5304ac470852a08d/plotly_express-0.4.1-py2.py3-none-any.whl\n",
            "Requirement already satisfied: numpy>=1.11 in /usr/local/lib/python3.7/dist-packages (from plotly_express) (1.19.5)\n",
            "Requirement already satisfied: statsmodels>=0.9.0 in /usr/local/lib/python3.7/dist-packages (from plotly_express) (0.10.2)\n",
            "Requirement already satisfied: pandas>=0.20.0 in /usr/local/lib/python3.7/dist-packages (from plotly_express) (1.1.5)\n",
            "Requirement already satisfied: patsy>=0.5 in /usr/local/lib/python3.7/dist-packages (from plotly_express) (0.5.1)\n",
            "Requirement already satisfied: plotly>=4.1.0 in /usr/local/lib/python3.7/dist-packages (from plotly_express) (4.4.1)\n",
            "Requirement already satisfied: scipy>=0.18 in /usr/local/lib/python3.7/dist-packages (from plotly_express) (1.4.1)\n",
            "Requirement already satisfied: python-dateutil>=2.7.3 in /usr/local/lib/python3.7/dist-packages (from pandas>=0.20.0->plotly_express) (2.8.1)\n",
            "Requirement already satisfied: pytz>=2017.2 in /usr/local/lib/python3.7/dist-packages (from pandas>=0.20.0->plotly_express) (2018.9)\n",
            "Requirement already satisfied: six in /usr/local/lib/python3.7/dist-packages (from patsy>=0.5->plotly_express) (1.15.0)\n",
            "Requirement already satisfied: retrying>=1.3.3 in /usr/local/lib/python3.7/dist-packages (from plotly>=4.1.0->plotly_express) (1.3.3)\n",
            "Installing collected packages: plotly-express\n",
            "Successfully installed plotly-express-0.4.1\n",
            "Requirement already satisfied: geopandas in /usr/local/lib/python3.7/dist-packages (0.9.0+24.ga26bde2)\n",
            "Requirement already satisfied: fiona>=1.8 in /usr/local/lib/python3.7/dist-packages (from geopandas) (1.8.19)\n",
            "Requirement already satisfied: shapely>=1.6 in /usr/local/lib/python3.7/dist-packages (from geopandas) (1.7.1)\n",
            "Requirement already satisfied: pandas>=0.24.0 in /usr/local/lib/python3.7/dist-packages (from geopandas) (1.1.5)\n",
            "Requirement already satisfied: pyproj>=2.2.0 in /usr/local/lib/python3.7/dist-packages (from geopandas) (3.0.1)\n",
            "Requirement already satisfied: certifi in /usr/local/lib/python3.7/dist-packages (from fiona>=1.8->geopandas) (2020.12.5)\n",
            "Requirement already satisfied: click<8,>=4.0 in /usr/local/lib/python3.7/dist-packages (from fiona>=1.8->geopandas) (7.1.2)\n",
            "Requirement already satisfied: cligj>=0.5 in /usr/local/lib/python3.7/dist-packages (from fiona>=1.8->geopandas) (0.7.1)\n",
            "Requirement already satisfied: munch in /usr/local/lib/python3.7/dist-packages (from fiona>=1.8->geopandas) (2.5.0)\n",
            "Requirement already satisfied: attrs>=17 in /usr/local/lib/python3.7/dist-packages (from fiona>=1.8->geopandas) (21.2.0)\n",
            "Requirement already satisfied: click-plugins>=1.0 in /usr/local/lib/python3.7/dist-packages (from fiona>=1.8->geopandas) (1.1.1)\n",
            "Requirement already satisfied: six>=1.7 in /usr/local/lib/python3.7/dist-packages (from fiona>=1.8->geopandas) (1.15.0)\n",
            "Requirement already satisfied: numpy>=1.15.4 in /usr/local/lib/python3.7/dist-packages (from pandas>=0.24.0->geopandas) (1.19.5)\n",
            "Requirement already satisfied: pytz>=2017.2 in /usr/local/lib/python3.7/dist-packages (from pandas>=0.24.0->geopandas) (2018.9)\n",
            "Requirement already satisfied: python-dateutil>=2.7.3 in /usr/local/lib/python3.7/dist-packages (from pandas>=0.24.0->geopandas) (2.8.1)\n",
            "CPU times: user 493 ms, sys: 131 ms, total: 624 ms\n",
            "Wall time: 45.5 s\n"
          ],
          "name": "stdout"
        }
      ]
    },
    {
      "cell_type": "markdown",
      "metadata": {
        "id": "VWovYM5EOQiU"
      },
      "source": [
        "## 1. Import libraries and data sets\n",
        "\n"
      ]
    },
    {
      "cell_type": "markdown",
      "metadata": {
        "id": "21TipzJogcvU"
      },
      "source": [
        "### 1.1 Import libraries"
      ]
    },
    {
      "cell_type": "code",
      "metadata": {
        "id": "A91qAwyjOTs8"
      },
      "source": [
        "import pandas as pd\n",
        "import numpy as np\n",
        "\n",
        "import os\n",
        "from google.colab import drive\n",
        "\n",
        "import geopandas as gpd\n",
        "import ipywidgets as widgets\n",
        "from ipywidgets import interact, interact_manual\n",
        "import cufflinks as cf\n",
        "\n",
        "from IPython.display import HTML #(then use HTML(fig.to_html()))\n",
        "#import contextily as ctx\n",
        "\n",
        "import seaborn as sns\n",
        "\n",
        "from matplotlib import pyplot as plt\n",
        "\n",
        "import plotly_express as px\n",
        " \n"
      ],
      "execution_count": 4,
      "outputs": []
    },
    {
      "cell_type": "markdown",
      "metadata": {
        "id": "33KmXAZDgjK3"
      },
      "source": [
        "### 1.2 Mount google drive"
      ]
    },
    {
      "cell_type": "code",
      "metadata": {
        "colab": {
          "base_uri": "https://localhost:8080/"
        },
        "id": "FeG3gEIv_mdO",
        "outputId": "40e39834-c824-492d-869c-1a7a087b4018"
      },
      "source": [
        "# mount google drive\n",
        "drive.mount('/content/gdrive/')\n",
        "\n",
        "root_dir = \"/content/gdrive/My Drive/Colab Notebooks/\"\n",
        "base_dir = root_dir + 'data_viz_club/'\n"
      ],
      "execution_count": 5,
      "outputs": [
        {
          "output_type": "stream",
          "text": [
            "Mounted at /content/gdrive/\n"
          ],
          "name": "stdout"
        }
      ]
    },
    {
      "cell_type": "markdown",
      "metadata": {
        "id": "aCz_HPc6gpFS"
      },
      "source": [
        "### 1.3 Go get the data sets!"
      ]
    },
    {
      "cell_type": "markdown",
      "metadata": {
        "id": "r637Yv6FZhwz"
      },
      "source": [
        "#### Data Provenance\n",
        "Public Datasets Used:\n",
        "\n",
        "Statistics Canada 2016 Census Data portal\n",
        "Environment and Climate Change Canada Historic Weather \n",
        "\n",
        "Expanded Project Datasets (for inclusion later on):\n",
        " "
      ]
    },
    {
      "cell_type": "code",
      "metadata": {
        "colab": {
          "base_uri": "https://localhost:8080/"
        },
        "id": "z6m5RCXdb57L",
        "outputId": "5ba7d9fa-d897-481a-f6b7-a9e5a97d0d99"
      },
      "source": [
        "# Read in data\n",
        "\n",
        "# Read in CSD Census Profiles\n",
        "# From Statistics Canada \n",
        "filename = base_dir + 'raw_data_files/98-401-X2016042_English_CSV_data.csv'\n",
        "df_census = pd.read_csv(filename)\n",
        "\n",
        "\n",
        "# Read Pre-processed weather data--> Geopandas\n",
        "# This file was processed separately. It contains the shapes of CSDs and the HDDS and CDDS for 2018 of nearest weather station \n",
        "filename = base_dir + 'raw_data_files/csd_with_nearest_weatherStation.pkl'\n",
        "gdf_weather = pd.read_pickle(filename)\n",
        "\n",
        "\n",
        "# Read in transportation data (includes population)\n",
        "# From Statistics Canada\n",
        "filename = base_dir + 'raw_data_files/23100286.csv'\n",
        "df_trnsp = pd.read_csv(filename)\n",
        "\n",
        "# Read in Remoteness Index\n",
        "# From Statistics Canada\n",
        "filename = base_dir + 'raw_data_files/17100143.csv'\n",
        "df_remote = pd.read_csv(filename)\n",
        "\n",
        "\n",
        "# Future data sets:\n",
        "\n",
        "# Read census commuting and occupation \n",
        "# from https://www12.statcan.gc.ca/census-recensement/2016/dp-pd/dt-td/Lp-eng.cfm?LANG=E&APATH=7&DETAIL=0&DIM=0&FL=C&FREE=0&GC=0&GID=0&GK=0&GRP=1&PID=0&PRID=10&PTYPE=109445&S=0&SHOWALL=0&SUB=0&Temporal=2016,2017&THEME=0&VID=0&VNAMEE=Commuting%20duration%20%286%29&VNAMEF=Dur%C3%A9e%20du%20trajet%20domicile%2Dlieu%20de%20travail%20%286%29\n",
        " \n",
        "# Read in NAICS data? \n",
        "# e.g., percentage in ag or ind...\n",
        "\n",
        "# Read in MEED data! "
      ],
      "execution_count": 6,
      "outputs": [
        {
          "output_type": "stream",
          "text": [
            "/usr/local/lib/python3.7/dist-packages/IPython/core/interactiveshell.py:2718: DtypeWarning:\n",
            "\n",
            "Columns (12) have mixed types.Specify dtype option on import or set low_memory=False.\n",
            "\n"
          ],
          "name": "stderr"
        }
      ]
    },
    {
      "cell_type": "markdown",
      "metadata": {
        "id": "E_wBrkY3xU1c"
      },
      "source": [
        "## Clean and organize"
      ]
    },
    {
      "cell_type": "markdown",
      "metadata": {
        "id": "A4PrkQ6JztFU"
      },
      "source": [
        "#### start with census data: limiting factor on which CSDs have 'complete' data\n"
      ]
    },
    {
      "cell_type": "code",
      "metadata": {
        "colab": {
          "base_uri": "https://localhost:8080/"
        },
        "id": "o_DOCCom-6IH",
        "outputId": "a31a5077-06cd-4144-c42e-854f3e18a83b"
      },
      "source": [
        "df_census.query('GEO_LEVEL == 3').GEO_NAME.nunique() # 942 Census Subdivisions in this set\n",
        "df_census.query('GEO_NAME == \"Toronto\"') # Check whether level 3 CSDs include the level 2s...i.e., is Toronto in level 3 and 2? or just 2? (Answer: it's in both)\n",
        "\n",
        "df_census.query('GEO_LEVEL == 3')['DIM: Profile of Census Subdivisions (2247)'].nunique() # 1135 features\n",
        "\n",
        "#To see all:\n",
        "#with np.printoptions(threshold=np.inf):\n",
        " #   print(df_census.query('GEO_LEVEL == 3')['DIM: Profile of Census Subdivisions (2247)'].unique())"
      ],
      "execution_count": 79,
      "outputs": [
        {
          "output_type": "execute_result",
          "data": {
            "text/plain": [
              "1135"
            ]
          },
          "metadata": {
            "tags": []
          },
          "execution_count": 79
        }
      ]
    },
    {
      "cell_type": "code",
      "metadata": {
        "colab": {
          "base_uri": "https://localhost:8080/",
          "height": 329
        },
        "id": "j1OSFwiuuFhL",
        "outputId": "fde5c826-a27b-4bb0-ddb5-6e7379b823fa"
      },
      "source": [
        "df_census.query('GEO_LEVEL == 3').head()"
      ],
      "execution_count": 80,
      "outputs": [
        {
          "output_type": "execute_result",
          "data": {
            "text/html": [
              "<div>\n",
              "<style scoped>\n",
              "    .dataframe tbody tr th:only-of-type {\n",
              "        vertical-align: middle;\n",
              "    }\n",
              "\n",
              "    .dataframe tbody tr th {\n",
              "        vertical-align: top;\n",
              "    }\n",
              "\n",
              "    .dataframe thead th {\n",
              "        text-align: right;\n",
              "    }\n",
              "</style>\n",
              "<table border=\"1\" class=\"dataframe\">\n",
              "  <thead>\n",
              "    <tr style=\"text-align: right;\">\n",
              "      <th></th>\n",
              "      <th>CENSUS_YEAR</th>\n",
              "      <th>GEO_CODE (POR)</th>\n",
              "      <th>GEO_LEVEL</th>\n",
              "      <th>GEO_NAME</th>\n",
              "      <th>GNR</th>\n",
              "      <th>GNR_LF</th>\n",
              "      <th>DATA_QUALITY_FLAG</th>\n",
              "      <th>CSD_TYPE_NAME</th>\n",
              "      <th>ALT_GEO_CODE</th>\n",
              "      <th>DIM: Profile of Census Subdivisions (2247)</th>\n",
              "      <th>Member ID: Profile of Census Subdivisions (2247)</th>\n",
              "      <th>Notes: Profile of Census Subdivisions (2247)</th>\n",
              "      <th>Dim: Sex (3): Member ID: [1]: Total - Sex</th>\n",
              "      <th>Dim: Sex (3): Member ID: [2]: Male</th>\n",
              "      <th>Dim: Sex (3): Member ID: [3]: Female</th>\n",
              "    </tr>\n",
              "  </thead>\n",
              "  <tbody>\n",
              "    <tr>\n",
              "      <th>2247</th>\n",
              "      <td>2016</td>\n",
              "      <td>1001485</td>\n",
              "      <td>3</td>\n",
              "      <td>Conception Bay South</td>\n",
              "      <td>2.5</td>\n",
              "      <td>3.9</td>\n",
              "      <td>0</td>\n",
              "      <td>T</td>\n",
              "      <td>10011001485</td>\n",
              "      <td>Population, 2016</td>\n",
              "      <td>1</td>\n",
              "      <td>1.0</td>\n",
              "      <td>26199</td>\n",
              "      <td>...</td>\n",
              "      <td>...</td>\n",
              "    </tr>\n",
              "    <tr>\n",
              "      <th>2248</th>\n",
              "      <td>2016</td>\n",
              "      <td>1001485</td>\n",
              "      <td>3</td>\n",
              "      <td>Conception Bay South</td>\n",
              "      <td>2.5</td>\n",
              "      <td>3.9</td>\n",
              "      <td>0</td>\n",
              "      <td>T</td>\n",
              "      <td>10011001485</td>\n",
              "      <td>Population, 2011</td>\n",
              "      <td>2</td>\n",
              "      <td>2.0</td>\n",
              "      <td>24848</td>\n",
              "      <td>...</td>\n",
              "      <td>...</td>\n",
              "    </tr>\n",
              "    <tr>\n",
              "      <th>2249</th>\n",
              "      <td>2016</td>\n",
              "      <td>1001485</td>\n",
              "      <td>3</td>\n",
              "      <td>Conception Bay South</td>\n",
              "      <td>2.5</td>\n",
              "      <td>3.9</td>\n",
              "      <td>0</td>\n",
              "      <td>T</td>\n",
              "      <td>10011001485</td>\n",
              "      <td>Population percentage change, 2011 to 2016</td>\n",
              "      <td>3</td>\n",
              "      <td>NaN</td>\n",
              "      <td>5.4</td>\n",
              "      <td>...</td>\n",
              "      <td>...</td>\n",
              "    </tr>\n",
              "    <tr>\n",
              "      <th>2250</th>\n",
              "      <td>2016</td>\n",
              "      <td>1001485</td>\n",
              "      <td>3</td>\n",
              "      <td>Conception Bay South</td>\n",
              "      <td>2.5</td>\n",
              "      <td>3.9</td>\n",
              "      <td>0</td>\n",
              "      <td>T</td>\n",
              "      <td>10011001485</td>\n",
              "      <td>Total private dwellings</td>\n",
              "      <td>4</td>\n",
              "      <td>3.0</td>\n",
              "      <td>10553</td>\n",
              "      <td>...</td>\n",
              "      <td>...</td>\n",
              "    </tr>\n",
              "    <tr>\n",
              "      <th>2251</th>\n",
              "      <td>2016</td>\n",
              "      <td>1001485</td>\n",
              "      <td>3</td>\n",
              "      <td>Conception Bay South</td>\n",
              "      <td>2.5</td>\n",
              "      <td>3.9</td>\n",
              "      <td>0</td>\n",
              "      <td>T</td>\n",
              "      <td>10011001485</td>\n",
              "      <td>Private dwellings occupied by usual residents</td>\n",
              "      <td>5</td>\n",
              "      <td>4.0</td>\n",
              "      <td>9934</td>\n",
              "      <td>...</td>\n",
              "      <td>...</td>\n",
              "    </tr>\n",
              "  </tbody>\n",
              "</table>\n",
              "</div>"
            ],
            "text/plain": [
              "      CENSUS_YEAR  ...  Dim: Sex (3): Member ID: [3]: Female\n",
              "2247         2016  ...                                   ...\n",
              "2248         2016  ...                                   ...\n",
              "2249         2016  ...                                   ...\n",
              "2250         2016  ...                                   ...\n",
              "2251         2016  ...                                   ...\n",
              "\n",
              "[5 rows x 15 columns]"
            ]
          },
          "metadata": {
            "tags": []
          },
          "execution_count": 80
        }
      ]
    },
    {
      "cell_type": "code",
      "metadata": {
        "id": "Za_nhSSqdsqo"
      },
      "source": [
        "# Get all CSDs (GEO_LEVEL 3) and rename columns\n",
        "df_census_0 = df_census.query(\n",
        "    'GEO_LEVEL == 3')[[\n",
        "                        'GEO_NAME',\n",
        "                        'GEO_CODE (POR)',\n",
        "                        'GNR_LF',\n",
        "                        'DIM: Profile of Census Subdivisions (2247)',\n",
        "                        'Dim: Sex (3): Member ID: [1]: Total - Sex']].rename(columns={\n",
        "                              'GEO_NAME' : 'geo_name',\n",
        "                              'GEO_CODE (POR)' : 'geo_code',\n",
        "                              'GNR_LF':'nonResponse_rt',\n",
        "                              'DIM: Profile of Census Subdivisions (2247)':'feature',\n",
        "                              'Dim: Sex (3): Member ID: [1]: Total - Sex':'value'})  \n",
        "\n",
        "# Trim the 1135 features down to those that might be of interest...\n",
        "ls_of_interest = ['Population, 2016',\n",
        "                  'Population percentage change, 2011 to 2016',\n",
        "                   'Population density per square kilometre',\n",
        "                   'Median age of the population',\n",
        "                   'Total - Occupied private dwellings by structural type of dwelling - 100% data',\n",
        "                   'Single-detached house',\n",
        "                   'Apartment in a building that has five or more storeys',\n",
        "                   'Average household size',\n",
        "                   'Official language minority (percentage)',\n",
        "                   'Total - Language spoken most often at home for the total population excluding institutional residents - 100% data',\n",
        "                   'Non-official languages',\n",
        "                   'Number of total income recipients aged 15 years and over in private households - 100% data',\n",
        "                   'Median total income in 2015 among recipients ($)',\n",
        "                   'Number of government transfers recipients aged 15 years and over in private households - 100% data',\n",
        "                   'Total - Generation status for the population in private households - 25% sample data',\n",
        "                   'First generation',\n",
        "                   'Second generation',\n",
        "                   'Total - Aboriginal identity for the population in private households - 25% sample data',\n",
        "                   'Aboriginal identity',\n",
        "                   'Total - Private households by tenure - 25% sample data',\n",
        "                   'Owner',\n",
        "                   'Renter',\n",
        "                   'Band housing',\n",
        "                   'Total - Occupied private dwellings by period of construction - 25% sample data',\n",
        "                   '1960 or before',\n",
        "                   '2011 to 2016',\n",
        "                   'Total - Highest certificate, diploma or degree for the population aged 15 years and over in private households - 25% sample data',\n",
        "                   'No certificate, diploma or degree',\n",
        "                   'Secondary (high) school diploma or equivalency certificate',\n",
        "                   'University certificate, diploma or degree at bachelor level or above',\n",
        "                   'Degree in medicine, dentistry, veterinary medicine or optometry',\n",
        "                   'Earned doctorate',\n",
        "                   'Postsecondary certificate, diploma or degree',\n",
        "                   'Same as province or territory of residence', #location of study\n",
        "                   'Location of study outside Canada',\n",
        "                   'Total - Population aged 15 years and over by Labour force status - 25% sample data',\n",
        "                   'Participation rate',\n",
        "                   'Unemployment rate',\n",
        "                   'All occupations',\n",
        "                   '0 Management occupations',\n",
        "                   '1 Business, finance and administration occupations',\n",
        "                   '2 Natural and applied sciences and related occupations',\n",
        "                   '3 Health occupations',\n",
        "                   '4 Occupations in education, law and social, community and government services',\n",
        "                   '5 Occupations in art, culture, recreation and sport',\n",
        "                   '6 Sales and service occupations',\n",
        "                   '7 Trades, transport and equipment operators and related occupations',\n",
        "                   '8 Natural resources, agriculture and related production occupations',\n",
        "                   '9 Occupations in manufacturing and utilities',\n",
        "                   'Total - Place of work status for the employed labour force aged 15 years and over in private households - 25% sample data',\n",
        "                   'Worked at home',\n",
        "                   'Worked outside Canada',\n",
        "                   'No fixed workplace address',\n",
        "                   'Worked at usual place',\n",
        "                   'Total - Main mode of commuting for the employed labour force aged 15 years and over in private households with a usual place of work or no fixed workplace address - 25% sample data',\n",
        "                   'Car, truck, van - as a driver',\n",
        "                   'Car, truck, van - as a passenger',\n",
        "                   'Public transit',\n",
        "                   'Walked',\n",
        "                   'Bicycle',\n",
        "                   'Other method',\n",
        "                   'Total - Commuting duration for the employed labour force aged 15 years and over in private households with a usual place of work or no fixed workplace address - 25% sample data',\n",
        "                   'Less than 15 minutes',\n",
        "                   '60 minutes and over']\n",
        "\n",
        "df_census_1 = df_census_0[df_census_0['feature'].isin(ls_of_interest)]"
      ],
      "execution_count": 81,
      "outputs": []
    },
    {
      "cell_type": "code",
      "metadata": {
        "id": "3ZCW71vbuYzV"
      },
      "source": [
        "#df_census_1.info()\n",
        "\n",
        "# need to convert value column to numeric types\n",
        "df_census_1['value'] = df_census_1['value'].apply(pd.to_numeric, errors='coerce')\n",
        "\n",
        "# pivot so that features become separate columns for each CSD (one row)\n",
        "df_census_1a = df_census_1.pivot_table(index=['geo_name','geo_code','nonResponse_rt'], columns='feature', values='value').reset_index()\n",
        "\n",
        "#df_census_2.shape # 907 rows, 67 columns\n"
      ],
      "execution_count": 82,
      "outputs": []
    },
    {
      "cell_type": "code",
      "metadata": {
        "id": "6La9yCHx1zbI"
      },
      "source": [
        "# Use features to create percentages and/or refine values to use\n",
        "df_census_2a = df_census_1a.copy()\n",
        "df_census_3 = pd.DataFrame()\n",
        "\n",
        "df_census_3['geo_name'] = df_census_2a['geo_name']\n",
        "df_census_3['geo_code'] = df_census_2a['geo_code']\n",
        "\n",
        "# Demographics (age, education)\n",
        "df_census_3['pop_tot'] = df_census_2a['Population, 2016']\n",
        "df_census_3['pop_density'] = df_census_2a['Population density per square kilometre']\n",
        "df_census_3['pop_change'] = df_census_2a['Population percentage change, 2011 to 2016']\n",
        "df_census_3['pop_medAge'] = df_census_2a['Median age of the population']\n",
        "df_census_3['school_none'] = df_census_2a['No certificate, diploma or degree']/df_census_2a['Total - Highest certificate, diploma or degree for the population aged 15 years and over in private households - 25% sample data'] \n",
        "df_census_3['school_uni'] = df_census_2a['University certificate, diploma or degree at bachelor level or above']/df_census_2a['Total - Highest certificate, diploma or degree for the population aged 15 years and over in private households - 25% sample data'] \n",
        "\n",
        "# Jobs (Sectors and unemployment and pay)\n",
        "df_census_3['work_unempRate'] = df_census_2a['Unemployment rate'] \n",
        "df_census_3['work_agr'] = df_census_2a['8 Natural resources, agriculture and related production occupations']/df_census_2a['All occupations']\n",
        "df_census_3['work_arts'] = df_census_2a['5 Occupations in art, culture, recreation and sport']/df_census_2a['All occupations']\n",
        "df_census_3['work_biz'] = df_census_2a['1 Business, finance and administration occupations']/df_census_2a['All occupations']\n",
        "\n",
        "\n",
        "# Urbanism (density, age)\n",
        "df_census_3['trnst_active'] = (df_census_2a['Walked']+df_census_2a['Bicycle']) /df_census_2a['Total - Main mode of commuting for the employed labour force aged 15 years and over in private households with a usual place of work or no fixed workplace address - 25% sample data']\n",
        "\n",
        "df_census_3['trnst_car'] = (df_census_2a['Car, truck, van - as a driver']+df_census_2a['Car, truck, van - as a passenger']) /df_census_2a['Total - Main mode of commuting for the employed labour force aged 15 years and over in private households with a usual place of work or no fixed workplace address - 25% sample data']\n",
        "\n",
        "df_census_3['trnst_15minutes'] = df_census_2a['Less than 15 minutes']/df_census_2a['Total - Commuting duration for the employed labour force aged 15 years and over in private households with a usual place of work or no fixed workplace address - 25% sample data'] \n",
        "\n",
        "df_census_3['bldgs_house'] = df_census_2a['Single-detached house']/df_census_2a['Total - Occupied private dwellings by structural type of dwelling - 100% data']\n",
        "df_census_3['bldgs_aprtmnt'] = df_census_2a['Apartment in a building that has five or more storeys']/df_census_2a['Total - Occupied private dwellings by structural type of dwelling - 100% data']\n",
        "\n",
        "# Culture (language, migration)\n",
        "df_census_3['pop_1stGenImm'] = df_census_2a['First generation']/df_census_2a['Total - Generation status for the population in private households - 25% sample data']\n",
        "df_census_3['lang_noEngFr'] = df_census_2a['Non-official languages']/df_census_2a['Total - Language spoken most often at home for the total population excluding institutional residents - 100% data']\n"
      ],
      "execution_count": 88,
      "outputs": []
    },
    {
      "cell_type": "code",
      "metadata": {
        "id": "tII9z7pa6B1R"
      },
      "source": [
        "# Which rows are missing data?\n",
        "null_data = df_census_3[df_census_3.isnull().any(axis=1)]\n",
        "\n",
        "# Drop these going forward...\n",
        "df_census_4 = df_census_3[~df_census_3.isnull().any(axis=1)] # 903 CSDs complete census info"
      ],
      "execution_count": 91,
      "outputs": []
    },
    {
      "cell_type": "markdown",
      "metadata": {
        "id": "-Fk3mzuhTCuT"
      },
      "source": [
        "#### Pare down weather *data*\n"
      ]
    },
    {
      "cell_type": "code",
      "metadata": {
        "id": "NgLhgz5vXpMK"
      },
      "source": [
        "# get rid of non-needed columns and convert ID column to numeric\n",
        "df_weather = gdf_weather[['CSDUID','HDD_tot','CDD_tot']]\n",
        "df_weather['CSDUID'] = pd.to_numeric(df_weather['CSDUID'])\n",
        "    \n",
        " \n",
        "# Merge census and weather\n",
        "df_combo = df_census_4.merge(df_weather,\n",
        "                              left_on = 'geo_code', \n",
        "                              right_on = 'CSDUID',\n",
        "                              how='left').drop(columns=['CSDUID'])            "
      ],
      "execution_count": 97,
      "outputs": []
    },
    {
      "cell_type": "markdown",
      "metadata": {
        "id": "v-z8n6zY3co0"
      },
      "source": [
        "#### Remoteness"
      ]
    },
    {
      "cell_type": "code",
      "metadata": {
        "id": "gc4aw9AOi5-j"
      },
      "source": [
        "# Trip to relavant columns\n",
        "df_remote_1 = df_remote[['GEO','DGUID','Characteristics','VALUE']].query('Characteristics == \"Index of remoteness\"').rename(columns={'VALUE':'rmt_indx'})\n",
        "\n",
        "# DGUID has extra characters...need to trim to be able to use as a merging key\n",
        "df_remote_1['geo_ID'] = df_remote_1['DGUID'].str[-7:]\n",
        "df_remote_1['geo_ID'] = pd.to_numeric(df_remote_1['geo_ID'])"
      ],
      "execution_count": 129,
      "outputs": []
    },
    {
      "cell_type": "code",
      "metadata": {
        "colab": {
          "base_uri": "https://localhost:8080/",
          "height": 672
        },
        "id": "CfWM0HXBBX5C",
        "outputId": "0af5f488-7fbc-4600-f6a1-9885cf7b5892"
      },
      "source": [
        "df_combo_2 = df_combo.merge(df_remote_1[['GEO','geo_ID','rmt_indx']],\n",
        "                              left_on = 'geo_code', \n",
        "                              right_on = 'geo_ID',\n",
        "                              how='left').drop(columns=['geo_ID'])\n",
        "\n",
        "# Move last columns (with complete place name and remote index) to first position, and drop duplicate place name\n",
        "cols = list(df_combo_2.columns)\n",
        "cols = [cols[-2]] + [cols[-1]]+ cols[:-2]\n",
        "df_combo_3 = df_combo_2[cols].drop(columns=['geo_name']) \n",
        "\n",
        "df_combo_3"
      ],
      "execution_count": 131,
      "outputs": [
        {
          "output_type": "execute_result",
          "data": {
            "text/html": [
              "<div>\n",
              "<style scoped>\n",
              "    .dataframe tbody tr th:only-of-type {\n",
              "        vertical-align: middle;\n",
              "    }\n",
              "\n",
              "    .dataframe tbody tr th {\n",
              "        vertical-align: top;\n",
              "    }\n",
              "\n",
              "    .dataframe thead th {\n",
              "        text-align: right;\n",
              "    }\n",
              "</style>\n",
              "<table border=\"1\" class=\"dataframe\">\n",
              "  <thead>\n",
              "    <tr style=\"text-align: right;\">\n",
              "      <th></th>\n",
              "      <th>GEO</th>\n",
              "      <th>rmt_indx</th>\n",
              "      <th>geo_code</th>\n",
              "      <th>pop_tot</th>\n",
              "      <th>pop_density</th>\n",
              "      <th>pop_change</th>\n",
              "      <th>pop_medAge</th>\n",
              "      <th>school_none</th>\n",
              "      <th>school_uni</th>\n",
              "      <th>work_unempRate</th>\n",
              "      <th>work_agr</th>\n",
              "      <th>work_arts</th>\n",
              "      <th>work_biz</th>\n",
              "      <th>trnst_active</th>\n",
              "      <th>trnst_car</th>\n",
              "      <th>trnst_15minutes</th>\n",
              "      <th>bldgs_house</th>\n",
              "      <th>bldgs_aprtmnt</th>\n",
              "      <th>pop_1stGenImm</th>\n",
              "      <th>lang_noEngFr</th>\n",
              "      <th>HDD_tot</th>\n",
              "      <th>CDD_tot</th>\n",
              "    </tr>\n",
              "  </thead>\n",
              "  <tbody>\n",
              "    <tr>\n",
              "      <th>0</th>\n",
              "      <td>Abbotsford (CY), British Columbia</td>\n",
              "      <td>0.1315</td>\n",
              "      <td>5909052</td>\n",
              "      <td>141397.0</td>\n",
              "      <td>376.5</td>\n",
              "      <td>5.9</td>\n",
              "      <td>39.0</td>\n",
              "      <td>0.155730</td>\n",
              "      <td>0.148359</td>\n",
              "      <td>6.6</td>\n",
              "      <td>0.058317</td>\n",
              "      <td>0.020242</td>\n",
              "      <td>0.134949</td>\n",
              "      <td>0.040196</td>\n",
              "      <td>0.924355</td>\n",
              "      <td>0.353933</td>\n",
              "      <td>0.398348</td>\n",
              "      <td>0.020392</td>\n",
              "      <td>0.297210</td>\n",
              "      <td>0.235351</td>\n",
              "      <td>2680.813547</td>\n",
              "      <td>163.637931</td>\n",
              "    </tr>\n",
              "    <tr>\n",
              "      <th>1</th>\n",
              "      <td>Aberdeen (T), Saskatchewan</td>\n",
              "      <td>0.2595</td>\n",
              "      <td>4715019</td>\n",
              "      <td>622.0</td>\n",
              "      <td>318.8</td>\n",
              "      <td>3.8</td>\n",
              "      <td>33.9</td>\n",
              "      <td>0.173913</td>\n",
              "      <td>0.097826</td>\n",
              "      <td>8.3</td>\n",
              "      <td>0.033898</td>\n",
              "      <td>0.033898</td>\n",
              "      <td>0.237288</td>\n",
              "      <td>0.092593</td>\n",
              "      <td>0.907407</td>\n",
              "      <td>0.185185</td>\n",
              "      <td>0.934783</td>\n",
              "      <td>0.000000</td>\n",
              "      <td>0.042735</td>\n",
              "      <td>0.028226</td>\n",
              "      <td>6052.908161</td>\n",
              "      <td>137.855172</td>\n",
              "    </tr>\n",
              "    <tr>\n",
              "      <th>2</th>\n",
              "      <td>Aberdeen No. 373 (RM), Saskatchewan</td>\n",
              "      <td>0.2154</td>\n",
              "      <td>4715018</td>\n",
              "      <td>1379.0</td>\n",
              "      <td>2.0</td>\n",
              "      <td>35.7</td>\n",
              "      <td>37.6</td>\n",
              "      <td>0.091549</td>\n",
              "      <td>0.199531</td>\n",
              "      <td>2.6</td>\n",
              "      <td>0.058065</td>\n",
              "      <td>0.025806</td>\n",
              "      <td>0.135484</td>\n",
              "      <td>0.000000</td>\n",
              "      <td>0.992366</td>\n",
              "      <td>0.045802</td>\n",
              "      <td>0.978495</td>\n",
              "      <td>0.000000</td>\n",
              "      <td>0.031802</td>\n",
              "      <td>0.039855</td>\n",
              "      <td>6052.908161</td>\n",
              "      <td>137.855172</td>\n",
              "    </tr>\n",
              "    <tr>\n",
              "      <th>3</th>\n",
              "      <td>Addington (P), New Brunswick</td>\n",
              "      <td>0.3872</td>\n",
              "      <td>1314012</td>\n",
              "      <td>656.0</td>\n",
              "      <td>0.7</td>\n",
              "      <td>-8.5</td>\n",
              "      <td>53.3</td>\n",
              "      <td>0.305085</td>\n",
              "      <td>0.059322</td>\n",
              "      <td>28.1</td>\n",
              "      <td>0.032258</td>\n",
              "      <td>0.000000</td>\n",
              "      <td>0.064516</td>\n",
              "      <td>0.000000</td>\n",
              "      <td>1.000000</td>\n",
              "      <td>0.244444</td>\n",
              "      <td>0.935484</td>\n",
              "      <td>0.000000</td>\n",
              "      <td>0.037879</td>\n",
              "      <td>0.000000</td>\n",
              "      <td>5392.582414</td>\n",
              "      <td>171.500000</td>\n",
              "    </tr>\n",
              "    <tr>\n",
              "      <th>4</th>\n",
              "      <td>Adelaide-Metcalfe (TP), Ontario</td>\n",
              "      <td>0.1197</td>\n",
              "      <td>3539047</td>\n",
              "      <td>2990.0</td>\n",
              "      <td>9.0</td>\n",
              "      <td>-1.3</td>\n",
              "      <td>42.0</td>\n",
              "      <td>0.149007</td>\n",
              "      <td>0.119205</td>\n",
              "      <td>3.8</td>\n",
              "      <td>0.085294</td>\n",
              "      <td>0.017647</td>\n",
              "      <td>0.094118</td>\n",
              "      <td>0.061594</td>\n",
              "      <td>0.927536</td>\n",
              "      <td>0.386282</td>\n",
              "      <td>0.984848</td>\n",
              "      <td>0.000000</td>\n",
              "      <td>0.131119</td>\n",
              "      <td>0.068258</td>\n",
              "      <td>3888.683333</td>\n",
              "      <td>403.960000</td>\n",
              "    </tr>\n",
              "    <tr>\n",
              "      <th>...</th>\n",
              "      <td>...</td>\n",
              "      <td>...</td>\n",
              "      <td>...</td>\n",
              "      <td>...</td>\n",
              "      <td>...</td>\n",
              "      <td>...</td>\n",
              "      <td>...</td>\n",
              "      <td>...</td>\n",
              "      <td>...</td>\n",
              "      <td>...</td>\n",
              "      <td>...</td>\n",
              "      <td>...</td>\n",
              "      <td>...</td>\n",
              "      <td>...</td>\n",
              "      <td>...</td>\n",
              "      <td>...</td>\n",
              "      <td>...</td>\n",
              "      <td>...</td>\n",
              "      <td>...</td>\n",
              "      <td>...</td>\n",
              "      <td>...</td>\n",
              "      <td>...</td>\n",
              "    </tr>\n",
              "    <tr>\n",
              "      <th>897</th>\n",
              "      <td>Wôlinak (IRI), Quebec</td>\n",
              "      <td>0.1285</td>\n",
              "      <td>2438802</td>\n",
              "      <td>202.0</td>\n",
              "      <td>270.1</td>\n",
              "      <td>12.2</td>\n",
              "      <td>33.0</td>\n",
              "      <td>0.241935</td>\n",
              "      <td>0.000000</td>\n",
              "      <td>0.0</td>\n",
              "      <td>0.117647</td>\n",
              "      <td>0.000000</td>\n",
              "      <td>0.176471</td>\n",
              "      <td>0.000000</td>\n",
              "      <td>0.882353</td>\n",
              "      <td>0.562500</td>\n",
              "      <td>0.666667</td>\n",
              "      <td>0.000000</td>\n",
              "      <td>0.048780</td>\n",
              "      <td>0.012195</td>\n",
              "      <td>4804.370912</td>\n",
              "      <td>334.756667</td>\n",
              "    </tr>\n",
              "    <tr>\n",
              "      <th>898</th>\n",
              "      <td>Yakweakwioose 12 (IRI), British Columbia</td>\n",
              "      <td>0.1530</td>\n",
              "      <td>5909831</td>\n",
              "      <td>44.0</td>\n",
              "      <td>212.2</td>\n",
              "      <td>12.8</td>\n",
              "      <td>28.5</td>\n",
              "      <td>0.285714</td>\n",
              "      <td>0.142857</td>\n",
              "      <td>0.0</td>\n",
              "      <td>0.000000</td>\n",
              "      <td>0.000000</td>\n",
              "      <td>0.000000</td>\n",
              "      <td>0.000000</td>\n",
              "      <td>0.666667</td>\n",
              "      <td>0.000000</td>\n",
              "      <td>1.000000</td>\n",
              "      <td>0.000000</td>\n",
              "      <td>0.000000</td>\n",
              "      <td>0.000000</td>\n",
              "      <td>2617.854433</td>\n",
              "      <td>219.510714</td>\n",
              "    </tr>\n",
              "    <tr>\n",
              "      <th>899</th>\n",
              "      <td>Yamachiche (MÉ), Quebec</td>\n",
              "      <td>0.1155</td>\n",
              "      <td>2451020</td>\n",
              "      <td>2830.0</td>\n",
              "      <td>26.6</td>\n",
              "      <td>1.5</td>\n",
              "      <td>43.8</td>\n",
              "      <td>0.262582</td>\n",
              "      <td>0.076586</td>\n",
              "      <td>5.9</td>\n",
              "      <td>0.031690</td>\n",
              "      <td>0.010563</td>\n",
              "      <td>0.123239</td>\n",
              "      <td>0.044177</td>\n",
              "      <td>0.947791</td>\n",
              "      <td>0.373494</td>\n",
              "      <td>0.735294</td>\n",
              "      <td>0.000000</td>\n",
              "      <td>0.003584</td>\n",
              "      <td>0.004867</td>\n",
              "      <td>4726.548480</td>\n",
              "      <td>297.441379</td>\n",
              "    </tr>\n",
              "    <tr>\n",
              "      <th>900</th>\n",
              "      <td>Yellowknife (CY), Northwest Territories</td>\n",
              "      <td>0.3995</td>\n",
              "      <td>6106023</td>\n",
              "      <td>19569.0</td>\n",
              "      <td>185.5</td>\n",
              "      <td>1.7</td>\n",
              "      <td>34.5</td>\n",
              "      <td>0.109091</td>\n",
              "      <td>0.277110</td>\n",
              "      <td>5.9</td>\n",
              "      <td>0.023487</td>\n",
              "      <td>0.030255</td>\n",
              "      <td>0.183121</td>\n",
              "      <td>0.223861</td>\n",
              "      <td>0.698915</td>\n",
              "      <td>0.671584</td>\n",
              "      <td>0.449509</td>\n",
              "      <td>0.053296</td>\n",
              "      <td>0.165673</td>\n",
              "      <td>0.107668</td>\n",
              "      <td>8154.377011</td>\n",
              "      <td>23.334483</td>\n",
              "    </tr>\n",
              "    <tr>\n",
              "      <th>901</th>\n",
              "      <td>Yorkton (CY), Saskatchewan</td>\n",
              "      <td>0.3344</td>\n",
              "      <td>4709012</td>\n",
              "      <td>16343.0</td>\n",
              "      <td>449.9</td>\n",
              "      <td>4.3</td>\n",
              "      <td>41.3</td>\n",
              "      <td>0.148477</td>\n",
              "      <td>0.141921</td>\n",
              "      <td>6.4</td>\n",
              "      <td>0.029274</td>\n",
              "      <td>0.019906</td>\n",
              "      <td>0.124122</td>\n",
              "      <td>0.065637</td>\n",
              "      <td>0.915701</td>\n",
              "      <td>0.766559</td>\n",
              "      <td>0.717266</td>\n",
              "      <td>0.000000</td>\n",
              "      <td>0.101791</td>\n",
              "      <td>0.084813</td>\n",
              "      <td>6179.424754</td>\n",
              "      <td>135.933621</td>\n",
              "    </tr>\n",
              "  </tbody>\n",
              "</table>\n",
              "<p>902 rows × 22 columns</p>\n",
              "</div>"
            ],
            "text/plain": [
              "                                          GEO  ...     CDD_tot\n",
              "0           Abbotsford (CY), British Columbia  ...  163.637931\n",
              "1                  Aberdeen (T), Saskatchewan  ...  137.855172\n",
              "2         Aberdeen No. 373 (RM), Saskatchewan  ...  137.855172\n",
              "3                Addington (P), New Brunswick  ...  171.500000\n",
              "4             Adelaide-Metcalfe (TP), Ontario  ...  403.960000\n",
              "..                                        ...  ...         ...\n",
              "897                     Wôlinak (IRI), Quebec  ...  334.756667\n",
              "898  Yakweakwioose 12 (IRI), British Columbia  ...  219.510714\n",
              "899                   Yamachiche (MÉ), Quebec  ...  297.441379\n",
              "900   Yellowknife (CY), Northwest Territories  ...   23.334483\n",
              "901                Yorkton (CY), Saskatchewan  ...  135.933621\n",
              "\n",
              "[902 rows x 22 columns]"
            ]
          },
          "metadata": {
            "tags": []
          },
          "execution_count": 131
        }
      ]
    },
    {
      "cell_type": "markdown",
      "metadata": {
        "id": "BOrNikfNWNCW"
      },
      "source": [
        "## Clustering\n"
      ]
    },
    {
      "cell_type": "code",
      "metadata": {
        "id": "cU8XXZUAX2y9"
      },
      "source": [
        "# Separate place names and IDs from their 20 features\n",
        "names = df_combo_3[['GEO','geo_code']]\n",
        "\n",
        "# Convert only-features frame to numpy array\n",
        "all_cols = list(df_combo_3.columns)\n",
        "X_cols = [cols[1]] + cols[4:]\n",
        "X = df_combo_3[X_cols].values\n",
        "\n",
        "\n",
        "# Normalize and standardize the features columns\n",
        "\n"
      ],
      "execution_count": 139,
      "outputs": []
    },
    {
      "cell_type": "code",
      "metadata": {
        "colab": {
          "base_uri": "https://localhost:8080/"
        },
        "id": "bcJ_dHrYHUVK",
        "outputId": "53dde37b-4c51-4b5f-e168-08db21e2336d"
      },
      "source": [
        " X"
      ],
      "execution_count": 140,
      "outputs": [
        {
          "output_type": "execute_result",
          "data": {
            "text/plain": [
              "array([[1.31500000e-01, 1.41397000e+05, 3.76500000e+02, ...,\n",
              "        2.35350616e-01, 2.68081355e+03, 1.63637931e+02],\n",
              "       [2.59500000e-01, 6.22000000e+02, 3.18800000e+02, ...,\n",
              "        2.82258065e-02, 6.05290816e+03, 1.37855172e+02],\n",
              "       [2.15400000e-01, 1.37900000e+03, 2.00000000e+00, ...,\n",
              "        3.98550725e-02, 6.05290816e+03, 1.37855172e+02],\n",
              "       ...,\n",
              "       [1.15500000e-01, 2.83000000e+03, 2.66000000e+01, ...,\n",
              "        4.86725664e-03, 4.72654848e+03, 2.97441379e+02],\n",
              "       [3.99500000e-01, 1.95690000e+04, 1.85500000e+02, ...,\n",
              "        1.07667526e-01, 8.15437701e+03, 2.33344828e+01],\n",
              "       [3.34400000e-01, 1.63430000e+04, 4.49900000e+02, ...,\n",
              "        8.48130841e-02, 6.17942475e+03, 1.35933621e+02]])"
            ]
          },
          "metadata": {
            "tags": []
          },
          "execution_count": 140
        }
      ]
    },
    {
      "cell_type": "code",
      "metadata": {
        "id": "KOYPJtD6Yabb"
      },
      "source": [
        "# Clustering and re-append the names of CSDs\n",
        "\n",
        "# example https://www.analyticsvidhya.com/blog/2020/11/introduction-to-clustering-in-python-for-beginners-in-data-science/\n",
        " \n",
        "np.random.seed(42)# Instantiate the model\n",
        "model = KMeans(n_clusters=5)# Fit the model\n",
        "model.fit(X_transformed)# Predict the cluster from the data and save it\n",
        "cluster = model.predict(X_transformed)# Add to the dataframe and show the result\n",
        "combine['cluster'] = cluster"
      ],
      "execution_count": 3,
      "outputs": []
    },
    {
      "cell_type": "code",
      "metadata": {
        "id": "ZlYL0L6329Kk"
      },
      "source": [
        ""
      ],
      "execution_count": 58,
      "outputs": []
    },
    {
      "cell_type": "markdown",
      "metadata": {
        "id": "JUS3VQ4oU8u_"
      },
      "source": [
        "## PLOTS and MAPS\n"
      ]
    },
    {
      "cell_type": "code",
      "metadata": {
        "id": "zR3qNsU3BwYp"
      },
      "source": [
        "# Heatmap of correlations \n",
        "# Later revisit this and improve: https://towardsdatascience.com/better-heatmaps-and-correlation-matrix-plots-in-python-41445d0f2bec\n",
        "corr = df_census_3.corr()\n",
        "plt.subplots(figsize=(20,15))\n",
        "\n",
        "ax = sns.heatmap(\n",
        "    corr, \n",
        "    vmin=-1, vmax=1, center=0,\n",
        "    cmap=sns.diverging_palette(20, 220, n=200),\n",
        "    square=True\n",
        ")\n",
        "\n",
        "\n",
        "\n",
        "ax.set_xticklabels(\n",
        "    ax.get_xticklabels(),\n",
        "    rotation=45,\n",
        "    horizontalalignment='right'\n",
        ");"
      ],
      "execution_count": null,
      "outputs": []
    },
    {
      "cell_type": "code",
      "metadata": {
        "id": "n1qi1pWZrCHX"
      },
      "source": [
        "# check for place & feature combination where counts female and counts male are very different\n",
        "df_census_3b = df_census_1.copy()\n",
        "df_census_3b['prct_diff_female2male']= ((df_census_3b['count_female']-df_census_3b['count_male'])/df_census_3b['count_all']).replace([np.inf, -np.inf], np.nan)\n",
        "\n",
        " # look at place & feature combinations with biggest discrepancy:\n",
        "df_census_3b.sort_values(by=['prct_diff_female2male']).head(50) \n",
        "\n",
        "# grab median income difference as a percentage of local median\n",
        "prct_diff_female2male = df_census_3b[df_census_3b['feature']=='Median total income in 2015 among recipients ($)'][['geo_code','prct_diff_female2male']] \n",
        "\n",
        "# visualize in plotly; cartographically \n",
        "prct_diff_female2male\n",
        "\n",
        "df_forplotting = df_geo.merge(prct_diff_female2male,\n",
        "                              left_on='geo_code',\n",
        "                              right_on='geo_code')\n",
        "\n",
        "# df_census_3b.sort_values(by=['prct_diff_female2male']).head(50)\n"
      ],
      "execution_count": null,
      "outputs": []
    },
    {
      "cell_type": "code",
      "metadata": {
        "id": "YaRprIcPVwPw"
      },
      "source": [
        "#plot merged file. use dropna to remove any country with no revenue value\n",
        "ax = df_forplotting.dropna().plot(column='prct_diff_female2male', cmap =    \n",
        "                                'YlGnBu', alpha=1.0, figsize=(30,13), k=3, legend =  \n",
        "                                  True);\n",
        "\n",
        "ctx.add_basemap(ax, source=ctx.providers.CartoDB.Positron)"
      ],
      "execution_count": null,
      "outputs": []
    },
    {
      "cell_type": "markdown",
      "metadata": {
        "id": "cgB4bRGeGxnV"
      },
      "source": [
        "### Population Density and Prevalance of Single Detached Houses"
      ]
    },
    {
      "cell_type": "code",
      "metadata": {
        "id": "FbAEL6stWkfH",
        "colab": {
          "base_uri": "https://localhost:8080/",
          "height": 568
        },
        "outputId": "5a5102a0-0229-4e18-bf19-999841721789"
      },
      "source": [
        "alt.Chart(df_census_3).mark_point().encode(\n",
        "    x='trnsprt_commuteByCar',\n",
        "    y='bldgs_LiveInHouses',\n",
        "    color='pop_density',\n",
        ").interactive().properties(\n",
        "    width=800,\n",
        "    height=500\n",
        ")"
      ],
      "execution_count": null,
      "outputs": [
        {
          "output_type": "execute_result",
          "data": {
            "text/plain": [
              "alt.Chart(...)"
            ],
            "text/html": [
              "\n",
              "<div id=\"altair-viz-86e89896777542de862756246b767328\"></div>\n",
              "<script type=\"text/javascript\">\n",
              "  (function(spec, embedOpt){\n",
              "    let outputDiv = document.currentScript.previousElementSibling;\n",
              "    if (outputDiv.id !== \"altair-viz-86e89896777542de862756246b767328\") {\n",
              "      outputDiv = document.getElementById(\"altair-viz-86e89896777542de862756246b767328\");\n",
              "    }\n",
              "    const paths = {\n",
              "      \"vega\": \"https://cdn.jsdelivr.net/npm//vega@5?noext\",\n",
              "      \"vega-lib\": \"https://cdn.jsdelivr.net/npm//vega-lib?noext\",\n",
              "      \"vega-lite\": \"https://cdn.jsdelivr.net/npm//vega-lite@4.8.1?noext\",\n",
              "      \"vega-embed\": \"https://cdn.jsdelivr.net/npm//vega-embed@6?noext\",\n",
              "    };\n",
              "\n",
              "    function loadScript(lib) {\n",
              "      return new Promise(function(resolve, reject) {\n",
              "        var s = document.createElement('script');\n",
              "        s.src = paths[lib];\n",
              "        s.async = true;\n",
              "        s.onload = () => resolve(paths[lib]);\n",
              "        s.onerror = () => reject(`Error loading script: ${paths[lib]}`);\n",
              "        document.getElementsByTagName(\"head\")[0].appendChild(s);\n",
              "      });\n",
              "    }\n",
              "\n",
              "    function showError(err) {\n",
              "      outputDiv.innerHTML = `<div class=\"error\" style=\"color:red;\">${err}</div>`;\n",
              "      throw err;\n",
              "    }\n",
              "\n",
              "    function displayChart(vegaEmbed) {\n",
              "      vegaEmbed(outputDiv, spec, embedOpt)\n",
              "        .catch(err => showError(`Javascript Error: ${err.message}<br>This usually means there's a typo in your chart specification. See the javascript console for the full traceback.`));\n",
              "    }\n",
              "\n",
              "    if(typeof define === \"function\" && define.amd) {\n",
              "      requirejs.config({paths});\n",
              "      require([\"vega-embed\"], displayChart, err => showError(`Error loading script: ${err.message}`));\n",
              "    } else if (typeof vegaEmbed === \"function\") {\n",
              "      displayChart(vegaEmbed);\n",
              "    } else {\n",
              "      loadScript(\"vega\")\n",
              "        .then(() => loadScript(\"vega-lite\"))\n",
              "        .then(() => loadScript(\"vega-embed\"))\n",
              "        .catch(showError)\n",
              "        .then(() => displayChart(vegaEmbed));\n",
              "    }\n",
              "  })({\"config\": {\"view\": {\"continuousWidth\": 400, \"continuousHeight\": 300}}, \"data\": {\"name\": \"data-d286dd6e1d7553fe4d507faa7037db1a\"}, \"mark\": \"point\", \"encoding\": {\"color\": {\"type\": \"quantitative\", \"field\": \"pop_density\"}, \"x\": {\"type\": \"quantitative\", \"field\": \"trnsprt_commuteByCar\"}, \"y\": {\"type\": \"quantitative\", \"field\": \"bldgs_LiveInHouses\"}}, \"height\": 500, \"selection\": {\"selector004\": {\"type\": \"interval\", \"bind\": \"scales\", \"encodings\": [\"x\", \"y\"]}}, \"width\": 800, \"$schema\": \"https://vega.github.io/schema/vega-lite/v4.8.1.json\", \"datasets\": {\"data-d286dd6e1d7553fe4d507faa7037db1a\": [{\"geo_name\": \"Abbotsford - Mission\", \"population_size\": 180518.0, \"age_median\": 39.4, \"school_none\": 0.1544079108284706, \"school_uni\": 0.13716412173730738, \"work_unemployRate\": 6.5, \"workIn_agr\": 0.052751176757019964, \"workIn_arts\": 0.02131688578693935, \"workIn_biz\": 0.1347724936428069, \"pop_density\": 297.3300611071764, \"trnsprt_walkBike\": 0.037265929176194305, \"trnsprt_commuteByCar\": 0.9249737346270317, \"trnsprt_15minutes2work\": 0.3281211372064277, \"bldgs_LiveInHouses\": 0.45353664378093567, \"bldgs_LiveInAprtmnts\": 0.01700463036883283, \"pop_1stGenImmigrant\": 0.267339647252311, \"lang_notEnglishOrFrench\": 0.20344152368072577}, {\"geo_name\": \"Alma\", \"population_size\": 32849.0, \"age_median\": 46.6, \"school_none\": 0.14166039156626506, \"school_uni\": 0.11483433734939759, \"work_unemployRate\": 9.2, \"workIn_agr\": 0.018941868060091443, \"workIn_arts\": 0.015022860875244938, \"workIn_biz\": 0.13291966035271063, \"pop_density\": 96.17907126544475, \"trnsprt_walkBike\": 0.06419294990723562, \"trnsprt_commuteByCar\": 0.9157699443413729, \"trnsprt_15minutes2work\": 0.6063079777365492, \"bldgs_LiveInHouses\": 0.5190048375950241, \"bldgs_LiveInAprtmnts\": 0.0031098825155494126, \"pop_1stGenImmigrant\": 0.011161767017764503, \"lang_notEnglishOrFrench\": 0.007417709782104775}, {\"geo_name\": \"Arnprior\", \"population_size\": 15973.0, \"age_median\": 47.7, \"school_none\": 0.12316384180790961, \"school_uni\": 0.11864406779661017, \"work_unemployRate\": 6.8, \"workIn_agr\": 0.02937576499388005, \"workIn_arts\": 0.016523867809057527, \"workIn_biz\": 0.14504283965728273, \"pop_density\": 59.41673176356806, \"trnsprt_walkBike\": 0.06288873531444368, \"trnsprt_commuteByCar\": 0.912232204561161, \"trnsprt_15minutes2work\": 0.34761575673807876, \"bldgs_LiveInHouses\": 0.7036764705882353, \"bldgs_LiveInAprtmnts\": 0.008088235294117648, \"pop_1stGenImmigrant\": 0.054209183673469385, \"lang_notEnglishOrFrench\": 0.019638897687678177}, {\"geo_name\": \"Baie-Comeau\", \"population_size\": 27692.0, \"age_median\": 47.0, \"school_none\": 0.16644837371752894, \"school_uni\": 0.10336171141672124, \"work_unemployRate\": 8.8, \"workIn_agr\": 0.013235294117647059, \"workIn_arts\": 0.015441176470588236, \"workIn_biz\": 0.12279411764705882, \"pop_density\": 40.07409336922231, \"trnsprt_walkBike\": 0.056435241575314654, \"trnsprt_commuteByCar\": 0.9212342671538774, \"trnsprt_15minutes2work\": 0.5781567194478279, \"bldgs_LiveInHouses\": 0.5794581479983826, \"bldgs_LiveInAprtmnts\": 0.009300444803881924, \"pop_1stGenImmigrant\": 0.012965363956288202, \"lang_notEnglishOrFrench\": 0.007883703973751367}, {\"geo_name\": \"Barrie\", \"population_size\": 197059.0, \"age_median\": 39.7, \"school_none\": 0.12539253862580077, \"school_uni\": 0.14839530209772642, \"work_unemployRate\": 7.2, \"workIn_agr\": 0.015195602974458454, \"workIn_arts\": 0.023278370514064017, \"workIn_biz\": 0.13749942265946147, \"pop_density\": 219.4372062983007, \"trnsprt_walkBike\": 0.040558928197613565, \"trnsprt_commuteByCar\": 0.9065836298932385, \"trnsprt_15minutes2work\": 0.2815574628427884, \"bldgs_LiveInHouses\": 0.6912524987936858, \"bldgs_LiveInAprtmnts\": 0.05500792720755497, \"pop_1stGenImmigrant\": 0.14433016199537155, \"lang_notEnglishOrFrench\": 0.06898931547466898}, {\"geo_name\": \"Bathurst\", \"population_size\": 31110.0, \"age_median\": 51.1, \"school_none\": 0.20050713749060856, \"school_uni\": 0.10424492862509391, \"work_unemployRate\": 11.7, \"workIn_agr\": 0.03911806543385491, \"workIn_arts\": 0.012802275960170697, \"workIn_biz\": 0.14509246088193456, \"pop_density\": 14.78584057337313, \"trnsprt_walkBike\": 0.038114754098360654, \"trnsprt_commuteByCar\": 0.9323770491803278, \"trnsprt_15minutes2work\": 0.4913934426229508, \"bldgs_LiveInHouses\": 0.725125268432355, \"bldgs_LiveInAprtmnts\": 0.00035790980672870435, \"pop_1stGenImmigrant\": 0.025776602775941838, \"lang_notEnglishOrFrench\": 0.010780455812428267}, {\"geo_name\": \"Bay Roberts\", \"population_size\": 11083.0, \"age_median\": 46.0, \"school_none\": 0.1574973031283711, \"school_uni\": 0.09196332254584681, \"work_unemployRate\": 14.6, \"workIn_agr\": 0.04205128205128205, \"workIn_arts\": 0.013333333333333334, \"workIn_biz\": 0.10358974358974359, \"pop_density\": 106.91684352691492, \"trnsprt_walkBike\": 0.03209876543209877, \"trnsprt_commuteByCar\": 0.9061728395061729, \"trnsprt_15minutes2work\": 0.3950617283950617, \"bldgs_LiveInHouses\": 0.9177777777777778, \"bldgs_LiveInAprtmnts\": 0.0, \"pop_1stGenImmigrant\": 0.013599274705349048, \"lang_notEnglishOrFrench\": 0.0045105999097880016}, {\"geo_name\": \"Belleville\", \"population_size\": 103472.0, \"age_median\": 44.7, \"school_none\": 0.14350924726116152, \"school_uni\": 0.1039286134998233, \"work_unemployRate\": 6.7, \"workIn_agr\": 0.020223152022315203, \"workIn_arts\": 0.02012353058378163, \"workIn_biz\": 0.12004383343295477, \"pop_density\": 77.41896866489091, \"trnsprt_walkBike\": 0.062047454606215885, \"trnsprt_commuteByCar\": 0.9045338086220341, \"trnsprt_15minutes2work\": 0.40770858861535036, \"bldgs_LiveInHouses\": 0.6886046511627907, \"bldgs_LiveInAprtmnts\": 0.059186046511627906, \"pop_1stGenImmigrant\": 0.08204571259317767, \"lang_notEnglishOrFrench\": 0.0337672506606636}, {\"geo_name\": \"Brandon\", \"population_size\": 58003.0, \"age_median\": 36.3, \"school_none\": 0.1383672116659302, \"school_uni\": 0.15714759169244366, \"work_unemployRate\": 7.0, \"workIn_agr\": 0.022644497228820268, \"workIn_arts\": 0.01330166270783848, \"workIn_biz\": 0.13159144893111638, \"pop_density\": 25.336233745244243, \"trnsprt_walkBike\": 0.0721558988764045, \"trnsprt_commuteByCar\": 0.8767556179775281, \"trnsprt_15minutes2work\": 0.5905898876404494, \"bldgs_LiveInHouses\": 0.5637555508564178, \"bldgs_LiveInAprtmnts\": 0.029393106364982026, \"pop_1stGenImmigrant\": 0.15499822757887274, \"lang_notEnglishOrFrench\": 0.1108385174800666}, {\"geo_name\": \"Brantford\", \"population_size\": 134203.0, \"age_median\": 41.8, \"school_none\": 0.1459306898625827, \"school_uni\": 0.12446212927404803, \"work_unemployRate\": 6.1, \"workIn_agr\": 0.02045998694043387, \"workIn_arts\": 0.02278168758615686, \"workIn_biz\": 0.13632735979104693, \"pop_density\": 125.05521129385453, \"trnsprt_walkBike\": 0.04622258326563769, \"trnsprt_commuteByCar\": 0.914378554021121, \"trnsprt_15minutes2work\": 0.36482534524776605, \"bldgs_LiveInHouses\": 0.6694269940986103, \"bldgs_LiveInAprtmnts\": 0.07414810584427946, \"pop_1stGenImmigrant\": 0.1317988453357642, \"lang_notEnglishOrFrench\": 0.06730950318279408}, {\"geo_name\": \"Brockville\", \"population_size\": 38553.0, \"age_median\": 49.5, \"school_none\": 0.13199877281791686, \"school_uni\": 0.11412793373216751, \"work_unemployRate\": 8.5, \"workIn_agr\": 0.0215493726132024, \"workIn_arts\": 0.019367157665030006, \"workIn_biz\": 0.13720676486633934, \"pop_density\": 43.161335826159, \"trnsprt_walkBike\": 0.07241813602015114, \"trnsprt_commuteByCar\": 0.9027078085642317, \"trnsprt_15minutes2work\": 0.4825196850393701, \"bldgs_LiveInHouses\": 0.6683417085427136, \"bldgs_LiveInAprtmnts\": 0.03458468814661543, \"pop_1stGenImmigrant\": 0.08559692593083344, \"lang_notEnglishOrFrench\": 0.02920021116536888}, {\"geo_name\": \"Brooks\", \"population_size\": 24662.0, \"age_median\": 36.0, \"school_none\": 0.20925720620842572, \"school_uni\": 0.09728381374722839, \"work_unemployRate\": 9.0, \"workIn_agr\": 0.09682416731216112, \"workIn_arts\": 0.011618900077459334, \"workIn_biz\": 0.11037955073586367, \"pop_density\": 4.158131049750212, \"trnsprt_walkBike\": 0.05476864966949953, \"trnsprt_commuteByCar\": 0.9159584513692163, \"trnsprt_15minutes2work\": 0.5547686496694996, \"bldgs_LiveInHouses\": 0.6588373458602467, \"bldgs_LiveInAprtmnts\": 0.0, \"pop_1stGenImmigrant\": 0.2441264416915848, \"lang_notEnglishOrFrench\": 0.17844757241942064}, {\"geo_name\": \"Calgary\", \"population_size\": 1392609.0, \"age_median\": 36.6, \"school_none\": 0.09709910095918634, \"school_uni\": 0.29926658377956217, \"work_unemployRate\": 9.3, \"workIn_agr\": 0.015597367944159423, \"workIn_arts\": 0.02606435164066064, \"workIn_biz\": 0.1764077311953608, \"pop_density\": 272.51502384442125, \"trnsprt_walkBike\": 0.06183728798696316, \"trnsprt_commuteByCar\": 0.7791556747513574, \"trnsprt_15minutes2work\": 0.17720436708028237, \"bldgs_LiveInHouses\": 0.5826398175853145, \"bldgs_LiveInAprtmnts\": 0.06335446752422094, \"pop_1stGenImmigrant\": 0.3211108282108173, \"lang_notEnglishOrFrench\": 0.1988324784901672}, {\"geo_name\": \"Campbell River\", \"population_size\": 37861.0, \"age_median\": 47.1, \"school_none\": 0.1353035143769968, \"school_uni\": 0.10607028753993611, \"work_unemployRate\": 9.7, \"workIn_agr\": 0.06820652173913043, \"workIn_arts\": 0.023641304347826086, \"workIn_biz\": 0.13206521739130433, \"pop_density\": 21.787870243020986, \"trnsprt_walkBike\": 0.06380290587492103, \"trnsprt_commuteByCar\": 0.8629185091598232, \"trnsprt_15minutes2work\": 0.5148452305748579, \"bldgs_LiveInHouses\": 0.6439902379499695, \"bldgs_LiveInAprtmnts\": 0.0, \"pop_1stGenImmigrant\": 0.10712841935049185, \"lang_notEnglishOrFrench\": 0.041688829787234045}, {\"geo_name\": \"Campbellton\", \"population_size\": 15746.0, \"age_median\": 50.4, \"school_none\": 0.21595703874184888, \"school_uni\": 0.09800537015726889, \"work_unemployRate\": 15.5, \"workIn_agr\": 0.025899280575539568, \"workIn_arts\": 0.014388489208633094, \"workIn_biz\": 0.12014388489208633, \"pop_density\": 9.898786697680267, \"trnsprt_walkBike\": 0.05039096437880104, \"trnsprt_commuteByCar\": 0.9270199826238054, \"trnsprt_15minutes2work\": 0.5916594265855778, \"bldgs_LiveInHouses\": 0.689703808180536, \"bldgs_LiveInAprtmnts\": 0.0, \"pop_1stGenImmigrant\": 0.027722772277227723, \"lang_notEnglishOrFrench\": 0.025491803278688524}, {\"geo_name\": \"Campbellton (New Brunswick part)\", \"population_size\": 13114.0, \"age_median\": 51.3, \"school_none\": 0.2105383211678832, \"school_uni\": 0.10287408759124088, \"work_unemployRate\": 14.4, \"workIn_agr\": 0.022556390977443608, \"workIn_arts\": 0.014202172096908938, \"workIn_biz\": 0.12197159565580618, \"pop_density\": 11.349395922041056, \"trnsprt_walkBike\": 0.054, \"trnsprt_commuteByCar\": 0.928, \"trnsprt_15minutes2work\": 0.588, \"bldgs_LiveInHouses\": 0.6697952218430034, \"bldgs_LiveInAprtmnts\": 0.0, \"pop_1stGenImmigrant\": 0.025886101154918358, \"lang_notEnglishOrFrench\": 0.010280743376828785}, {\"geo_name\": \"Campbellton (Quebec part)\", \"population_size\": 2632.0, \"age_median\": 42.3, \"school_none\": 0.2457831325301205, \"school_uni\": 0.07228915662650602, \"work_unemployRate\": 21.2, \"workIn_agr\": 0.05181347150259067, \"workIn_arts\": 0.010362694300518135, \"workIn_biz\": 0.10362694300518134, \"pop_density\": 6.047516198704104, \"trnsprt_walkBike\": 0.03333333333333333, \"trnsprt_commuteByCar\": 0.9333333333333333, \"trnsprt_15minutes2work\": 0.6158940397350994, \"bldgs_LiveInHouses\": 0.7813765182186235, \"bldgs_LiveInAprtmnts\": 0.0, \"pop_1stGenImmigrant\": 0.036608863198458574, \"lang_notEnglishOrFrench\": 0.09770114942528736}, {\"geo_name\": \"Camrose\", \"population_size\": 18742.0, \"age_median\": 41.9, \"school_none\": 0.14404248257550614, \"school_uni\": 0.13923000331895122, \"work_unemployRate\": 9.4, \"workIn_agr\": 0.03663570691434469, \"workIn_arts\": 0.014963880288957688, \"workIn_biz\": 0.13106295149638802, \"pop_density\": 439.746597841389, \"trnsprt_walkBike\": 0.09219858156028368, \"trnsprt_commuteByCar\": 0.8894799054373522, \"trnsprt_15minutes2work\": 0.7056737588652482, \"bldgs_LiveInHouses\": 0.617008069522036, \"bldgs_LiveInAprtmnts\": 0.008069522036002483, \"pop_1stGenImmigrant\": 0.10351455244371224, \"lang_notEnglishOrFrench\": 0.055100927441352976}, {\"geo_name\": \"Canmore\", \"population_size\": 13992.0, \"age_median\": 41.4, \"school_none\": 0.051821335646140505, \"school_uni\": 0.35190806591500434, \"work_unemployRate\": 5.5, \"workIn_agr\": 0.017929438982070563, \"workIn_arts\": 0.06246385193753615, \"workIn_biz\": 0.12261422787738577, \"pop_density\": 201.52671755725189, \"trnsprt_walkBike\": 0.19017980636237897, \"trnsprt_commuteByCar\": 0.7710926694329184, \"trnsprt_15minutes2work\": 0.5587828492392808, \"bldgs_LiveInHouses\": 0.4425087108013937, \"bldgs_LiveInAprtmnts\": 0.013937282229965157, \"pop_1stGenImmigrant\": 0.20949926362297497, \"lang_notEnglishOrFrench\": 0.08294350485786255}, {\"geo_name\": \"Cape Breton\", \"population_size\": 98722.0, \"age_median\": 48.9, \"school_none\": 0.15873588079788511, \"school_uni\": 0.12887527036770008, \"work_unemployRate\": 17.6, \"workIn_agr\": 0.04319679849340866, \"workIn_arts\": 0.018008474576271187, \"workIn_biz\": 0.1327683615819209, \"pop_density\": 40.00502484054236, \"trnsprt_walkBike\": 0.04428837609287659, \"trnsprt_commuteByCar\": 0.9088433424107782, \"trnsprt_15minutes2work\": 0.4403038555252974, \"bldgs_LiveInHouses\": 0.7345636025998143, \"bldgs_LiveInAprtmnts\": 0.004874651810584958, \"pop_1stGenImmigrant\": 0.027631714609753583, \"lang_notEnglishOrFrench\": 0.0327120822622108}, {\"geo_name\": \"Carleton Place\", \"population_size\": 31451.0, \"age_median\": 45.2, \"school_none\": 0.09649980445834963, \"school_uni\": 0.16181071568244035, \"work_unemployRate\": 5.3, \"workIn_agr\": 0.02030456852791878, \"workIn_arts\": 0.027769483427888923, \"workIn_biz\": 0.14422215586742312, \"pop_density\": 40.89272015706466, \"trnsprt_walkBike\": 0.046912728527078305, \"trnsprt_commuteByCar\": 0.9213521904104863, \"trnsprt_15minutes2work\": 0.24620689655172415, \"bldgs_LiveInHouses\": 0.7571371129875352, \"bldgs_LiveInAprtmnts\": 0.008845999195818254, \"pop_1stGenImmigrant\": 0.07612400584320728, \"lang_notEnglishOrFrench\": 0.023040168448331715}, {\"geo_name\": \"Centre Wellington\", \"population_size\": 28191.0, \"age_median\": 44.4, \"school_none\": 0.11532541776605101, \"school_uni\": 0.1647977132805629, \"work_unemployRate\": 3.8, \"workIn_agr\": 0.033488063660477456, \"workIn_arts\": 0.033156498673740056, \"workIn_biz\": 0.13759946949602123, \"pop_density\": 69.17357805368798, \"trnsprt_walkBike\": 0.05942857142857143, \"trnsprt_commuteByCar\": 0.924952380952381, \"trnsprt_15minutes2work\": 0.3420952380952381, \"bldgs_LiveInHouses\": 0.7352125693160814, \"bldgs_LiveInAprtmnts\": 0.010166358595194085, \"pop_1stGenImmigrant\": 0.10819612809842591, \"lang_notEnglishOrFrench\": 0.04392624728850325}, {\"geo_name\": \"Charlottetown\", \"population_size\": 69325.0, \"age_median\": 42.0, \"school_none\": 0.09755881832655228, \"school_uni\": 0.23275252078542366, \"work_unemployRate\": 9.6, \"workIn_agr\": 0.032375067168189144, \"workIn_arts\": 0.024986566362170875, \"workIn_biz\": 0.14924771628156905, \"pop_density\": 75.56105376742563, \"trnsprt_walkBike\": 0.07587396143596174, \"trnsprt_commuteByCar\": 0.8948110989183258, \"trnsprt_15minutes2work\": 0.4749137660708686, \"bldgs_LiveInHouses\": 0.596545768566494, \"bldgs_LiveInAprtmnts\": 0.001381692573402418, \"pop_1stGenImmigrant\": 0.11353583013860218, \"lang_notEnglishOrFrench\": 0.05908957738226031}, {\"geo_name\": \"Chatham-Kent\", \"population_size\": 102042.0, \"age_median\": 45.8, \"school_none\": 0.17023838189260776, \"school_uni\": 0.09724897664339031, \"work_unemployRate\": 7.6, \"workIn_agr\": 0.04250742599610775, \"workIn_arts\": 0.016081122605756427, \"workIn_biz\": 0.12178633616716174, \"pop_density\": 41.303855058854005, \"trnsprt_walkBike\": 0.05799483446818502, \"trnsprt_commuteByCar\": 0.9226344212256398, \"trnsprt_15minutes2work\": 0.47787298978753373, \"bldgs_LiveInHouses\": 0.7664157498552403, \"bldgs_LiveInAprtmnts\": 0.0320787492762015, \"pop_1stGenImmigrant\": 0.09345560232511525, \"lang_notEnglishOrFrench\": 0.0531978038284612}, {\"geo_name\": \"Chilliwack\", \"population_size\": 101512.0, \"age_median\": 43.2, \"school_none\": 0.13601663356504468, \"school_uni\": 0.10510799404170805, \"work_unemployRate\": 6.7, \"workIn_agr\": 0.04707352634867736, \"workIn_arts\": 0.022391168506561133, \"workIn_biz\": 0.12924390751926682, \"pop_density\": 70.2378810733017, \"trnsprt_walkBike\": 0.05988673334136643, \"trnsprt_commuteByCar\": 0.9072177370767562, \"trnsprt_15minutes2work\": 0.3649837329798771, \"bldgs_LiveInHouses\": 0.5917621866733845, \"bldgs_LiveInAprtmnts\": 0.006801864214636604, \"pop_1stGenImmigrant\": 0.14542235710672735, \"lang_notEnglishOrFrench\": 0.06895904265972361}, {\"geo_name\": \"Cobourg\", \"population_size\": 19440.0, \"age_median\": 53.5, \"school_none\": 0.11099171016272644, \"school_uni\": 0.1458397298127111, \"work_unemployRate\": 8.5, \"workIn_agr\": 0.01490757304710793, \"workIn_arts\": 0.02623732856290996, \"workIn_biz\": 0.13953488372093023, \"pop_density\": 869.4096601073345, \"trnsprt_walkBike\": 0.09799861973775018, \"trnsprt_commuteByCar\": 0.8612836438923396, \"trnsprt_15minutes2work\": 0.506896551724138, \"bldgs_LiveInHouses\": 0.5859872611464968, \"bldgs_LiveInAprtmnts\": 0.04169079328314997, \"pop_1stGenImmigrant\": 0.13782051282051283, \"lang_notEnglishOrFrench\": 0.033755549751893446}, {\"geo_name\": \"Cold Lake\", \"population_size\": 14961.0, \"age_median\": 31.2, \"school_none\": 0.10792167334223408, \"school_uni\": 0.14530485091232756, \"work_unemployRate\": 8.4, \"workIn_agr\": 0.047512576858580215, \"workIn_arts\": 0.012297372833985467, \"workIn_biz\": 0.10396869759642258, \"pop_density\": 249.68291054739652, \"trnsprt_walkBike\": 0.06285003111387678, \"trnsprt_commuteByCar\": 0.8998133167392657, \"trnsprt_15minutes2work\": 0.48941469489414696, \"bldgs_LiveInHouses\": 0.6684539767649688, \"bldgs_LiveInAprtmnts\": 0.0, \"pop_1stGenImmigrant\": 0.11452991452991453, \"lang_notEnglishOrFrench\": 0.055434417980543445}, {\"geo_name\": \"Collingwood\", \"population_size\": 21793.0, \"age_median\": 49.2, \"school_none\": 0.1182750970604548, \"school_uni\": 0.17803660565723795, \"work_unemployRate\": 5.6, \"workIn_agr\": 0.026590693257359924, \"workIn_arts\": 0.03798670465337132, \"workIn_biz\": 0.11965811965811966, \"pop_density\": 645.1450562462995, \"trnsprt_walkBike\": 0.11529808773903262, \"trnsprt_commuteByCar\": 0.8537682789651294, \"trnsprt_15minutes2work\": 0.5404949381327334, \"bldgs_LiveInHouses\": 0.5777080062794349, \"bldgs_LiveInAprtmnts\": 0.029304029304029304, \"pop_1stGenImmigrant\": 0.1300543863797588, \"lang_notEnglishOrFrench\": 0.04493141129969774}, {\"geo_name\": \"Corner Brook\", \"population_size\": 31917.0, \"age_median\": 47.2, \"school_none\": 0.1357222428518381, \"school_uni\": 0.13934274043817305, \"work_unemployRate\": 14.3, \"workIn_agr\": 0.016737774860518542, \"workIn_arts\": 0.016409583196586808, \"workIn_biz\": 0.12832294059730884, \"pop_density\": 27.992457463602875, \"trnsprt_walkBike\": 0.06332046332046332, \"trnsprt_commuteByCar\": 0.8980694980694981, \"trnsprt_15minutes2work\": 0.5640926640926641, \"bldgs_LiveInHouses\": 0.736320235034888, \"bldgs_LiveInAprtmnts\": 0.0003672420124862284, \"pop_1stGenImmigrant\": 0.02397315007191945, \"lang_notEnglishOrFrench\": 0.00864256263875674}, {\"geo_name\": \"Cornwall\", \"population_size\": 59699.0, \"age_median\": 46.6, \"school_none\": 0.1718557968045883, \"school_uni\": 0.08229209340434249, \"work_unemployRate\": 9.2, \"workIn_agr\": 0.011931818181818182, \"workIn_arts\": 0.01571969696969697, \"workIn_biz\": 0.13882575757575757, \"pop_density\": 117.25458616490553, \"trnsprt_walkBike\": 0.06747811232116165, \"trnsprt_commuteByCar\": 0.8915225282938287, \"trnsprt_15minutes2work\": 0.4872944693572496, \"bldgs_LiveInHouses\": 0.5709355828220859, \"bldgs_LiveInAprtmnts\": 0.04390337423312884, \"pop_1stGenImmigrant\": 0.07250365528511224, \"lang_notEnglishOrFrench\": 0.037764414875469124}, {\"geo_name\": \"Courtenay\", \"population_size\": 54157.0, \"age_median\": 51.5, \"school_none\": 0.10433027923211169, \"school_uni\": 0.1606675392670157, \"work_unemployRate\": 7.9, \"workIn_agr\": 0.04353083434099154, \"workIn_arts\": 0.030229746070133012, \"workIn_biz\": 0.11870213623538896, \"pop_density\": 90.86744966442953, \"trnsprt_walkBike\": 0.10078815380941007, \"trnsprt_commuteByCar\": 0.8414139001671841, \"trnsprt_15minutes2work\": 0.5237640315261524, \"bldgs_LiveInHouses\": 0.6507774140752864, \"bldgs_LiveInAprtmnts\": 0.0018412438625204583, \"pop_1stGenImmigrant\": 0.14909638554216867, \"lang_notEnglishOrFrench\": 0.048196140579845254}, {\"geo_name\": \"Cowansville\", \"population_size\": 13656.0, \"age_median\": 46.2, \"school_none\": 0.1930276087973795, \"school_uni\": 0.09148338792700046, \"work_unemployRate\": 8.0, \"workIn_agr\": 0.017326732673267328, \"workIn_arts\": 0.018976897689768978, \"workIn_biz\": 0.11221122112211221, \"pop_density\": 291.23480486244404, \"trnsprt_walkBike\": 0.07855822550831792, \"trnsprt_commuteByCar\": 0.9057301293900185, \"trnsprt_15minutes2work\": 0.5018484288354899, \"bldgs_LiveInHouses\": 0.4361968306922435, \"bldgs_LiveInAprtmnts\": 0.0, \"pop_1stGenImmigrant\": 0.0372695174578266, \"lang_notEnglishOrFrench\": 0.018149882903981264}, {\"geo_name\": \"Cranbrook\", \"population_size\": 26083.0, \"age_median\": 46.0, \"school_none\": 0.11614631873252564, \"school_uni\": 0.11719478098788444, \"work_unemployRate\": 7.6, \"workIn_agr\": 0.036939313984168866, \"workIn_arts\": 0.020731247644176404, \"workIn_biz\": 0.13343384847342632, \"pop_density\": 5.70992620418957, \"trnsprt_walkBike\": 0.09245845760545376, \"trnsprt_commuteByCar\": 0.8785683851725608, \"trnsprt_15minutes2work\": 0.6595654026416702, \"bldgs_LiveInHouses\": 0.6730418943533698, \"bldgs_LiveInAprtmnts\": 0.0, \"pop_1stGenImmigrant\": 0.10097847358121331, \"lang_notEnglishOrFrench\": 0.040734979583900446}, {\"geo_name\": \"Dawson Creek\", \"population_size\": 12178.0, \"age_median\": 34.4, \"school_none\": 0.1804968287526427, \"school_uni\": 0.113107822410148, \"work_unemployRate\": 12.1, \"workIn_agr\": 0.0425208807896735, \"workIn_arts\": 0.010630220197418374, \"workIn_biz\": 0.13515565679574792, \"pop_density\": 499.71276159212147, \"trnsprt_walkBike\": 0.08289241622574955, \"trnsprt_commuteByCar\": 0.8950617283950617, \"trnsprt_15minutes2work\": 0.7142857142857143, \"bldgs_LiveInHouses\": 0.6405163853028798, \"bldgs_LiveInAprtmnts\": 0.0, \"pop_1stGenImmigrant\": 0.12388629613915995, \"lang_notEnglishOrFrench\": 0.06486486486486487}, {\"geo_name\": \"Dolbeau-Mistassini\", \"population_size\": 15673.0, \"age_median\": 50.0, \"school_none\": 0.19771176234444, \"school_uni\": 0.07507025291047772, \"work_unemployRate\": 12.7, \"workIn_agr\": 0.0617816091954023, \"workIn_arts\": 0.017959770114942528, \"workIn_biz\": 0.10991379310344827, \"pop_density\": 21.82413144886166, \"trnsprt_walkBike\": 0.06899488926746167, \"trnsprt_commuteByCar\": 0.9122657580919932, \"trnsprt_15minutes2work\": 0.6345826235093697, \"bldgs_LiveInHouses\": 0.6117989803350328, \"bldgs_LiveInAprtmnts\": 0.0014566642388929353, \"pop_1stGenImmigrant\": 0.009072580645161291, \"lang_notEnglishOrFrench\": 0.004354255668747946}, {\"geo_name\": \"Drummondville\", \"population_size\": 96118.0, \"age_median\": 42.8, \"school_none\": 0.17483361607725434, \"school_uni\": 0.10031971812606029, \"work_unemployRate\": 6.9, \"workIn_agr\": 0.02132972635521798, \"workIn_arts\": 0.020497346790136303, \"workIn_biz\": 0.13057954427218812, \"pop_density\": 94.54477494491658, \"trnsprt_walkBike\": 0.05188022284122563, \"trnsprt_commuteByCar\": 0.9309424326833797, \"trnsprt_15minutes2work\": 0.5016248839368617, \"bldgs_LiveInHouses\": 0.5247782377291543, \"bldgs_LiveInAprtmnts\": 0.005795387344766411, \"pop_1stGenImmigrant\": 0.03208613728129206, \"lang_notEnglishOrFrench\": 0.01985740691840507}, {\"geo_name\": \"Duncan\", \"population_size\": 44451.0, \"age_median\": 49.0, \"school_none\": 0.13676914630798792, \"school_uni\": 0.12819105133132033, \"work_unemployRate\": 7.4, \"workIn_agr\": 0.04285714285714286, \"workIn_arts\": 0.029310344827586206, \"workIn_biz\": 0.12783251231527093, \"pop_density\": 118.94517138958017, \"trnsprt_walkBike\": 0.0781702374059062, \"trnsprt_commuteByCar\": 0.8827446438911407, \"trnsprt_15minutes2work\": 0.4277439907326962, \"bldgs_LiveInHouses\": 0.6532408642304615, \"bldgs_LiveInAprtmnts\": 0.0, \"pop_1stGenImmigrant\": 0.14710992702420944, \"lang_notEnglishOrFrench\": 0.05149074708704592}, {\"geo_name\": \"Edmonton\", \"population_size\": 1321426.0, \"age_median\": 36.3, \"school_none\": 0.11117590445983681, \"school_uni\": 0.22255092994258677, \"work_unemployRate\": 8.5, \"workIn_agr\": 0.018528208224324143, \"workIn_arts\": 0.023143489635741598, \"workIn_biz\": 0.15973032803380963, \"pop_density\": 139.9984743920346, \"trnsprt_walkBike\": 0.04682253783967755, \"trnsprt_commuteByCar\": 0.8257577495812587, \"trnsprt_15minutes2work\": 0.21067082731034273, \"bldgs_LiveInHouses\": 0.5730971442227267, \"bldgs_LiveInAprtmnts\": 0.053540845182618396, \"pop_1stGenImmigrant\": 0.2650710142413906, \"lang_notEnglishOrFrench\": 0.1709268078107369}, {\"geo_name\": \"Edmundston\", \"population_size\": 23524.0, \"age_median\": 50.4, \"school_none\": 0.17095446359660407, \"school_uni\": 0.13519423720092616, \"work_unemployRate\": 9.0, \"workIn_agr\": 0.029463500439753737, \"workIn_arts\": 0.013632365875109938, \"workIn_biz\": 0.12137203166226913, \"pop_density\": 13.29309916141136, \"trnsprt_walkBike\": 0.03655483224837256, \"trnsprt_commuteByCar\": 0.9524286429644466, \"trnsprt_15minutes2work\": 0.5655655655655656, \"bldgs_LiveInHouses\": 0.6899335232668566, \"bldgs_LiveInAprtmnts\": 0.007122507122507123, \"pop_1stGenImmigrant\": 0.045928555580208565, \"lang_notEnglishOrFrench\": 0.011366096557696471}, {\"geo_name\": \"Elliot Lake\", \"population_size\": 10741.0, \"age_median\": 58.8, \"school_none\": 0.19973614775725593, \"school_uni\": 0.07651715039577836, \"work_unemployRate\": 11.3, \"workIn_agr\": 0.0631424375917768, \"workIn_arts\": 0.022026431718061675, \"workIn_biz\": 0.10572687224669604, \"pop_density\": 15.02973483523403, \"trnsprt_walkBike\": 0.11394557823129252, \"trnsprt_commuteByCar\": 0.8282312925170068, \"trnsprt_15minutes2work\": 0.7414965986394558, \"bldgs_LiveInHouses\": 0.4641885766092475, \"bldgs_LiveInAprtmnts\": 0.09066183136899365, \"pop_1stGenImmigrant\": 0.10822306238185256, \"lang_notEnglishOrFrench\": 0.03412288930581613}, {\"geo_name\": \"Estevan\", \"population_size\": 13615.0, \"age_median\": 36.8, \"school_none\": 0.15106088560885608, \"school_uni\": 0.11070110701107011, \"work_unemployRate\": 8.5, \"workIn_agr\": 0.08456790123456791, \"workIn_arts\": 0.015432098765432098, \"workIn_biz\": 0.13209876543209875, \"pop_density\": 17.118895538902578, \"trnsprt_walkBike\": 0.03917378917378917, \"trnsprt_commuteByCar\": 0.9508547008547008, \"trnsprt_15minutes2work\": 0.699215965787598, \"bldgs_LiveInHouses\": 0.6796733212341198, \"bldgs_LiveInAprtmnts\": 0.008166969147005444, \"pop_1stGenImmigrant\": 0.12509335324869306, \"lang_notEnglishOrFrench\": 0.07262258543833582}, {\"geo_name\": \"Fort St. John\", \"population_size\": 28396.0, \"age_median\": 32.7, \"school_none\": 0.15823073415412678, \"school_uni\": 0.1122891016871865, \"work_unemployRate\": 10.8, \"workIn_agr\": 0.05289898386132696, \"workIn_arts\": 0.01315002988643156, \"workIn_biz\": 0.15331739390316795, \"pop_density\": 45.7409793814433, \"trnsprt_walkBike\": 0.060113154172560114, \"trnsprt_commuteByCar\": 0.9264497878359265, \"trnsprt_15minutes2work\": 0.632956152758133, \"bldgs_LiveInHouses\": 0.6014591883264934, \"bldgs_LiveInAprtmnts\": 0.008207934336525308, \"pop_1stGenImmigrant\": 0.11363230301947472, \"lang_notEnglishOrFrench\": 0.06471631205673758}, {\"geo_name\": \"Fredericton\", \"population_size\": 101760.0, \"age_median\": 40.9, \"school_none\": 0.09387876978202449, \"school_uni\": 0.2613914601373544, \"work_unemployRate\": 8.8, \"workIn_agr\": 0.019138755980861243, \"workIn_arts\": 0.026499815973500183, \"workIn_biz\": 0.15467427309532572, \"pop_density\": 17.71152972546781, \"trnsprt_walkBike\": 0.0687281584242296, \"trnsprt_commuteByCar\": 0.8920893783755163, \"trnsprt_15minutes2work\": 0.39457799428147833, \"bldgs_LiveInHouses\": 0.6031096563011457, \"bldgs_LiveInAprtmnts\": 0.010872106616787468, \"pop_1stGenImmigrant\": 0.0989837600876756, \"lang_notEnglishOrFrench\": 0.04766445413116703}, {\"geo_name\": \"Gander\", \"population_size\": 13234.0, \"age_median\": 43.8, \"school_none\": 0.13061602593793423, \"school_uni\": 0.12760537285780454, \"work_unemployRate\": 10.6, \"workIn_agr\": 0.01753048780487805, \"workIn_arts\": 0.018292682926829267, \"workIn_biz\": 0.11051829268292683, \"pop_density\": 5.452036171133129, \"trnsprt_walkBike\": 0.05094991364421416, \"trnsprt_commuteByCar\": 0.9205526770293609, \"trnsprt_15minutes2work\": 0.7858376511226253, \"bldgs_LiveInHouses\": 0.678990081154193, \"bldgs_LiveInAprtmnts\": 0.002705139765554554, \"pop_1stGenImmigrant\": 0.024681835711531045, \"lang_notEnglishOrFrench\": 0.00880551301684533}, {\"geo_name\": \"Granby\", \"population_size\": 85056.0, \"age_median\": 45.2, \"school_none\": 0.17023904671946524, \"school_uni\": 0.1239192036619923, \"work_unemployRate\": 5.9, \"workIn_agr\": 0.0181453988452928, \"workIn_arts\": 0.02156238953693885, \"workIn_biz\": 0.1356191822787793, \"pop_density\": 172.03883495145632, \"trnsprt_walkBike\": 0.06093853271645737, \"trnsprt_commuteByCar\": 0.9187045604758758, \"trnsprt_15minutes2work\": 0.4723066754791804, \"bldgs_LiveInHouses\": 0.4585043017868961, \"bldgs_LiveInAprtmnts\": 0.021310390469887492, \"pop_1stGenImmigrant\": 0.04906640884645598, \"lang_notEnglishOrFrench\": 0.029846529058354648}, {\"geo_name\": \"Grand Falls-Windsor\", \"population_size\": 14171.0, \"age_median\": 47.0, \"school_none\": 0.14733276883996613, \"school_uni\": 0.12044877222692633, \"work_unemployRate\": 16.4, \"workIn_agr\": 0.017884914463452566, \"workIn_arts\": 0.020995334370139968, \"workIn_biz\": 0.13763608087091758, \"pop_density\": 259.2098042802268, \"trnsprt_walkBike\": 0.03932584269662921, \"trnsprt_commuteByCar\": 0.9232209737827716, \"trnsprt_15minutes2work\": 0.8033707865168539, \"bldgs_LiveInHouses\": 0.6371100164203612, \"bldgs_LiveInAprtmnts\": 0.0008210180623973727, \"pop_1stGenImmigrant\": 0.01802451333813987, \"lang_notEnglishOrFrench\": 0.009618810117563235}, {\"geo_name\": \"Grande Prairie\", \"population_size\": 63166.0, \"age_median\": 31.9, \"school_none\": 0.15237603305785125, \"school_uni\": 0.13114669421487604, \"work_unemployRate\": 9.7, \"workIn_agr\": 0.056583677273332446, \"workIn_arts\": 0.016509119957395818, \"workIn_biz\": 0.1347357209426175, \"pop_density\": 475.89844044300463, \"trnsprt_walkBike\": 0.04210366317069463, \"trnsprt_commuteByCar\": 0.9264325885392917, \"trnsprt_15minutes2work\": 0.48366013071895425, \"bldgs_LiveInHouses\": 0.6340021119324182, \"bldgs_LiveInAprtmnts\": 0.006969376979936642, \"pop_1stGenImmigrant\": 0.12441579371474618, \"lang_notEnglishOrFrench\": 0.06996573432145987}, {\"geo_name\": \"Greater Sudbury\", \"population_size\": 164689.0, \"age_median\": 43.3, \"school_none\": 0.13565322669406024, \"school_uni\": 0.14994313387386726, \"work_unemployRate\": 8.4, \"workIn_agr\": 0.04878925917046272, \"workIn_arts\": 0.019120115080316472, \"workIn_biz\": 0.15763605849916087, \"pop_density\": 41.96454052511415, \"trnsprt_walkBike\": 0.04917045758629917, \"trnsprt_commuteByCar\": 0.8892159486218892, \"trnsprt_15minutes2work\": 0.3330880385335831, \"bldgs_LiveInHouses\": 0.6210518844488608, \"bldgs_LiveInAprtmnts\": 0.06324082617644972, \"pop_1stGenImmigrant\": 0.06461082099928932, \"lang_notEnglishOrFrench\": 0.04159760589318601}, {\"geo_name\": \"Guelph\", \"population_size\": 151984.0, \"age_median\": 39.4, \"school_none\": 0.10848923757795212, \"school_uni\": 0.2575739287869644, \"work_unemployRate\": 5.9, \"workIn_agr\": 0.01695308871342313, \"workIn_arts\": 0.02966790524849048, \"workIn_biz\": 0.13730840687412912, \"pop_density\": 256.0765614732692, \"trnsprt_walkBike\": 0.06906295176764359, \"trnsprt_commuteByCar\": 0.858522801945065, \"trnsprt_15minutes2work\": 0.3556972006834012, \"bldgs_LiveInHouses\": 0.5567645074224021, \"bldgs_LiveInAprtmnts\": 0.0935391363022942, \"pop_1stGenImmigrant\": 0.22265546890621876, \"lang_notEnglishOrFrench\": 0.12697662854301342}, {\"geo_name\": \"Halifax\", \"population_size\": 403390.0, \"age_median\": 41.0, \"school_none\": 0.10127220426440497, \"school_uni\": 0.26320393819874854, \"work_unemployRate\": 7.3, \"workIn_agr\": 0.012350130713062292, \"workIn_arts\": 0.034053006400432705, \"workIn_biz\": 0.16553231767781484, \"pop_density\": 73.39287631156175, \"trnsprt_walkBike\": 0.09188911704312115, \"trnsprt_commuteByCar\": 0.7772073921971252, \"trnsprt_15minutes2work\": 0.2494802494802495, \"bldgs_LiveInHouses\": 0.4993370229447711, \"bldgs_LiveInAprtmnts\": 0.12106537530266344, \"pop_1stGenImmigrant\": 0.12052510468142895, \"lang_notEnglishOrFrench\": 0.057451667396608896}, {\"geo_name\": \"Hamilton\", \"population_size\": 747545.0, \"age_median\": 42.1, \"school_none\": 0.12235670505276389, \"school_uni\": 0.20702375802884262, \"work_unemployRate\": 6.6, \"workIn_agr\": 0.01588840624676802, \"workIn_arts\": 0.029953976626331574, \"workIn_biz\": 0.1500542972385976, \"pop_density\": 544.9015591629066, \"trnsprt_walkBike\": 0.05138461089295359, \"trnsprt_commuteByCar\": 0.8413792096696495, \"trnsprt_15minutes2work\": 0.22785863392844108, \"bldgs_LiveInHouses\": 0.5626651212735857, \"bldgs_LiveInAprtmnts\": 0.15474952700744857, \"pop_1stGenImmigrant\": 0.2551300892662748, \"lang_notEnglishOrFrench\": 0.14483115722785145}, {\"geo_name\": \"Hawkesbury\", \"population_size\": 11974.0, \"age_median\": 51.5, \"school_none\": 0.22939698492462313, \"school_uni\": 0.058542713567839195, \"work_unemployRate\": 9.4, \"workIn_agr\": 0.015873015873015872, \"workIn_arts\": 0.013888888888888888, \"workIn_biz\": 0.10615079365079365, \"pop_density\": 959.4551282051282, \"trnsprt_walkBike\": 0.08700440528634361, \"trnsprt_commuteByCar\": 0.8887665198237885, \"trnsprt_15minutes2work\": 0.6028602860286029, \"bldgs_LiveInHouses\": 0.38294168842471715, \"bldgs_LiveInAprtmnts\": 0.0, \"pop_1stGenImmigrant\": 0.038594969644405897, \"lang_notEnglishOrFrench\": 0.02796682262866865}, {\"geo_name\": \"Hawkesbury (Ontario part)\", \"population_size\": 10263.0, \"age_median\": 52.5, \"school_none\": 0.23052138254247218, \"school_uni\": 0.06121851200937317, \"work_unemployRate\": 9.5, \"workIn_agr\": 0.013205282112845138, \"workIn_arts\": 0.012004801920768308, \"workIn_biz\": 0.11644657863145258, \"pop_density\": 1066.839916839917, \"trnsprt_walkBike\": 0.09561752988047809, \"trnsprt_commuteByCar\": 0.8751660026560425, \"trnsprt_15minutes2work\": 0.6148738379814077, \"bldgs_LiveInHouses\": 0.36088709677419356, \"bldgs_LiveInAprtmnts\": 0.0, \"pop_1stGenImmigrant\": 0.04073319755600815, \"lang_notEnglishOrFrench\": 0.030378486055776893}, {\"geo_name\": \"Hawkesbury (Quebec part)\", \"population_size\": 1711.0, \"age_median\": 42.8, \"school_none\": 0.21830985915492956, \"school_uni\": 0.04401408450704225, \"work_unemployRate\": 9.0, \"workIn_agr\": 0.028735632183908046, \"workIn_arts\": 0.022988505747126436, \"workIn_biz\": 0.06321839080459771, \"pop_density\": 596.1672473867595, \"trnsprt_walkBike\": 0.04487179487179487, \"trnsprt_commuteByCar\": 0.9423076923076923, \"trnsprt_15minutes2work\": 0.5483870967741935, \"bldgs_LiveInHouses\": 0.5189873417721519, \"bldgs_LiveInAprtmnts\": 0.0, \"pop_1stGenImmigrant\": 0.029239766081871343, \"lang_notEnglishOrFrench\": 0.013888888888888888}, {\"geo_name\": \"High River\", \"population_size\": 13584.0, \"age_median\": 42.6, \"school_none\": 0.12268518518518519, \"school_uni\": 0.11944444444444445, \"work_unemployRate\": 8.2, \"workIn_agr\": 0.03435672514619883, \"workIn_arts\": 0.02412280701754386, \"workIn_biz\": 0.15716374269005848, \"pop_density\": 635.0631136044881, \"trnsprt_walkBike\": 0.07142857142857142, \"trnsprt_commuteByCar\": 0.907312925170068, \"trnsprt_15minutes2work\": 0.49446808510638296, \"bldgs_LiveInHouses\": 0.5111731843575419, \"bldgs_LiveInAprtmnts\": 0.0, \"pop_1stGenImmigrant\": 0.16435272045028143, \"lang_notEnglishOrFrench\": 0.08308439133681852}, {\"geo_name\": \"Ingersoll\", \"population_size\": 12757.0, \"age_median\": 41.1, \"school_none\": 0.1493411420204978, \"school_uni\": 0.09394826744753539, \"work_unemployRate\": 5.8, \"workIn_agr\": 0.023930384336475707, \"workIn_arts\": 0.02030456852791878, \"workIn_biz\": 0.12472806381435823, \"pop_density\": 1000.5490196078431, \"trnsprt_walkBike\": 0.054848966613672494, \"trnsprt_commuteByCar\": 0.9340222575516693, \"trnsprt_15minutes2work\": 0.40031771247021447, \"bldgs_LiveInHouses\": 0.7109144542772862, \"bldgs_LiveInAprtmnts\": 0.00688298918387414, \"pop_1stGenImmigrant\": 0.0679650238473768, \"lang_notEnglishOrFrench\": 0.026644215530903327}, {\"geo_name\": \"Joliette\", \"population_size\": 49439.0, \"age_median\": 47.9, \"school_none\": 0.16668751563672754, \"school_uni\": 0.12315486614961221, \"work_unemployRate\": 7.9, \"workIn_agr\": 0.013488797439414724, \"workIn_arts\": 0.020118884316415182, \"workIn_biz\": 0.12482853223593965, \"pop_density\": 454.40257352941177, \"trnsprt_walkBike\": 0.08123107971745712, \"trnsprt_commuteByCar\": 0.8945509586276489, \"trnsprt_15minutes2work\": 0.49659348978046935, \"bldgs_LiveInHouses\": 0.4666370106761566, \"bldgs_LiveInAprtmnts\": 0.0066725978647686835, \"pop_1stGenImmigrant\": 0.03468085106382979, \"lang_notEnglishOrFrench\": 0.025879109446525175}, {\"geo_name\": \"Kamloops\", \"population_size\": 103811.0, \"age_median\": 43.6, \"school_none\": 0.10753984590954538, \"school_uni\": 0.15388460859848263, \"work_unemployRate\": 7.8, \"workIn_agr\": 0.03015591448044067, \"workIn_arts\": 0.02222014751190365, \"workIn_biz\": 0.13910932686023714, \"pop_density\": 18.313017093866318, \"trnsprt_walkBike\": 0.06634920634920635, \"trnsprt_commuteByCar\": 0.8717460317460317, \"trnsprt_15minutes2work\": 0.4140120647687586, \"bldgs_LiveInHouses\": 0.5391436238478591, \"bldgs_LiveInAprtmnts\": 0.01575078753937697, \"pop_1stGenImmigrant\": 0.11210361768646718, \"lang_notEnglishOrFrench\": 0.05883574359976549}, {\"geo_name\": \"Kawartha Lakes\", \"population_size\": 75423.0, \"age_median\": 51.2, \"school_none\": 0.14064714218233348, \"school_uni\": 0.08660053534876397, \"work_unemployRate\": 7.7, \"workIn_agr\": 0.031443880428652, \"workIn_arts\": 0.017202481669486746, \"workIn_biz\": 0.12690355329949238, \"pop_density\": 24.453212639168974, \"trnsprt_walkBike\": 0.04885343968095713, \"trnsprt_commuteByCar\": 0.9336989032901296, \"trnsprt_15minutes2work\": 0.2794948487869724, \"bldgs_LiveInHouses\": 0.8355569844076515, \"bldgs_LiveInAprtmnts\": 0.022022182928789585, \"pop_1stGenImmigrant\": 0.08224872231686542, \"lang_notEnglishOrFrench\": 0.028606546336206896}, {\"geo_name\": \"Kelowna\", \"population_size\": 194882.0, \"age_median\": 45.5, \"school_none\": 0.0994294653538235, \"school_uni\": 0.15577743014017975, \"work_unemployRate\": 7.1, \"workIn_agr\": 0.029033677110318196, \"workIn_arts\": 0.030206754973361356, \"workIn_biz\": 0.14531502028447138, \"pop_density\": 67.08825898666373, \"trnsprt_walkBike\": 0.07233822854520422, \"trnsprt_commuteByCar\": 0.8606585589720055, \"trnsprt_15minutes2work\": 0.36438733363928405, \"bldgs_LiveInHouses\": 0.5206438928483657, \"bldgs_LiveInAprtmnts\": 0.0208282133202261, \"pop_1stGenImmigrant\": 0.15666570461522314, \"lang_notEnglishOrFrench\": 0.07497536690349012}, {\"geo_name\": \"Kenora\", \"population_size\": 15096.0, \"age_median\": 44.9, \"school_none\": 0.13595959595959595, \"school_uni\": 0.13777777777777778, \"work_unemployRate\": 7.1, \"workIn_agr\": 0.019362898188632106, \"workIn_arts\": 0.014990630855715179, \"workIn_biz\": 0.11305434103685197, \"pop_density\": 71.3455267262158, \"trnsprt_walkBike\": 0.08989547038327526, \"trnsprt_commuteByCar\": 0.8822299651567944, \"trnsprt_15minutes2work\": 0.6334494773519164, \"bldgs_LiveInHouses\": 0.7768339768339768, \"bldgs_LiveInAprtmnts\": 0.025482625482625483, \"pop_1stGenImmigrant\": 0.06118999323867478, \"lang_notEnglishOrFrench\": 0.032293423271500844}, {\"geo_name\": \"Kentville\", \"population_size\": 26222.0, \"age_median\": 46.2, \"school_none\": 0.13749429484253767, \"school_uni\": 0.15654952076677317, \"work_unemployRate\": 8.5, \"workIn_agr\": 0.03786104605776737, \"workIn_arts\": 0.02302888368462139, \"workIn_biz\": 0.12646370023419204, \"pop_density\": 43.00592065340396, \"trnsprt_walkBike\": 0.04596665164488508, \"trnsprt_commuteByCar\": 0.9292474087426769, \"trnsprt_15minutes2work\": 0.4509009009009009, \"bldgs_LiveInHouses\": 0.693051890941073, \"bldgs_LiveInAprtmnts\": 0.0008795074758135445, \"pop_1stGenImmigrant\": 0.05368868288914639, \"lang_notEnglishOrFrench\": 0.017259615384615384}, {\"geo_name\": \"Kingston\", \"population_size\": 161175.0, \"age_median\": 43.2, \"school_none\": 0.09375825004714312, \"school_uni\": 0.21885725061286065, \"work_unemployRate\": 7.3, \"workIn_agr\": 0.014280460897278744, \"workIn_arts\": 0.028928658985045354, \"workIn_biz\": 0.1388820789409169, \"pop_density\": 83.13088956628035, \"trnsprt_walkBike\": 0.0948114190456345, \"trnsprt_commuteByCar\": 0.8262832534555811, \"trnsprt_15minutes2work\": 0.3303000833564879, \"bldgs_LiveInHouses\": 0.576897592578959, \"bldgs_LiveInAprtmnts\": 0.12795406022233674, \"pop_1stGenImmigrant\": 0.13680375802895217, \"lang_notEnglishOrFrench\": 0.060865831159742985}, {\"geo_name\": \"Kitchener - Cambridge - Waterloo\", \"population_size\": 523894.0, \"age_median\": 38.6, \"school_none\": 0.1281127245703231, \"school_uni\": 0.2143548063652342, \"work_unemployRate\": 6.4, \"workIn_agr\": 0.01487562712696909, \"workIn_arts\": 0.02624285162965302, \"workIn_biz\": 0.14914219555836228, \"pop_density\": 480.12573774698484, \"trnsprt_walkBike\": 0.05494288701690702, \"trnsprt_commuteByCar\": 0.8769555524867328, \"trnsprt_15minutes2work\": 0.2994535303517529, \"bldgs_LiveInHouses\": 0.5519838399960099, \"bldgs_LiveInAprtmnts\": 0.10957879248859073, \"pop_1stGenImmigrant\": 0.2526255619283832, \"lang_notEnglishOrFrench\": 0.15747879536441095}, {\"geo_name\": \"Lachute\", \"population_size\": 12862.0, \"age_median\": 49.3, \"school_none\": 0.2621176470588235, \"school_uni\": 0.06588235294117648, \"work_unemployRate\": 6.8, \"workIn_agr\": 0.018034265103697024, \"workIn_arts\": 0.016230838593327322, \"workIn_biz\": 0.1424706943192065, \"pop_density\": 116.96980720261914, \"trnsprt_walkBike\": 0.06572295247724974, \"trnsprt_commuteByCar\": 0.9180990899898888, \"trnsprt_15minutes2work\": 0.4898785425101215, \"bldgs_LiveInHouses\": 0.5016722408026756, \"bldgs_LiveInAprtmnts\": 0.0, \"pop_1stGenImmigrant\": 0.024989923417976623, \"lang_notEnglishOrFrench\": 0.011723446893787575}, {\"geo_name\": \"Lacombe\", \"population_size\": 13057.0, \"age_median\": 37.5, \"school_none\": 0.1344139650872818, \"school_uni\": 0.15062344139650874, \"work_unemployRate\": 9.5, \"workIn_agr\": 0.05185185185185185, \"workIn_arts\": 0.028148148148148148, \"workIn_biz\": 0.13185185185185186, \"pop_density\": 627.4387313791447, \"trnsprt_walkBike\": 0.06958762886597938, \"trnsprt_commuteByCar\": 0.9037800687285223, \"trnsprt_15minutes2work\": 0.4793814432989691, \"bldgs_LiveInHouses\": 0.675, \"bldgs_LiveInAprtmnts\": 0.0, \"pop_1stGenImmigrant\": 0.11762391817466562, \"lang_notEnglishOrFrench\": 0.05428849902534113}, {\"geo_name\": \"Leamington\", \"population_size\": 49147.0, \"age_median\": 42.7, \"school_none\": 0.2252024963484265, \"school_uni\": 0.09892444562475103, \"work_unemployRate\": 5.7, \"workIn_agr\": 0.06858407079646017, \"workIn_arts\": 0.015265486725663717, \"workIn_biz\": 0.1245575221238938, \"pop_density\": 96.58635327411368, \"trnsprt_walkBike\": 0.05153099327856609, \"trnsprt_commuteByCar\": 0.9352750809061489, \"trnsprt_15minutes2work\": 0.4484818317570931, \"bldgs_LiveInHouses\": 0.7409571508069004, \"bldgs_LiveInAprtmnts\": 0.029771841958820256, \"pop_1stGenImmigrant\": 0.2237951156256754, \"lang_notEnglishOrFrench\": 0.17266521874030408}, {\"geo_name\": \"Lethbridge\", \"population_size\": 117394.0, \"age_median\": 36.4, \"school_none\": 0.1301578660860098, \"school_uni\": 0.16785519869352206, \"work_unemployRate\": 6.2, \"workIn_agr\": 0.03746997598078463, \"workIn_arts\": 0.020816653322658127, \"workIn_biz\": 0.13410728582866294, \"pop_density\": 39.459106981997124, \"trnsprt_walkBike\": 0.05371637026903785, \"trnsprt_commuteByCar\": 0.9069767441860465, \"trnsprt_15minutes2work\": 0.4820793433652531, \"bldgs_LiveInHouses\": 0.668782142466353, \"bldgs_LiveInAprtmnts\": 0.016632016632016633, \"pop_1stGenImmigrant\": 0.15628703094140883, \"lang_notEnglishOrFrench\": 0.09866859436364421}, {\"geo_name\": \"Lloydminster\", \"population_size\": 34583.0, \"age_median\": 32.8, \"school_none\": 0.13935987807201372, \"school_uni\": 0.14336064012192798, \"work_unemployRate\": 11.4, \"workIn_agr\": 0.06761205368447708, \"workIn_arts\": 0.016966320587490504, \"workIn_biz\": 0.14585971131932135, \"pop_density\": 31.794320177253127, \"trnsprt_walkBike\": 0.04742145820983995, \"trnsprt_commuteByCar\": 0.9362774155305276, \"trnsprt_15minutes2work\": 0.6253704801422644, \"bldgs_LiveInHouses\": 0.6637168141592921, \"bldgs_LiveInAprtmnts\": 0.008464794151596768, \"pop_1stGenImmigrant\": 0.15006601144198328, \"lang_notEnglishOrFrench\": 0.08114514952589351}, {\"geo_name\": \"Lloydminster (Alberta part)\", \"population_size\": 19645.0, \"age_median\": 35.1, \"school_none\": 0.13236278447121821, \"school_uni\": 0.15863453815261044, \"work_unemployRate\": 11.0, \"workIn_agr\": 0.057579847053531266, \"workIn_arts\": 0.018443544759334234, \"workIn_biz\": 0.16284300494826812, \"pop_density\": 817.1797004991681, \"trnsprt_walkBike\": 0.05142857142857143, \"trnsprt_commuteByCar\": 0.9309090909090909, \"trnsprt_15minutes2work\": 0.6687435098650052, \"bldgs_LiveInHouses\": 0.6850235057085292, \"bldgs_LiveInAprtmnts\": 0.0047011417058428475, \"pop_1stGenImmigrant\": 0.12597402597402596, \"lang_notEnglishOrFrench\": 0.06541334020087561}, {\"geo_name\": \"Lloydminster (Saskatchewan part)\", \"population_size\": 14938.0, \"age_median\": 30.4, \"school_none\": 0.14838567005749667, \"school_uni\": 0.12317558602388323, \"work_unemployRate\": 11.9, \"workIn_agr\": 0.08053302433371959, \"workIn_arts\": 0.015063731170336037, \"workIn_biz\": 0.12398609501738123, \"pop_density\": 14.043829383173351, \"trnsprt_walkBike\": 0.041407867494824016, \"trnsprt_commuteByCar\": 0.9440993788819876, \"trnsprt_15minutes2work\": 0.5668965517241379, \"bldgs_LiveInHouses\": 0.6360360360360361, \"bldgs_LiveInAprtmnts\": 0.013513513513513514, \"pop_1stGenImmigrant\": 0.18126684636118598, \"lang_notEnglishOrFrench\": 0.10153095558546434}, {\"geo_name\": \"London\", \"population_size\": 494069.0, \"age_median\": 40.7, \"school_none\": 0.11742980108766694, \"school_uni\": 0.203697081057084, \"work_unemployRate\": 7.3, \"workIn_agr\": 0.01645479386954972, \"workIn_arts\": 0.026751415785513447, \"workIn_biz\": 0.1447071403112748, \"pop_density\": 185.57279146634616, \"trnsprt_walkBike\": 0.0667369791082288, \"trnsprt_commuteByCar\": 0.8514687072234813, \"trnsprt_15minutes2work\": 0.31022798671573465, \"bldgs_LiveInHouses\": 0.5590593136186394, \"bldgs_LiveInAprtmnts\": 0.16834992370849378, \"pop_1stGenImmigrant\": 0.2166473109217788, \"lang_notEnglishOrFrench\": 0.12164652877329511}, {\"geo_name\": \"Matane\", \"population_size\": 17926.0, \"age_median\": 52.4, \"school_none\": 0.18747913188647747, \"school_uni\": 0.09215358931552588, \"work_unemployRate\": 11.2, \"workIn_agr\": 0.030229746070133012, \"workIn_arts\": 0.018137847642079808, \"workIn_biz\": 0.14268440145102781, \"pop_density\": 27.022626889970905, \"trnsprt_walkBike\": 0.07902097902097902, \"trnsprt_commuteByCar\": 0.9006993006993007, \"trnsprt_15minutes2work\": 0.6867132867132867, \"bldgs_LiveInHouses\": 0.6303206997084548, \"bldgs_LiveInAprtmnts\": 0.0011661807580174927, \"pop_1stGenImmigrant\": 0.020869565217391306, \"lang_notEnglishOrFrench\": 0.004671574178935448}, {\"geo_name\": \"Medicine Hat\", \"population_size\": 76522.0, \"age_median\": 40.1, \"school_none\": 0.15279262976063174, \"school_uni\": 0.10936086205478325, \"work_unemployRate\": 9.9, \"workIn_agr\": 0.05958679768203578, \"workIn_arts\": 0.016880826404635927, \"workIn_biz\": 0.13000755857898716, \"pop_density\": 5.752867713061796, \"trnsprt_walkBike\": 0.03997631033461652, \"trnsprt_commuteByCar\": 0.9243411311815221, \"trnsprt_15minutes2work\": 0.5055514433752776, \"bldgs_LiveInHouses\": 0.6738095238095239, \"bldgs_LiveInAprtmnts\": 0.006666666666666667, \"pop_1stGenImmigrant\": 0.10144636400160707, \"lang_notEnglishOrFrench\": 0.05560356288221218}, {\"geo_name\": \"Midland\", \"population_size\": 35859.0, \"age_median\": 49.6, \"school_none\": 0.15286144578313254, \"school_uni\": 0.10040160642570281, \"work_unemployRate\": 8.1, \"workIn_agr\": 0.01847924871251136, \"workIn_arts\": 0.021205695243865494, \"workIn_biz\": 0.11087549227506815, \"pop_density\": 179.3039651982599, \"trnsprt_walkBike\": 0.06854009595613433, \"trnsprt_commuteByCar\": 0.9043865661411926, \"trnsprt_15minutes2work\": 0.4862919808087731, \"bldgs_LiveInHouses\": 0.7299077733860343, \"bldgs_LiveInAprtmnts\": 0.03392621870882741, \"pop_1stGenImmigrant\": 0.0826601269474899, \"lang_notEnglishOrFrench\": 0.029736314130123245}, {\"geo_name\": \"Miramichi\", \"population_size\": 27523.0, \"age_median\": 48.3, \"school_none\": 0.12782927355033413, \"school_uni\": 0.11780556154343609, \"work_unemployRate\": 14.8, \"workIn_agr\": 0.02780952380952381, \"workIn_arts\": 0.011047619047619047, \"workIn_biz\": 0.15619047619047619, \"pop_density\": 3.6315152666669306, \"trnsprt_walkBike\": 0.03227272727272727, \"trnsprt_commuteByCar\": 0.9281818181818182, \"trnsprt_15minutes2work\": 0.46475670759436105, \"bldgs_LiveInHouses\": 0.7692629815745393, \"bldgs_LiveInAprtmnts\": 0.0, \"pop_1stGenImmigrant\": 0.026607538802660754, \"lang_notEnglishOrFrench\": 0.012545955882352942}, {\"geo_name\": \"Moncton\", \"population_size\": 144810.0, \"age_median\": 42.1, \"school_none\": 0.11550919109914609, \"school_uni\": 0.18417953140116938, \"work_unemployRate\": 8.0, \"workIn_agr\": 0.014183941980617419, \"workIn_arts\": 0.022655798729221487, \"workIn_biz\": 0.16167126628586098, \"pop_density\": 56.58740548250327, \"trnsprt_walkBike\": 0.06011569158673208, \"trnsprt_commuteByCar\": 0.8927290034414586, \"trnsprt_15minutes2work\": 0.44911407233855616, \"bldgs_LiveInHouses\": 0.5551238465274405, \"bldgs_LiveInAprtmnts\": 0.02217905131941072, \"pop_1stGenImmigrant\": 0.06952835188129305, \"lang_notEnglishOrFrench\": 0.029984191111891798}, {\"geo_name\": \"Montr\\u00e9al\", \"population_size\": 4098927.0, \"age_median\": 40.3, \"school_none\": 0.12617736772735832, \"school_uni\": 0.23450950856712482, \"work_unemployRate\": 7.5, \"workIn_agr\": 0.006884507624903631, \"workIn_arts\": 0.041523288392471, \"workIn_biz\": 0.17685592598860495, \"pop_density\": 890.2466411540616, \"trnsprt_walkBike\": 0.07226539690628617, \"trnsprt_commuteByCar\": 0.6967518128058944, \"trnsprt_15minutes2work\": 0.18148278891504738, \"bldgs_LiveInHouses\": 0.32665242486872653, \"bldgs_LiveInAprtmnts\": 0.08763047744759192, \"pop_1stGenImmigrant\": 0.2557973661995189, \"lang_notEnglishOrFrench\": 0.16999559624064509}, {\"geo_name\": \"Moose Jaw\", \"population_size\": 35053.0, \"age_median\": 41.2, \"school_none\": 0.1427670689965772, \"school_uni\": 0.1235813366960908, \"work_unemployRate\": 6.4, \"workIn_agr\": 0.03591314031180401, \"workIn_arts\": 0.01920935412026726, \"workIn_biz\": 0.12082405345211582, \"pop_density\": 41.51133322280382, \"trnsprt_walkBike\": 0.06724511930585683, \"trnsprt_commuteByCar\": 0.9079640533002789, \"trnsprt_15minutes2work\": 0.6256585063526495, \"bldgs_LiveInHouses\": 0.7098600932711525, \"bldgs_LiveInAprtmnts\": 0.04197201865423051, \"pop_1stGenImmigrant\": 0.089212228101117, \"lang_notEnglishOrFrench\": 0.04718350754936121}, {\"geo_name\": \"Nanaimo\", \"population_size\": 104936.0, \"age_median\": 45.9, \"school_none\": 0.10789110164613791, \"school_uni\": 0.16444111891331875, \"work_unemployRate\": 7.7, \"workIn_agr\": 0.026418786692759294, \"workIn_arts\": 0.02827788649706458, \"workIn_biz\": 0.13199608610567515, \"pop_density\": 81.92748508791107, \"trnsprt_walkBike\": 0.07428830668027674, \"trnsprt_commuteByCar\": 0.8635590336849268, \"trnsprt_15minutes2work\": 0.4306453442213905, \"bldgs_LiveInHouses\": 0.5851217613699544, \"bldgs_LiveInAprtmnts\": 0.027577004336706328, \"pop_1stGenImmigrant\": 0.1687420335326993, \"lang_notEnglishOrFrench\": 0.06861152857904688}, {\"geo_name\": \"Nelson\", \"population_size\": 18307.0, \"age_median\": 44.8, \"school_none\": 0.07470511140235911, \"school_uni\": 0.2254259501965924, \"work_unemployRate\": 8.7, \"workIn_agr\": 0.03490759753593429, \"workIn_arts\": 0.0513347022587269, \"workIn_biz\": 0.11652977412731007, \"pop_density\": 14.945221806782373, \"trnsprt_walkBike\": 0.20139328689043698, \"trnsprt_commuteByCar\": 0.759341355288157, \"trnsprt_15minutes2work\": 0.489873417721519, \"bldgs_LiveInHouses\": 0.6454930429522081, \"bldgs_LiveInAprtmnts\": 0.0006049606775559589, \"pop_1stGenImmigrant\": 0.14894209354120266, \"lang_notEnglishOrFrench\": 0.0569027280242491}, {\"geo_name\": \"New Glasgow\", \"population_size\": 34487.0, \"age_median\": 47.3, \"school_none\": 0.1591665207494309, \"school_uni\": 0.12440903519523726, \"work_unemployRate\": 12.3, \"workIn_agr\": 0.03036944270507201, \"workIn_arts\": 0.020350657482780213, \"workIn_biz\": 0.14308077645585474, \"pop_density\": 16.68432485256624, \"trnsprt_walkBike\": 0.03653635367190355, \"trnsprt_commuteByCar\": 0.9440993788819876, \"trnsprt_15minutes2work\": 0.49433686518085496, \"bldgs_LiveInHouses\": 0.7395902181097158, \"bldgs_LiveInAprtmnts\": 0.00033046926635822867, \"pop_1stGenImmigrant\": 0.032253291907086847, \"lang_notEnglishOrFrench\": 0.01467543989353837}, {\"geo_name\": \"Norfolk\", \"population_size\": 64044.0, \"age_median\": 47.9, \"school_none\": 0.16978001137872178, \"school_uni\": 0.09036601555091978, \"work_unemployRate\": 7.5, \"workIn_agr\": 0.05394459744046655, \"workIn_arts\": 0.017009557751498462, \"workIn_biz\": 0.11453102219342297, \"pop_density\": 39.83950732481105, \"trnsprt_walkBike\": 0.05632730732635585, \"trnsprt_commuteByCar\": 0.928639391056137, \"trnsprt_15minutes2work\": 0.33948620361560417, \"bldgs_LiveInHouses\": 0.8313785810421073, \"bldgs_LiveInAprtmnts\": 0.015573928090751778, \"pop_1stGenImmigrant\": 0.11766119343211855, \"lang_notEnglishOrFrench\": 0.07776811823283016}, {\"geo_name\": \"North Battleford\", \"population_size\": 19623.0, \"age_median\": 38.3, \"school_none\": 0.1688985604285236, \"school_uni\": 0.13893538667559424, \"work_unemployRate\": 8.4, \"workIn_agr\": 0.034936708860759495, \"workIn_arts\": 0.013164556962025316, \"workIn_biz\": 0.13569620253164558, \"pop_density\": 22.941754156241963, \"trnsprt_walkBike\": 0.06501726121979287, \"trnsprt_commuteByCar\": 0.9125431530494822, \"trnsprt_15minutes2work\": 0.7104202648244099, \"bldgs_LiveInHouses\": 0.6979823455233292, \"bldgs_LiveInAprtmnts\": 0.02648171500630517, \"pop_1stGenImmigrant\": 0.11029023746701846, \"lang_notEnglishOrFrench\": 0.08756877128635053}, {\"geo_name\": \"North Bay\", \"population_size\": 70378.0, \"age_median\": 45.1, \"school_none\": 0.12594469254551702, \"school_uni\": 0.1468996908278942, \"work_unemployRate\": 9.1, \"workIn_agr\": 0.019149247186083906, \"workIn_arts\": 0.022365151293670515, \"workIn_biz\": 0.1429615553281684, \"pop_density\": 13.108116162293445, \"trnsprt_walkBike\": 0.0812885995660157, \"trnsprt_commuteByCar\": 0.8704723752295109, \"trnsprt_15minutes2work\": 0.4540143548656318, \"bldgs_LiveInHouses\": 0.6043153526970955, \"bldgs_LiveInAprtmnts\": 0.06273858921161826, \"pop_1stGenImmigrant\": 0.05494105661475768, \"lang_notEnglishOrFrench\": 0.026392592058802334}, {\"geo_name\": \"Okotoks\", \"population_size\": 28881.0, \"age_median\": 36.3, \"school_none\": 0.08961279851611408, \"school_uni\": 0.18618131231161605, \"work_unemployRate\": 7.7, \"workIn_agr\": 0.025223499361430396, \"workIn_arts\": 0.032247765006385695, \"workIn_biz\": 0.15102171136653894, \"pop_density\": 1471.2684666327052, \"trnsprt_walkBike\": 0.04146249528835281, \"trnsprt_commuteByCar\": 0.9057670561628345, \"trnsprt_15minutes2work\": 0.31586882774217867, \"bldgs_LiveInHouses\": 0.7713398861872737, \"bldgs_LiveInAprtmnts\": 0.0, \"pop_1stGenImmigrant\": 0.1509467040673212, \"lang_notEnglishOrFrench\": 0.04693235448348191}, {\"geo_name\": \"Orillia\", \"population_size\": 31166.0, \"age_median\": 47.0, \"school_none\": 0.16037551339722275, \"school_uni\": 0.12742030119303735, \"work_unemployRate\": 7.9, \"workIn_agr\": 0.014492753623188406, \"workIn_arts\": 0.018978605935127676, \"workIn_biz\": 0.1276742581090407, \"pop_density\": 1090.482855143457, \"trnsprt_walkBike\": 0.09288767975126312, \"trnsprt_commuteByCar\": 0.8484259619121648, \"trnsprt_15minutes2work\": 0.5025262339681306, \"bldgs_LiveInHouses\": 0.5530415430267063, \"bldgs_LiveInAprtmnts\": 0.061943620178041545, \"pop_1stGenImmigrant\": 0.09697880153563679, \"lang_notEnglishOrFrench\": 0.04006436705727018}, {\"geo_name\": \"Oshawa\", \"population_size\": 379848.0, \"age_median\": 40.1, \"school_none\": 0.11778861841675912, \"school_uni\": 0.16258239248188996, \"work_unemployRate\": 8.3, \"workIn_agr\": 0.01313297133476449, \"workIn_arts\": 0.02697310266447784, \"workIn_biz\": 0.15726733173380478, \"pop_density\": 420.3299804136374, \"trnsprt_walkBike\": 0.034214529693734036, \"trnsprt_commuteByCar\": 0.8609604179224433, \"trnsprt_15minutes2work\": 0.23378300803673938, \"bldgs_LiveInHouses\": 0.6558362118595279, \"bldgs_LiveInAprtmnts\": 0.07631692573402418, \"pop_1stGenImmigrant\": 0.18845595772154258, \"lang_notEnglishOrFrench\": 0.07974615517310014}, {\"geo_name\": \"Ottawa - Gatineau\", \"population_size\": 1323783.0, \"age_median\": 40.1, \"school_none\": 0.09835680095360488, \"school_uni\": 0.30059739993667467, \"work_unemployRate\": 7.0, \"workIn_agr\": 0.00957982601345402, \"workIn_arts\": 0.03610044729334695, \"workIn_biz\": 0.18709541084070017, \"pop_density\": 195.61146731171897, \"trnsprt_walkBike\": 0.08661981930302595, \"trnsprt_commuteByCar\": 0.7205809710470545, \"trnsprt_15minutes2work\": 0.19909332823430057, \"bldgs_LiveInHouses\": 0.4484075481563787, \"bldgs_LiveInAprtmnts\": 0.14048683927954508, \"pop_1stGenImmigrant\": 0.21859263644261298, \"lang_notEnglishOrFrench\": 0.1305987962206216}, {\"geo_name\": \"Ottawa - Gatineau (Ontario part)\", \"population_size\": 991726.0, \"age_median\": 40.2, \"school_none\": 0.0835758153587083, \"school_uni\": 0.32691426661053463, \"work_unemployRate\": 7.1, \"workIn_agr\": 0.009536503407234977, \"workIn_arts\": 0.03757344797161576, \"workIn_biz\": 0.182301150763108, \"pop_density\": 272.50385375249704, \"trnsprt_walkBike\": 0.09579219558063, \"trnsprt_commuteByCar\": 0.6977176561097577, \"trnsprt_15minutes2work\": 0.19849767064153523, \"bldgs_LiveInHouses\": 0.4436393525543753, \"bldgs_LiveInAprtmnts\": 0.17376074860900353, \"pop_1stGenImmigrant\": 0.2512315777036919, \"lang_notEnglishOrFrench\": 0.14924000918109714}, {\"geo_name\": \"Ottawa - Gatineau (Quebec part)\", \"population_size\": 332057.0, \"age_median\": 39.7, \"school_none\": 0.14322207404346438, \"school_uni\": 0.2207780010894269, \"work_unemployRate\": 6.6, \"workIn_agr\": 0.009710382205160052, \"workIn_arts\": 0.031671653587760404, \"workIn_biz\": 0.20149043075707107, \"pop_density\": 106.1529362872031, \"trnsprt_walkBike\": 0.05970242756460454, \"trnsprt_commuteByCar\": 0.7876272513703994, \"trnsprt_15minutes2work\": 0.200839441207793, \"bldgs_LiveInHouses\": 0.46184867951463243, \"bldgs_LiveInAprtmnts\": 0.046538187009279086, \"pop_1stGenImmigrant\": 0.12155227710070558, \"lang_notEnglishOrFrench\": 0.07504028090229221}, {\"geo_name\": \"Owen Sound\", \"population_size\": 31820.0, \"age_median\": 48.9, \"school_none\": 0.1422857142857143, \"school_uni\": 0.12714285714285714, \"work_unemployRate\": 6.6, \"workIn_agr\": 0.02449379490529066, \"workIn_arts\": 0.022207707380796866, \"workIn_biz\": 0.11822338340953625, \"pop_density\": 50.61720539577501, \"trnsprt_walkBike\": 0.09707298999629492, \"trnsprt_commuteByCar\": 0.880326046683957, \"trnsprt_15minutes2work\": 0.4975917006298629, \"bldgs_LiveInHouses\": 0.6432685385169187, \"bldgs_LiveInAprtmnts\": 0.05543556515478762, \"pop_1stGenImmigrant\": 0.07408610885458976, \"lang_notEnglishOrFrench\": 0.02717391304347826}, {\"geo_name\": \"Parksville\", \"population_size\": 28922.0, \"age_median\": 62.2, \"school_none\": 0.08418167580266249, \"school_uni\": 0.1460454189506656, \"work_unemployRate\": 6.7, \"workIn_agr\": 0.04124700239808154, \"workIn_arts\": 0.034532374100719423, \"workIn_biz\": 0.13956834532374102, \"pop_density\": 353.3105301734669, \"trnsprt_walkBike\": 0.0936046511627907, \"trnsprt_commuteByCar\": 0.8633720930232558, \"trnsprt_15minutes2work\": 0.46658919233004065, \"bldgs_LiveInHouses\": 0.7266448564158487, \"bldgs_LiveInAprtmnts\": 0.0029080334423845873, \"pop_1stGenImmigrant\": 0.19313918170448455, \"lang_notEnglishOrFrench\": 0.04774782762901224}, {\"geo_name\": \"Pembroke\", \"population_size\": 23269.0, \"age_median\": 46.2, \"school_none\": 0.14764039019245978, \"school_uni\": 0.11178486686000527, \"work_unemployRate\": 7.3, \"workIn_agr\": 0.014699127239320165, \"workIn_arts\": 0.017914561322921452, \"workIn_biz\": 0.12310519062930639, \"pop_density\": 41.11203378151557, \"trnsprt_walkBike\": 0.06826286296484972, \"trnsprt_commuteByCar\": 0.9179826795720836, \"trnsprt_15minutes2work\": 0.46153846153846156, \"bldgs_LiveInHouses\": 0.7186081694402421, \"bldgs_LiveInAprtmnts\": 0.0, \"pop_1stGenImmigrant\": 0.05439144003566652, \"lang_notEnglishOrFrench\": 0.02090669014084507}, {\"geo_name\": \"Penticton\", \"population_size\": 43432.0, \"age_median\": 53.0, \"school_none\": 0.12435758723289153, \"school_uni\": 0.12598052474979712, \"work_unemployRate\": 8.6, \"workIn_agr\": 0.03492916463116756, \"workIn_arts\": 0.025891548607718612, \"workIn_biz\": 0.13336590131900342, \"pop_density\": 25.17870083190817, \"trnsprt_walkBike\": 0.1235632183908046, \"trnsprt_commuteByCar\": 0.8318965517241379, \"trnsprt_15minutes2work\": 0.5848893995978167, \"bldgs_LiveInHouses\": 0.5080482897384306, \"bldgs_LiveInAprtmnts\": 0.04753521126760563, \"pop_1stGenImmigrant\": 0.14499465621660135, \"lang_notEnglishOrFrench\": 0.06460674157303371}, {\"geo_name\": \"Petawawa\", \"population_size\": 17187.0, \"age_median\": 30.8, \"school_none\": 0.0902555910543131, \"school_uni\": 0.1503594249201278, \"work_unemployRate\": 4.4, \"workIn_agr\": 0.004901960784313725, \"workIn_arts\": 0.017429193899782137, \"workIn_biz\": 0.09095860566448802, \"pop_density\": 103.10756494090828, \"trnsprt_walkBike\": 0.05457746478873239, \"trnsprt_commuteByCar\": 0.937206572769953, \"trnsprt_15minutes2work\": 0.4961876832844575, \"bldgs_LiveInHouses\": 0.6961325966850829, \"bldgs_LiveInAprtmnts\": 0.0, \"pop_1stGenImmigrant\": 0.06924019607843138, \"lang_notEnglishOrFrench\": 0.02313063718359034}, {\"geo_name\": \"Peterborough\", \"population_size\": 121721.0, \"age_median\": 45.6, \"school_none\": 0.11303658959251374, \"school_uni\": 0.16767341684408577, \"work_unemployRate\": 8.0, \"workIn_agr\": 0.019240506329113925, \"workIn_arts\": 0.028270042194092827, \"workIn_biz\": 0.12337552742616034, \"pop_density\": 80.76397367163862, \"trnsprt_walkBike\": 0.08282238442822384, \"trnsprt_commuteByCar\": 0.8687104622871046, \"trnsprt_15minutes2work\": 0.3851094890510949, \"bldgs_LiveInHouses\": 0.6913714624975262, \"bldgs_LiveInAprtmnts\": 0.049772412428260436, \"pop_1stGenImmigrant\": 0.09484319090717744, \"lang_notEnglishOrFrench\": 0.03754180602006689}, {\"geo_name\": \"Port Alberni\", \"population_size\": 25112.0, \"age_median\": 49.6, \"school_none\": 0.18254346272922126, \"school_uni\": 0.07180281019290308, \"work_unemployRate\": 10.2, \"workIn_agr\": 0.060454545454545455, \"workIn_arts\": 0.025, \"workIn_biz\": 0.10772727272727273, \"pop_density\": 14.520726961529787, \"trnsprt_walkBike\": 0.059353471118177, \"trnsprt_commuteByCar\": 0.8934817170111288, \"trnsprt_15minutes2work\": 0.6163222045574986, \"bldgs_LiveInHouses\": 0.7404311482622086, \"bldgs_LiveInAprtmnts\": 0.009678838539375276, \"pop_1stGenImmigrant\": 0.1029739024883674, \"lang_notEnglishOrFrench\": 0.05014095851792187}, {\"geo_name\": \"Port Hope\", \"population_size\": 16753.0, \"age_median\": 50.6, \"school_none\": 0.11697979439914924, \"school_uni\": 0.13222261609358382, \"work_unemployRate\": 6.8, \"workIn_agr\": 0.021778584392014518, \"workIn_arts\": 0.027828191167574106, \"workIn_biz\": 0.12885662431941924, \"pop_density\": 60.07458672499731, \"trnsprt_walkBike\": 0.06889352818371608, \"trnsprt_commuteByCar\": 0.8921363952679193, \"trnsprt_15minutes2work\": 0.3562978427279054, \"bldgs_LiveInHouses\": 0.7307420494699647, \"bldgs_LiveInAprtmnts\": 0.051590106007067135, \"pop_1stGenImmigrant\": 0.11425061425061425, \"lang_notEnglishOrFrench\": 0.030497102775236352}, {\"geo_name\": \"Portage la Prairie\", \"population_size\": 13304.0, \"age_median\": 40.3, \"school_none\": 0.1964110127826942, \"school_uni\": 0.11406096361848574, \"work_unemployRate\": 7.3, \"workIn_agr\": 0.018518518518518517, \"workIn_arts\": 0.013687600644122383, \"workIn_biz\": 0.12640901771336555, \"pop_density\": 539.0599675850891, \"trnsprt_walkBike\": 0.09540636042402827, \"trnsprt_commuteByCar\": 0.8869257950530035, \"trnsprt_15minutes2work\": 0.7164310954063604, \"bldgs_LiveInHouses\": 0.7060931899641577, \"bldgs_LiveInAprtmnts\": 0.035842293906810034, \"pop_1stGenImmigrant\": 0.08186447316882099, \"lang_notEnglishOrFrench\": 0.05759468957438501}, {\"geo_name\": \"Powell River\", \"population_size\": 16783.0, \"age_median\": 52.9, \"school_none\": 0.13011283497884343, \"school_uni\": 0.1071932299012694, \"work_unemployRate\": 7.2, \"workIn_agr\": 0.04665314401622718, \"workIn_arts\": 0.028397565922920892, \"workIn_biz\": 0.10818120351588911, \"pop_density\": 20.959886102507742, \"trnsprt_walkBike\": 0.0847457627118644, \"trnsprt_commuteByCar\": 0.8613251155624037, \"trnsprt_15minutes2work\": 0.6286594761171033, \"bldgs_LiveInHouses\": 0.7601809954751131, \"bldgs_LiveInAprtmnts\": 0.002585649644473174, \"pop_1stGenImmigrant\": 0.14333740831295844, \"lang_notEnglishOrFrench\": 0.050511124473842456}, {\"geo_name\": \"Prince Albert\", \"population_size\": 44160.0, \"age_median\": 36.4, \"school_none\": 0.1600240637689878, \"school_uni\": 0.13558429839073544, \"work_unemployRate\": 9.4, \"workIn_agr\": 0.02644512052422186, \"workIn_arts\": 0.014509712146033232, \"workIn_biz\": 0.1352679616194711, \"pop_density\": 17.276657342383754, \"trnsprt_walkBike\": 0.04838278535151029, \"trnsprt_commuteByCar\": 0.9035017375033414, \"trnsprt_15minutes2work\": 0.6121357925688319, \"bldgs_LiveInHouses\": 0.7008134980415788, \"bldgs_LiveInAprtmnts\": 0.03856583308225369, \"pop_1stGenImmigrant\": 0.07975460122699386, \"lang_notEnglishOrFrench\": 0.07886852308776877}, {\"geo_name\": \"Prince George\", \"population_size\": 86622.0, \"age_median\": 39.4, \"school_none\": 0.14749125686960246, \"school_uni\": 0.13796302904860466, \"work_unemployRate\": 9.1, \"workIn_agr\": 0.03330873827342679, \"workIn_arts\": 0.01570570254031833, \"workIn_biz\": 0.13924317487087592, \"pop_density\": 4.8977390179417535, \"trnsprt_walkBike\": 0.053428741800834824, \"trnsprt_commuteByCar\": 0.9080500894454383, \"trnsprt_15minutes2work\": 0.4256410256410256, \"bldgs_LiveInHouses\": 0.6376976777318706, \"bldgs_LiveInAprtmnts\": 0.012109987177660635, \"pop_1stGenImmigrant\": 0.11158747871028367, \"lang_notEnglishOrFrench\": 0.06058085230589609}, {\"geo_name\": \"Prince Rupert\", \"population_size\": 12687.0, \"age_median\": 40.6, \"school_none\": 0.19740704500978473, \"school_uni\": 0.09735812133072407, \"work_unemployRate\": 12.4, \"workIn_agr\": 0.050221565731166914, \"workIn_arts\": 0.019202363367799114, \"workIn_biz\": 0.11225997045790251, \"pop_density\": 54.15083870417005, \"trnsprt_walkBike\": 0.10873287671232877, \"trnsprt_commuteByCar\": 0.8381849315068494, \"trnsprt_15minutes2work\": 0.7335047129391602, \"bldgs_LiveInHouses\": 0.5768854064642507, \"bldgs_LiveInAprtmnts\": 0.005876591576885406, \"pop_1stGenImmigrant\": 0.1418298042349181, \"lang_notEnglishOrFrench\": 0.09164019062748213}, {\"geo_name\": \"Quesnel\", \"population_size\": 23146.0, \"age_median\": 45.9, \"school_none\": 0.20039011703511053, \"school_uni\": 0.08374512353706112, \"work_unemployRate\": 10.7, \"workIn_agr\": 0.06324110671936758, \"workIn_arts\": 0.01844532279314888, \"workIn_biz\": 0.1023276240667545, \"pop_density\": 1.0641203054530075, \"trnsprt_walkBike\": 0.05049453409682457, \"trnsprt_commuteByCar\": 0.9229567933368037, \"trnsprt_15minutes2work\": 0.5039042165538782, \"bldgs_LiveInHouses\": 0.7191235059760956, \"bldgs_LiveInAprtmnts\": 0.0, \"pop_1stGenImmigrant\": 0.0808455001089562, \"lang_notEnglishOrFrench\": 0.04383293452251468}, {\"geo_name\": \"Qu\\u00e9bec\", \"population_size\": 800296.0, \"age_median\": 42.6, \"school_none\": 0.09328660222049144, \"school_uni\": 0.22188115636596875, \"work_unemployRate\": 4.6, \"workIn_agr\": 0.007676875442116127, \"workIn_arts\": 0.030951028028712906, \"workIn_biz\": 0.18198369533705194, \"pop_density\": 234.78041482089947, \"trnsprt_walkBike\": 0.07614684736272825, \"trnsprt_commuteByCar\": 0.8040720239231406, \"trnsprt_15minutes2work\": 0.26679391741426484, \"bldgs_LiveInHouses\": 0.41163060598524415, \"bldgs_LiveInAprtmnts\": 0.06108209676973666, \"pop_1stGenImmigrant\": 0.06765628910837714, \"lang_notEnglishOrFrench\": 0.0356507170365866}, {\"geo_name\": \"Red Deer\", \"population_size\": 100418.0, \"age_median\": 36.1, \"school_none\": 0.13070032573289903, \"school_uni\": 0.1512465547481834, \"work_unemployRate\": 10.2, \"workIn_agr\": 0.042244862111364835, \"workIn_arts\": 0.01809239416827683, \"workIn_biz\": 0.13648340066748638, \"pop_density\": 958.827461090423, \"trnsprt_walkBike\": 0.04848974643903425, \"trnsprt_commuteByCar\": 0.8900899080715223, \"trnsprt_15minutes2work\": 0.4179210021214264, \"bldgs_LiveInHouses\": 0.5266975115668375, \"bldgs_LiveInAprtmnts\": 0.014630486432412155, \"pop_1stGenImmigrant\": 0.16774979691307879, \"lang_notEnglishOrFrench\": 0.09485282980764376}, {\"geo_name\": \"Regina\", \"population_size\": 236481.0, \"age_median\": 36.8, \"school_none\": 0.1025467747919648, \"school_uni\": 0.22768590660942387, \"work_unemployRate\": 5.8, \"workIn_agr\": 0.014369668246445498, \"workIn_arts\": 0.024492890995260662, \"workIn_biz\": 0.17865402843601896, \"pop_density\": 54.68540071547663, \"trnsprt_walkBike\": 0.050974324663377105, \"trnsprt_commuteByCar\": 0.8902316634607343, \"trnsprt_15minutes2work\": 0.35308383859502407, \"bldgs_LiveInHouses\": 0.6666842188405034, \"bldgs_LiveInAprtmnts\": 0.0446527302406403, \"pop_1stGenImmigrant\": 0.18003998022483503, \"lang_notEnglishOrFrench\": 0.11301465083948241}, {\"geo_name\": \"Rimouski\", \"population_size\": 55349.0, \"age_median\": 47.1, \"school_none\": 0.11037600617488147, \"school_uni\": 0.17901642959532474, \"work_unemployRate\": 7.6, \"workIn_agr\": 0.020029673590504452, \"workIn_arts\": 0.024295252225519287, \"workIn_biz\": 0.15782640949554896, \"pop_density\": 61.75482834413737, \"trnsprt_walkBike\": 0.09102375446710112, \"trnsprt_commuteByCar\": 0.8887954593231028, \"trnsprt_15minutes2work\": 0.6009251471825063, \"bldgs_LiveInHouses\": 0.533974862529458, \"bldgs_LiveInAprtmnts\": 0.02376276512175962, \"pop_1stGenImmigrant\": 0.02511950510825757, \"lang_notEnglishOrFrench\": 0.010064043915827997}, {\"geo_name\": \"Rivi\\u00e8re-du-Loup\", \"population_size\": 28902.0, \"age_median\": 46.0, \"school_none\": 0.1458108981262115, \"school_uni\": 0.12674994615550292, \"work_unemployRate\": 5.5, \"workIn_agr\": 0.022252653200958577, \"workIn_arts\": 0.018486819582334817, \"workIn_biz\": 0.14104758644299897, \"pop_density\": 53.10427193385393, \"trnsprt_walkBike\": 0.06374952847981893, \"trnsprt_commuteByCar\": 0.9155035835533761, \"trnsprt_15minutes2work\": 0.6484345529988683, \"bldgs_LiveInHouses\": 0.5493994575745835, \"bldgs_LiveInAprtmnts\": 0.0030995738086013174, \"pop_1stGenImmigrant\": 0.018401587587948763, \"lang_notEnglishOrFrench\": 0.008181659082954148}, {\"geo_name\": \"Rouyn-Noranda\", \"population_size\": 42334.0, \"age_median\": 41.9, \"school_none\": 0.1717674622931615, \"school_uni\": 0.13779469907746375, \"work_unemployRate\": 7.6, \"workIn_agr\": 0.05887785730778111, \"workIn_arts\": 0.018933271761717847, \"workIn_biz\": 0.14869545139690601, \"pop_density\": 7.04409087732493, \"trnsprt_walkBike\": 0.09341935483870968, \"trnsprt_commuteByCar\": 0.8665806451612903, \"trnsprt_15minutes2work\": 0.5331612903225806, \"bldgs_LiveInHouses\": 0.5318302387267905, \"bldgs_LiveInAprtmnts\": 0.0029177718832891246, \"pop_1stGenImmigrant\": 0.023317949963565704, \"lang_notEnglishOrFrench\": 0.013900439586551027}, {\"geo_name\": \"Saguenay\", \"population_size\": 160980.0, \"age_median\": 45.9, \"school_none\": 0.12394270892071726, \"school_uni\": 0.1380211270252998, \"work_unemployRate\": 8.5, \"workIn_agr\": 0.0162748643761302, \"workIn_arts\": 0.02073107724102299, \"workIn_biz\": 0.14085507620769827, \"pop_density\": 58.3313705951626, \"trnsprt_walkBike\": 0.042761015845452575, \"trnsprt_commuteByCar\": 0.9216409811156935, \"trnsprt_15minutes2work\": 0.4651617104406338, \"bldgs_LiveInHouses\": 0.509174944812362, \"bldgs_LiveInAprtmnts\": 0.01593543046357616, \"pop_1stGenImmigrant\": 0.01822924951484109, \"lang_notEnglishOrFrench\": 0.009538389072067829}, {\"geo_name\": \"Saint John\", \"population_size\": 126202.0, \"age_median\": 43.8, \"school_none\": 0.11697181052019762, \"school_uni\": 0.1688220478543059, \"work_unemployRate\": 9.1, \"workIn_agr\": 0.015738117721120555, \"workIn_arts\": 0.019515265974189486, \"workIn_biz\": 0.1534466477809254, \"pop_density\": 35.95887873900878, \"trnsprt_walkBike\": 0.053510809362158296, \"trnsprt_commuteByCar\": 0.8937823834196891, \"trnsprt_15minutes2work\": 0.34670359120957656, \"bldgs_LiveInHouses\": 0.6032151300236407, \"bldgs_LiveInAprtmnts\": 0.0341371158392435, \"pop_1stGenImmigrant\": 0.06294527202072539, \"lang_notEnglishOrFrench\": 0.028420270650122474}, {\"geo_name\": \"Saint-Georges\", \"population_size\": 32513.0, \"age_median\": 44.1, \"school_none\": 0.17241047362341164, \"school_uni\": 0.11590296495956873, \"work_unemployRate\": 5.1, \"workIn_agr\": 0.015051173991571343, \"workIn_arts\": 0.01836243226971704, \"workIn_biz\": 0.13184828416616495, \"pop_density\": 163.16053595624027, \"trnsprt_walkBike\": 0.047428189712758854, \"trnsprt_commuteByCar\": 0.9392117568470274, \"trnsprt_15minutes2work\": 0.5988643954575819, \"bldgs_LiveInHouses\": 0.5568882796435916, \"bldgs_LiveInAprtmnts\": 0.020904729266620972, \"pop_1stGenImmigrant\": 0.021621621621621623, \"lang_notEnglishOrFrench\": 0.009780236907730673}, {\"geo_name\": \"Saint-Hyacinthe\", \"population_size\": 59614.0, \"age_median\": 46.1, \"school_none\": 0.18549570320687486, \"school_uni\": 0.1035946342485852, \"work_unemployRate\": 6.1, \"workIn_agr\": 0.022335890878090365, \"workIn_arts\": 0.01824381926683717, \"workIn_biz\": 0.1403239556692242, \"pop_density\": 181.45679237816944, \"trnsprt_walkBike\": 0.09169811320754717, \"trnsprt_commuteByCar\": 0.880188679245283, \"trnsprt_15minutes2work\": 0.4852830188679245, \"bldgs_LiveInHouses\": 0.37585632290316606, \"bldgs_LiveInAprtmnts\": 0.0051842251434919455, \"pop_1stGenImmigrant\": 0.06413322703516698, \"lang_notEnglishOrFrench\": 0.036205277089915465}, {\"geo_name\": \"Sainte-Marie\", \"population_size\": 13565.0, \"age_median\": 41.9, \"school_none\": 0.13213283442469598, \"school_uni\": 0.12815715622076707, \"work_unemployRate\": 3.8, \"workIn_agr\": 0.02004008016032064, \"workIn_arts\": 0.019372077488309953, \"workIn_biz\": 0.13226452905811623, \"pop_density\": 126.10393232313842, \"trnsprt_walkBike\": 0.05282738095238095, \"trnsprt_commuteByCar\": 0.9345238095238095, \"trnsprt_15minutes2work\": 0.5409226190476191, \"bldgs_LiveInHouses\": 0.5676392572944297, \"bldgs_LiveInAprtmnts\": 0.0, \"pop_1stGenImmigrant\": 0.0311179408374952, \"lang_notEnglishOrFrench\": 0.016150112023898433}, {\"geo_name\": \"Salaberry-de-Valleyfield\", \"population_size\": 40745.0, \"age_median\": 48.3, \"school_none\": 0.20692491773855817, \"school_uni\": 0.07381094825007478, \"work_unemployRate\": 8.3, \"workIn_agr\": 0.013276686139139671, \"workIn_arts\": 0.01486988847583643, \"workIn_biz\": 0.1290493892724376, \"pop_density\": 380.3323065434519, \"trnsprt_walkBike\": 0.06023391812865497, \"trnsprt_commuteByCar\": 0.9198830409356725, \"trnsprt_15minutes2work\": 0.45263157894736844, \"bldgs_LiveInHouses\": 0.46938775510204084, \"bldgs_LiveInAprtmnts\": 0.0002685284640171858, \"pop_1stGenImmigrant\": 0.02749935749164739, \"lang_notEnglishOrFrench\": 0.014053440887320393}, {\"geo_name\": \"Salmon Arm\", \"population_size\": 17904.0, \"age_median\": 50.7, \"school_none\": 0.1118353344768439, \"school_uni\": 0.13670668953687823, \"work_unemployRate\": 6.5, \"workIn_agr\": 0.030759951749095297, \"workIn_arts\": 0.027744270205066344, \"workIn_biz\": 0.11700844390832328, \"pop_density\": 108.13553179923899, \"trnsprt_walkBike\": 0.09097320169252468, \"trnsprt_commuteByCar\": 0.8709449929478138, \"trnsprt_15minutes2work\": 0.6770098730606487, \"bldgs_LiveInHouses\": 0.6423357664233577, \"bldgs_LiveInAprtmnts\": 0.0, \"pop_1stGenImmigrant\": 0.12104499274310596, \"lang_notEnglishOrFrench\": 0.04437321937321937}, {\"geo_name\": \"Sarnia\", \"population_size\": 96151.0, \"age_median\": 45.7, \"school_none\": 0.1029494294444098, \"school_uni\": 0.12907651056930847, \"work_unemployRate\": 8.8, \"workIn_agr\": 0.020502137923473305, \"workIn_arts\": 0.017541936191207103, \"workIn_biz\": 0.12268391623725469, \"pop_density\": 85.95271085683636, \"trnsprt_walkBike\": 0.051534814075368106, \"trnsprt_commuteByCar\": 0.9124032942350886, \"trnsprt_15minutes2work\": 0.48677314699276264, \"bldgs_LiveInHouses\": 0.7217194570135747, \"bldgs_LiveInAprtmnts\": 0.09299833293641344, \"pop_1stGenImmigrant\": 0.11998735311166149, \"lang_notEnglishOrFrench\": 0.04548317673612934}, {\"geo_name\": \"Saskatoon\", \"population_size\": 295095.0, \"age_median\": 35.6, \"school_none\": 0.10223840634036628, \"school_uni\": 0.2373353325479276, \"work_unemployRate\": 6.6, \"workIn_agr\": 0.024552414066550766, \"workIn_arts\": 0.02281392015127947, \"workIn_biz\": 0.1456979900570348, \"pop_density\": 50.09498006182616, \"trnsprt_walkBike\": 0.061312667169604276, \"trnsprt_commuteByCar\": 0.8797750497222413, \"trnsprt_15minutes2work\": 0.32713805637473425, \"bldgs_LiveInHouses\": 0.6048488528429544, \"bldgs_LiveInAprtmnts\": 0.037038643362102615, \"pop_1stGenImmigrant\": 0.17592592592592593, \"lang_notEnglishOrFrench\": 0.1191775649606975}, {\"geo_name\": \"Sault Ste. Marie\", \"population_size\": 78159.0, \"age_median\": 46.7, \"school_none\": 0.12448386603456187, \"school_uni\": 0.15044349288882092, \"work_unemployRate\": 10.3, \"workIn_agr\": 0.015990159901599015, \"workIn_arts\": 0.01886018860188602, \"workIn_biz\": 0.13215798824654912, \"pop_density\": 97.01961271102283, \"trnsprt_walkBike\": 0.0535520817210958, \"trnsprt_commuteByCar\": 0.9018727751122118, \"trnsprt_15minutes2work\": 0.569726048599288, \"bldgs_LiveInHouses\": 0.6675354763973357, \"bldgs_LiveInAprtmnts\": 0.06067187952505068, \"pop_1stGenImmigrant\": 0.09390896047997913, \"lang_notEnglishOrFrench\": 0.05549789166396367}, {\"geo_name\": \"Sept-\\u00celes\", \"population_size\": 28534.0, \"age_median\": 41.3, \"school_none\": 0.21470911086717892, \"school_uni\": 0.10548847420417123, \"work_unemployRate\": 10.1, \"workIn_agr\": 0.017907303370786515, \"workIn_arts\": 0.018609550561797753, \"workIn_biz\": 0.14009831460674158, \"pop_density\": 16.115441093414663, \"trnsprt_walkBike\": 0.08429423459244532, \"trnsprt_commuteByCar\": 0.8974155069582505, \"trnsprt_15minutes2work\": 0.6226640159045725, \"bldgs_LiveInHouses\": 0.4989816700610998, \"bldgs_LiveInAprtmnts\": 0.015071283095723014, \"pop_1stGenImmigrant\": 0.02012825080156751, \"lang_notEnglishOrFrench\": 0.0839957604663487}, {\"geo_name\": \"Shawinigan\", \"population_size\": 54181.0, \"age_median\": 52.4, \"school_none\": 0.16537994926657107, \"school_uni\": 0.09617293481857285, \"work_unemployRate\": 8.8, \"workIn_agr\": 0.015099223468507334, \"workIn_arts\": 0.017903364969801553, \"workIn_biz\": 0.14344262295081966, \"pop_density\": 64.24269012781902, \"trnsprt_walkBike\": 0.06513317191283292, \"trnsprt_commuteByCar\": 0.911864406779661, \"trnsprt_15minutes2work\": 0.4352457032195594, \"bldgs_LiveInHouses\": 0.5228782988418454, \"bldgs_LiveInAprtmnts\": 0.00037972280235428136, \"pop_1stGenImmigrant\": 0.018972786508240705, \"lang_notEnglishOrFrench\": 0.008933635847986387}, {\"geo_name\": \"Sherbrooke\", \"population_size\": 212105.0, \"age_median\": 42.0, \"school_none\": 0.1299609534355149, \"school_uni\": 0.1843201818287779, \"work_unemployRate\": 6.7, \"workIn_agr\": 0.014124696818376373, \"workIn_arts\": 0.026489751272173873, \"workIn_biz\": 0.13972511532791174, \"pop_density\": 145.31920141410544, \"trnsprt_walkBike\": 0.06291125020060985, \"trnsprt_commuteByCar\": 0.8863745787193067, \"trnsprt_15minutes2work\": 0.37933985984058205, \"bldgs_LiveInHouses\": 0.4460371436044991, \"bldgs_LiveInAprtmnts\": 0.020978289301595607, \"pop_1stGenImmigrant\": 0.08445330157727174, \"lang_notEnglishOrFrench\": 0.0448503394855121}, {\"geo_name\": \"Sorel-Tracy\", \"population_size\": 41629.0, \"age_median\": 51.9, \"school_none\": 0.17536833071091404, \"school_uni\": 0.08696896009154627, \"work_unemployRate\": 8.0, \"workIn_agr\": 0.014192139737991267, \"workIn_arts\": 0.017740174672489083, \"workIn_biz\": 0.12882096069868995, \"pop_density\": 241.1458031628338, \"trnsprt_walkBike\": 0.0687481236865806, \"trnsprt_commuteByCar\": 0.9003302311618133, \"trnsprt_15minutes2work\": 0.5520864605223657, \"bldgs_LiveInHouses\": 0.5639786313915034, \"bldgs_LiveInAprtmnts\": 0.007631645891630628, \"pop_1stGenImmigrant\": 0.026781265570503237, \"lang_notEnglishOrFrench\": 0.013722859233959502}, {\"geo_name\": \"Squamish\", \"population_size\": 19893.0, \"age_median\": 37.8, \"school_none\": 0.09034017971758665, \"school_uni\": 0.25369062901155326, \"work_unemployRate\": 5.5, \"workIn_agr\": 0.02211824755423224, \"workIn_arts\": 0.052318162484049344, \"workIn_biz\": 0.11909825606125053, \"pop_density\": 188.39852258736622, \"trnsprt_walkBike\": 0.10383631713554987, \"trnsprt_commuteByCar\": 0.8521739130434782, \"trnsprt_15minutes2work\": 0.4670076726342711, \"bldgs_LiveInHouses\": 0.46847457627118644, \"bldgs_LiveInAprtmnts\": 0.021016949152542375, \"pop_1stGenImmigrant\": 0.21672223647088998, \"lang_notEnglishOrFrench\": 0.1055190704723415}, {\"geo_name\": \"St. Catharines - Niagara\", \"population_size\": 406074.0, \"age_median\": 46.0, \"school_none\": 0.12467999467274368, \"school_uni\": 0.146551341432736, \"work_unemployRate\": 7.7, \"workIn_agr\": 0.02551314503395905, \"workIn_arts\": 0.024635974035738452, \"workIn_biz\": 0.1298213077366482, \"pop_density\": 290.57381448167786, \"trnsprt_walkBike\": 0.05380716474327769, \"trnsprt_commuteByCar\": 0.9080209615990378, \"trnsprt_15minutes2work\": 0.37335700581312103, \"bldgs_LiveInHouses\": 0.6671513784609906, \"bldgs_LiveInAprtmnts\": 0.05852153010653768, \"pop_1stGenImmigrant\": 0.18565507162385195, \"lang_notEnglishOrFrench\": 0.09250997960281807}, {\"geo_name\": \"St. John's\", \"population_size\": 205955.0, \"age_median\": 40.3, \"school_none\": 0.10118769014743739, \"school_uni\": 0.22225310086590216, \"work_unemployRate\": 8.6, \"workIn_agr\": 0.01698504234997297, \"workIn_arts\": 0.028698864660299153, \"workIn_biz\": 0.1611551630924491, \"pop_density\": 255.91148001341966, \"trnsprt_walkBike\": 0.0479983660130719, \"trnsprt_commuteByCar\": 0.8995098039215687, \"trnsprt_15minutes2work\": 0.3659109477124183, \"bldgs_LiveInHouses\": 0.546315356113627, \"bldgs_LiveInAprtmnts\": 0.006469446568252661, \"pop_1stGenImmigrant\": 0.05828681045719485, \"lang_notEnglishOrFrench\": 0.02611429130583688}, {\"geo_name\": \"Steinbach\", \"population_size\": 15829.0, \"age_median\": 34.6, \"school_none\": 0.19701986754966888, \"school_uni\": 0.14072847682119205, \"work_unemployRate\": 5.6, \"workIn_agr\": 0.04369230769230769, \"workIn_arts\": 0.016, \"workIn_biz\": 0.12984615384615383, \"pop_density\": 618.5619382571317, \"trnsprt_walkBike\": 0.07562457798784605, \"trnsprt_commuteByCar\": 0.912221471978393, \"trnsprt_15minutes2work\": 0.6394328156650911, \"bldgs_LiveInHouses\": 0.5576763485477179, \"bldgs_LiveInAprtmnts\": 0.043153526970954356, \"pop_1stGenImmigrant\": 0.2301255230125523, \"lang_notEnglishOrFrench\": 0.21136582237896762}, {\"geo_name\": \"Stratford\", \"population_size\": 31465.0, \"age_median\": 45.4, \"school_none\": 0.13471901462663588, \"school_uni\": 0.15771747498075442, \"work_unemployRate\": 5.3, \"workIn_agr\": 0.014645577035735208, \"workIn_arts\": 0.046280023432923256, \"workIn_biz\": 0.12126537785588752, \"pop_density\": 1112.6237623762377, \"trnsprt_walkBike\": 0.11387434554973822, \"trnsprt_commuteByCar\": 0.849803664921466, \"trnsprt_15minutes2work\": 0.6308900523560209, \"bldgs_LiveInHouses\": 0.5451263537906137, \"bldgs_LiveInAprtmnts\": 0.04296028880866426, \"pop_1stGenImmigrant\": 0.12097959183673469, \"lang_notEnglishOrFrench\": 0.04713777490297542}, {\"geo_name\": \"Strathmore\", \"population_size\": 13756.0, \"age_median\": 38.4, \"school_none\": 0.14484220442769666, \"school_uni\": 0.1203485633537447, \"work_unemployRate\": 8.7, \"workIn_agr\": 0.04194857916102842, \"workIn_arts\": 0.014208389715832206, \"workIn_biz\": 0.14276048714479025, \"pop_density\": 502.043795620438, \"trnsprt_walkBike\": 0.04862745098039216, \"trnsprt_commuteByCar\": 0.9160784313725491, \"trnsprt_15minutes2work\": 0.4250980392156863, \"bldgs_LiveInHouses\": 0.597667638483965, \"bldgs_LiveInAprtmnts\": 0.0, \"pop_1stGenImmigrant\": 0.09854423292273236, \"lang_notEnglishOrFrench\": 0.04495005549389567}, {\"geo_name\": \"Summerside\", \"population_size\": 16587.0, \"age_median\": 46.3, \"school_none\": 0.15734265734265734, \"school_uni\": 0.1209054103790946, \"work_unemployRate\": 11.2, \"workIn_agr\": 0.03177458033573141, \"workIn_arts\": 0.01858513189448441, \"workIn_biz\": 0.1564748201438849, \"pop_density\": 179.45472249269716, \"trnsprt_walkBike\": 0.061891515994436715, \"trnsprt_commuteByCar\": 0.9207232267037552, \"trnsprt_15minutes2work\": 0.6773296244784422, \"bldgs_LiveInHouses\": 0.5356895356895357, \"bldgs_LiveInAprtmnts\": 0.0, \"pop_1stGenImmigrant\": 0.05026210299105766, \"lang_notEnglishOrFrench\": 0.018592501536570376}, {\"geo_name\": \"Swift Current\", \"population_size\": 18536.0, \"age_median\": 41.6, \"school_none\": 0.13158783783783784, \"school_uni\": 0.12432432432432433, \"work_unemployRate\": 4.5, \"workIn_agr\": 0.05862403100775194, \"workIn_arts\": 0.015988372093023256, \"workIn_biz\": 0.14050387596899225, \"pop_density\": 16.378320108858926, \"trnsprt_walkBike\": 0.06900269541778976, \"trnsprt_commuteByCar\": 0.9115902964959569, \"trnsprt_15minutes2work\": 0.7481121898597627, \"bldgs_LiveInHouses\": 0.6753660089115213, \"bldgs_LiveInAprtmnts\": 0.015913430935709738, \"pop_1stGenImmigrant\": 0.09751327186364907, \"lang_notEnglishOrFrench\": 0.06985698569856985}, {\"geo_name\": \"Sylvan Lake\", \"population_size\": 15302.0, \"age_median\": 33.4, \"school_none\": 0.12585324232081913, \"school_uni\": 0.0985494880546075, \"work_unemployRate\": 13.5, \"workIn_agr\": 0.07701283547257877, \"workIn_arts\": 0.019253208868144692, \"workIn_biz\": 0.13418903150525088, \"pop_density\": 624.5714285714286, \"trnsprt_walkBike\": 0.040758959943780745, \"trnsprt_commuteByCar\": 0.9318341531974701, \"trnsprt_15minutes2work\": 0.288623595505618, \"bldgs_LiveInHouses\": 0.6921754084264833, \"bldgs_LiveInAprtmnts\": 0.0025795356835769563, \"pop_1stGenImmigrant\": 0.0703434610303831, \"lang_notEnglishOrFrench\": 0.028160919540229885}, {\"geo_name\": \"Terrace\", \"population_size\": 15723.0, \"age_median\": 39.4, \"school_none\": 0.1624405705229794, \"school_uni\": 0.13292393026941363, \"work_unemployRate\": 10.3, \"workIn_agr\": 0.02358490566037736, \"workIn_arts\": 0.02122641509433962, \"workIn_biz\": 0.1214622641509434, \"pop_density\": 212.73170071708836, \"trnsprt_walkBike\": 0.10340226817878585, \"trnsprt_commuteByCar\": 0.8732488325550367, \"trnsprt_15minutes2work\": 0.7124749833222148, \"bldgs_LiveInHouses\": 0.6391509433962265, \"bldgs_LiveInAprtmnts\": 0.0, \"pop_1stGenImmigrant\": 0.11060802069857698, \"lang_notEnglishOrFrench\": 0.0640715667311412}, {\"geo_name\": \"Thetford Mines\", \"population_size\": 28448.0, \"age_median\": 52.4, \"school_none\": 0.16501933820369574, \"school_uni\": 0.08476579286635152, \"work_unemployRate\": 4.3, \"workIn_agr\": 0.019569471624266144, \"workIn_arts\": 0.0136986301369863, \"workIn_biz\": 0.12720156555772993, \"pop_density\": 55.12750949538796, \"trnsprt_walkBike\": 0.053402239448751075, \"trnsprt_commuteByCar\": 0.9366925064599483, \"trnsprt_15minutes2work\": 0.6395348837209303, \"bldgs_LiveInHouses\": 0.6571749718995878, \"bldgs_LiveInAprtmnts\": 0.0, \"pop_1stGenImmigrant\": 0.01755034176981341, \"lang_notEnglishOrFrench\": 0.008342303552206673}, {\"geo_name\": \"Thompson\", \"population_size\": 13678.0, \"age_median\": 30.8, \"school_none\": 0.2174563591022444, \"school_uni\": 0.14089775561097256, \"work_unemployRate\": 7.6, \"workIn_agr\": 0.09946595460614152, \"workIn_arts\": 0.009345794392523364, \"workIn_biz\": 0.12082777036048065, \"pop_density\": 657.912457912458, \"trnsprt_walkBike\": 0.1216702663786897, \"trnsprt_commuteByCar\": 0.843772498200144, \"trnsprt_15minutes2work\": 0.8149748020158387, \"bldgs_LiveInHouses\": 0.4725050916496945, \"bldgs_LiveInAprtmnts\": 0.054989816700611, \"pop_1stGenImmigrant\": 0.1261127596439169, \"lang_notEnglishOrFrench\": 0.11544144809752493}, {\"geo_name\": \"Thunder Bay\", \"population_size\": 121621.0, \"age_median\": 44.8, \"school_none\": 0.13634565948190627, \"school_uni\": 0.17263199525410322, \"work_unemployRate\": 7.7, \"workIn_agr\": 0.021192380638245238, \"workIn_arts\": 0.022924053764327535, \"workIn_biz\": 0.14372886946483054, \"pop_density\": 47.567476660369756, \"trnsprt_walkBike\": 0.05398975109809663, \"trnsprt_commuteByCar\": 0.8936676427525623, \"trnsprt_15minutes2work\": 0.4530978310606754, \"bldgs_LiveInHouses\": 0.6896945475306879, \"bldgs_LiveInAprtmnts\": 0.04862498810543344, \"pop_1stGenImmigrant\": 0.09862886944818304, \"lang_notEnglishOrFrench\": 0.06883680193518789}, {\"geo_name\": \"Tillsonburg\", \"population_size\": 15872.0, \"age_median\": 48.5, \"school_none\": 0.17634854771784234, \"school_uni\": 0.0878913617502829, \"work_unemployRate\": 6.4, \"workIn_agr\": 0.027700831024930747, \"workIn_arts\": 0.01731301939058172, \"workIn_biz\": 0.11772853185595568, \"pop_density\": 710.7926556202419, \"trnsprt_walkBike\": 0.07099236641221374, \"trnsprt_commuteByCar\": 0.9152671755725191, \"trnsprt_15minutes2work\": 0.5068702290076336, \"bldgs_LiveInHouses\": 0.6807017543859649, \"bldgs_LiveInAprtmnts\": 0.06315789473684211, \"pop_1stGenImmigrant\": 0.1260019236934915, \"lang_notEnglishOrFrench\": 0.05980861244019139}, {\"geo_name\": \"Timmins\", \"population_size\": 41788.0, \"age_median\": 41.4, \"school_none\": 0.17939882697947215, \"school_uni\": 0.1031524926686217, \"work_unemployRate\": 7.8, \"workIn_agr\": 0.07375369906669701, \"workIn_arts\": 0.00978829956749374, \"workIn_biz\": 0.13293876621898476, \"pop_density\": 14.028326557742469, \"trnsprt_walkBike\": 0.07971745711402624, \"trnsprt_commuteByCar\": 0.8514127144298688, \"trnsprt_15minutes2work\": 0.5353178607467205, \"bldgs_LiveInHouses\": 0.6581172491544532, \"bldgs_LiveInAprtmnts\": 0.03410372040586246, \"pop_1stGenImmigrant\": 0.03747725894481504, \"lang_notEnglishOrFrench\": 0.028537849566055932}, {\"geo_name\": \"Toronto\", \"population_size\": 5928040.0, \"age_median\": 39.4, \"school_none\": 0.11386640350310867, \"school_uni\": 0.30437458176157667, \"work_unemployRate\": 7.7, \"workIn_agr\": 0.007711170622173313, \"workIn_arts\": 0.040518233920881386, \"workIn_biz\": 0.1835016888560942, \"pop_density\": 1003.7589911003346, \"trnsprt_walkBike\": 0.06678254855208314, \"trnsprt_commuteByCar\": 0.6804226351904771, \"trnsprt_15minutes2work\": 0.1424801150324894, \"bldgs_LiveInHouses\": 0.39627371939828926, \"bldgs_LiveInAprtmnts\": 0.2935072170643894, \"pop_1stGenImmigrant\": 0.4902500573526038, \"lang_notEnglishOrFrench\": 0.30518536899588183}, {\"geo_name\": \"Trois-Rivi\\u00e8res\", \"population_size\": 156042.0, \"age_median\": 46.6, \"school_none\": 0.13135361276196433, \"school_uni\": 0.156494369721614, \"work_unemployRate\": 7.3, \"workIn_agr\": 0.012153129430828438, \"workIn_arts\": 0.02336101546148133, \"workIn_biz\": 0.15015866585645804, \"pop_density\": 149.96540191442742, \"trnsprt_walkBike\": 0.05294029177319898, \"trnsprt_commuteByCar\": 0.915776808542638, \"trnsprt_15minutes2work\": 0.42058956234020156, \"bldgs_LiveInHouses\": 0.4651034482758621, \"bldgs_LiveInAprtmnts\": 0.014758620689655172, \"pop_1stGenImmigrant\": 0.03879066360336963, \"lang_notEnglishOrFrench\": 0.021506511220082486}, {\"geo_name\": \"Truro\", \"population_size\": 45753.0, \"age_median\": 46.4, \"school_none\": 0.14868958251020678, \"school_uni\": 0.14348742262610298, \"work_unemployRate\": 9.1, \"workIn_agr\": 0.03748059436682191, \"workIn_arts\": 0.021068973164781547, \"workIn_biz\": 0.13728099356841872, \"pop_density\": 16.740147742697932, \"trnsprt_walkBike\": 0.055238589211618255, \"trnsprt_commuteByCar\": 0.928941908713693, \"trnsprt_15minutes2work\": 0.4520228215767635, \"bldgs_LiveInHouses\": 0.6752923612839015, \"bldgs_LiveInAprtmnts\": 0.0, \"pop_1stGenImmigrant\": 0.049771740340719295, \"lang_notEnglishOrFrench\": 0.017657478135724564}, {\"geo_name\": \"Val-d'Or\", \"population_size\": 33871.0, \"age_median\": 41.4, \"school_none\": 0.21725533480500367, \"school_uni\": 0.11304267844002944, \"work_unemployRate\": 6.4, \"workIn_agr\": 0.07224443175328384, \"workIn_arts\": 0.014277555682467162, \"workIn_biz\": 0.13563677898343804, \"pop_density\": 9.530629644532361, \"trnsprt_walkBike\": 0.08079552517091361, \"trnsprt_commuteByCar\": 0.8809819763828465, \"trnsprt_15minutes2work\": 0.6218147917961466, \"bldgs_LiveInHouses\": 0.52, \"bldgs_LiveInAprtmnts\": 0.011764705882352941, \"pop_1stGenImmigrant\": 0.024728588661037394, \"lang_notEnglishOrFrench\": 0.03004771846107963}, {\"geo_name\": \"Vancouver\", \"population_size\": 2463431.0, \"age_median\": 40.9, \"school_none\": 0.09655818774490098, \"school_uni\": 0.2792500762855939, \"work_unemployRate\": 5.8, \"workIn_agr\": 0.013272557146775993, \"workIn_arts\": 0.04657795748422663, \"workIn_biz\": 0.1670906720077561, \"pop_density\": 854.5627679797966, \"trnsprt_walkBike\": 0.09063892375443727, \"trnsprt_commuteByCar\": 0.6934520343508322, \"trnsprt_15minutes2work\": 0.17922119374401532, \"bldgs_LiveInHouses\": 0.2938473706667777, \"bldgs_LiveInAprtmnts\": 0.16657473800330944, \"pop_1stGenImmigrant\": 0.4474463520640004, \"lang_notEnglishOrFrench\": 0.3008602989992378}, {\"geo_name\": \"Vernon\", \"population_size\": 61334.0, \"age_median\": 49.5, \"school_none\": 0.11852540879271517, \"school_uni\": 0.13228238519533927, \"work_unemployRate\": 7.6, \"workIn_agr\": 0.038342503438789546, \"workIn_arts\": 0.0218363136176066, \"workIn_biz\": 0.13703576341127924, \"pop_density\": 58.85502629255748, \"trnsprt_walkBike\": 0.07141412097916246, \"trnsprt_commuteByCar\": 0.887517701800526, \"trnsprt_15minutes2work\": 0.4922112077685616, \"bldgs_LiveInHouses\": 0.589572192513369, \"bldgs_LiveInAprtmnts\": 0.011650114591291063, \"pop_1stGenImmigrant\": 0.12660135644310475, \"lang_notEnglishOrFrench\": 0.062153897016282336}, {\"geo_name\": \"Victoria\", \"population_size\": 367770.0, \"age_median\": 45.0, \"school_none\": 0.0829200923936746, \"school_uni\": 0.253073058844433, \"work_unemployRate\": 5.6, \"workIn_agr\": 0.018219037871033777, \"workIn_arts\": 0.03802456499488229, \"workIn_biz\": 0.15992835209825998, \"pop_density\": 528.2913165266107, \"trnsprt_walkBike\": 0.16908127725583166, \"trnsprt_commuteByCar\": 0.697837094272251, \"trnsprt_15minutes2work\": 0.2976936135339226, \"bldgs_LiveInHouses\": 0.394757866273353, \"bldgs_LiveInAprtmnts\": 0.063913470993117, \"pop_1stGenImmigrant\": 0.21292180379658363, \"lang_notEnglishOrFrench\": 0.0940127283018347}, {\"geo_name\": \"Victoriaville\", \"population_size\": 49151.0, \"age_median\": 45.6, \"school_none\": 0.17691422727853764, \"school_uni\": 0.11478972261280838, \"work_unemployRate\": 5.5, \"workIn_agr\": 0.018922852983988356, \"workIn_arts\": 0.018299022665834892, \"workIn_biz\": 0.13932210438760656, \"pop_density\": 320.766168504862, \"trnsprt_walkBike\": 0.07472982294780409, \"trnsprt_commuteByCar\": 0.9087146470452978, \"trnsprt_15minutes2work\": 0.6171533685904805, \"bldgs_LiveInHouses\": 0.5072264280798349, \"bldgs_LiveInAprtmnts\": 0.00022941041523285156, \"pop_1stGenImmigrant\": 0.031928480204342274, \"lang_notEnglishOrFrench\": 0.020487578600144316}, {\"geo_name\": \"Wasaga Beach\", \"population_size\": 20675.0, \"age_median\": 55.3, \"school_none\": 0.13885793871866295, \"school_uni\": 0.0935933147632312, \"work_unemployRate\": 8.5, \"workIn_agr\": 0.018267530936947555, \"workIn_arts\": 0.032999410724808484, \"workIn_biz\": 0.1296405421331762, \"pop_density\": 352.575034106412, \"trnsprt_walkBike\": 0.034027777777777775, \"trnsprt_commuteByCar\": 0.9388888888888889, \"trnsprt_15minutes2work\": 0.24444444444444444, \"bldgs_LiveInHouses\": 0.8362021099389229, \"bldgs_LiveInAprtmnts\": 0.0, \"pop_1stGenImmigrant\": 0.1803479539328596, \"lang_notEnglishOrFrench\": 0.07067714631197097}, {\"geo_name\": \"Wetaskiwin\", \"population_size\": 12655.0, \"age_median\": 41.2, \"school_none\": 0.19923857868020303, \"school_uni\": 0.10126903553299492, \"work_unemployRate\": 9.4, \"workIn_agr\": 0.03401898734177215, \"workIn_arts\": 0.015031645569620253, \"workIn_biz\": 0.13212025316455697, \"pop_density\": 691.1523757509558, \"trnsprt_walkBike\": 0.07609668755595345, \"trnsprt_commuteByCar\": 0.8979409131602507, \"trnsprt_15minutes2work\": 0.6200716845878136, \"bldgs_LiveInHouses\": 0.5892682926829268, \"bldgs_LiveInAprtmnts\": 0.0, \"pop_1stGenImmigrant\": 0.12571662571662573, \"lang_notEnglishOrFrench\": 0.07939393939393939}, {\"geo_name\": \"Weyburn\", \"population_size\": 10870.0, \"age_median\": 38.7, \"school_none\": 0.13689776733254994, \"school_uni\": 0.1310223266745006, \"work_unemployRate\": 7.2, \"workIn_agr\": 0.08188153310104529, \"workIn_arts\": 0.01916376306620209, \"workIn_biz\": 0.13240418118466898, \"pop_density\": 567.6240208877285, \"trnsprt_walkBike\": 0.073558648111332, \"trnsprt_commuteByCar\": 0.9214711729622267, \"trnsprt_15minutes2work\": 0.7385685884691849, \"bldgs_LiveInHouses\": 0.6601307189542484, \"bldgs_LiveInAprtmnts\": 0.023965141612200435, \"pop_1stGenImmigrant\": 0.10748106060606061, \"lang_notEnglishOrFrench\": 0.057119205298013245}, {\"geo_name\": \"Whitehorse\", \"population_size\": 28225.0, \"age_median\": 38.3, \"school_none\": 0.1016107678729038, \"school_uni\": 0.26015004413062665, \"work_unemployRate\": 7.0, \"workIn_agr\": 0.015492546039169833, \"workIn_arts\": 0.038292896813797134, \"workIn_biz\": 0.16807950891552179, \"pop_density\": 3.324910619098946, \"trnsprt_walkBike\": 0.0877251501000667, \"trnsprt_commuteByCar\": 0.8522348232154769, \"trnsprt_15minutes2work\": 0.49516505501833946, \"bldgs_LiveInHouses\": 0.5531182795698925, \"bldgs_LiveInAprtmnts\": 0.003870967741935484, \"pop_1stGenImmigrant\": 0.15130151843817788, \"lang_notEnglishOrFrench\": 0.08215436962750716}, {\"geo_name\": \"Williams Lake\", \"population_size\": 18277.0, \"age_median\": 43.0, \"school_none\": 0.1781609195402299, \"school_uni\": 0.09127789046653144, \"work_unemployRate\": 8.7, \"workIn_agr\": 0.08018867924528301, \"workIn_arts\": 0.013626834381551363, \"workIn_biz\": 0.11163522012578617, \"pop_density\": 6.876740161035443, \"trnsprt_walkBike\": 0.05942376950780312, \"trnsprt_commuteByCar\": 0.8841536614645858, \"trnsprt_15minutes2work\": 0.5990396158463386, \"bldgs_LiveInHouses\": 0.594488188976378, \"bldgs_LiveInAprtmnts\": 0.0, \"pop_1stGenImmigrant\": 0.09083263246425567, \"lang_notEnglishOrFrench\": 0.05322715842414082}, {\"geo_name\": \"Windsor\", \"population_size\": 329144.0, \"age_median\": 42.1, \"school_none\": 0.11929009202510786, \"school_uni\": 0.18939211583683596, \"work_unemployRate\": 7.7, \"workIn_agr\": 0.013952599388379205, \"workIn_arts\": 0.019973241590214068, \"workIn_biz\": 0.12984199796126403, \"pop_density\": 321.9641983762105, \"trnsprt_walkBike\": 0.04297502555863882, \"trnsprt_commuteByCar\": 0.9150357820943479, \"trnsprt_15minutes2work\": 0.3360108072583884, \"bldgs_LiveInHouses\": 0.6844105033481304, \"bldgs_LiveInAprtmnts\": 0.09845007900082763, \"pop_1stGenImmigrant\": 0.24853463792864725, \"lang_notEnglishOrFrench\": 0.153016580850803}, {\"geo_name\": \"Winkler\", \"population_size\": 30297.0, \"age_median\": 31.8, \"school_none\": 0.27282950967161496, \"school_uni\": 0.09446693657219973, \"work_unemployRate\": 6.0, \"workIn_agr\": 0.040513833992094864, \"workIn_arts\": 0.014163372859025032, \"workIn_biz\": 0.10770750988142293, \"pop_density\": 34.82093600588451, \"trnsprt_walkBike\": 0.0661875945537065, \"trnsprt_commuteByCar\": 0.9171709531013615, \"trnsprt_15minutes2work\": 0.6599848714069592, \"bldgs_LiveInHouses\": 0.7236842105263158, \"bldgs_LiveInAprtmnts\": 0.026803118908382065, \"pop_1stGenImmigrant\": 0.2921817574340127, \"lang_notEnglishOrFrench\": 0.2946488015978695}, {\"geo_name\": \"Winnipeg\", \"population_size\": 778489.0, \"age_median\": 39.0, \"school_none\": 0.11836648765451714, \"school_uni\": 0.23150560869427056, \"work_unemployRate\": 6.3, \"workIn_agr\": 0.011395292987512008, \"workIn_arts\": 0.02702929875120077, \"workIn_biz\": 0.16314841498559077, \"pop_density\": 146.6967790321456, \"trnsprt_walkBike\": 0.06247270706241977, \"trnsprt_commuteByCar\": 0.7912371475075759, \"trnsprt_15minutes2work\": 0.21946830049358865, \"bldgs_LiveInHouses\": 0.6204697439243191, \"bldgs_LiveInAprtmnts\": 0.12029032784211385, \"pop_1stGenImmigrant\": 0.26101714946030413, \"lang_notEnglishOrFrench\": 0.16798221649819822}, {\"geo_name\": \"Wood Buffalo\", \"population_size\": 73320.0, \"age_median\": 33.1, \"school_none\": 0.09178702674985044, \"school_uni\": 0.18357405349970088, \"work_unemployRate\": 7.2, \"workIn_agr\": 0.037915222010960745, \"workIn_arts\": 0.009842299519069455, \"workIn_biz\": 0.12593669611900235, \"pop_density\": 1.1850392192705608, \"trnsprt_walkBike\": 0.0364131781025514, \"trnsprt_commuteByCar\": 0.6319048798612832, \"trnsprt_15minutes2work\": 0.25795665634674925, \"bldgs_LiveInHouses\": 0.5094375595805529, \"bldgs_LiveInAprtmnts\": 0.0221163012392755, \"pop_1stGenImmigrant\": 0.23937986613850568, \"lang_notEnglishOrFrench\": 0.146229955646537}, {\"geo_name\": \"Woodstock\", \"population_size\": 40902.0, \"age_median\": 41.9, \"school_none\": 0.1651832855634334, \"school_uni\": 0.10529491627696486, \"work_unemployRate\": 5.3, \"workIn_agr\": 0.01603395425607168, \"workIn_arts\": 0.017212921480782833, \"workIn_biz\": 0.12520631926432446, \"pop_density\": 835.2460690218501, \"trnsprt_walkBike\": 0.06536785439630864, \"trnsprt_commuteByCar\": 0.9115611381697001, \"trnsprt_15minutes2work\": 0.5129453986157395, \"bldgs_LiveInHouses\": 0.5784256559766764, \"bldgs_LiveInAprtmnts\": 0.08396501457725948, \"pop_1stGenImmigrant\": 0.11904464174065274, \"lang_notEnglishOrFrench\": 0.05446251241310824}, {\"geo_name\": \"Yellowknife\", \"population_size\": 19569.0, \"age_median\": 34.5, \"school_none\": 0.10892857142857143, \"school_uni\": 0.2771103896103896, \"work_unemployRate\": 5.9, \"workIn_agr\": 0.023487261146496817, \"workIn_arts\": 0.030254777070063694, \"workIn_biz\": 0.18312101910828024, \"pop_density\": 185.54091210770835, \"trnsprt_walkBike\": 0.22386117136659436, \"trnsprt_commuteByCar\": 0.6989154013015184, \"trnsprt_15minutes2work\": 0.6715835140997831, \"bldgs_LiveInHouses\": 0.45021037868162694, \"bldgs_LiveInAprtmnts\": 0.052594670406732116, \"pop_1stGenImmigrant\": 0.16593207155820586, \"lang_notEnglishOrFrench\": 0.10757536717340892}, {\"geo_name\": \"Yorkton\", \"population_size\": 18905.0, \"age_median\": 41.5, \"school_none\": 0.15061441381600796, \"school_uni\": 0.13201594154765858, \"work_unemployRate\": 6.0, \"workIn_agr\": 0.03090727816550349, \"workIn_arts\": 0.01694915254237288, \"workIn_biz\": 0.1251246261216351, \"pop_density\": 22.383111732042007, \"trnsprt_walkBike\": 0.05967651979921919, \"trnsprt_commuteByCar\": 0.9230340211935304, \"trnsprt_15minutes2work\": 0.7144450641383157, \"bldgs_LiveInHouses\": 0.7406015037593985, \"bldgs_LiveInAprtmnts\": 0.0, \"pop_1stGenImmigrant\": 0.09228687415426251, \"lang_notEnglishOrFrench\": 0.07697474476088124}, {\"geo_name\": \"All_Cities_AVG\", \"population_size\": 191369.01875, \"age_median\": 43.451875, \"school_none\": 0.11681965134339013, \"school_uni\": 0.23593852442863078, \"work_unemployRate\": 8.295624999999998, \"workIn_agr\": 0.015232484316220686, \"workIn_arts\": 0.032847087373376355, \"workIn_biz\": 0.16484367035913663, \"pop_density\": 86.983849276084, \"trnsprt_walkBike\": 0.06942471090362702, \"trnsprt_commuteByCar\": 0.7741073391857377, \"trnsprt_15minutes2work\": 0.2542279051607365, \"bldgs_LiveInHouses\": 0.4786149820433335, \"bldgs_LiveInAprtmnts\": 0.1197945118530379, \"pop_1stGenImmigrant\": 0.27139348847793726, \"lang_notEnglishOrFrench\": 0.16786889156903}]}}, {\"mode\": \"vega-lite\"});\n",
              "</script>"
            ]
          },
          "metadata": {
            "tags": []
          },
          "execution_count": 86
        }
      ]
    },
    {
      "cell_type": "code",
      "metadata": {
        "colab": {
          "base_uri": "https://localhost:8080/",
          "height": 542
        },
        "id": "OogCGpVSN7mY",
        "outputId": "e1e2081f-b2ef-4c13-f8fc-bcd6ac27ec3b"
      },
      "source": [
        "fig = px.scatter(df_census_3, x=\"trnsprt_commuteByCar\", y=\"bldgs_LiveInHouses\", color=\"pop_density\",\n",
        "                 size='age_median', hover_data=['geo_name'])\n",
        "fig.show()"
      ],
      "execution_count": null,
      "outputs": [
        {
          "output_type": "display_data",
          "data": {
            "text/html": [
              "<html>\n",
              "<head><meta charset=\"utf-8\" /></head>\n",
              "<body>\n",
              "    <div>\n",
              "            <script src=\"https://cdnjs.cloudflare.com/ajax/libs/mathjax/2.7.5/MathJax.js?config=TeX-AMS-MML_SVG\"></script><script type=\"text/javascript\">if (window.MathJax) {MathJax.Hub.Config({SVG: {font: \"STIX-Web\"}});}</script>\n",
              "                <script type=\"text/javascript\">window.PlotlyConfig = {MathJaxConfig: 'local'};</script>\n",
              "        <script src=\"https://cdn.plot.ly/plotly-latest.min.js\"></script>    \n",
              "            <div id=\"d7f0dda4-a478-4a4c-b0ee-b9f0ac9bb919\" class=\"plotly-graph-div\" style=\"height:525px; width:100%;\"></div>\n",
              "            <script type=\"text/javascript\">\n",
              "                \n",
              "                    window.PLOTLYENV=window.PLOTLYENV || {};\n",
              "                    \n",
              "                if (document.getElementById(\"d7f0dda4-a478-4a4c-b0ee-b9f0ac9bb919\")) {\n",
              "                    Plotly.newPlot(\n",
              "                        'd7f0dda4-a478-4a4c-b0ee-b9f0ac9bb919',\n",
              "                        [{\"customdata\": [[\"Abbotsford - Mission\"], [\"Alma\"], [\"Arnprior\"], [\"Baie-Comeau\"], [\"Barrie\"], [\"Bathurst\"], [\"Bay Roberts\"], [\"Belleville\"], [\"Brandon\"], [\"Brantford\"], [\"Brockville\"], [\"Brooks\"], [\"Calgary\"], [\"Campbell River\"], [\"Campbellton\"], [\"Campbellton (New Brunswick part)\"], [\"Campbellton (Quebec part)\"], [\"Camrose\"], [\"Canmore\"], [\"Cape Breton\"], [\"Carleton Place\"], [\"Centre Wellington\"], [\"Charlottetown\"], [\"Chatham-Kent\"], [\"Chilliwack\"], [\"Cobourg\"], [\"Cold Lake\"], [\"Collingwood\"], [\"Corner Brook\"], [\"Cornwall\"], [\"Courtenay\"], [\"Cowansville\"], [\"Cranbrook\"], [\"Dawson Creek\"], [\"Dolbeau-Mistassini\"], [\"Drummondville\"], [\"Duncan\"], [\"Edmonton\"], [\"Edmundston\"], [\"Elliot Lake\"], [\"Estevan\"], [\"Fort St. John\"], [\"Fredericton\"], [\"Gander\"], [\"Granby\"], [\"Grand Falls-Windsor\"], [\"Grande Prairie\"], [\"Greater Sudbury\"], [\"Guelph\"], [\"Halifax\"], [\"Hamilton\"], [\"Hawkesbury\"], [\"Hawkesbury (Ontario part)\"], [\"Hawkesbury (Quebec part)\"], [\"High River\"], [\"Ingersoll\"], [\"Joliette\"], [\"Kamloops\"], [\"Kawartha Lakes\"], [\"Kelowna\"], [\"Kenora\"], [\"Kentville\"], [\"Kingston\"], [\"Kitchener - Cambridge - Waterloo\"], [\"Lachute\"], [\"Lacombe\"], [\"Leamington\"], [\"Lethbridge\"], [\"Lloydminster\"], [\"Lloydminster (Alberta part)\"], [\"Lloydminster (Saskatchewan part)\"], [\"London\"], [\"Matane\"], [\"Medicine Hat\"], [\"Midland\"], [\"Miramichi\"], [\"Moncton\"], [\"Montr\\u00e9al\"], [\"Moose Jaw\"], [\"Nanaimo\"], [\"Nelson\"], [\"New Glasgow\"], [\"Norfolk\"], [\"North Battleford\"], [\"North Bay\"], [\"Okotoks\"], [\"Orillia\"], [\"Oshawa\"], [\"Ottawa - Gatineau\"], [\"Ottawa - Gatineau (Ontario part)\"], [\"Ottawa - Gatineau (Quebec part)\"], [\"Owen Sound\"], [\"Parksville\"], [\"Pembroke\"], [\"Penticton\"], [\"Petawawa\"], [\"Peterborough\"], [\"Port Alberni\"], [\"Port Hope\"], [\"Portage la Prairie\"], [\"Powell River\"], [\"Prince Albert\"], [\"Prince George\"], [\"Prince Rupert\"], [\"Quesnel\"], [\"Qu\\u00e9bec\"], [\"Red Deer\"], [\"Regina\"], [\"Rimouski\"], [\"Rivi\\u00e8re-du-Loup\"], [\"Rouyn-Noranda\"], [\"Saguenay\"], [\"Saint John\"], [\"Saint-Georges\"], [\"Saint-Hyacinthe\"], [\"Sainte-Marie\"], [\"Salaberry-de-Valleyfield\"], [\"Salmon Arm\"], [\"Sarnia\"], [\"Saskatoon\"], [\"Sault Ste. Marie\"], [\"Sept-\\u00celes\"], [\"Shawinigan\"], [\"Sherbrooke\"], [\"Sorel-Tracy\"], [\"Squamish\"], [\"St. Catharines - Niagara\"], [\"St. John's\"], [\"Steinbach\"], [\"Stratford\"], [\"Strathmore\"], [\"Summerside\"], [\"Swift Current\"], [\"Sylvan Lake\"], [\"Terrace\"], [\"Thetford Mines\"], [\"Thompson\"], [\"Thunder Bay\"], [\"Tillsonburg\"], [\"Timmins\"], [\"Toronto\"], [\"Trois-Rivi\\u00e8res\"], [\"Truro\"], [\"Val-d'Or\"], [\"Vancouver\"], [\"Vernon\"], [\"Victoria\"], [\"Victoriaville\"], [\"Wasaga Beach\"], [\"Wetaskiwin\"], [\"Weyburn\"], [\"Whitehorse\"], [\"Williams Lake\"], [\"Windsor\"], [\"Winkler\"], [\"Winnipeg\"], [\"Wood Buffalo\"], [\"Woodstock\"], [\"Yellowknife\"], [\"Yorkton\"], [\"All_Cities_AVG\"]], \"hoverlabel\": {\"namelength\": 0}, \"hovertemplate\": \"trnsprt_commuteByCar=%{x}<br>bldgs_LiveInHouses=%{y}<br>age_median=%{marker.size}<br>geo_name=%{customdata[0]}<br>pop_density=%{marker.color}\", \"legendgroup\": \"\", \"marker\": {\"color\": [297.3300611071764, 96.17907126544475, 59.41673176356806, 40.07409336922231, 219.4372062983007, 14.78584057337313, 106.91684352691492, 77.41896866489091, 25.336233745244243, 125.05521129385453, 43.161335826159, 4.158131049750212, 272.51502384442125, 21.787870243020986, 9.898786697680267, 11.349395922041056, 6.047516198704104, 439.746597841389, 201.52671755725189, 40.00502484054236, 40.89272015706466, 69.17357805368798, 75.56105376742563, 41.303855058854005, 70.2378810733017, 869.4096601073345, 249.68291054739652, 645.1450562462995, 27.992457463602875, 117.25458616490553, 90.86744966442953, 291.23480486244404, 5.70992620418957, 499.71276159212147, 21.82413144886166, 94.54477494491658, 118.94517138958017, 139.9984743920346, 13.29309916141136, 15.02973483523403, 17.118895538902578, 45.7409793814433, 17.71152972546781, 5.452036171133129, 172.03883495145632, 259.2098042802268, 475.89844044300463, 41.96454052511415, 256.0765614732692, 73.39287631156175, 544.9015591629066, 959.4551282051282, 1066.839916839917, 596.1672473867595, 635.0631136044881, 1000.5490196078431, 454.40257352941177, 18.313017093866318, 24.453212639168974, 67.08825898666373, 71.3455267262158, 43.00592065340396, 83.13088956628035, 480.12573774698484, 116.96980720261914, 627.4387313791447, 96.58635327411368, 39.459106981997124, 31.794320177253127, 817.1797004991681, 14.043829383173351, 185.57279146634616, 27.022626889970905, 5.752867713061796, 179.3039651982599, 3.6315152666669306, 56.58740548250327, 890.2466411540616, 41.51133322280382, 81.92748508791107, 14.945221806782373, 16.68432485256624, 39.83950732481105, 22.941754156241963, 13.108116162293445, 1471.2684666327052, 1090.482855143457, 420.3299804136374, 195.61146731171897, 272.50385375249704, 106.1529362872031, 50.61720539577501, 353.3105301734669, 41.11203378151557, 25.17870083190817, 103.10756494090828, 80.76397367163862, 14.520726961529787, 60.07458672499731, 539.0599675850891, 20.959886102507742, 17.276657342383754, 4.8977390179417535, 54.15083870417005, 1.0641203054530075, 234.78041482089947, 958.827461090423, 54.68540071547663, 61.75482834413737, 53.10427193385393, 7.04409087732493, 58.3313705951626, 35.95887873900878, 163.16053595624027, 181.45679237816944, 126.10393232313842, 380.3323065434519, 108.13553179923899, 85.95271085683636, 50.09498006182616, 97.01961271102283, 16.115441093414663, 64.24269012781902, 145.31920141410544, 241.1458031628338, 188.39852258736622, 290.57381448167786, 255.91148001341966, 618.5619382571317, 1112.6237623762377, 502.043795620438, 179.45472249269716, 16.378320108858926, 624.5714285714286, 212.73170071708836, 55.12750949538796, 657.912457912458, 47.567476660369756, 710.7926556202419, 14.028326557742469, 1003.7589911003346, 149.96540191442742, 16.740147742697932, 9.530629644532361, 854.5627679797966, 58.85502629255748, 528.2913165266107, 320.766168504862, 352.575034106412, 691.1523757509558, 567.6240208877285, 3.324910619098946, 6.876740161035443, 321.9641983762105, 34.82093600588451, 146.6967790321456, 1.1850392192705608, 835.2460690218501, 185.54091210770835, 22.383111732042007, 86.983849276084], \"coloraxis\": \"coloraxis\", \"size\": [39.4, 46.6, 47.7, 47.0, 39.7, 51.1, 46.0, 44.7, 36.3, 41.8, 49.5, 36.0, 36.6, 47.1, 50.4, 51.3, 42.3, 41.9, 41.4, 48.9, 45.2, 44.4, 42.0, 45.8, 43.2, 53.5, 31.2, 49.2, 47.2, 46.6, 51.5, 46.2, 46.0, 34.4, 50.0, 42.8, 49.0, 36.3, 50.4, 58.8, 36.8, 32.7, 40.9, 43.8, 45.2, 47.0, 31.9, 43.3, 39.4, 41.0, 42.1, 51.5, 52.5, 42.8, 42.6, 41.1, 47.9, 43.6, 51.2, 45.5, 44.9, 46.2, 43.2, 38.6, 49.3, 37.5, 42.7, 36.4, 32.8, 35.1, 30.4, 40.7, 52.4, 40.1, 49.6, 48.3, 42.1, 40.3, 41.2, 45.9, 44.8, 47.3, 47.9, 38.3, 45.1, 36.3, 47.0, 40.1, 40.1, 40.2, 39.7, 48.9, 62.2, 46.2, 53.0, 30.8, 45.6, 49.6, 50.6, 40.3, 52.9, 36.4, 39.4, 40.6, 45.9, 42.6, 36.1, 36.8, 47.1, 46.0, 41.9, 45.9, 43.8, 44.1, 46.1, 41.9, 48.3, 50.7, 45.7, 35.6, 46.7, 41.3, 52.4, 42.0, 51.9, 37.8, 46.0, 40.3, 34.6, 45.4, 38.4, 46.3, 41.6, 33.4, 39.4, 52.4, 30.8, 44.8, 48.5, 41.4, 39.4, 46.6, 46.4, 41.4, 40.9, 49.5, 45.0, 45.6, 55.3, 41.2, 38.7, 38.3, 43.0, 42.1, 31.8, 39.0, 33.1, 41.9, 34.5, 41.5, 43.451875], \"sizemode\": \"area\", \"sizeref\": 0.1555, \"symbol\": \"circle\"}, \"mode\": \"markers\", \"name\": \"\", \"showlegend\": false, \"type\": \"scatter\", \"x\": [0.9249737346270317, 0.9157699443413729, 0.912232204561161, 0.9212342671538774, 0.9065836298932385, 0.9323770491803278, 0.9061728395061729, 0.9045338086220341, 0.8767556179775281, 0.914378554021121, 0.9027078085642317, 0.9159584513692163, 0.7791556747513574, 0.8629185091598232, 0.9270199826238054, 0.928, 0.9333333333333333, 0.8894799054373522, 0.7710926694329184, 0.9088433424107782, 0.9213521904104863, 0.924952380952381, 0.8948110989183258, 0.9226344212256398, 0.9072177370767562, 0.8612836438923396, 0.8998133167392657, 0.8537682789651294, 0.8980694980694981, 0.8915225282938287, 0.8414139001671841, 0.9057301293900185, 0.8785683851725608, 0.8950617283950617, 0.9122657580919932, 0.9309424326833797, 0.8827446438911407, 0.8257577495812587, 0.9524286429644466, 0.8282312925170068, 0.9508547008547008, 0.9264497878359265, 0.8920893783755163, 0.9205526770293609, 0.9187045604758758, 0.9232209737827716, 0.9264325885392917, 0.8892159486218892, 0.858522801945065, 0.7772073921971252, 0.8413792096696495, 0.8887665198237885, 0.8751660026560425, 0.9423076923076923, 0.907312925170068, 0.9340222575516693, 0.8945509586276489, 0.8717460317460317, 0.9336989032901296, 0.8606585589720055, 0.8822299651567944, 0.9292474087426769, 0.8262832534555811, 0.8769555524867328, 0.9180990899898888, 0.9037800687285223, 0.9352750809061489, 0.9069767441860465, 0.9362774155305276, 0.9309090909090909, 0.9440993788819876, 0.8514687072234813, 0.9006993006993007, 0.9243411311815221, 0.9043865661411926, 0.9281818181818182, 0.8927290034414586, 0.6967518128058944, 0.9079640533002789, 0.8635590336849268, 0.759341355288157, 0.9440993788819876, 0.928639391056137, 0.9125431530494822, 0.8704723752295109, 0.9057670561628345, 0.8484259619121648, 0.8609604179224433, 0.7205809710470545, 0.6977176561097577, 0.7876272513703994, 0.880326046683957, 0.8633720930232558, 0.9179826795720836, 0.8318965517241379, 0.937206572769953, 0.8687104622871046, 0.8934817170111288, 0.8921363952679193, 0.8869257950530035, 0.8613251155624037, 0.9035017375033414, 0.9080500894454383, 0.8381849315068494, 0.9229567933368037, 0.8040720239231406, 0.8900899080715223, 0.8902316634607343, 0.8887954593231028, 0.9155035835533761, 0.8665806451612903, 0.9216409811156935, 0.8937823834196891, 0.9392117568470274, 0.880188679245283, 0.9345238095238095, 0.9198830409356725, 0.8709449929478138, 0.9124032942350886, 0.8797750497222413, 0.9018727751122118, 0.8974155069582505, 0.911864406779661, 0.8863745787193067, 0.9003302311618133, 0.8521739130434782, 0.9080209615990378, 0.8995098039215687, 0.912221471978393, 0.849803664921466, 0.9160784313725491, 0.9207232267037552, 0.9115902964959569, 0.9318341531974701, 0.8732488325550367, 0.9366925064599483, 0.843772498200144, 0.8936676427525623, 0.9152671755725191, 0.8514127144298688, 0.6804226351904771, 0.915776808542638, 0.928941908713693, 0.8809819763828465, 0.6934520343508322, 0.887517701800526, 0.697837094272251, 0.9087146470452978, 0.9388888888888889, 0.8979409131602507, 0.9214711729622267, 0.8522348232154769, 0.8841536614645858, 0.9150357820943479, 0.9171709531013615, 0.7912371475075759, 0.6319048798612832, 0.9115611381697001, 0.6989154013015184, 0.9230340211935304, 0.7741073391857377], \"xaxis\": \"x\", \"y\": [0.45353664378093567, 0.5190048375950241, 0.7036764705882353, 0.5794581479983826, 0.6912524987936858, 0.725125268432355, 0.9177777777777778, 0.6886046511627907, 0.5637555508564178, 0.6694269940986103, 0.6683417085427136, 0.6588373458602467, 0.5826398175853145, 0.6439902379499695, 0.689703808180536, 0.6697952218430034, 0.7813765182186235, 0.617008069522036, 0.4425087108013937, 0.7345636025998143, 0.7571371129875352, 0.7352125693160814, 0.596545768566494, 0.7664157498552403, 0.5917621866733845, 0.5859872611464968, 0.6684539767649688, 0.5777080062794349, 0.736320235034888, 0.5709355828220859, 0.6507774140752864, 0.4361968306922435, 0.6730418943533698, 0.6405163853028798, 0.6117989803350328, 0.5247782377291543, 0.6532408642304615, 0.5730971442227267, 0.6899335232668566, 0.4641885766092475, 0.6796733212341198, 0.6014591883264934, 0.6031096563011457, 0.678990081154193, 0.4585043017868961, 0.6371100164203612, 0.6340021119324182, 0.6210518844488608, 0.5567645074224021, 0.4993370229447711, 0.5626651212735857, 0.38294168842471715, 0.36088709677419356, 0.5189873417721519, 0.5111731843575419, 0.7109144542772862, 0.4666370106761566, 0.5391436238478591, 0.8355569844076515, 0.5206438928483657, 0.7768339768339768, 0.693051890941073, 0.576897592578959, 0.5519838399960099, 0.5016722408026756, 0.675, 0.7409571508069004, 0.668782142466353, 0.6637168141592921, 0.6850235057085292, 0.6360360360360361, 0.5590593136186394, 0.6303206997084548, 0.6738095238095239, 0.7299077733860343, 0.7692629815745393, 0.5551238465274405, 0.32665242486872653, 0.7098600932711525, 0.5851217613699544, 0.6454930429522081, 0.7395902181097158, 0.8313785810421073, 0.6979823455233292, 0.6043153526970955, 0.7713398861872737, 0.5530415430267063, 0.6558362118595279, 0.4484075481563787, 0.4436393525543753, 0.46184867951463243, 0.6432685385169187, 0.7266448564158487, 0.7186081694402421, 0.5080482897384306, 0.6961325966850829, 0.6913714624975262, 0.7404311482622086, 0.7307420494699647, 0.7060931899641577, 0.7601809954751131, 0.7008134980415788, 0.6376976777318706, 0.5768854064642507, 0.7191235059760956, 0.41163060598524415, 0.5266975115668375, 0.6666842188405034, 0.533974862529458, 0.5493994575745835, 0.5318302387267905, 0.509174944812362, 0.6032151300236407, 0.5568882796435916, 0.37585632290316606, 0.5676392572944297, 0.46938775510204084, 0.6423357664233577, 0.7217194570135747, 0.6048488528429544, 0.6675354763973357, 0.4989816700610998, 0.5228782988418454, 0.4460371436044991, 0.5639786313915034, 0.46847457627118644, 0.6671513784609906, 0.546315356113627, 0.5576763485477179, 0.5451263537906137, 0.597667638483965, 0.5356895356895357, 0.6753660089115213, 0.6921754084264833, 0.6391509433962265, 0.6571749718995878, 0.4725050916496945, 0.6896945475306879, 0.6807017543859649, 0.6581172491544532, 0.39627371939828926, 0.4651034482758621, 0.6752923612839015, 0.52, 0.2938473706667777, 0.589572192513369, 0.394757866273353, 0.5072264280798349, 0.8362021099389229, 0.5892682926829268, 0.6601307189542484, 0.5531182795698925, 0.594488188976378, 0.6844105033481304, 0.7236842105263158, 0.6204697439243191, 0.5094375595805529, 0.5784256559766764, 0.45021037868162694, 0.7406015037593985, 0.4786149820433335], \"yaxis\": \"y\"}],\n",
              "                        {\"coloraxis\": {\"colorbar\": {\"title\": {\"text\": \"pop_density\"}}, \"colorscale\": [[0.0, \"#0d0887\"], [0.1111111111111111, \"#46039f\"], [0.2222222222222222, \"#7201a8\"], [0.3333333333333333, \"#9c179e\"], [0.4444444444444444, \"#bd3786\"], [0.5555555555555556, \"#d8576b\"], [0.6666666666666666, \"#ed7953\"], [0.7777777777777778, \"#fb9f3a\"], [0.8888888888888888, \"#fdca26\"], [1.0, \"#f0f921\"]]}, \"legend\": {\"itemsizing\": \"constant\", \"tracegroupgap\": 0}, \"margin\": {\"t\": 60}, \"template\": {\"data\": {\"bar\": [{\"error_x\": {\"color\": \"#2a3f5f\"}, \"error_y\": {\"color\": \"#2a3f5f\"}, \"marker\": {\"line\": {\"color\": \"#E5ECF6\", \"width\": 0.5}}, \"type\": \"bar\"}], \"barpolar\": [{\"marker\": {\"line\": {\"color\": \"#E5ECF6\", \"width\": 0.5}}, \"type\": \"barpolar\"}], \"carpet\": [{\"aaxis\": {\"endlinecolor\": \"#2a3f5f\", \"gridcolor\": \"white\", \"linecolor\": \"white\", \"minorgridcolor\": \"white\", \"startlinecolor\": \"#2a3f5f\"}, \"baxis\": {\"endlinecolor\": \"#2a3f5f\", \"gridcolor\": \"white\", \"linecolor\": \"white\", \"minorgridcolor\": \"white\", \"startlinecolor\": \"#2a3f5f\"}, \"type\": \"carpet\"}], \"choropleth\": [{\"colorbar\": {\"outlinewidth\": 0, \"ticks\": \"\"}, \"type\": \"choropleth\"}], \"contour\": [{\"colorbar\": {\"outlinewidth\": 0, \"ticks\": \"\"}, \"colorscale\": [[0.0, \"#0d0887\"], [0.1111111111111111, \"#46039f\"], [0.2222222222222222, \"#7201a8\"], [0.3333333333333333, \"#9c179e\"], [0.4444444444444444, \"#bd3786\"], [0.5555555555555556, \"#d8576b\"], [0.6666666666666666, \"#ed7953\"], [0.7777777777777778, \"#fb9f3a\"], [0.8888888888888888, \"#fdca26\"], [1.0, \"#f0f921\"]], \"type\": \"contour\"}], \"contourcarpet\": [{\"colorbar\": {\"outlinewidth\": 0, \"ticks\": \"\"}, \"type\": \"contourcarpet\"}], \"heatmap\": [{\"colorbar\": {\"outlinewidth\": 0, \"ticks\": \"\"}, \"colorscale\": [[0.0, \"#0d0887\"], [0.1111111111111111, \"#46039f\"], [0.2222222222222222, \"#7201a8\"], [0.3333333333333333, \"#9c179e\"], [0.4444444444444444, \"#bd3786\"], [0.5555555555555556, \"#d8576b\"], [0.6666666666666666, \"#ed7953\"], [0.7777777777777778, \"#fb9f3a\"], [0.8888888888888888, \"#fdca26\"], [1.0, \"#f0f921\"]], \"type\": \"heatmap\"}], \"heatmapgl\": [{\"colorbar\": {\"outlinewidth\": 0, \"ticks\": \"\"}, \"colorscale\": [[0.0, \"#0d0887\"], [0.1111111111111111, \"#46039f\"], [0.2222222222222222, \"#7201a8\"], [0.3333333333333333, \"#9c179e\"], [0.4444444444444444, \"#bd3786\"], [0.5555555555555556, \"#d8576b\"], [0.6666666666666666, \"#ed7953\"], [0.7777777777777778, \"#fb9f3a\"], [0.8888888888888888, \"#fdca26\"], [1.0, \"#f0f921\"]], \"type\": \"heatmapgl\"}], \"histogram\": [{\"marker\": {\"colorbar\": {\"outlinewidth\": 0, \"ticks\": \"\"}}, \"type\": \"histogram\"}], \"histogram2d\": [{\"colorbar\": {\"outlinewidth\": 0, \"ticks\": \"\"}, \"colorscale\": [[0.0, \"#0d0887\"], [0.1111111111111111, \"#46039f\"], [0.2222222222222222, \"#7201a8\"], [0.3333333333333333, \"#9c179e\"], [0.4444444444444444, \"#bd3786\"], [0.5555555555555556, \"#d8576b\"], [0.6666666666666666, \"#ed7953\"], [0.7777777777777778, \"#fb9f3a\"], [0.8888888888888888, \"#fdca26\"], [1.0, \"#f0f921\"]], \"type\": \"histogram2d\"}], \"histogram2dcontour\": [{\"colorbar\": {\"outlinewidth\": 0, \"ticks\": \"\"}, \"colorscale\": [[0.0, \"#0d0887\"], [0.1111111111111111, \"#46039f\"], [0.2222222222222222, \"#7201a8\"], [0.3333333333333333, \"#9c179e\"], [0.4444444444444444, \"#bd3786\"], [0.5555555555555556, \"#d8576b\"], [0.6666666666666666, \"#ed7953\"], [0.7777777777777778, \"#fb9f3a\"], [0.8888888888888888, \"#fdca26\"], [1.0, \"#f0f921\"]], \"type\": \"histogram2dcontour\"}], \"mesh3d\": [{\"colorbar\": {\"outlinewidth\": 0, \"ticks\": \"\"}, \"type\": \"mesh3d\"}], \"parcoords\": [{\"line\": {\"colorbar\": {\"outlinewidth\": 0, \"ticks\": \"\"}}, \"type\": \"parcoords\"}], \"pie\": [{\"automargin\": true, \"type\": \"pie\"}], \"scatter\": [{\"marker\": {\"colorbar\": {\"outlinewidth\": 0, \"ticks\": \"\"}}, \"type\": \"scatter\"}], \"scatter3d\": [{\"line\": {\"colorbar\": {\"outlinewidth\": 0, \"ticks\": \"\"}}, \"marker\": {\"colorbar\": {\"outlinewidth\": 0, \"ticks\": \"\"}}, \"type\": \"scatter3d\"}], \"scattercarpet\": [{\"marker\": {\"colorbar\": {\"outlinewidth\": 0, \"ticks\": \"\"}}, \"type\": \"scattercarpet\"}], \"scattergeo\": [{\"marker\": {\"colorbar\": {\"outlinewidth\": 0, \"ticks\": \"\"}}, \"type\": \"scattergeo\"}], \"scattergl\": [{\"marker\": {\"colorbar\": {\"outlinewidth\": 0, \"ticks\": \"\"}}, \"type\": \"scattergl\"}], \"scattermapbox\": [{\"marker\": {\"colorbar\": {\"outlinewidth\": 0, \"ticks\": \"\"}}, \"type\": \"scattermapbox\"}], \"scatterpolar\": [{\"marker\": {\"colorbar\": {\"outlinewidth\": 0, \"ticks\": \"\"}}, \"type\": \"scatterpolar\"}], \"scatterpolargl\": [{\"marker\": {\"colorbar\": {\"outlinewidth\": 0, \"ticks\": \"\"}}, \"type\": \"scatterpolargl\"}], \"scatterternary\": [{\"marker\": {\"colorbar\": {\"outlinewidth\": 0, \"ticks\": \"\"}}, \"type\": \"scatterternary\"}], \"surface\": [{\"colorbar\": {\"outlinewidth\": 0, \"ticks\": \"\"}, \"colorscale\": [[0.0, \"#0d0887\"], [0.1111111111111111, \"#46039f\"], [0.2222222222222222, \"#7201a8\"], [0.3333333333333333, \"#9c179e\"], [0.4444444444444444, \"#bd3786\"], [0.5555555555555556, \"#d8576b\"], [0.6666666666666666, \"#ed7953\"], [0.7777777777777778, \"#fb9f3a\"], [0.8888888888888888, \"#fdca26\"], [1.0, \"#f0f921\"]], \"type\": \"surface\"}], \"table\": [{\"cells\": {\"fill\": {\"color\": \"#EBF0F8\"}, \"line\": {\"color\": \"white\"}}, \"header\": {\"fill\": {\"color\": \"#C8D4E3\"}, \"line\": {\"color\": \"white\"}}, \"type\": \"table\"}]}, \"layout\": {\"annotationdefaults\": {\"arrowcolor\": \"#2a3f5f\", \"arrowhead\": 0, \"arrowwidth\": 1}, \"coloraxis\": {\"colorbar\": {\"outlinewidth\": 0, \"ticks\": \"\"}}, \"colorscale\": {\"diverging\": [[0, \"#8e0152\"], [0.1, \"#c51b7d\"], [0.2, \"#de77ae\"], [0.3, \"#f1b6da\"], [0.4, \"#fde0ef\"], [0.5, \"#f7f7f7\"], [0.6, \"#e6f5d0\"], [0.7, \"#b8e186\"], [0.8, \"#7fbc41\"], [0.9, \"#4d9221\"], [1, \"#276419\"]], \"sequential\": [[0.0, \"#0d0887\"], [0.1111111111111111, \"#46039f\"], [0.2222222222222222, \"#7201a8\"], [0.3333333333333333, \"#9c179e\"], [0.4444444444444444, \"#bd3786\"], [0.5555555555555556, \"#d8576b\"], [0.6666666666666666, \"#ed7953\"], [0.7777777777777778, \"#fb9f3a\"], [0.8888888888888888, \"#fdca26\"], [1.0, \"#f0f921\"]], \"sequentialminus\": [[0.0, \"#0d0887\"], [0.1111111111111111, \"#46039f\"], [0.2222222222222222, \"#7201a8\"], [0.3333333333333333, \"#9c179e\"], [0.4444444444444444, \"#bd3786\"], [0.5555555555555556, \"#d8576b\"], [0.6666666666666666, \"#ed7953\"], [0.7777777777777778, \"#fb9f3a\"], [0.8888888888888888, \"#fdca26\"], [1.0, \"#f0f921\"]]}, \"colorway\": [\"#636efa\", \"#EF553B\", \"#00cc96\", \"#ab63fa\", \"#FFA15A\", \"#19d3f3\", \"#FF6692\", \"#B6E880\", \"#FF97FF\", \"#FECB52\"], \"font\": {\"color\": \"#2a3f5f\"}, \"geo\": {\"bgcolor\": \"white\", \"lakecolor\": \"white\", \"landcolor\": \"#E5ECF6\", \"showlakes\": true, \"showland\": true, \"subunitcolor\": \"white\"}, \"hoverlabel\": {\"align\": \"left\"}, \"hovermode\": \"closest\", \"mapbox\": {\"style\": \"light\"}, \"paper_bgcolor\": \"white\", \"plot_bgcolor\": \"#E5ECF6\", \"polar\": {\"angularaxis\": {\"gridcolor\": \"white\", \"linecolor\": \"white\", \"ticks\": \"\"}, \"bgcolor\": \"#E5ECF6\", \"radialaxis\": {\"gridcolor\": \"white\", \"linecolor\": \"white\", \"ticks\": \"\"}}, \"scene\": {\"xaxis\": {\"backgroundcolor\": \"#E5ECF6\", \"gridcolor\": \"white\", \"gridwidth\": 2, \"linecolor\": \"white\", \"showbackground\": true, \"ticks\": \"\", \"zerolinecolor\": \"white\"}, \"yaxis\": {\"backgroundcolor\": \"#E5ECF6\", \"gridcolor\": \"white\", \"gridwidth\": 2, \"linecolor\": \"white\", \"showbackground\": true, \"ticks\": \"\", \"zerolinecolor\": \"white\"}, \"zaxis\": {\"backgroundcolor\": \"#E5ECF6\", \"gridcolor\": \"white\", \"gridwidth\": 2, \"linecolor\": \"white\", \"showbackground\": true, \"ticks\": \"\", \"zerolinecolor\": \"white\"}}, \"shapedefaults\": {\"line\": {\"color\": \"#2a3f5f\"}}, \"ternary\": {\"aaxis\": {\"gridcolor\": \"white\", \"linecolor\": \"white\", \"ticks\": \"\"}, \"baxis\": {\"gridcolor\": \"white\", \"linecolor\": \"white\", \"ticks\": \"\"}, \"bgcolor\": \"#E5ECF6\", \"caxis\": {\"gridcolor\": \"white\", \"linecolor\": \"white\", \"ticks\": \"\"}}, \"title\": {\"x\": 0.05}, \"xaxis\": {\"automargin\": true, \"gridcolor\": \"white\", \"linecolor\": \"white\", \"ticks\": \"\", \"title\": {\"standoff\": 15}, \"zerolinecolor\": \"white\", \"zerolinewidth\": 2}, \"yaxis\": {\"automargin\": true, \"gridcolor\": \"white\", \"linecolor\": \"white\", \"ticks\": \"\", \"title\": {\"standoff\": 15}, \"zerolinecolor\": \"white\", \"zerolinewidth\": 2}}}, \"xaxis\": {\"anchor\": \"y\", \"domain\": [0.0, 1.0], \"title\": {\"text\": \"trnsprt_commuteByCar\"}}, \"yaxis\": {\"anchor\": \"x\", \"domain\": [0.0, 1.0], \"title\": {\"text\": \"bldgs_LiveInHouses\"}}},\n",
              "                        {\"responsive\": true}\n",
              "                    ).then(function(){\n",
              "                            \n",
              "var gd = document.getElementById('d7f0dda4-a478-4a4c-b0ee-b9f0ac9bb919');\n",
              "var x = new MutationObserver(function (mutations, observer) {{\n",
              "        var display = window.getComputedStyle(gd).display;\n",
              "        if (!display || display === 'none') {{\n",
              "            console.log([gd, 'removed!']);\n",
              "            Plotly.purge(gd);\n",
              "            observer.disconnect();\n",
              "        }}\n",
              "}});\n",
              "\n",
              "// Listen for the removal of the full notebook cells\n",
              "var notebookContainer = gd.closest('#notebook-container');\n",
              "if (notebookContainer) {{\n",
              "    x.observe(notebookContainer, {childList: true});\n",
              "}}\n",
              "\n",
              "// Listen for the clearing of the current output cell\n",
              "var outputEl = gd.closest('.output');\n",
              "if (outputEl) {{\n",
              "    x.observe(outputEl, {childList: true});\n",
              "}}\n",
              "\n",
              "                        })\n",
              "                };\n",
              "                \n",
              "            </script>\n",
              "        </div>\n",
              "</body>\n",
              "</html>"
            ]
          },
          "metadata": {
            "tags": []
          }
        }
      ]
    },
    {
      "cell_type": "markdown",
      "metadata": {
        "id": "CNvZybWoG8Pj"
      },
      "source": [
        "### Percentage population working in the arts versus percentage who commute by active transportation"
      ]
    },
    {
      "cell_type": "code",
      "metadata": {
        "id": "pLu_R2kFBa6c"
      },
      "source": [
        "alt.Chart(df_census_3).mark_point().encode(\n",
        "    x='trnsprt_commuteByCar',\n",
        "    y='bldgs_LiveInHouses',\n",
        "    color='pop_density',\n",
        ").interactive().properties(\n",
        "    width=800,\n",
        "    height=500\n",
        ")"
      ],
      "execution_count": null,
      "outputs": []
    },
    {
      "cell_type": "markdown",
      "metadata": {
        "id": "-Icle0xz3kMJ"
      },
      "source": [
        "#### With final merged dataframe, add the means as a row"
      ]
    },
    {
      "cell_type": "code",
      "metadata": {
        "id": "nr1qB5ys-Nzo"
      },
      "source": [
        "# add row of means\n",
        "avg = df_census_1a.mean() \n",
        "df_census_2 = df_census_1a.append(avg, ignore_index= True)\n",
        "df_census_2.geo_name[df_census_2.geo_name.isnull()] = 'All_CSDs_AVG'"
      ],
      "execution_count": null,
      "outputs": []
    },
    {
      "cell_type": "markdown",
      "metadata": {
        "id": "NydDXtTVpCDA"
      },
      "source": [
        "## Setup Comparison Global Municipalities..."
      ]
    }
  ]
}