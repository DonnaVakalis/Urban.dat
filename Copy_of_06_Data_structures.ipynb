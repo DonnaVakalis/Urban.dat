{
  "nbformat": 4,
  "nbformat_minor": 0,
  "metadata": {
    "kernelspec": {
      "display_name": "Python 3",
      "language": "python",
      "name": "python3"
    },
    "language_info": {
      "codemirror_mode": {
        "name": "ipython",
        "version": 3
      },
      "file_extension": ".py",
      "mimetype": "text/x-python",
      "name": "python",
      "nbconvert_exporter": "python",
      "pygments_lexer": "ipython3",
      "version": "3.6.6"
    },
    "colab": {
      "name": "Copy of 06 Data structures.ipynb",
      "provenance": [],
      "include_colab_link": true
    }
  },
  "cells": [
    {
      "cell_type": "markdown",
      "metadata": {
        "id": "view-in-github",
        "colab_type": "text"
      },
      "source": [
        "<a href=\"https://colab.research.google.com/github/DonnaVakalis/Urban.dat/blob/master/Copy_of_06_Data_structures.ipynb\" target=\"_parent\"><img src=\"https://colab.research.google.com/assets/colab-badge.svg\" alt=\"Open In Colab\"/></a>"
      ]
    },
    {
      "cell_type": "markdown",
      "metadata": {
        "id": "ePj2o9FHCN5v",
        "colab_type": "text"
      },
      "source": [
        "# Introduction\n",
        "\n",
        "A data structure is an 'object' in a program that holds a collection of data. A simple\n",
        "data structure might be an 'array' that holds the components of a vector, or a list of\n",
        "names. A more complicated data structure might represent a telephone directory, \n",
        "holding [name, telephone number] pairs.\n",
        "\n",
        "Modern languages, like Python, provide a range of library (built-in) data structures.\n",
        "These are well-tested and optimised; it is good practice to use library data structures to make programs\n",
        "simpler, easier to read and more efficient. \n",
        "\n",
        "It is possible to develop your own data structures for special purposes. In this activity\n",
        "we focus on selecting and using built-in data structures. The creation\n",
        "of your own data structures is introduced in Activity 12.\n",
        "\n",
        "\n",
        "### Objectives\n",
        "\n",
        "- Use `list`, `tuple` and dictionary (`dict`) data structures\n",
        "- Use iteratation to visit entries in a data structure \n",
        "- Learn to select the right data structure for an application"
      ]
    },
    {
      "cell_type": "markdown",
      "metadata": {
        "id": "xqf_4X-FCN5w",
        "colab_type": "text"
      },
      "source": [
        "# Data structures\n",
        "\n",
        "So far we have restricted our examples to simple built-in data types, e.g. `string`, `int`, and `float`. In practice, programs will use *data structures* to collect data together into useful packages. For example, rather than representing a vector `r` of length 3 using three floats `u`, `v` and `w`, we could represent \n",
        "it as a list of floats, `r = [u, v, w]`. Similarly, if we want to store the names of students in a laboratory group, rather than a string variable for each student, we could work with a list of names, e.g.:"
      ]
    },
    {
      "cell_type": "code",
      "metadata": {
        "id": "NWzIME4QCN5x",
        "colab_type": "code",
        "colab": {}
      },
      "source": [
        "lab_group0 = [\"Sarah\", \"John\", \"Joe\", \"Emily\"]\n",
        "lab_group1 = [\"Roger\", \"Rachel\", \"Amer\", \"Caroline\", \"Colin\"]"
      ],
      "execution_count": 0,
      "outputs": []
    },
    {
      "cell_type": "markdown",
      "metadata": {
        "id": "s6T69V8LCN50",
        "colab_type": "text"
      },
      "source": [
        "This is a much more powerful construction because we can perform operations on a list, such as checking its length (number of students in a lab group), sort the names in the list into alphabetical order, and add or remove names. We could even make a list-of-lists, e.g."
      ]
    },
    {
      "cell_type": "code",
      "metadata": {
        "id": "LNm63knMCN51",
        "colab_type": "code",
        "colab": {
          "base_uri": "https://localhost:8080/",
          "height": 34
        },
        "outputId": "b7e7520f-2d8c-4d49-95da-99ce918e9459"
      },
      "source": [
        "lab_groups = [lab_group0, lab_group1]\n",
        "print(lab_groups)"
      ],
      "execution_count": 2,
      "outputs": [
        {
          "output_type": "stream",
          "text": [
            "[['Sarah', 'John', 'Joe', 'Emily'], ['Roger', 'Rachel', 'Amer', 'Caroline', 'Colin']]\n"
          ],
          "name": "stdout"
        }
      ]
    },
    {
      "cell_type": "markdown",
      "metadata": {
        "id": "viYQLd-CCN54",
        "colab_type": "text"
      },
      "source": [
        "to collect all the lab groups together into a *nested* list.\n",
        "\n",
        "Data structures are particularly useful when passing data to functions. Say we want a function that prints the names of students in a given lab group. Rather than passing the name of each student (with different groups having differing numbers of members), we can pass just the list of lab group members to the function.\n",
        "Similarly, we could develop a function that computes the dot product between two vectors of arbitrary length, passing to the function just the two vectors rather than each component.\n",
        "\n",
        "We will look at three built-in Python data structures that are commonly used. They are:\n",
        "\n",
        "- `list` \n",
        "- `tuple`\n",
        "- `dict` (dictionary)"
      ]
    },
    {
      "cell_type": "markdown",
      "metadata": {
        "id": "d8aAqQRMCN54",
        "colab_type": "text"
      },
      "source": [
        "# Lists\n",
        "\n",
        "A `list` is a sequence of data. An 'array' in most other languages is a similar concept, but Python lists are more general than most arrays as they can hold a mixture of types. A list is constructed using square brackets:"
      ]
    },
    {
      "cell_type": "code",
      "metadata": {
        "id": "h05gl7RdCN55",
        "colab_type": "code",
        "outputId": "57f7fe36-895a-4a80-8a12-e5f040514612",
        "colab": {
          "base_uri": "https://localhost:8080/",
          "height": 70
        }
      },
      "source": [
        "lab_group0 = [\"Sarah\", \"John\", \"Joe\", \"Emily\", \"Quang\"]\n",
        "print(\"Lab group members: {}\".format(lab_group0))\n",
        "print(\"Size of lab group: {}\".format(len(lab_group0)))\n",
        "\n",
        "print(\"Check the Python object type: {}\".format(type(lab_group0)))\n"
      ],
      "execution_count": 6,
      "outputs": [
        {
          "output_type": "stream",
          "text": [
            "Lab group members: ['Sarah', 'John', 'Joe', 'Emily', 'Quang']\n",
            "Size of lab group: 5\n",
            "Check the Python object type: <class 'list'>\n"
          ],
          "name": "stdout"
        }
      ]
    },
    {
      "cell_type": "markdown",
      "metadata": {
        "id": "3AM7h7d2CN58",
        "colab_type": "text"
      },
      "source": [
        "The function '`len`' returns the length (number of items) of the list.\n",
        "\n",
        "An empty list is created by"
      ]
    },
    {
      "cell_type": "code",
      "metadata": {
        "id": "kxwbnBqiCN59",
        "colab_type": "code",
        "colab": {}
      },
      "source": [
        "my_list = []"
      ],
      "execution_count": 0,
      "outputs": []
    },
    {
      "cell_type": "markdown",
      "metadata": {
        "id": "Ae5GFW2fCN6A",
        "colab_type": "text"
      },
      "source": [
        "A list of length 5 with repeated values can be created by"
      ]
    },
    {
      "cell_type": "code",
      "metadata": {
        "id": "im3fCh8ECN6A",
        "colab_type": "code",
        "outputId": "b572cd3f-0ce5-484e-d8b7-6201bf1fe4c6",
        "colab": {}
      },
      "source": [
        "my_list = [\"Oliver\"]*5\n",
        "print(my_list)"
      ],
      "execution_count": 0,
      "outputs": [
        {
          "output_type": "stream",
          "text": [
            "['Oliver', 'Oliver', 'Oliver', 'Oliver', 'Oliver']\n"
          ],
          "name": "stdout"
        }
      ]
    },
    {
      "cell_type": "markdown",
      "metadata": {
        "id": "WENZZ3gDCN6D",
        "colab_type": "text"
      },
      "source": [
        "## Iterating over lists\n",
        "\n",
        "Looping over each item in a list (or more generally a sequence) is called *iterating*. We iterate over the members of the lab group using the syntax:"
      ]
    },
    {
      "cell_type": "code",
      "metadata": {
        "id": "SH7P_VI6CN6E",
        "colab_type": "code",
        "outputId": "680f9b7e-243e-4dd2-ba8c-2ef1c7ef1217",
        "colab": {}
      },
      "source": [
        "for member in lab_group0:\n",
        "    print(member)"
      ],
      "execution_count": 0,
      "outputs": [
        {
          "output_type": "stream",
          "text": [
            "Sarah\n",
            "John\n",
            "Joe\n",
            "Emily\n",
            "Quang\n"
          ],
          "name": "stdout"
        }
      ]
    },
    {
      "cell_type": "code",
      "metadata": {
        "id": "w7UgpYc3njwc",
        "colab_type": "code",
        "colab": {
          "base_uri": "https://localhost:8080/",
          "height": 87
        },
        "outputId": "7bcb82dd-9227-4531-fc8d-40447282929f"
      },
      "source": [
        "new_list = [1,2,3,\"other\"]\n",
        "for element in new_list:\n",
        "    print(element,type(element))\n",
        "  "
      ],
      "execution_count": 8,
      "outputs": [
        {
          "output_type": "stream",
          "text": [
            "1 <class 'int'>\n",
            "2 <class 'int'>\n",
            "3 <class 'int'>\n",
            "other <class 'str'>\n"
          ],
          "name": "stdout"
        }
      ]
    },
    {
      "cell_type": "markdown",
      "metadata": {
        "id": "EAA6wX3wCN6H",
        "colab_type": "text"
      },
      "source": [
        "Say we want to iterate over the names of the lab group members, and get the position\n",
        "of each member in the list. We use `enumerate` for this: "
      ]
    },
    {
      "cell_type": "code",
      "metadata": {
        "id": "4JARdIEvCN6I",
        "colab_type": "code",
        "outputId": "e907b276-5943-44e1-eda7-e250e8bb13fd",
        "colab": {}
      },
      "source": [
        "for n, member in enumerate(lab_group0):\n",
        "    print(n, member)"
      ],
      "execution_count": 0,
      "outputs": [
        {
          "output_type": "stream",
          "text": [
            "0 Sarah\n",
            "1 John\n",
            "2 Joe\n",
            "3 Emily\n",
            "4 Quang\n"
          ],
          "name": "stdout"
        }
      ]
    },
    {
      "cell_type": "markdown",
      "metadata": {
        "id": "oqsOsrr3CN6K",
        "colab_type": "text"
      },
      "source": [
        "In the above, `n` is the position in the list and `member` is the $n$th entry in the list. Sometimes we need to know the position, in which case `enumerate` is helpful. However, when possible it is preferable to use a 'plain' iteration. Note that Python counts from zero - it uses zero-based indexing."
      ]
    },
    {
      "cell_type": "markdown",
      "metadata": {
        "id": "aoq-8Yf5CN6L",
        "colab_type": "text"
      },
      "source": [
        "## Manipulating lists \n",
        "\n",
        "There are many functions for manipulating lists. It might be useful to sort the list:"
      ]
    },
    {
      "cell_type": "code",
      "metadata": {
        "id": "7xatpInFCN6L",
        "colab_type": "code",
        "outputId": "2e3fe5c8-c449-4d67-f53f-41c534e24a4b",
        "colab": {
          "base_uri": "https://localhost:8080/",
          "height": 105
        }
      },
      "source": [
        "lab_group0.sort()\n",
        "for member in lab_group0:\n",
        "    print(member)"
      ],
      "execution_count": 9,
      "outputs": [
        {
          "output_type": "stream",
          "text": [
            "Emily\n",
            "Joe\n",
            "John\n",
            "Quang\n",
            "Sarah\n"
          ],
          "name": "stdout"
        }
      ]
    },
    {
      "cell_type": "markdown",
      "metadata": {
        "id": "gghbL3lqCN6O",
        "colab_type": "text"
      },
      "source": [
        "In the above, `sort` is known as a 'method' of a `list`. It performs an *in-place* sort, i.e. `lab_group0` is sorted, rather than creating a new list with sorted entries (for the latter we would use `sorted(lab_group0)`, which returns a new list). More on methods later when we get to object-oriented design.\n",
        "\n",
        "With lists we can add and remove students:"
      ]
    },
    {
      "cell_type": "code",
      "metadata": {
        "id": "JJJc2G7HCN6O",
        "colab_type": "code",
        "outputId": "749069df-b173-4777-dca9-a5cea7f53f19",
        "colab": {
          "base_uri": "https://localhost:8080/",
          "height": 52
        }
      },
      "source": [
        "# Remove the second student (indexing starts from 0, so 1 is the second element)\n",
        "lab_group0.pop(1)\n",
        "print(lab_group0)\n",
        "\n",
        "# Add new student \"Josephine\" at the end of the list\n",
        "lab_group0.append(\"Josephine\")\n",
        "print(lab_group0)"
      ],
      "execution_count": 10,
      "outputs": [
        {
          "output_type": "stream",
          "text": [
            "['Emily', 'John', 'Quang', 'Sarah']\n",
            "['Emily', 'John', 'Quang', 'Sarah', 'Josephine']\n"
          ],
          "name": "stdout"
        }
      ]
    },
    {
      "cell_type": "markdown",
      "metadata": {
        "id": "ipY1IOeICN6R",
        "colab_type": "text"
      },
      "source": [
        "or maybe join two groups to create one larger group: "
      ]
    },
    {
      "cell_type": "code",
      "metadata": {
        "id": "LwPz57Y1CN6R",
        "colab_type": "code",
        "outputId": "ef6e0361-631e-4d24-c3fe-2b8b9a01d749",
        "colab": {
          "base_uri": "https://localhost:8080/",
          "height": 34
        }
      },
      "source": [
        "lab_group1 = [\"Roger\", \"Rachel\", \"Amer\", \"Caroline\", \"Colin\"]\n",
        "\n",
        "lab_group = lab_group0 + lab_group1\n",
        "print(lab_group)"
      ],
      "execution_count": 11,
      "outputs": [
        {
          "output_type": "stream",
          "text": [
            "['Emily', 'John', 'Quang', 'Sarah', 'Josephine', 'Roger', 'Rachel', 'Amer', 'Caroline', 'Colin']\n"
          ],
          "name": "stdout"
        }
      ]
    },
    {
      "cell_type": "markdown",
      "metadata": {
        "id": "ifa5qlBwCN6W",
        "colab_type": "text"
      },
      "source": [
        "or create a list of group lists:"
      ]
    },
    {
      "cell_type": "code",
      "metadata": {
        "id": "31OEwnbpCN6X",
        "colab_type": "code",
        "outputId": "1bd141ee-fb47-4a29-9cac-66e84bf94a0f",
        "colab": {}
      },
      "source": [
        "lab_groups = [lab_group0, lab_group1]\n",
        "print(lab_groups)\n",
        "\n",
        "print(\"---\")\n",
        "\n",
        "print(\"Print each lab group (name and members):\")\n",
        "for i, lab_group in enumerate(lab_groups):\n",
        "    print(i, lab_group)"
      ],
      "execution_count": 0,
      "outputs": [
        {
          "output_type": "stream",
          "text": [
            "[['Emily', 'John', 'Quang', 'Sarah', 'Josephine'], ['Roger', 'Rachel', 'Amer', 'Caroline', 'Colin']]\n",
            "---\n",
            "Print each lab group (name and members):\n",
            "0 ['Emily', 'John', 'Quang', 'Sarah', 'Josephine']\n",
            "1 ['Roger', 'Rachel', 'Amer', 'Caroline', 'Colin']\n"
          ],
          "name": "stdout"
        }
      ]
    },
    {
      "cell_type": "markdown",
      "metadata": {
        "id": "brd3HvFfCN6a",
        "colab_type": "text"
      },
      "source": [
        "## Indexing\n",
        "\n",
        "Lists store data in order, so it is possible to 'index into' a list using an integer (this will be familiar to anyone who has used C), e.g.:"
      ]
    },
    {
      "cell_type": "code",
      "metadata": {
        "id": "bYDzxWOCCN6b",
        "colab_type": "code",
        "outputId": "73b7746c-5290-4706-d866-6ba02d869c92",
        "colab": {}
      },
      "source": [
        "first_member = lab_group0[0]\n",
        "third_member = lab_group0[2]\n",
        "print(first_member, third_member)"
      ],
      "execution_count": 0,
      "outputs": [
        {
          "output_type": "stream",
          "text": [
            "Emily Quang\n"
          ],
          "name": "stdout"
        }
      ]
    },
    {
      "cell_type": "markdown",
      "metadata": {
        "id": "ctO9T07DCN6e",
        "colab_type": "text"
      },
      "source": [
        "or"
      ]
    },
    {
      "cell_type": "code",
      "metadata": {
        "id": "d8m2zlffCN6f",
        "colab_type": "code",
        "outputId": "6ef8cffd-cdc1-472a-d717-e853170b7ea5",
        "colab": {}
      },
      "source": [
        "for i in range(len(lab_group0)):\n",
        "    print(lab_group0[i])"
      ],
      "execution_count": 0,
      "outputs": [
        {
          "output_type": "stream",
          "text": [
            "Emily\n",
            "John\n",
            "Quang\n",
            "Sarah\n",
            "Josephine\n"
          ],
          "name": "stdout"
        }
      ]
    },
    {
      "cell_type": "markdown",
      "metadata": {
        "id": "0BWua1GuCN6i",
        "colab_type": "text"
      },
      "source": [
        "Indices start from zero, and run through to (length - 1).\n",
        "\n",
        "Indexing can be useful for numerical computations. We use it here to compute the dot product of two vectors:"
      ]
    },
    {
      "cell_type": "code",
      "metadata": {
        "id": "_6yfAws-CN6j",
        "colab_type": "code",
        "outputId": "c0e474a8-8c1b-45bf-f5ed-19515cf1b8da",
        "colab": {
          "base_uri": "https://localhost:8080/",
          "height": 34
        }
      },
      "source": [
        "# Two vectors of length 4\n",
        "x = [1.0, 3.5, 7.2, 8.9]\n",
        "y = [-1.0, 27.1, 1.0, 6]\n",
        "\n",
        "# Compute dot-product\n",
        "dot_product = 0.0\n",
        "for i in range(len(x)):\n",
        "    dot_product += x[i]*y[i]\n",
        "\n",
        "print(dot_product)"
      ],
      "execution_count": 12,
      "outputs": [
        {
          "output_type": "stream",
          "text": [
            "154.45000000000002\n"
          ],
          "name": "stdout"
        }
      ]
    },
    {
      "cell_type": "markdown",
      "metadata": {
        "id": "1Mp7_36PCN6m",
        "colab_type": "text"
      },
      "source": [
        "When possible, it is better to iterate over a list rather than use indexing, since there are data structures that support iterating but do not support indexing.\n",
        "\n",
        "If we have a list-of-lists,"
      ]
    },
    {
      "cell_type": "code",
      "metadata": {
        "id": "gi8UB-QDCN6m",
        "colab_type": "code",
        "colab": {}
      },
      "source": [
        "lab_group0 = [\"Sarah\", \"John\", \"Joe\", \"Emily\"]\n",
        "lab_group1 = [\"Roger\", \"Rachel\", \"Amer\", \"Caroline\", \"Colin\"]\n",
        "lab_groups = [lab_group0, lab_group1]"
      ],
      "execution_count": 0,
      "outputs": []
    },
    {
      "cell_type": "markdown",
      "metadata": {
        "id": "RDedGiFgCN6p",
        "colab_type": "text"
      },
      "source": [
        "we can use the first index to access a list, and a second index to access the entry in that list:"
      ]
    },
    {
      "cell_type": "code",
      "metadata": {
        "id": "DKXxUAQBCN6p",
        "colab_type": "code",
        "outputId": "94fceee0-7aa5-4a6a-ed2d-31622d28062f",
        "colab": {}
      },
      "source": [
        "group = lab_groups[0]\n",
        "print(group)\n",
        "\n",
        "name = lab_groups[1][2]\n",
        "print(name)"
      ],
      "execution_count": 0,
      "outputs": [
        {
          "output_type": "stream",
          "text": [
            "['Sarah', 'John', 'Joe', 'Emily']\n",
            "Amer\n"
          ],
          "name": "stdout"
        }
      ]
    },
    {
      "cell_type": "markdown",
      "metadata": {
        "id": "GZl7xs2_CN6s",
        "colab_type": "text"
      },
      "source": [
        "## Heterogeneity (lists with mixed types)\n",
        "\n",
        "Python lists are heterogeneous data structures - this means they can store mixed types, e.g."
      ]
    },
    {
      "cell_type": "code",
      "metadata": {
        "id": "syK_UsTiCN6s",
        "colab_type": "code",
        "outputId": "4bb01db7-7b56-4d5d-a08b-2ab13f27539e",
        "colab": {}
      },
      "source": [
        "mixed_list = [\"Adam\", 2 + 4j, 1.0, 4]\n",
        "for entry in mixed_list:\n",
        "    print(entry, type(entry))"
      ],
      "execution_count": 0,
      "outputs": [
        {
          "output_type": "stream",
          "text": [
            "Adam <class 'str'>\n",
            "(2+4j) <class 'complex'>\n",
            "1.0 <class 'float'>\n",
            "4 <class 'int'>\n"
          ],
          "name": "stdout"
        }
      ]
    },
    {
      "cell_type": "markdown",
      "metadata": {
        "id": "yxDJ64B8CN6u",
        "colab_type": "text"
      },
      "source": [
        "Arrays in most languages are homogeneous - all types in the array must be the same.\n",
        "\n",
        "There are *many* ways in which lists can be manipulated. The best way to learn how to perform a specific operation is to use a search engine."
      ]
    },
    {
      "cell_type": "markdown",
      "metadata": {
        "id": "onmBV6QtCN6v",
        "colab_type": "text"
      },
      "source": [
        "## List comprehension (advanced, optional)\n",
        "\n",
        "A powerful construct in modern languages, including Python, is *list comprehension*. It is a way to succinctly build lists from other lists. It can be very useful, but should be applied sensibly as it can sometimes be difficult to read. There is an optional extension exercise at the end of this notebook that uses list comprehension.\n",
        "\n",
        "Say we have a list of numbers, and we wish to create a new list that squares each number in the original list and adds 5. Using list comprehension:"
      ]
    },
    {
      "cell_type": "code",
      "metadata": {
        "id": "iXZd7GprCN6w",
        "colab_type": "code",
        "outputId": "d738a930-84dc-4c2d-d813-1149398d2cb2",
        "colab": {}
      },
      "source": [
        "x = [4, 6, 10, 11]\n",
        "y = [a*a + 5 for a in x]\n",
        "\n",
        "print(x)\n",
        "print(y)"
      ],
      "execution_count": 0,
      "outputs": [
        {
          "output_type": "stream",
          "text": [
            "[4, 6, 10, 11]\n",
            "[21, 41, 105, 126]\n"
          ],
          "name": "stdout"
        }
      ]
    },
    {
      "cell_type": "markdown",
      "metadata": {
        "id": "yZ8LoUsACN6y",
        "colab_type": "text"
      },
      "source": [
        "To understand the meaning, read the statement left-to-right.\n",
        "\n",
        "As another example, say we have a list of names and we want to \n",
        "\n",
        "- build a new list of names that contains only the names with more than 5 characters; and \n",
        "- for these names we want to add a full stop at the end.\n",
        "\n",
        "Using list comprehension:"
      ]
    },
    {
      "cell_type": "code",
      "metadata": {
        "id": "ynxpHWMECN6z",
        "colab_type": "code",
        "outputId": "30565f08-0774-4e11-bb58-568580320f2b",
        "colab": {}
      },
      "source": [
        "lab_group1 = [\"Roger\", \"Rachel\", \"Amer\", \"Caroline\", \"Colin\"]\n",
        "group = [name + \".\" for name in lab_group1 if len(name) > 5]\n",
        "\n",
        "print(lab_group1)\n",
        "print(group)"
      ],
      "execution_count": 0,
      "outputs": [
        {
          "output_type": "stream",
          "text": [
            "['Roger', 'Rachel', 'Amer', 'Caroline', 'Colin']\n",
            "['Rachel.', 'Caroline.']\n"
          ],
          "name": "stdout"
        }
      ]
    },
    {
      "cell_type": "markdown",
      "metadata": {
        "id": "ISG_vUaRCN61",
        "colab_type": "text"
      },
      "source": [
        "Mastering list comprehension is not simple, but it is very powerful."
      ]
    },
    {
      "cell_type": "markdown",
      "metadata": {
        "id": "AZDlKfUUCN62",
        "colab_type": "text"
      },
      "source": [
        "## Tuples\n",
        "\n",
        "Tuples are closely related to lists. The main difference is that a tuple cannot be changed after it has been created. \n",
        "In computing jargon, it is *immutable*.\n",
        "\n",
        "For something that should not change after it has been created, such as a vector of length three with fixed entries, a tuple is more appropriate than a list. It is 'safer' in this case since it cannot be modified accidentally in a program. Being immutable ('read-only') also permits implementations to be optimised for speed.\n",
        "\n",
        "To create a tuple, use round brackets. Say at a college each student is assigned a room, and the rooms are numbered. A student 'Laura' is given room 32:"
      ]
    },
    {
      "cell_type": "code",
      "metadata": {
        "id": "KmESqkskCN62",
        "colab_type": "code",
        "outputId": "02b3cb3a-013b-4a66-f02c-ca6035356507",
        "colab": {}
      },
      "source": [
        "room = (\"Laura\", 32)\n",
        "print(\"Room allocation: {}\".format(room))\n",
        "print(\"Length of entry: {}\".format(len(room)))\n",
        "print(type(room))"
      ],
      "execution_count": 0,
      "outputs": [
        {
          "output_type": "stream",
          "text": [
            "Room allocation: ('Laura', 32)\n",
            "Length of entry: 2\n",
            "<class 'tuple'>\n"
          ],
          "name": "stdout"
        }
      ]
    },
    {
      "cell_type": "markdown",
      "metadata": {
        "id": "oJRtVLF5CN67",
        "colab_type": "text"
      },
      "source": [
        "We can iterate over tuples in the same way as with lists,"
      ]
    },
    {
      "cell_type": "code",
      "metadata": {
        "id": "QyX01yy8CN67",
        "colab_type": "code",
        "outputId": "95ba6344-782d-4538-c340-7686c1fe1d1d",
        "colab": {}
      },
      "source": [
        "# Iterate over tuple values\n",
        "for d in room:\n",
        "    print(d)"
      ],
      "execution_count": 0,
      "outputs": [
        {
          "output_type": "stream",
          "text": [
            "Laura\n",
            "32\n"
          ],
          "name": "stdout"
        }
      ]
    },
    {
      "cell_type": "markdown",
      "metadata": {
        "id": "8p15zK-VCN6-",
        "colab_type": "text"
      },
      "source": [
        "and we can index into a tuple:"
      ]
    },
    {
      "cell_type": "code",
      "metadata": {
        "id": "Fe7kv2_eCN6-",
        "colab_type": "code",
        "outputId": "c8ed6094-ef6d-4bdb-bb6a-1dc2fc6af430",
        "colab": {}
      },
      "source": [
        "# Index into tuple values\n",
        "print(room[1])\n",
        "print(room[0])"
      ],
      "execution_count": 0,
      "outputs": [
        {
          "output_type": "stream",
          "text": [
            "32\n",
            "Laura\n"
          ],
          "name": "stdout"
        }
      ]
    },
    {
      "cell_type": "markdown",
      "metadata": {
        "id": "t-Z0VKR4CN7A",
        "colab_type": "text"
      },
      "source": [
        "We might have a student who is given permission to live outside of college. To keep track of them we still want an entry for the student, but there is no associated room number. We can create a tuple of length one using '`(\"a\",)`', e.g.:"
      ]
    },
    {
      "cell_type": "code",
      "metadata": {
        "id": "j0Gt0tUdCN7B",
        "colab_type": "code",
        "outputId": "e25e2599-577a-43f4-d48d-6396c1dc2027",
        "colab": {}
      },
      "source": [
        "room = (\"Adrian\",)\n",
        "print(\"Room allocation: {}\".format(room))\n",
        "print(\"Length of entry: {}\".format(len(room)))\n",
        "print(type(room))"
      ],
      "execution_count": 0,
      "outputs": [
        {
          "output_type": "stream",
          "text": [
            "Room allocation: ('Adrian',)\n",
            "Length of entry: 1\n",
            "<class 'tuple'>\n"
          ],
          "name": "stdout"
        }
      ]
    },
    {
      "cell_type": "markdown",
      "metadata": {
        "id": "rhSG5WIBCN7E",
        "colab_type": "text"
      },
      "source": [
        "As part of a rooms database, we can create a list of tuples:"
      ]
    },
    {
      "cell_type": "code",
      "metadata": {
        "id": "UaOFWoHXCN7E",
        "colab_type": "code",
        "outputId": "76dbccb9-1aa4-4bf1-cc1a-1c86065f15dc",
        "colab": {
          "base_uri": "https://localhost:8080/",
          "height": 52
        }
      },
      "source": [
        "room_allocation = [(\"Adrian\",), (\"Laura\", 32), (\"John\", 31), (\"Penelope\", 28), (\"Fraser\", 28), (\"Gaurav\", 19)]\n",
        "print(room_allocation)\n",
        "print(room_allocation[1][1])"
      ],
      "execution_count": 22,
      "outputs": [
        {
          "output_type": "stream",
          "text": [
            "[('Adrian',), ('Laura', 32), ('John', 31), ('Penelope', 28), ('Fraser', 28), ('Gaurav', 19)]\n",
            "32\n"
          ],
          "name": "stdout"
        }
      ]
    },
    {
      "cell_type": "code",
      "metadata": {
        "id": "FTaufRbsEv7W",
        "colab_type": "code",
        "colab": {}
      },
      "source": [
        ""
      ],
      "execution_count": 0,
      "outputs": []
    },
    {
      "cell_type": "markdown",
      "metadata": {
        "id": "2u7LKvh6CN7G",
        "colab_type": "text"
      },
      "source": [
        "To make it easier for students to find their rooms on a printed room list, we can sort the list:"
      ]
    },
    {
      "cell_type": "code",
      "metadata": {
        "id": "pqS22uvcCN7H",
        "colab_type": "code",
        "outputId": "c81e1164-5c09-4188-e34b-118f9dc6790c",
        "colab": {
          "base_uri": "https://localhost:8080/",
          "height": 34
        }
      },
      "source": [
        "room_allocation.sort()\n",
        "print(room_allocation)"
      ],
      "execution_count": 23,
      "outputs": [
        {
          "output_type": "stream",
          "text": [
            "[('Adrian',), ('Fraser', 28), ('Gaurav', 19), ('John', 31), ('Laura', 32), ('Penelope', 28)]\n"
          ],
          "name": "stdout"
        }
      ]
    },
    {
      "cell_type": "markdown",
      "metadata": {
        "id": "Io6dRRKGCN7L",
        "colab_type": "text"
      },
      "source": [
        "We could improve the printed list by not printing those living outside of the college:"
      ]
    },
    {
      "cell_type": "code",
      "metadata": {
        "id": "Bc4NW7gkCN7L",
        "colab_type": "code",
        "outputId": "b512d1ec-ffd0-4107-ada9-fa493a586950",
        "colab": {
          "base_uri": "https://localhost:8080/",
          "height": 193
        }
      },
      "source": [
        "for entry in room_allocation:\n",
        "    if len(entry) > 1:\n",
        "        print(\"Name: {} \\nRoom: {}\".format(entry[0], entry[1]))"
      ],
      "execution_count": 25,
      "outputs": [
        {
          "output_type": "stream",
          "text": [
            "Name: Fraser \n",
            "Room: 28\n",
            "Name: Gaurav \n",
            "Room: 19\n",
            "Name: John \n",
            "Room: 31\n",
            "Name: Laura \n",
            "Room: 32\n",
            "Name: Penelope \n",
            "Room: 28\n"
          ],
          "name": "stdout"
        }
      ]
    },
    {
      "cell_type": "markdown",
      "metadata": {
        "id": "1eqTEKfWCN7R",
        "colab_type": "text"
      },
      "source": [
        "In summary, prefer tuples over lists when the length will not change."
      ]
    },
    {
      "cell_type": "markdown",
      "metadata": {
        "id": "tPYOxSCYCN7S",
        "colab_type": "text"
      },
      "source": [
        "# Dictionaries (maps)\n",
        "\n",
        "We used a list of tuples in the previous section to store room allocations. If we wanted to find which room a particular student has been allocated we would need to iterate through the list and check each name. For a very large list, this might not be very efficient.\n",
        "\n",
        "There is a better way to do this, using a 'dictionary' (or sometimes called a 'map'). We have used indexing (with integers) into lists and tuples for direct access to a specific entry. This works if we know the index to the entry of interest. But, for a room list we identify individuals by name rather than a contiguous set of integers. Using a dictionary, we can build a 'map' from names (the *keys*) to room numbers (the *values*). \n",
        "\n",
        "A Python dictionary (`dict`) is declared using curly braces:"
      ]
    },
    {
      "cell_type": "code",
      "metadata": {
        "id": "JFeBXsuYCN7T",
        "colab_type": "code",
        "outputId": "17f927c2-59ae-4ac6-c3e5-6a7752a7396e",
        "colab": {
          "base_uri": "https://localhost:8080/",
          "height": 52
        }
      },
      "source": [
        "room_allocation = {\"Adrian\": None, \"Laura\": 32, \"John\": 31, \"Penelope\": 28, \"Fraser\": 28, \"Gaurav\": 19}\n",
        "print(room_allocation)\n",
        "print(type(room_allocation))"
      ],
      "execution_count": 28,
      "outputs": [
        {
          "output_type": "stream",
          "text": [
            "{'Adrian': None, 'Laura': 32, 'John': 31, 'Penelope': 28, 'Fraser': 28, 'Gaurav': 19}\n",
            "<class 'dict'>\n"
          ],
          "name": "stdout"
        }
      ]
    },
    {
      "cell_type": "markdown",
      "metadata": {
        "id": "DkDVpKXXCN7X",
        "colab_type": "text"
      },
      "source": [
        "Each entry is separated by a comma. For each entry we have a 'key', which is followed by a colon, and then the 'value'. Note that for Adrian we have used '`None`' for the value, which is a Python keyword for 'nothing' or 'empty'.\n",
        "\n",
        "Now if we want to know which room Fraser has been allocated, we can query the dictionary by key:"
      ]
    },
    {
      "cell_type": "code",
      "metadata": {
        "id": "81w9bW3-CN7X",
        "colab_type": "code",
        "outputId": "fa727274-1d01-44a9-9a75-f5e213e70657",
        "colab": {
          "base_uri": "https://localhost:8080/",
          "height": 34
        }
      },
      "source": [
        "frasers_room = room_allocation[\"Fraser\"]\n",
        "print(frasers_room)"
      ],
      "execution_count": 29,
      "outputs": [
        {
          "output_type": "stream",
          "text": [
            "28\n"
          ],
          "name": "stdout"
        }
      ]
    },
    {
      "cell_type": "markdown",
      "metadata": {
        "id": "8lOtw-mBCN7a",
        "colab_type": "text"
      },
      "source": [
        "If we try to use a key that does not exist in the dictionary, e.g.\n",
        "\n",
        "    frasers_room = room_allocation[\"Frasers\"]\n",
        "\n",
        "Python will give an error (raise an exception). If we're not sure that a key is present, we can check:"
      ]
    },
    {
      "cell_type": "code",
      "metadata": {
        "id": "3NZnZExDCN7c",
        "colab_type": "code",
        "outputId": "71673e5d-f866-4117-f0c5-8ed42ae1620e",
        "colab": {}
      },
      "source": [
        "print(\"Fraser\" in room_allocation)\n",
        "print(\"Frasers\" in room_allocation)"
      ],
      "execution_count": 0,
      "outputs": [
        {
          "output_type": "stream",
          "text": [
            "True\n",
            "False\n"
          ],
          "name": "stdout"
        }
      ]
    },
    {
      "cell_type": "markdown",
      "metadata": {
        "id": "4N5DHC5jCN7g",
        "colab_type": "text"
      },
      "source": [
        "(We can also use '`in`' to check if an entry exists in a list or tuple).\n",
        "We can iterate over the keys in a dictionary:"
      ]
    },
    {
      "cell_type": "code",
      "metadata": {
        "id": "GatkwQCeCN7g",
        "colab_type": "code",
        "outputId": "e38d9cad-2b01-4126-f6b2-401572d3902f",
        "colab": {
          "base_uri": "https://localhost:8080/",
          "height": 343
        }
      },
      "source": [
        "for d in room_allocation:\n",
        "    print(d)\n"
      ],
      "execution_count": 33,
      "outputs": [
        {
          "output_type": "stream",
          "text": [
            "Adrian\n",
            "Laura\n",
            "John\n",
            "Penelope\n",
            "Fraser\n",
            "Gaurav\n"
          ],
          "name": "stdout"
        },
        {
          "output_type": "error",
          "ename": "ValueError",
          "evalue": "ignored",
          "traceback": [
            "\u001b[0;31m---------------------------------------------------------------------------\u001b[0m",
            "\u001b[0;31mValueError\u001b[0m                                Traceback (most recent call last)",
            "\u001b[0;32m<ipython-input-33-c6b799958c48>\u001b[0m in \u001b[0;36m<module>\u001b[0;34m()\u001b[0m\n\u001b[1;32m      2\u001b[0m     \u001b[0mprint\u001b[0m\u001b[0;34m(\u001b[0m\u001b[0md\u001b[0m\u001b[0;34m)\u001b[0m\u001b[0;34m\u001b[0m\u001b[0;34m\u001b[0m\u001b[0m\n\u001b[1;32m      3\u001b[0m \u001b[0;34m\u001b[0m\u001b[0m\n\u001b[0;32m----> 4\u001b[0;31m \u001b[0;32mfor\u001b[0m \u001b[0md\u001b[0m\u001b[0;34m,\u001b[0m\u001b[0me\u001b[0m \u001b[0;32min\u001b[0m \u001b[0mroom_allocation\u001b[0m\u001b[0;34m:\u001b[0m\u001b[0;34m\u001b[0m\u001b[0;34m\u001b[0m\u001b[0m\n\u001b[0m\u001b[1;32m      5\u001b[0m     \u001b[0mprint\u001b[0m\u001b[0;34m(\u001b[0m\u001b[0md\u001b[0m\u001b[0;34m,\u001b[0m\u001b[0me\u001b[0m\u001b[0;34m)\u001b[0m\u001b[0;34m\u001b[0m\u001b[0;34m\u001b[0m\u001b[0m\n\u001b[1;32m      6\u001b[0m \u001b[0;34m\u001b[0m\u001b[0m\n",
            "\u001b[0;31mValueError\u001b[0m: too many values to unpack (expected 2)"
          ]
        }
      ]
    },
    {
      "cell_type": "markdown",
      "metadata": {
        "id": "DKRcCy66CN7j",
        "colab_type": "text"
      },
      "source": [
        "or iterate over both the keys and the values:"
      ]
    },
    {
      "cell_type": "code",
      "metadata": {
        "id": "xM_AorgICN7k",
        "colab_type": "code",
        "outputId": "f53458a7-a154-41d0-ea0e-e8c4d3460a10",
        "colab": {
          "base_uri": "https://localhost:8080/",
          "height": 122
        }
      },
      "source": [
        "for name, room_number in room_allocation.items():\n",
        "    print(name, room_number)"
      ],
      "execution_count": 34,
      "outputs": [
        {
          "output_type": "stream",
          "text": [
            "Adrian None\n",
            "Laura 32\n",
            "John 31\n",
            "Penelope 28\n",
            "Fraser 28\n",
            "Gaurav 19\n"
          ],
          "name": "stdout"
        }
      ]
    },
    {
      "cell_type": "markdown",
      "metadata": {
        "id": "NVkLY2sWCN7m",
        "colab_type": "text"
      },
      "source": [
        "Note that the order of the printed entries in the dictionary is different from the input order. This is because a dictionary stores data differently from a list or tuple. Lists and tuples store entries 'linearly' in memory\n",
        "(contiguous pieces of memory), which is why we can access entries by index. Dictionaries use a different type of storage which allows us to perform look-ups using a 'key'.\n",
        "\n",
        "We have used a string as the key so far, which is common. However, we can use almost any type as a key, and we can mix types. For example, we might want to 'invert' the room allocation dictionary to create a room-to-name map: "
      ]
    },
    {
      "cell_type": "code",
      "metadata": {
        "id": "5IP4PZxgCN7n",
        "colab_type": "code",
        "outputId": "fb421b46-b3b6-4929-c9b2-3a32a2c75d94",
        "colab": {
          "base_uri": "https://localhost:8080/",
          "height": 34
        }
      },
      "source": [
        "# Create empty dictionary\n",
        "room_allocation_inverse = {}\n",
        "\n",
        "# Build inverse dictionary to map 'room number' -> name \n",
        "for name, room_number in room_allocation.items():\n",
        "    # Insert entry into dictionary\n",
        "    room_allocation_inverse[room_number] = name\n",
        "\n",
        "print(room_allocation_inverse)"
      ],
      "execution_count": 36,
      "outputs": [
        {
          "output_type": "stream",
          "text": [
            "{None: 'Adrian', 32: 'Laura', 31: 'John', 28: 'Fraser', 19: 'Gaurav'}\n"
          ],
          "name": "stdout"
        }
      ]
    },
    {
      "cell_type": "markdown",
      "metadata": {
        "id": "EhGfP1RECN7q",
        "colab_type": "text"
      },
      "source": [
        "We can now ask who is in room 28 and who is in room 29. Not all rooms are occupied, so we should include a check that the room number is a key in our dictionary:"
      ]
    },
    {
      "cell_type": "code",
      "metadata": {
        "id": "ypopo5p5CN7r",
        "colab_type": "code",
        "outputId": "11ca0ead-ba8e-445f-ff62-b96e84661ecb",
        "colab": {
          "base_uri": "https://localhost:8080/",
          "height": 52
        }
      },
      "source": [
        "rooms_to_check = [28, 29]\n",
        "\n",
        "for room in rooms_to_check:\n",
        "    if room in room_allocation_inverse:\n",
        "        print(\"Room {} is occupied by {}.\".format(room, room_allocation_inverse[room]))\n",
        "    else:\n",
        "        print(\"Room {} is unoccupied.\".format(room))"
      ],
      "execution_count": 37,
      "outputs": [
        {
          "output_type": "stream",
          "text": [
            "Room 28 is occupied by Fraser.\n",
            "Room 29 is unoccupied.\n"
          ],
          "name": "stdout"
        }
      ]
    },
    {
      "cell_type": "markdown",
      "metadata": {
        "collapsed": true,
        "id": "5ICiJHUVCN7u",
        "colab_type": "text"
      },
      "source": [
        "# Choosing a data structure\n",
        "\n",
        "An important task when developing a computer program is selecting the *appropriate* data structure for a task.\n",
        "The more flexible the data structure, generally the less efficient it will be and it will use more memory compared to simpler data structures.\n",
        "\n",
        "- If efficiency is not critical, pick a data structure that provides the functionality you need, and offers \n",
        "  flexibility and ease of use. Safety should also be considered (this can be a good reason for choosing a \n",
        "  tuple over a list).\n",
        "- Use iterators rather than indexing when possible. This will allow switching from data structures that support \n",
        "  indexing to data structures that do not support indexing (such as a '`set`' data structure).\n",
        "\n",
        "For many numerical computations, efficiency is essential and picking the right data structure is critical\n",
        "for this. We will look at data structures that are specialied for numerical computations in the next notebook, and we'll see the huge difference in speed there can be between different data structures."
      ]
    },
    {
      "cell_type": "markdown",
      "metadata": {
        "id": "ys0qGNTkCN7v",
        "colab_type": "text"
      },
      "source": [
        "# Exercises\n",
        "\n",
        "Complete now the [06 Exercises](Exercises/06%20Exercises.ipynb) notebook."
      ]
    }
  ]
}