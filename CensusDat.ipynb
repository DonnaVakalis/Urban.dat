{
  "nbformat": 4,
  "nbformat_minor": 0,
  "metadata": {
    "kernelspec": {
      "display_name": "Python 3",
      "language": "python",
      "name": "python3"
    },
    "language_info": {
      "codemirror_mode": {
        "name": "ipython",
        "version": 3
      },
      "file_extension": ".py",
      "mimetype": "text/x-python",
      "name": "python",
      "nbconvert_exporter": "python",
      "pygments_lexer": "ipython3",
      "version": "3.6.3"
    },
    "colab": {
      "name": "CensusDat.ipynb",
      "provenance": [],
      "collapsed_sections": [
        "mKD2Hy5f8BWX"
      ],
      "include_colab_link": true
    }
  },
  "cells": [
    {
      "cell_type": "markdown",
      "metadata": {
        "id": "view-in-github",
        "colab_type": "text"
      },
      "source": [
        "<a href=\"https://colab.research.google.com/github/DonnaVakalis/Urban.dat/blob/master/CensusDat.ipynb\" target=\"_parent\"><img src=\"https://colab.research.google.com/assets/colab-badge.svg\" alt=\"Open In Colab\"/></a>"
      ]
    },
    {
      "cell_type": "markdown",
      "metadata": {
        "id": "aIq2MoYCwKQZ"
      },
      "source": [
        "## Analyze Toronto's Rooftop Solar Capacity\n",
        "\n",
        " \n",
        "\n",
        "## Table of Contents\n",
        "- [Introduction](#intro)\n",
        "- [Part I - Setup ](#partone)\n",
        "- [Part II - Calculations from scratch ](#parttwo)\n",
        "- [Part III - Graphs](#partthree)\n",
        "\n",
        "\n",
        "<a id='intro'></a>\n",
        "### Introduction\n",
        " \n"
      ]
    },
    {
      "cell_type": "markdown",
      "metadata": {
        "id": "mKD2Hy5f8BWX"
      },
      "source": [
        "<a id='partone'></a>\n",
        "### Part I - Setup"
      ]
    },
    {
      "cell_type": "code",
      "metadata": {
        "id": "8ejm2eFHwKQc"
      },
      "source": [
        "# import libraries\n",
        "\n",
        "!pip install statsmodels\n",
        "\n",
        "import pandas as pd\n",
        "import numpy as np\n",
        "import requests\n",
        "import os\n",
        "from google.colab import drive\n",
        "import matplotlib.pyplot as plt\n",
        "import statsmodels as sm\n",
        "\n",
        "%matplotlib inline"
      ],
      "execution_count": null,
      "outputs": []
    },
    {
      "cell_type": "code",
      "metadata": {
        "id": "tYQOSXi-xft2",
        "outputId": "68a68888-9d06-4da6-e913-7517a94d8d9d",
        "colab": {
          "base_uri": "https://localhost:8080/"
        }
      },
      "source": [
        "# Mount Google Drive\n",
        "drive.mount('/content/gdrive')\n",
        "os.chdir(\"/content/gdrive/My Drive/\")"
      ],
      "execution_count": 3,
      "outputs": [
        {
          "output_type": "stream",
          "text": [
            "Mounted at /content/gdrive\n"
          ],
          "name": "stdout"
        }
      ]
    },
    {
      "cell_type": "code",
      "metadata": {
        "id": "Ap_OWAsQvrun"
      },
      "source": [
        "# Download 2016 Census data from StatsCan\n",
        "\n",
        "# Download 2016 place of work and place of residence sample set\n",
        "# Manually downloaded and unzipped from here: \"https://www12.statcan.gc.ca/census-recensement/2016/dp-pd/dt-td/CompDataDownload.cfm?LANG=E&PID=111332&OFT=CSV\"\n",
        "# file name is  \n",
        "\n",
        "# Download 2016 population and population density full set\n",
        "csv_url = \"https://www12.statcan.gc.ca/census-recensement/2016/dp-pd/hlt-fst/pd-pl/Tables/CompFile.cfm?Lang=Eng&T=301&OFT=FULLCSV\"\n",
        "req = requests.get(csv_url)\n",
        "url_content = req.content\n",
        "csv_file = open('statcan_2016_census_subdivisions.csv', 'wb')\n",
        "csv_file.write(url_content)\n",
        "csv_file.close() \n",
        "\n",
        "# For now, manually put both files in same folder as this main script \n",
        " "
      ],
      "execution_count": 11,
      "outputs": []
    },
    {
      "cell_type": "code",
      "metadata": {
        "id": "Vzgd2STYwKQi"
      },
      "source": [
        "# Load csv files\n",
        "base_dir =  \"/content/gdrive/My Drive/Colab Notebooks/SSG/Census/\"\n",
        "\n",
        "# 2016 25% sample file with place of work and place of residence \n",
        "file = base_dir + \"98-400-X2016325_English_CSV_data.csv\"\n",
        "df1 = pd.read_csv(file)"
      ],
      "execution_count": 26,
      "outputs": []
    },
    {
      "cell_type": "code",
      "metadata": {
        "id": "t0IOxpJZ0EOB"
      },
      "source": [
        "# 2016 full set of population and density for census subdivisions\n",
        "file = base_dir + \"rename1.csv\"\n",
        "df2= pd.read_csv(file, sep=\",\", encoding='Latin-1')  #note have issues if using uft-8 (default) encoding\n",
        "df2.info()"
      ],
      "execution_count": null,
      "outputs": []
    },
    {
      "cell_type": "markdown",
      "metadata": {
        "id": "JgsDLKpNez8u"
      },
      "source": [
        "Cleaning notes:\n",
        "- df1: \n",
        "check rows with non-zero DATA_QUALITY_FLAG.1 see StatCan description:[https://www12.statcan.gc.ca/wds-sdw/cr2016geo-eng.cfm] and \n",
        "rename columns 10, 14 and 17\n",
        "\n",
        "- df2: there are 5178 rows of census subdivisions but 5148 rows with population. Look at set of empty population and determine if we can throw out those rows.Check for completeness i.e., sensical entries even within remaining complete entries\n",
        " \n",
        "\n",
        "Tidying Notes:\n",
        "- Organize into three base dataframes: 1) Census ID dat 2) Place of Work tallies and 3) FUTURE df\n",
        " \n",
        "- 1) One POW frame: name of census subdivisions, count of people for whom it is a place of work (will need to groub_by and generate new standalone frame)\n",
        "\n",
        "- 2) One ID frame containing all subdivisions, with subdivisions and ID variables (like geocode, CSV types, ENglish and French names...)\n",
        "\n",
        "- 3)NON-CENSUS sample of some census sub-divisions: One commercial and residential floor area (need more data): with commercial floor area of census subdivisions \n",
        "\n",
        "From these three, can create a merged frame with, for each Census Subdivision, ID, English Name, Population, Area, POW totals, Densities of Pop per area, and POW per area...and start to explore relationships from known \n"
      ]
    },
    {
      "cell_type": "code",
      "metadata": {
        "id": "EMUq4AwsNBJj",
        "outputId": "67b2b1c5-d399-4f82-ebf5-a797919faf5e",
        "colab": {
          "base_uri": "https://localhost:8080/"
        }
      },
      "source": [
        "# df1 Rename columns 8,10,12,14,17\n",
        "old = df1.columns[[8,10,12,14,17]]\n",
        "new = ['geo_code','geo_name','flag','alt_geo_code','num_workers']\n",
        "df1.rename(columns = dict(zip(old,new)),inplace=True)\n",
        "\n",
        "# examine subset where data quality has been flagged\n",
        "flagged = df1[df1['flag'] != 0][['geo_name','flag','num_workers']]\n",
        "flagged.head(50) # numbers 1-5 indicate response rates below 90%; leave in; \n",
        "\n",
        "# Create place of work 'pow' dataframe\n",
        "pow = df1.groupby(['geo_code','alt_geo_code','geo_name'])['num_workers'].sum().reset_index()\n",
        "print('Number of census subdivisions in Place-Of-Work data is:',len(pow))\n",
        "\n",
        "# Are there any columns where geo_code is different than alt_geo_code?\n",
        "len(pow[pow['alt_geo_code']!=pow['geo_code']]) # None, so drop one of them\n",
        "pow.drop('alt_geo_code', axis=1, inplace=True)\n",
        "\n",
        "# How many census subdivisions with 0 num_workers? (Leave them in anyway)\n",
        "len(pow[pow['num_workers']==0]) #52"
      ],
      "execution_count": 60,
      "outputs": [
        {
          "output_type": "stream",
          "text": [
            "Number of census subdivisions in Place-Of-Work data is: 3331\n"
          ],
          "name": "stdout"
        },
        {
          "output_type": "execute_result",
          "data": {
            "text/plain": [
              "52"
            ]
          },
          "metadata": {
            "tags": []
          },
          "execution_count": 60
        }
      ]
    },
    {
      "cell_type": "code",
      "metadata": {
        "id": "rV-F1D7FAhnQ",
        "outputId": "dd971c4a-bfb1-48f4-b74f-37e80abf0c39",
        "colab": {
          "base_uri": "https://localhost:8080/"
        }
      },
      "source": [
        "df2.info()"
      ],
      "execution_count": 65,
      "outputs": [
        {
          "output_type": "stream",
          "text": [
            "<class 'pandas.core.frame.DataFrame'>\n",
            "RangeIndex: 5178 entries, 0 to 5177\n",
            "Data columns (total 29 columns):\n",
            " #   Column                                                                Non-Null Count  Dtype  \n",
            "---  ------                                                                --------------  -----  \n",
            " 0   Geographic code                                                       5178 non-null   object \n",
            " 1   Geographic name, english                                              5167 non-null   object \n",
            " 2   Geographic name, french                                               5162 non-null   object \n",
            " 3   CSD type, english                                                     5162 non-null   object \n",
            " 4   CSD type, french                                                      5162 non-null   object \n",
            " 5   Province / territory, english                                         5162 non-null   object \n",
            " 6   Province / territory, french                                          5162 non-null   object \n",
            " 7   Geographic code, Province / territory                                 5162 non-null   float64\n",
            " 8   Geographic code, Census division                                      5162 non-null   float64\n",
            " 9   Geographic code, Census metropolitan area / census agglomeration      966 non-null    float64\n",
            " 10  Population, 2016                                                      5148 non-null   float64\n",
            " 11  Incompletely enumerated Indian reserves and Indian settlements, 2016  5162 non-null   object \n",
            " 12  Population, 2011                                                      5131 non-null   float64\n",
            " 13  2011 adjusted population flag                                         5162 non-null   object \n",
            " 14  Incompletely enumerated Indian reserves and Indian settlements, 2011  5162 non-null   object \n",
            " 15  2011 population review or received update flag                        366 non-null    object \n",
            " 16  Population, % change                                                  4855 non-null   float64\n",
            " 17  Total private dwellings, 2016                                         5148 non-null   float64\n",
            " 18  Total private dwellings, 2011                                         5131 non-null   float64\n",
            " 19  2011 adjusted total private dwellings flag                            5162 non-null   object \n",
            " 20  Total private dwellings, % change                                     4928 non-null   float64\n",
            " 21  Private dwellings occupied by usual residents, 2016                   5148 non-null   float64\n",
            " 22  Private dwellings occupied by usual residents, 2011                   5131 non-null   float64\n",
            " 23  2011 adjusted private dwellings occupied by usual residents flag      5162 non-null   object \n",
            " 24  Private dwellings occupied by usual residents, % change               4897 non-null   float64\n",
            " 25  Land area in square kilometres, 2016                                  5162 non-null   float64\n",
            " 26  Population density per square kilometre, 2016                         5148 non-null   float64\n",
            " 27  National population rank, 2016                                        5148 non-null   float64\n",
            " 28  Provincial/territorial population rank, 2016                          5148 non-null   float64\n",
            "dtypes: float64(16), object(13)\n",
            "memory usage: 1.1+ MB\n"
          ],
          "name": "stdout"
        }
      ]
    },
    {
      "cell_type": "code",
      "metadata": {
        "id": "D0semRysNSVQ",
        "outputId": "328f0206-f10a-4131-e3a9-4943b3f317e7",
        "colab": {
          "base_uri": "https://localhost:8080/"
        }
      },
      "source": [
        "# df2 drop rows with Population NAN or 0 people\n",
        "len(df2) #originally 5178 rows\n",
        "df2.drop(df2[(df2['Population, 2016']< 1) | (df2['Population, 2016'].isna())].index, inplace=True)\n",
        "len(df2) # remaining 4869\n",
        "\n",
        "# Clean up the column names\n",
        "#new = [['Geographic code','Geographic name, english', 'CSD type, english', 'Population, 2016', 'Total private dwellings, 2016', 'Land area in square kilometres, 2016','Population density per square ']]\n",
        "\n",
        "# Create main 'dat' dataframe \n",
        "#dat = df2.iloc[:, [0,1,2,3,10,11,17,25]]\n"
      ],
      "execution_count": 81,
      "outputs": [
        {
          "output_type": "execute_result",
          "data": {
            "text/plain": [
              "4869"
            ]
          },
          "metadata": {
            "tags": []
          },
          "execution_count": 81
        }
      ]
    },
    {
      "cell_type": "code",
      "metadata": {
        "id": "H2mFdyRvTCSa",
        "outputId": "0d8f81af-3b1c-4990-d257-ff9e508d795a",
        "colab": {
          "base_uri": "https://localhost:8080/",
          "height": 350
        }
      },
      "source": [
        "df2.tail(5)"
      ],
      "execution_count": 79,
      "outputs": [
        {
          "output_type": "execute_result",
          "data": {
            "text/html": [
              "<div>\n",
              "<style scoped>\n",
              "    .dataframe tbody tr th:only-of-type {\n",
              "        vertical-align: middle;\n",
              "    }\n",
              "\n",
              "    .dataframe tbody tr th {\n",
              "        vertical-align: top;\n",
              "    }\n",
              "\n",
              "    .dataframe thead th {\n",
              "        text-align: right;\n",
              "    }\n",
              "</style>\n",
              "<table border=\"1\" class=\"dataframe\">\n",
              "  <thead>\n",
              "    <tr style=\"text-align: right;\">\n",
              "      <th></th>\n",
              "      <th>Geographic code</th>\n",
              "      <th>Geographic name, english</th>\n",
              "      <th>Geographic name, french</th>\n",
              "      <th>CSD type, english</th>\n",
              "      <th>CSD type, french</th>\n",
              "      <th>Province / territory, english</th>\n",
              "      <th>Province / territory, french</th>\n",
              "      <th>Geographic code, Province / territory</th>\n",
              "      <th>Geographic code, Census division</th>\n",
              "      <th>Geographic code, Census metropolitan area / census agglomeration</th>\n",
              "      <th>Population, 2016</th>\n",
              "      <th>Incompletely enumerated Indian reserves and Indian settlements, 2016</th>\n",
              "      <th>Population, 2011</th>\n",
              "      <th>2011 adjusted population flag</th>\n",
              "      <th>Incompletely enumerated Indian reserves and Indian settlements, 2011</th>\n",
              "      <th>2011 population review or received update flag</th>\n",
              "      <th>Population, % change</th>\n",
              "      <th>Total private dwellings, 2016</th>\n",
              "      <th>Total private dwellings, 2011</th>\n",
              "      <th>2011 adjusted total private dwellings flag</th>\n",
              "      <th>Total private dwellings, % change</th>\n",
              "      <th>Private dwellings occupied by usual residents, 2016</th>\n",
              "      <th>Private dwellings occupied by usual residents, 2011</th>\n",
              "      <th>2011 adjusted private dwellings occupied by usual residents flag</th>\n",
              "      <th>Private dwellings occupied by usual residents, % change</th>\n",
              "      <th>Land area in square kilometres, 2016</th>\n",
              "      <th>Population density per square kilometre, 2016</th>\n",
              "      <th>National population rank, 2016</th>\n",
              "      <th>Provincial/territorial population rank, 2016</th>\n",
              "    </tr>\n",
              "  </thead>\n",
              "  <tbody>\n",
              "    <tr>\n",
              "      <th>5154</th>\n",
              "      <td>6208047</td>\n",
              "      <td>Kugaaruk</td>\n",
              "      <td>Kugaaruk</td>\n",
              "      <td>Hamlet</td>\n",
              "      <td>Hamlet</td>\n",
              "      <td>Nunavut</td>\n",
              "      <td>Nunavut</td>\n",
              "      <td>62.0</td>\n",
              "      <td>6208.0</td>\n",
              "      <td>NaN</td>\n",
              "      <td>933.0</td>\n",
              "      <td>F</td>\n",
              "      <td>771.0</td>\n",
              "      <td>F</td>\n",
              "      <td>F</td>\n",
              "      <td>NaN</td>\n",
              "      <td>21.0</td>\n",
              "      <td>180.0</td>\n",
              "      <td>173.0</td>\n",
              "      <td>F</td>\n",
              "      <td>4.0</td>\n",
              "      <td>176.0</td>\n",
              "      <td>155.0</td>\n",
              "      <td>F</td>\n",
              "      <td>13.5</td>\n",
              "      <td>4.97</td>\n",
              "      <td>187.6</td>\n",
              "      <td>2186.0</td>\n",
              "      <td>15.0</td>\n",
              "    </tr>\n",
              "    <tr>\n",
              "      <th>5155</th>\n",
              "      <td>6208059</td>\n",
              "      <td>Kugluktuk</td>\n",
              "      <td>Kugluktuk</td>\n",
              "      <td>Hamlet</td>\n",
              "      <td>Hamlet</td>\n",
              "      <td>Nunavut</td>\n",
              "      <td>Nunavut</td>\n",
              "      <td>62.0</td>\n",
              "      <td>6208.0</td>\n",
              "      <td>NaN</td>\n",
              "      <td>1491.0</td>\n",
              "      <td>F</td>\n",
              "      <td>1450.0</td>\n",
              "      <td>F</td>\n",
              "      <td>F</td>\n",
              "      <td>NaN</td>\n",
              "      <td>2.8</td>\n",
              "      <td>469.0</td>\n",
              "      <td>448.0</td>\n",
              "      <td>F</td>\n",
              "      <td>4.7</td>\n",
              "      <td>430.0</td>\n",
              "      <td>401.0</td>\n",
              "      <td>F</td>\n",
              "      <td>7.2</td>\n",
              "      <td>549.65</td>\n",
              "      <td>2.7</td>\n",
              "      <td>1644.0</td>\n",
              "      <td>8.0</td>\n",
              "    </tr>\n",
              "    <tr>\n",
              "      <th>5158</th>\n",
              "      <td>6208073</td>\n",
              "      <td>Cambridge Bay</td>\n",
              "      <td>Cambridge Bay</td>\n",
              "      <td>Hamlet</td>\n",
              "      <td>Hamlet</td>\n",
              "      <td>Nunavut</td>\n",
              "      <td>Nunavut</td>\n",
              "      <td>62.0</td>\n",
              "      <td>6208.0</td>\n",
              "      <td>NaN</td>\n",
              "      <td>1766.0</td>\n",
              "      <td>F</td>\n",
              "      <td>1608.0</td>\n",
              "      <td>F</td>\n",
              "      <td>F</td>\n",
              "      <td>NaN</td>\n",
              "      <td>9.8</td>\n",
              "      <td>646.0</td>\n",
              "      <td>573.0</td>\n",
              "      <td>F</td>\n",
              "      <td>12.7</td>\n",
              "      <td>542.0</td>\n",
              "      <td>501.0</td>\n",
              "      <td>F</td>\n",
              "      <td>8.2</td>\n",
              "      <td>202.35</td>\n",
              "      <td>8.7</td>\n",
              "      <td>1472.0</td>\n",
              "      <td>5.0</td>\n",
              "    </tr>\n",
              "    <tr>\n",
              "      <th>5159</th>\n",
              "      <td>6208081</td>\n",
              "      <td>Gjoa Haven</td>\n",
              "      <td>Gjoa Haven</td>\n",
              "      <td>Hamlet</td>\n",
              "      <td>Hamlet</td>\n",
              "      <td>Nunavut</td>\n",
              "      <td>Nunavut</td>\n",
              "      <td>62.0</td>\n",
              "      <td>6208.0</td>\n",
              "      <td>NaN</td>\n",
              "      <td>1324.0</td>\n",
              "      <td>F</td>\n",
              "      <td>1279.0</td>\n",
              "      <td>F</td>\n",
              "      <td>F</td>\n",
              "      <td>NaN</td>\n",
              "      <td>3.5</td>\n",
              "      <td>311.0</td>\n",
              "      <td>286.0</td>\n",
              "      <td>F</td>\n",
              "      <td>8.7</td>\n",
              "      <td>284.0</td>\n",
              "      <td>276.0</td>\n",
              "      <td>F</td>\n",
              "      <td>2.9</td>\n",
              "      <td>28.47</td>\n",
              "      <td>46.5</td>\n",
              "      <td>1773.0</td>\n",
              "      <td>11.0</td>\n",
              "    </tr>\n",
              "    <tr>\n",
              "      <th>5160</th>\n",
              "      <td>6208087</td>\n",
              "      <td>Taloyoak</td>\n",
              "      <td>Taloyoak</td>\n",
              "      <td>Hamlet</td>\n",
              "      <td>Hamlet</td>\n",
              "      <td>Nunavut</td>\n",
              "      <td>Nunavut</td>\n",
              "      <td>62.0</td>\n",
              "      <td>6208.0</td>\n",
              "      <td>NaN</td>\n",
              "      <td>1029.0</td>\n",
              "      <td>F</td>\n",
              "      <td>899.0</td>\n",
              "      <td>F</td>\n",
              "      <td>F</td>\n",
              "      <td>NaN</td>\n",
              "      <td>14.5</td>\n",
              "      <td>261.0</td>\n",
              "      <td>228.0</td>\n",
              "      <td>F</td>\n",
              "      <td>14.5</td>\n",
              "      <td>231.0</td>\n",
              "      <td>206.0</td>\n",
              "      <td>F</td>\n",
              "      <td>12.1</td>\n",
              "      <td>37.65</td>\n",
              "      <td>27.3</td>\n",
              "      <td>2055.0</td>\n",
              "      <td>14.0</td>\n",
              "    </tr>\n",
              "  </tbody>\n",
              "</table>\n",
              "</div>"
            ],
            "text/plain": [
              "     Geographic code  ... Provincial/territorial population rank, 2016\n",
              "5154         6208047  ...                                         15.0\n",
              "5155         6208059  ...                                          8.0\n",
              "5158         6208073  ...                                          5.0\n",
              "5159         6208081  ...                                         11.0\n",
              "5160         6208087  ...                                         14.0\n",
              "\n",
              "[5 rows x 29 columns]"
            ]
          },
          "metadata": {
            "tags": []
          },
          "execution_count": 79
        }
      ]
    },
    {
      "cell_type": "markdown",
      "metadata": {
        "id": "Be83QEaByEna"
      },
      "source": [
        "<a id='parttwo></a>\n",
        "### Part II -  \n",
        "\n",
        "Assumptions:\n",
        "-  \n",
        "Other:\n",
        "- Use an efficiency performance factor of 75% to account for losses (e.g., climatic factors, inverter, conversion losses...)\n"
      ]
    },
    {
      "cell_type": "code",
      "metadata": {
        "id": "VV4ypMOT0--Z"
      },
      "source": [
        "# Set Assumptions as named variables"
      ],
      "execution_count": null,
      "outputs": []
    },
    {
      "cell_type": "markdown",
      "metadata": {
        "id": "J_C1RddcuQhi"
      },
      "source": [
        "PART IIA - SSG RESIDENTIAL"
      ]
    },
    {
      "cell_type": "markdown",
      "metadata": {
        "id": "gBgcoPFuyO7y"
      },
      "source": [
        "<a id='partthree'></a>\n",
        "### Part III -  \n",
        " "
      ]
    },
    {
      "cell_type": "markdown",
      "metadata": {
        "id": "9h_f6R77eWDF"
      },
      "source": [
        " Assumptions:\n",
        " "
      ]
    },
    {
      "cell_type": "markdown",
      "metadata": {
        "id": "zQqYmdSn8q6l"
      },
      "source": [
        "Part III A:  "
      ]
    },
    {
      "cell_type": "markdown",
      "metadata": {
        "id": "favG12f_89VI"
      },
      "source": [
        "Part III B:  \n"
      ]
    },
    {
      "cell_type": "code",
      "metadata": {
        "id": "F86J4nLKkdG9"
      },
      "source": [
        "# Download 2016 Census data from StatsCan\n",
        "\n",
        "# Download 2016 place of work and place of residence sample set\n",
        "csv_url = \"https://www12.statcan.gc.ca/census-recensement/2016/dp-pd/dt-td/CompDataDownload.cfm?LANG=E&PID=111332&OFT=CSV\"\n",
        "req = requests.get(csv_url)\n",
        "url_content = req.content\n",
        "csv_file = open('statcan_2016_POW_sample.csv', 'wb')\n",
        "csv_file.write(url_content)\n",
        "csv_file.close()\n",
        "\n",
        "from zipfile import ZipFile\n",
        "from StringIO import StringIO\n",
        "import urllib2\n",
        "\n",
        "url = \"https://www12.statcan.gc.ca/census-recensement/2016/dp-pd/dt-td/CompDataDownload.cfm?LANG=E&PID=111332&OFT=CSV\"\n",
        "r = urllib2.urlopen(url).read()\n",
        "file = ZipFile(StringIO(r))\n",
        "POW_csv = file.open(\"statcan_2016_POW_sample.csv\")\n",
        "salaries = pd.read_csv(salaries_csv)\n",
        "\n",
        "zf = zipfile.ZipFile('C:/Users/Analytics Vidhya/Desktop/test.zip') # having First.csv zipped file.\n",
        "df = pd.read_csv(zf.open('First.csv'))\n",
        "\n",
        "\n",
        "# Download 2016 population and population density full set\n",
        "csv_url = \"https://www12.statcan.gc.ca/census-recensement/2016/dp-pd/hlt-fst/pd-pl/Tables/CompFile.cfm?Lang=Eng&T=301&OFT=FULLCSV\"\n",
        "req = requests.get(csv_url)\n",
        "url_content = req.content\n",
        "csv_file = open('statcan_2016_census_subdivisions.csv', 'wb')\n",
        "csv_file.write(url_content)\n",
        "csv_file.close()\n",
        " "
      ],
      "execution_count": 5,
      "outputs": []
    }
  ]
}