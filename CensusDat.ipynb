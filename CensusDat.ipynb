{
  "nbformat": 4,
  "nbformat_minor": 0,
  "metadata": {
    "kernelspec": {
      "display_name": "Python 3",
      "language": "python",
      "name": "python3"
    },
    "language_info": {
      "codemirror_mode": {
        "name": "ipython",
        "version": 3
      },
      "file_extension": ".py",
      "mimetype": "text/x-python",
      "name": "python",
      "nbconvert_exporter": "python",
      "pygments_lexer": "ipython3",
      "version": "3.6.3"
    },
    "colab": {
      "name": "CensusDat.ipynb",
      "provenance": [],
      "collapsed_sections": [
        "mKD2Hy5f8BWX"
      ],
      "include_colab_link": true
    }
  },
  "cells": [
    {
      "cell_type": "markdown",
      "metadata": {
        "id": "view-in-github",
        "colab_type": "text"
      },
      "source": [
        "<a href=\"https://colab.research.google.com/github/DonnaVakalis/Urban.dat/blob/master/CensusDat.ipynb\" target=\"_parent\"><img src=\"https://colab.research.google.com/assets/colab-badge.svg\" alt=\"Open In Colab\"/></a>"
      ]
    },
    {
      "cell_type": "markdown",
      "metadata": {
        "id": "aIq2MoYCwKQZ"
      },
      "source": [
        "## Analyze Toronto's Rooftop Solar Capacity\n",
        "\n",
        " \n",
        "\n",
        "## Table of Contents\n",
        "- [Introduction](#intro)\n",
        "- [Part I - Setup ](#partone)\n",
        "- [Part II - Calculations from scratch ](#parttwo)\n",
        "- [Part III - Graphs](#partthree)\n",
        "\n",
        "\n",
        "<a id='intro'></a>\n",
        "### Introduction\n",
        " \n"
      ]
    },
    {
      "cell_type": "markdown",
      "metadata": {
        "id": "mKD2Hy5f8BWX"
      },
      "source": [
        "<a id='partone'></a>\n",
        "### Part I - Setup"
      ]
    },
    {
      "cell_type": "code",
      "metadata": {
        "id": "8ejm2eFHwKQc",
        "outputId": "35d659e7-b47c-407b-e6f4-1a7b9b0e68e8",
        "colab": {
          "base_uri": "https://localhost:8080/"
        }
      },
      "source": [
        "# import libraries\n",
        "\n",
        "!pip install statsmodels\n",
        "\n",
        "import pandas as pd\n",
        "import numpy as np\n",
        "import random\n",
        "import matplotlib.pyplot as plt\n",
        "import os\n",
        "from google.colab import drive\n",
        "import statsmodels as sm\n",
        "\n",
        "%matplotlib inline\n",
        " "
      ],
      "execution_count": 1,
      "outputs": [
        {
          "output_type": "stream",
          "text": [
            "Requirement already satisfied: statsmodels in /usr/local/lib/python3.6/dist-packages (0.10.2)\n",
            "Requirement already satisfied: patsy>=0.4.0 in /usr/local/lib/python3.6/dist-packages (from statsmodels) (0.5.1)\n",
            "Requirement already satisfied: pandas>=0.19 in /usr/local/lib/python3.6/dist-packages (from statsmodels) (1.1.4)\n",
            "Requirement already satisfied: numpy>=1.11 in /usr/local/lib/python3.6/dist-packages (from statsmodels) (1.18.5)\n",
            "Requirement already satisfied: scipy>=0.18 in /usr/local/lib/python3.6/dist-packages (from statsmodels) (1.4.1)\n",
            "Requirement already satisfied: six in /usr/local/lib/python3.6/dist-packages (from patsy>=0.4.0->statsmodels) (1.15.0)\n",
            "Requirement already satisfied: python-dateutil>=2.7.3 in /usr/local/lib/python3.6/dist-packages (from pandas>=0.19->statsmodels) (2.8.1)\n",
            "Requirement already satisfied: pytz>=2017.2 in /usr/local/lib/python3.6/dist-packages (from pandas>=0.19->statsmodels) (2018.9)\n"
          ],
          "name": "stdout"
        }
      ]
    },
    {
      "cell_type": "code",
      "metadata": {
        "id": "F86J4nLKkdG9"
      },
      "source": [
        "# Download 2016 Census data from StatsCan\n",
        "\n",
        "req = requests.get(csv_url)\n",
        "url_content = req.content\n",
        "csv_file = open('downloaded.csv', 'wb')\n",
        "\n",
        " https://www12.statcan.gc.ca/census-recensement/2016/dp-pd/dt-td/CompDataDownload.cfm?LANG=E&PID=111332&OFT=CSV"
      ],
      "execution_count": null,
      "outputs": []
    },
    {
      "cell_type": "code",
      "metadata": {
        "id": "vb6vvGaCCxFc",
        "outputId": "1b73b0b0-6e0a-44d3-d12f-9e4a8fda3177",
        "colab": {
          "base_uri": "https://localhost:8080/"
        }
      },
      "source": [
        "# Mount Google Drive\n",
        "drive.mount('/content/gdrive')\n",
        "os.chdir(\"/content/gdrive/My Drive/\")"
      ],
      "execution_count": null,
      "outputs": [
        {
          "output_type": "stream",
          "text": [
            "Drive already mounted at /content/gdrive; to attempt to forcibly remount, call drive.mount(\"/content/gdrive\", force_remount=True).\n"
          ],
          "name": "stdout"
        }
      ]
    },
    {
      "cell_type": "code",
      "metadata": {
        "id": "Vzgd2STYwKQi"
      },
      "source": [
        "# Load csv files\n",
        "base_dir =  \"/content/gdrive/My Drive/Colab Notebooks/SSG/Census/\"\n",
        "\n",
        "# all residential buildings\n",
        "file = base_dir + \"xyz.csv\"\n",
        "df1 = pd.read_csv(file)\n",
        "\n",
        "# load all commercial buildings\n",
        "file = base_dir + \"wer.csv\"\n",
        "df2= pd.read_csv(file) "
      ],
      "execution_count": null,
      "outputs": []
    },
    {
      "cell_type": "markdown",
      "metadata": {
        "id": "JgsDLKpNez8u"
      },
      "source": [
        "Cleaning Notes:\n",
        "- Pretty clean (not surprising given it was output from model)\n",
        "- Based on the magnitude of the floor areas 'bsmtArea_sf' column , these are not individual buildings and for now don't know the underlying count of buildings that have been aggregated into the number in ... e.g., so can't subtract the perimeter or check for minimum indivisual size as per EIE method\n"
      ]
    },
    {
      "cell_type": "markdown",
      "metadata": {
        "id": "Be83QEaByEna"
      },
      "source": [
        "<a id='parttwo></a>\n",
        "### Part II -  \n",
        "\n",
        "Assumptions:\n",
        "-  \n",
        "Other:\n",
        "- Use an efficiency performance factor of 75% to account for losses (e.g., climatic factors, inverter, conversion losses...)\n"
      ]
    },
    {
      "cell_type": "code",
      "metadata": {
        "id": "VV4ypMOT0--Z"
      },
      "source": [
        "# Set Assumptions as named variables"
      ],
      "execution_count": null,
      "outputs": []
    },
    {
      "cell_type": "markdown",
      "metadata": {
        "id": "J_C1RddcuQhi"
      },
      "source": [
        "PART IIA - SSG RESIDENTIAL"
      ]
    },
    {
      "cell_type": "markdown",
      "metadata": {
        "id": "gBgcoPFuyO7y"
      },
      "source": [
        "<a id='partthree'></a>\n",
        "### Part III -  \n",
        " "
      ]
    },
    {
      "cell_type": "markdown",
      "metadata": {
        "id": "9h_f6R77eWDF"
      },
      "source": [
        " Assumptions:\n",
        " "
      ]
    },
    {
      "cell_type": "markdown",
      "metadata": {
        "id": "zQqYmdSn8q6l"
      },
      "source": [
        "Part III A:  "
      ]
    },
    {
      "cell_type": "markdown",
      "metadata": {
        "id": "favG12f_89VI"
      },
      "source": [
        "Part III B:  \n"
      ]
    }
  ]
}