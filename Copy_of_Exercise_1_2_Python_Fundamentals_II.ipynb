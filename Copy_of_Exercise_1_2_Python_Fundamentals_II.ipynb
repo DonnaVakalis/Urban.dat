{
  "nbformat": 4,
  "nbformat_minor": 0,
  "metadata": {
    "colab": {
      "name": "Copy of Exercise 1.2 - Python Fundamentals II",
      "provenance": [],
      "collapsed_sections": [],
      "include_colab_link": true
    },
    "kernelspec": {
      "name": "python3",
      "display_name": "Python 3"
    }
  },
  "cells": [
    {
      "cell_type": "markdown",
      "metadata": {
        "id": "view-in-github",
        "colab_type": "text"
      },
      "source": [
        "<a href=\"https://colab.research.google.com/github/DonnaVakalis/Urban.dat/blob/master/Copy_of_Exercise_1_2_Python_Fundamentals_II.ipynb\" target=\"_parent\"><img src=\"https://colab.research.google.com/assets/colab-badge.svg\" alt=\"Open In Colab\"/></a>"
      ]
    },
    {
      "cell_type": "markdown",
      "metadata": {
        "id": "6ja6S3Po4C9I",
        "colab_type": "text"
      },
      "source": [
        "# Data Science for Construction, Architecture and Engineering\n",
        "\n",
        "### Week 1 -  Introduction and Python Fundamentals\n",
        "\n",
        "### Exercise Set 1.2 - Python Fundamentals - Control Statements, Functions, and Libraries\n",
        "\n",
        "This pair of exercises is the second of two sets for Week 1. These exercises are designed to give you some hands on experience in trying out the concepts from the second set of videos for this week.\n",
        "\n",
        "There is an introduction video available to explain the process of using this exercise video.\n",
        "\n",
        "These exercises were adapted from the Introduction to Python resources from [Garth Wells](https://notebooks.azure.com/garth-wells/projects/CUED-IA-Computing-Michaelmas)."
      ]
    },
    {
      "cell_type": "markdown",
      "metadata": {
        "id": "4rVMs5nJMWRF",
        "colab_type": "text"
      },
      "source": [
        "# Exercise Set 01.2\n",
        "\n",
        "There are three exercises in this set, each one focused on a generic exercise in the use of Python control statements and functions.\n",
        "\n",
        "### Please note that you will need to use the resultant output from Exercise 01.2.2 for the Quiz 1.2."
      ]
    },
    {
      "cell_type": "markdown",
      "metadata": {
        "id": "MeE39azs4oct",
        "colab_type": "text"
      },
      "source": [
        "## Exercise 01.2.1 - Creating a short program using `if` statements\n",
        "\n",
        "Consider the following assessment criteria which map a score out of 100 to an \n",
        "assessment grade:\n",
        "\n",
        "| Grade            | Raw score  (/100)      |\n",
        "| ---------------- | ---------------------- |\n",
        "| Excellent        | $\\ge 82$               |\n",
        "| Very good        | $\\ge 76.5$ and $< 82$  |\n",
        "| Good             | $\\ge 66$ and $< 76.5$  |\n",
        "| Need improvement | $\\ge 45$ and $< 66$    |\n",
        "| Did you try?     | $< 45$                 |\n",
        "\n",
        "Write a program that using `if`, `elif`, and `else` that given an a score, prints the appropriate grade. Print an error message if the input score is greater than 100 or less than zero.\n"
      ]
    },
    {
      "cell_type": "code",
      "metadata": {
        "id": "C6bGD7LT43dc",
        "colab_type": "code",
        "colab": {
          "base_uri": "https://localhost:8080/",
          "height": 34
        },
        "outputId": "fbb57ca7-3dbd-4fc0-d47b-766fdf26482d"
      },
      "source": [
        "# Score from user\n",
        "score = 45\n",
        "\n",
        "# YOUR CODE HERE\n",
        "score = float(score)\n",
        "if score <= 0: \n",
        "  print(\"Error, must be greater than zero.\")\n",
        "elif score < 45:\n",
        "  print('Did you try?')\n",
        "elif score < 66:\n",
        "  print('Need improvement.Your score is {}.'.format(score))"
      ],
      "execution_count": 2,
      "outputs": [
        {
          "output_type": "stream",
          "text": [
            "Need improvement.Your score is 45.0.\n"
          ],
          "name": "stdout"
        }
      ]
    },
    {
      "cell_type": "markdown",
      "metadata": {
        "id": "8Q-zAbOIUE-1",
        "colab_type": "text"
      },
      "source": [
        "## Exercise 01.2.2 - Complex Order of Operations\n",
        "\n",
        "For the polynomial \n",
        "\\begin{align}\n",
        "f(x, y) &= (x + y)^{6} \n",
        "\\\\\n",
        "&=  x^6 + 6x^{5}y + 15x^{4}y^{2} + 20x^{3}y^{3} + 15x^{2}y^{4} + 6xy^{5} + y^{6}\n",
        "\\end{align}\n",
        "compute $f$ using: (i) the compact form $(x + y)^{6}$; and (ii) the expanded form for:\n",
        "\n",
        "$x = 10$ and $y = 10.1$\n",
        "\n",
        "and compare the number of significant digits for which the answers are the same.\n",
        "\n",
        "Store the answer for the compact version using the variable `f0`, and using the variable `f1` for the expanded version.\n",
        "\n",
        "For case (b), compare the computed and analytical solutions and consider the relative error.\n",
        "Which approach would you recommend for computing this expression?"
      ]
    },
    {
      "cell_type": "code",
      "metadata": {
        "id": "8bvyaaXxXeCi",
        "colab_type": "code",
        "colab": {
          "base_uri": "https://localhost:8080/",
          "height": 34
        },
        "outputId": "1277c532-48e6-4204-afd5-3c2fb407a944"
      },
      "source": [
        "5**2"
      ],
      "execution_count": 3,
      "outputs": [
        {
          "output_type": "execute_result",
          "data": {
            "text/plain": [
              "25"
            ]
          },
          "metadata": {
            "tags": []
          },
          "execution_count": 3
        }
      ]
    },
    {
      "cell_type": "code",
      "metadata": {
        "id": "i3D1ElSYXKMf",
        "colab_type": "code",
        "colab": {
          "base_uri": "https://localhost:8080/",
          "height": 70
        },
        "outputId": "2ebcb9c7-5a77-455d-c00d-ebe8c21356a7"
      },
      "source": [
        "x = 10.0\n",
        "y = 10.1\n",
        "\n",
        "# YOUR CODE HERE\n",
        "f0 = (x+y)**6\n",
        "f1 = x**6 + 6*x**5*y + 15*x**4*y**2 + 20*x**3*y**3 + 15*x**2*y**4 + 6*x*y**5 + y**6\n",
        "\n",
        "print(\"compact version: {:0.18}.\".format(f0))\n",
        "print(\"expanded form: {:0.18}.\".format(f1))\n",
        "print(\"difference : {}\".format(f0-f1))"
      ],
      "execution_count": 11,
      "outputs": [
        {
          "output_type": "stream",
          "text": [
            "compact version: 65944160.6012010276.\n",
            "expanded form: 65944160.6012009978.\n",
            "difference : 2.9802322387695312e-08\n"
          ],
          "name": "stdout"
        }
      ]
    },
    {
      "cell_type": "markdown",
      "metadata": {
        "id": "dM8DLp5J6GuM",
        "colab_type": "text"
      },
      "source": [
        "### Please write down the number that you calculated for the variables `f0` and f1` and input in Quiz 1.2"
      ]
    },
    {
      "cell_type": "markdown",
      "metadata": {
        "nbgrader": {
          "grade": false,
          "grade_id": "cell-668d765c259431ca",
          "locked": true,
          "schema_version": 3,
          "solution": false
        },
        "id": "aDvQQuqJLNe4",
        "colab_type": "text"
      },
      "source": [
        "## Exercise 01.2.3 - Writing a Simple Function\n",
        "\n",
        "Given the coordinates of the vertices of a triangle, $(x_0, y_0)$, $(x_1, y_1)$ and $(x_2, y_2)$, the area $A$ of the triangle is given by:\n",
        "$$\n",
        "A = \\left| \\frac{x_0(y_1  - y_2) + x_1(y_2 - y_0) + x_2(y_0 - y_1)}{2} \\right|\n",
        "$$\n",
        "Write a function named `area` that computes the area of a triangle given the coordinates of the vertices.\n",
        "The order of the function arguments must be (`x0, y0, x1, y1, x2, y2)`.\n",
        "\n",
        "Hint: `abs()` calculates the absolute value\n",
        "\n",
        "Test the output of your function against with the following function inputs:\n",
        "\n",
        "```\n",
        "x0, y0 = 0.0, 0.0\n",
        "x1, y1 = 0.0, 2.0\n",
        "x2, y2 = 3.0, 0.0\n",
        "```"
      ]
    },
    {
      "cell_type": "code",
      "metadata": {
        "id": "Z6iycVlF6RmN",
        "colab_type": "code",
        "colab": {}
      },
      "source": [
        "### WRITE FUNCTION HERE\n",
        "def area_triangle(x0,y0,x1,y1,x2,y2):\n",
        "    \"\"\" takes point coordinates of vertices and returns area \"\"\"\n",
        "    Area = abs(x0*(y1-y2)+x1*(y2-y0)+x2*(y0-y1))/2\n",
        "    return Area"
      ],
      "execution_count": 0,
      "outputs": []
    },
    {
      "cell_type": "code",
      "metadata": {
        "id": "ZG3GGMYDNFUV",
        "colab_type": "code",
        "colab": {
          "base_uri": "https://localhost:8080/",
          "height": 34
        },
        "outputId": "ee58076c-a9ad-4bb0-ae4f-c663116a4302"
      },
      "source": [
        "x0, y0 = 0.0, 0.0\n",
        "x1, y1 = 0.0, 2.0\n",
        "x2, y2 = 3.0, 0.0\n",
        "\n",
        "### CALL FUNCTION HERE\n",
        "area_triangle(x0,y0,x1,y1,x2,y2)"
      ],
      "execution_count": 13,
      "outputs": [
        {
          "output_type": "execute_result",
          "data": {
            "text/plain": [
              "3.0"
            ]
          },
          "metadata": {
            "tags": []
          },
          "execution_count": 13
        }
      ]
    },
    {
      "cell_type": "code",
      "metadata": {
        "id": "QbQpUDs4NIpw",
        "colab_type": "code",
        "colab": {}
      },
      "source": [
        ""
      ],
      "execution_count": 0,
      "outputs": []
    }
  ]
}