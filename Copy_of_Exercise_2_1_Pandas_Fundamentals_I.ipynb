{
  "nbformat": 4,
  "nbformat_minor": 0,
  "metadata": {
    "colab": {
      "name": "Copy of Exercise 2.1 - Pandas Fundamentals I",
      "provenance": [],
      "collapsed_sections": [],
      "include_colab_link": true
    },
    "kernelspec": {
      "name": "python3",
      "display_name": "Python 3"
    }
  },
  "cells": [
    {
      "cell_type": "markdown",
      "metadata": {
        "id": "view-in-github",
        "colab_type": "text"
      },
      "source": [
        "<a href=\"https://colab.research.google.com/github/DonnaVakalis/Urban.dat/blob/master/Copy_of_Exercise_2_1_Pandas_Fundamentals_I.ipynb\" target=\"_parent\"><img src=\"https://colab.research.google.com/assets/colab-badge.svg\" alt=\"Open In Colab\"/></a>"
      ]
    },
    {
      "cell_type": "markdown",
      "metadata": {
        "id": "mQlkWmvx7J9r",
        "colab_type": "text"
      },
      "source": [
        "# Data Science for Construction, Architecture and Engineering\n",
        "\n",
        "### Week 2 - Building Design Phase - Intro to Pandas\n",
        "\n",
        "### Exercise Set 2.1 - Pandas Fundamentals I\n",
        "\n",
        "This set of exercises is the first of two sets for Week 2. These exercises are designed to give you some hands on experience in trying out the concepts from the first set of videos for this week.\n",
        "\n",
        "There is an introduction video available to explain the process of using this exercise video.\n",
        "\n",
        "The lead developer of this exercise is Matias Quintana, a Ph.D. student at NUS and a teaching assistant of this course. "
      ]
    },
    {
      "cell_type": "markdown",
      "metadata": {
        "id": "4rVMs5nJMWRF",
        "colab_type": "text"
      },
      "source": [
        "# Exercise 02.1\n",
        "\n",
        "There are three exercises in this set, each one focused simple uses of the [Pandas library](https://pandas.pydata.org/).\n",
        "\n",
        "### Please note that you will need to use the resultant output from Exercise 02.1.3 for the Quiz 2.1."
      ]
    },
    {
      "cell_type": "markdown",
      "metadata": {
        "id": "MeE39azs4oct",
        "colab_type": "text"
      },
      "source": [
        "## Exercise 02.1.1\n",
        "\n",
        "Electrical powermeter datasets usually contain only one column with the electrical consmption in `KWh`. The [Building Data Genome](https://github.com/buds-lab/the-building-data-genome-project) is an example of such template. However, as you just saw in the lectures, you can also generate these datasets yourself after running simulations. \n",
        "\n",
        "In this exercise, write some lines of code to load the `Baseline` file  **without** using the `Month` information as index.\n",
        "\n",
        "The needed functions are already imported below:\n"
      ]
    },
    {
      "cell_type": "code",
      "metadata": {
        "id": "Z81IM6-FAJIa",
        "colab_type": "code",
        "colab": {}
      },
      "source": [
        "import pandas as pd\n",
        "import os\n",
        "from google.colab import drive"
      ],
      "execution_count": 0,
      "outputs": []
    },
    {
      "cell_type": "markdown",
      "metadata": {
        "id": "vs3IjepjATsn",
        "colab_type": "text"
      },
      "source": [
        "**Hint**: Remember whenever you want to load files from your Google Drive, you need to `mount` the drive first. The documentation for the Pandas library can be found [here](https://pandas.pydata.org/pandas-docs/stable/reference/api/pandas.read_csv.html)"
      ]
    },
    {
      "cell_type": "code",
      "metadata": {
        "id": "C6bGD7LT43dc",
        "colab_type": "code",
        "colab": {
          "base_uri": "https://localhost:8080/",
          "height": 125
        },
        "outputId": "cc7e875f-9498-4816-ef0f-07fa843fc168"
      },
      "source": [
        "# YOUR CODE HERE\n",
        "# mount drive\n",
        "drive.mount('/content/gdrive')"
      ],
      "execution_count": 5,
      "outputs": [
        {
          "output_type": "stream",
          "text": [
            "Go to this URL in a browser: https://accounts.google.com/o/oauth2/auth?client_id=947318989803-6bn6qk8qdgf4n4g3pfee6491hc0brc4i.apps.googleusercontent.com&redirect_uri=urn%3aietf%3awg%3aoauth%3a2.0%3aoob&response_type=code&scope=email%20https%3a%2f%2fwww.googleapis.com%2fauth%2fdocs.test%20https%3a%2f%2fwww.googleapis.com%2fauth%2fdrive%20https%3a%2f%2fwww.googleapis.com%2fauth%2fdrive.photos.readonly%20https%3a%2f%2fwww.googleapis.com%2fauth%2fpeopleapi.readonly\n",
            "\n",
            "Enter your authorization code:\n",
            "··········\n",
            "Mounted at /content/gdrive\n"
          ],
          "name": "stdout"
        }
      ]
    },
    {
      "cell_type": "code",
      "metadata": {
        "id": "ftONdsLcEyyo",
        "colab_type": "code",
        "colab": {
          "base_uri": "https://localhost:8080/",
          "height": 210
        },
        "outputId": "161988fa-fcf1-4047-e552-ecfd7ca83383"
      },
      "source": [
        "# choose the directory with the files needed for processing\n",
        "os.chdir(\"/content/gdrive/My Drive/EDX Data Science for Construction, Architecture and Engineering/Week 2 - Building Design - Intro to Pandas/simulation_data\")\n",
        "%ls \n",
        "\n",
        "os.listdir()"
      ],
      "execution_count": 8,
      "outputs": [
        {
          "output_type": "stream",
          "text": [
            " Baseline.csv                      'Scenario - Increase Setpoint.csv'\n",
            " Baseline.xlsx                     'Scenario - Low-E Glass.csv'\n",
            "'Scenario - Aircon Schedules.csv'  'Scenario - Rooftop Gardens.csv'\n",
            "'Scenario - Cool roof.csv'\n"
          ],
          "name": "stdout"
        },
        {
          "output_type": "execute_result",
          "data": {
            "text/plain": [
              "['Scenario - Low-E Glass.csv',\n",
              " 'Scenario - Cool roof.csv',\n",
              " 'Baseline.csv',\n",
              " 'Baseline.xlsx',\n",
              " 'Scenario - Increase Setpoint.csv',\n",
              " 'Scenario - Rooftop Gardens.csv',\n",
              " 'Scenario - Aircon Schedules.csv']"
            ]
          },
          "metadata": {
            "tags": []
          },
          "execution_count": 8
        }
      ]
    },
    {
      "cell_type": "code",
      "metadata": {
        "id": "9kVYRJ44mtMM",
        "colab_type": "code",
        "colab": {
          "base_uri": "https://localhost:8080/",
          "height": 1000
        },
        "outputId": "56019f42-c778-4f25-e6ac-9b70065c03fe"
      },
      "source": [
        "\n",
        "# transcribe files of interest into a python list for processing\n",
        "list_of_files = ['Scenario - Low-E Glass.csv',\n",
        " 'Scenario - Cool roof.csv',\n",
        " 'Baseline.csv', \n",
        " 'Scenario - Increase Setpoint.csv',\n",
        " 'Scenario - Rooftop Gardens.csv',\n",
        " 'Scenario - Aircon Schedules.csv']\n",
        "\n",
        "for filename in list_of_files:\n",
        "  print(filename)\n",
        "\n",
        "# read all files in list into dataframes\n",
        "data_container = []\n",
        "for filename in list_of_files:\n",
        "  df = pd.read_csv(filename, index_col='Month')\n",
        "  data_container.append(df)\n",
        "\n",
        "#all_data = pd.concat(data_container, axis=1)\n",
        "# concatenate all dataframes into one dataframe, \n",
        "data_container"
      ],
      "execution_count": 17,
      "outputs": [
        {
          "output_type": "stream",
          "text": [
            "Scenario - Low-E Glass.csv\n",
            "Scenario - Cool roof.csv\n",
            "Baseline.csv\n",
            "Scenario - Increase Setpoint.csv\n",
            "Scenario - Rooftop Gardens.csv\n",
            "Scenario - Aircon Schedules.csv\n"
          ],
          "name": "stdout"
        },
        {
          "output_type": "execute_result",
          "data": {
            "text/plain": [
              "[           Scenario - Low-E Glass\n",
              " Month                            \n",
              " January                      5.41\n",
              " February                     6.48\n",
              " March                       10.37\n",
              " April                       13.36\n",
              " May                         19.14\n",
              " June                        22.47\n",
              " July                        26.84\n",
              " August                      26.91\n",
              " September                   24.77\n",
              " October                     18.16\n",
              " November                    12.69\n",
              " December                     7.24,            Scenario - Cool roof\n",
              " Month                          \n",
              " January                    4.46\n",
              " February                   5.39\n",
              " March                      8.96\n",
              " April                     11.73\n",
              " May                       17.28\n",
              " June                      20.54\n",
              " July                      24.76\n",
              " August                    24.97\n",
              " September                 22.98\n",
              " October                   16.57\n",
              " November                  11.41\n",
              " December                   6.36,            Baseline\n",
              " Month              \n",
              " January        5.69\n",
              " February       6.75\n",
              " March         10.64\n",
              " April         13.60\n",
              " May           19.34\n",
              " June          22.64\n",
              " July          27.02\n",
              " August        27.13\n",
              " September     25.04\n",
              " October       18.47\n",
              " November      13.02\n",
              " December       7.53,            Scenario - Increase Setpoint\n",
              " Month                                  \n",
              " January                            2.73\n",
              " February                           3.88\n",
              " March                              6.60\n",
              " April                              9.37\n",
              " May                               14.82\n",
              " June                              18.01\n",
              " July                              21.98\n",
              " August                            22.15\n",
              " September                         19.92\n",
              " October                           13.65\n",
              " November                           8.49\n",
              " December                           4.15,            Scenario - Rooftop Gardens\n",
              " Month                                \n",
              " January                          6.30\n",
              " February                         7.15\n",
              " March                           10.90\n",
              " April                           13.59\n",
              " May                             18.94\n",
              " June                            22.12\n",
              " July                            26.29\n",
              " August                          26.47\n",
              " September                       24.63\n",
              " October                         18.51\n",
              " November                        13.55\n",
              " December                         8.19,            Scenario - Aircon Schedules\n",
              " Month                                 \n",
              " January                           5.61\n",
              " February                          6.50\n",
              " March                             9.70\n",
              " April                            11.95\n",
              " May                              16.52\n",
              " June                             18.89\n",
              " July                             22.13\n",
              " August                           22.14\n",
              " September                        20.38\n",
              " October                          15.87\n",
              " November                         11.71\n",
              " December                          7.16]"
            ]
          },
          "metadata": {
            "tags": []
          },
          "execution_count": 17
        }
      ]
    },
    {
      "cell_type": "code",
      "metadata": {
        "id": "A0Tx-CzfmtCC",
        "colab_type": "code",
        "colab": {}
      },
      "source": [
        ""
      ],
      "execution_count": 0,
      "outputs": []
    },
    {
      "cell_type": "markdown",
      "metadata": {
        "id": "8Q-zAbOIUE-1",
        "colab_type": "text"
      },
      "source": [
        "## Exercise 02.1.2"
      ]
    },
    {
      "cell_type": "markdown",
      "metadata": {
        "id": "6LiLCmpwUgLC",
        "colab_type": "text"
      },
      "source": [
        "The building facilities manager is concerned about the high consumption during certain months of the year and wants you to see which months the consumption is higher than a certain `consumption_threshold`. \n",
        "\n",
        "Write some lines of code that allows you to filter out the rows where the consumption exceed the given `consumption_threshold`. Set `consumption_threshold` equal to 20 initially"
      ]
    },
    {
      "cell_type": "code",
      "metadata": {
        "id": "lDL73czAUFbF",
        "colab_type": "code",
        "colab": {}
      },
      "source": [
        "# YOUR CODE HERE\n",
        "\n"
      ],
      "execution_count": 0,
      "outputs": []
    },
    {
      "cell_type": "markdown",
      "metadata": {
        "id": "HSotamy_4wid",
        "colab_type": "text"
      },
      "source": [
        "## Exercise 02.1.3\n",
        "One energy analysis application is the analysis of *peak consumption ratios*. Suppose we want to know the ratio between the peak consumption of the month of April versus the Peak consumption across the whole year.\n",
        "\n",
        "In this exercise, let's do this by to finding the *percentage* of the April's peak consumption as compared to the peak consumption value across all months. \n",
        "\n",
        "Calculate your answer as a percentage (0-100) as the variable `percentage`\n",
        "\n",
        "Hint: One way to find the maximum value of a column in a dataframe is to use the function `.max()`, more information about the function can be found [here](https://pandas.pydata.org/pandas-docs/stable/reference/api/pandas.DataFrame.max.html). "
      ]
    },
    {
      "cell_type": "code",
      "metadata": {
        "id": "ZiafyX5ufOwR",
        "colab_type": "code",
        "colab": {}
      },
      "source": [
        "# YOUR CODE HERE\n",
        "\n"
      ],
      "execution_count": 0,
      "outputs": []
    },
    {
      "cell_type": "markdown",
      "metadata": {
        "id": "cqlRmBKq_bm1",
        "colab_type": "text"
      },
      "source": [
        "### Please write down the number that you calculated for the variable `percentage` rounded up to 2 decimal places and input in Quiz 2.1"
      ]
    },
    {
      "cell_type": "code",
      "metadata": {
        "id": "fFd8w1gD_hKw",
        "colab_type": "code",
        "colab": {}
      },
      "source": [
        ""
      ],
      "execution_count": 0,
      "outputs": []
    }
  ]
}