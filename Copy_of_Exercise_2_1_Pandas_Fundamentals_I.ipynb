{
  "nbformat": 4,
  "nbformat_minor": 0,
  "metadata": {
    "colab": {
      "name": "Copy of Exercise 2.1 - Pandas Fundamentals I",
      "provenance": [],
      "collapsed_sections": [],
      "include_colab_link": true
    },
    "kernelspec": {
      "name": "python3",
      "display_name": "Python 3"
    }
  },
  "cells": [
    {
      "cell_type": "markdown",
      "metadata": {
        "id": "view-in-github",
        "colab_type": "text"
      },
      "source": [
        "<a href=\"https://colab.research.google.com/github/DonnaVakalis/Urban.dat/blob/master/Copy_of_Exercise_2_1_Pandas_Fundamentals_I.ipynb\" target=\"_parent\"><img src=\"https://colab.research.google.com/assets/colab-badge.svg\" alt=\"Open In Colab\"/></a>"
      ]
    },
    {
      "cell_type": "markdown",
      "metadata": {
        "id": "mQlkWmvx7J9r",
        "colab_type": "text"
      },
      "source": [
        "# Data Science for Construction, Architecture and Engineering\n",
        "\n",
        "### Week 2 - Building Design Phase - Intro to Pandas\n",
        "\n",
        "### Exercise Set 2.1 - Pandas Fundamentals I\n",
        "\n",
        "This set of exercises is the first of two sets for Week 2. These exercises are designed to give you some hands on experience in trying out the concepts from the first set of videos for this week.\n",
        "\n",
        "There is an introduction video available to explain the process of using this exercise video.\n",
        "\n",
        "The lead developer of this exercise is Matias Quintana, a Ph.D. student at NUS and a teaching assistant of this course. "
      ]
    },
    {
      "cell_type": "markdown",
      "metadata": {
        "id": "4rVMs5nJMWRF",
        "colab_type": "text"
      },
      "source": [
        "# Exercise 02.1\n",
        "\n",
        "There are three exercises in this set, each one focused simple uses of the [Pandas library](https://pandas.pydata.org/).\n",
        "\n",
        "### Please note that you will need to use the resultant output from Exercise 02.1.3 for the Quiz 2.1."
      ]
    },
    {
      "cell_type": "markdown",
      "metadata": {
        "id": "MeE39azs4oct",
        "colab_type": "text"
      },
      "source": [
        "## Exercise 02.1.1\n",
        "\n",
        "Electrical powermeter datasets usually contain only one column with the electrical consmption in `KWh`. The [Building Data Genome](https://github.com/buds-lab/the-building-data-genome-project) is an example of such template. However, as you just saw in the lectures, you can also generate these datasets yourself after running simulations. \n",
        "\n",
        "In this exercise, write some lines of code to load the `Baseline` file  **without** using the `Month` information as index.\n",
        "\n",
        "The needed functions are already imported below:\n"
      ]
    },
    {
      "cell_type": "code",
      "metadata": {
        "id": "Z81IM6-FAJIa",
        "colab_type": "code",
        "colab": {}
      },
      "source": [
        "import pandas as pd\n",
        "import os\n",
        "from google.colab import drive"
      ],
      "execution_count": 0,
      "outputs": []
    },
    {
      "cell_type": "markdown",
      "metadata": {
        "id": "vs3IjepjATsn",
        "colab_type": "text"
      },
      "source": [
        "**Hint**: Remember whenever you want to load files from your Google Drive, you need to `mount` the drive first. The documentation for the Pandas library can be found [here](https://pandas.pydata.org/pandas-docs/stable/reference/api/pandas.read_csv.html)"
      ]
    },
    {
      "cell_type": "code",
      "metadata": {
        "id": "C6bGD7LT43dc",
        "colab_type": "code",
        "colab": {
          "base_uri": "https://localhost:8080/",
          "height": 126
        },
        "outputId": "42a3be39-ff9c-4764-eb8f-ac96d007977f"
      },
      "source": [
        "# YOUR CODE HERE\n",
        "# mount drive\n",
        "drive.mount('/content/gdrive')"
      ],
      "execution_count": 3,
      "outputs": [
        {
          "output_type": "stream",
          "text": [
            "Go to this URL in a browser: https://accounts.google.com/o/oauth2/auth?client_id=947318989803-6bn6qk8qdgf4n4g3pfee6491hc0brc4i.apps.googleusercontent.com&redirect_uri=urn%3aietf%3awg%3aoauth%3a2.0%3aoob&response_type=code&scope=email%20https%3a%2f%2fwww.googleapis.com%2fauth%2fdocs.test%20https%3a%2f%2fwww.googleapis.com%2fauth%2fdrive%20https%3a%2f%2fwww.googleapis.com%2fauth%2fdrive.photos.readonly%20https%3a%2f%2fwww.googleapis.com%2fauth%2fpeopleapi.readonly\n",
            "\n",
            "Enter your authorization code:\n",
            "··········\n",
            "Mounted at /content/gdrive\n"
          ],
          "name": "stdout"
        }
      ]
    },
    {
      "cell_type": "code",
      "metadata": {
        "id": "ftONdsLcEyyo",
        "colab_type": "code",
        "colab": {
          "base_uri": "https://localhost:8080/",
          "height": 141
        },
        "outputId": "11416a29-df43-4605-b019-a0685318ba35"
      },
      "source": [
        "# choose the directory with the files needed for processing\n",
        "os.chdir(\"/content/gdrive/My Drive/EDX Data Science for Construction, Architecture and Engineering/Week 2 - Building Design - Intro to Pandas/simulation_data\")\n",
        "\n",
        "os.listdir()"
      ],
      "execution_count": 5,
      "outputs": [
        {
          "output_type": "execute_result",
          "data": {
            "text/plain": [
              "['Scenario - Low-E Glass.csv',\n",
              " 'Scenario - Cool roof.csv',\n",
              " 'Baseline.csv',\n",
              " 'Baseline.xlsx',\n",
              " 'Scenario - Increase Setpoint.csv',\n",
              " 'Scenario - Rooftop Gardens.csv',\n",
              " 'Scenario - Aircon Schedules.csv']"
            ]
          },
          "metadata": {
            "tags": []
          },
          "execution_count": 5
        }
      ]
    },
    {
      "cell_type": "code",
      "metadata": {
        "id": "pT7owYXG24cZ",
        "colab_type": "code",
        "colab": {
          "base_uri": "https://localhost:8080/",
          "height": 194
        },
        "outputId": "7f922d6b-bf35-4d49-90cd-4b87280767e0"
      },
      "source": [
        "df_baseline = pd.read_csv(\"Baseline.csv\")\n",
        "df_baseline.head()"
      ],
      "execution_count": 20,
      "outputs": [
        {
          "output_type": "execute_result",
          "data": {
            "text/html": [
              "<div>\n",
              "<style scoped>\n",
              "    .dataframe tbody tr th:only-of-type {\n",
              "        vertical-align: middle;\n",
              "    }\n",
              "\n",
              "    .dataframe tbody tr th {\n",
              "        vertical-align: top;\n",
              "    }\n",
              "\n",
              "    .dataframe thead th {\n",
              "        text-align: right;\n",
              "    }\n",
              "</style>\n",
              "<table border=\"1\" class=\"dataframe\">\n",
              "  <thead>\n",
              "    <tr style=\"text-align: right;\">\n",
              "      <th></th>\n",
              "      <th>Month</th>\n",
              "      <th>Baseline</th>\n",
              "    </tr>\n",
              "  </thead>\n",
              "  <tbody>\n",
              "    <tr>\n",
              "      <th>0</th>\n",
              "      <td>January</td>\n",
              "      <td>5.69</td>\n",
              "    </tr>\n",
              "    <tr>\n",
              "      <th>1</th>\n",
              "      <td>February</td>\n",
              "      <td>6.75</td>\n",
              "    </tr>\n",
              "    <tr>\n",
              "      <th>2</th>\n",
              "      <td>March</td>\n",
              "      <td>10.64</td>\n",
              "    </tr>\n",
              "    <tr>\n",
              "      <th>3</th>\n",
              "      <td>April</td>\n",
              "      <td>13.60</td>\n",
              "    </tr>\n",
              "    <tr>\n",
              "      <th>4</th>\n",
              "      <td>May</td>\n",
              "      <td>19.34</td>\n",
              "    </tr>\n",
              "  </tbody>\n",
              "</table>\n",
              "</div>"
            ],
            "text/plain": [
              "      Month  Baseline\n",
              "0   January      5.69\n",
              "1  February      6.75\n",
              "2     March     10.64\n",
              "3     April     13.60\n",
              "4       May     19.34"
            ]
          },
          "metadata": {
            "tags": []
          },
          "execution_count": 20
        }
      ]
    },
    {
      "cell_type": "code",
      "metadata": {
        "id": "Wsn9fu5zt175",
        "colab_type": "code",
        "colab": {}
      },
      "source": [
        "# transcribe files of interest into a python list for processing\n",
        "list_of_files = ['Scenario - Low-E Glass.csv',\n",
        " 'Scenario - Cool roof.csv',\n",
        " 'Baseline.csv', \n",
        " 'Scenario - Increase Setpoint.csv',\n",
        " 'Scenario - Rooftop Gardens.csv',\n",
        " 'Scenario - Aircon Schedules.csv']\n",
        "\n",
        "# check that the correct files are in there:\n",
        "for filename in list_of_files:\n",
        "  print(filename)"
      ],
      "execution_count": 0,
      "outputs": []
    },
    {
      "cell_type": "code",
      "metadata": {
        "id": "qzohkUNtt7TM",
        "colab_type": "code",
        "colab": {}
      },
      "source": [
        "# open one file to see it:\n",
        "df = pd.read_csv(list_of_files[0])\n",
        "df.head()"
      ],
      "execution_count": 0,
      "outputs": []
    },
    {
      "cell_type": "code",
      "metadata": {
        "id": "MEumXp_tucNv",
        "colab_type": "code",
        "colab": {}
      },
      "source": [
        "# read all files in list into dataframes\n",
        "data_container = []\n",
        "for filename in list_of_files:\n",
        "  df = pd.read_csv(filename)\n",
        "  data_container.append(df) \n",
        "  # peak into each df in list\n",
        "  print(df.head())"
      ],
      "execution_count": 0,
      "outputs": []
    },
    {
      "cell_type": "code",
      "metadata": {
        "id": "9kVYRJ44mtMM",
        "colab_type": "code",
        "colab": {}
      },
      "source": [
        "# concatenate all dataframes into one dataframe, \n",
        "all_dat = pd.concat(data_container,axis=1)\n",
        "\n",
        "all_dat.head()"
      ],
      "execution_count": 0,
      "outputs": []
    },
    {
      "cell_type": "code",
      "metadata": {
        "id": "A0Tx-CzfmtCC",
        "colab_type": "code",
        "colab": {
          "base_uri": "https://localhost:8080/",
          "height": 194
        },
        "outputId": "92cdec32-3ff8-45f4-91a2-ecd539871cbf"
      },
      "source": [
        "df_baseline.head()"
      ],
      "execution_count": 21,
      "outputs": [
        {
          "output_type": "execute_result",
          "data": {
            "text/html": [
              "<div>\n",
              "<style scoped>\n",
              "    .dataframe tbody tr th:only-of-type {\n",
              "        vertical-align: middle;\n",
              "    }\n",
              "\n",
              "    .dataframe tbody tr th {\n",
              "        vertical-align: top;\n",
              "    }\n",
              "\n",
              "    .dataframe thead th {\n",
              "        text-align: right;\n",
              "    }\n",
              "</style>\n",
              "<table border=\"1\" class=\"dataframe\">\n",
              "  <thead>\n",
              "    <tr style=\"text-align: right;\">\n",
              "      <th></th>\n",
              "      <th>Month</th>\n",
              "      <th>Baseline</th>\n",
              "    </tr>\n",
              "  </thead>\n",
              "  <tbody>\n",
              "    <tr>\n",
              "      <th>0</th>\n",
              "      <td>January</td>\n",
              "      <td>5.69</td>\n",
              "    </tr>\n",
              "    <tr>\n",
              "      <th>1</th>\n",
              "      <td>February</td>\n",
              "      <td>6.75</td>\n",
              "    </tr>\n",
              "    <tr>\n",
              "      <th>2</th>\n",
              "      <td>March</td>\n",
              "      <td>10.64</td>\n",
              "    </tr>\n",
              "    <tr>\n",
              "      <th>3</th>\n",
              "      <td>April</td>\n",
              "      <td>13.60</td>\n",
              "    </tr>\n",
              "    <tr>\n",
              "      <th>4</th>\n",
              "      <td>May</td>\n",
              "      <td>19.34</td>\n",
              "    </tr>\n",
              "  </tbody>\n",
              "</table>\n",
              "</div>"
            ],
            "text/plain": [
              "      Month  Baseline\n",
              "0   January      5.69\n",
              "1  February      6.75\n",
              "2     March     10.64\n",
              "3     April     13.60\n",
              "4       May     19.34"
            ]
          },
          "metadata": {
            "tags": []
          },
          "execution_count": 21
        }
      ]
    },
    {
      "cell_type": "markdown",
      "metadata": {
        "id": "8Q-zAbOIUE-1",
        "colab_type": "text"
      },
      "source": [
        "## Exercise 02.1.2"
      ]
    },
    {
      "cell_type": "markdown",
      "metadata": {
        "id": "6LiLCmpwUgLC",
        "colab_type": "text"
      },
      "source": [
        "The building facilities manager is concerned about the high consumption during certain months of the year and wants you to see which months the consumption is higher than a certain `consumption_threshold`. \n",
        "\n",
        "Write some lines of code that allows you to filter out the rows where the consumption exceed the given `consumption_threshold`. Set `consumption_threshold` equal to 20 initially"
      ]
    },
    {
      "cell_type": "code",
      "metadata": {
        "id": "lDL73czAUFbF",
        "colab_type": "code",
        "colab": {
          "base_uri": "https://localhost:8080/",
          "height": 106
        },
        "outputId": "2b027c2b-8bc1-48c6-da29-bdf1121a72b3"
      },
      "source": [
        "# YOUR CODE HERE\n",
        "\n",
        "CONSUMPTION_THRESHOLD = 20\n",
        "\n",
        "print(df_baseline[df_baseline['Baseline']>CONSUMPTION_THRESHOLD])\n",
        "\n",
        "# example: baseline_data[baseline_data['Baseline'] > 10]\n"
      ],
      "execution_count": 22,
      "outputs": [
        {
          "output_type": "stream",
          "text": [
            "       Month  Baseline\n",
            "5       June     22.64\n",
            "6       July     27.02\n",
            "7     August     27.13\n",
            "8  September     25.04\n"
          ],
          "name": "stdout"
        }
      ]
    },
    {
      "cell_type": "code",
      "metadata": {
        "id": "JYg_E7melrPn",
        "colab_type": "code",
        "colab": {}
      },
      "source": [
        ""
      ],
      "execution_count": 0,
      "outputs": []
    },
    {
      "cell_type": "markdown",
      "metadata": {
        "id": "HSotamy_4wid",
        "colab_type": "text"
      },
      "source": [
        "## Exercise 02.1.3\n",
        "One energy analysis application is the analysis of *peak consumption ratios*. Suppose we want to know the ratio between the peak consumption of the month of April versus the Peak consumption across the whole year.\n",
        "\n",
        "In this exercise, let's do this by to finding the *percentage* of the April's peak consumption as compared to the peak consumption value across all months. \n",
        "\n",
        "Calculate your answer as a percentage (0-100) as the variable `percentage`\n",
        "\n",
        "Hint: One way to find the maximum value of a column in a dataframe is to use the function `.max()`, more information about the function can be found [here](https://pandas.pydata.org/pandas-docs/stable/reference/api/pandas.DataFrame.max.html). "
      ]
    },
    {
      "cell_type": "code",
      "metadata": {
        "id": "ZiafyX5ufOwR",
        "colab_type": "code",
        "colab": {
          "base_uri": "https://localhost:8080/",
          "height": 35
        },
        "outputId": "8a45c27e-585b-4c59-bf04-9d13f8f52217"
      },
      "source": [
        "# YOUR CODE HERE\n",
        "max_month = df_baseline.max()\n",
        "print(max_month[1])\n",
        "#ratio = df_baseline['Month'=='April']/max_month[1]\n"
      ],
      "execution_count": 27,
      "outputs": [
        {
          "output_type": "stream",
          "text": [
            "27.13\n"
          ],
          "name": "stdout"
        }
      ]
    },
    {
      "cell_type": "markdown",
      "metadata": {
        "id": "cqlRmBKq_bm1",
        "colab_type": "text"
      },
      "source": [
        "### Please write down the number that you calculated for the variable `percentage` rounded up to 2 decimal places and input in Quiz 2.1"
      ]
    },
    {
      "cell_type": "code",
      "metadata": {
        "id": "fFd8w1gD_hKw",
        "colab_type": "code",
        "colab": {}
      },
      "source": [
        ""
      ],
      "execution_count": 0,
      "outputs": []
    }
  ]
}